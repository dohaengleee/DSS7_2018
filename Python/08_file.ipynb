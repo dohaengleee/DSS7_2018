{
 "cells": [
  {
   "cell_type": "markdown",
   "metadata": {},
   "source": [
    "### File\n",
    "- 파일 쓰기 (w) : 파일이 존재하면 덮어씀\n",
    "- 파일 쓰기 (x) : 파일이 존재하지 않을때만 생성\n",
    "- 파일 읽기 (r)\n",
    "- 파일 추가 (a)\n",
    "- 텍스트 타입 (t)\n",
    "- 이진 타입 (b)"
   ]
  },
  {
   "cell_type": "markdown",
   "metadata": {},
   "source": [
    "##### 파일 쓰기\n",
    "- 텍스트"
   ]
  },
  {
   "cell_type": "code",
   "execution_count": 1,
   "metadata": {
    "collapsed": true
   },
   "outputs": [],
   "source": [
    "# write\n",
    "s = \"\"\"datascicence\n",
    "fast campus write\"\"\"\n",
    "f = open(\"file/test1.txt\", 'wt')\n",
    "f.write(s)\n",
    "f.close()"
   ]
  },
  {
   "cell_type": "code",
   "execution_count": 3,
   "metadata": {
    "collapsed": true
   },
   "outputs": [],
   "source": [
    "# print\n",
    "s = \"\"\"datascicence\n",
    "fast campus print\"\"\"\n",
    "f = open(\"file/test2.txt\", 'wt')\n",
    "print(s, file=f, end = \"\")\n",
    "f.close()"
   ]
  },
  {
   "cell_type": "code",
   "execution_count": 5,
   "metadata": {},
   "outputs": [],
   "source": [
    "# write\n",
    "s = \"\"\"datascicence\n",
    "fast campus write x\"\"\"\n",
    "f = open(\"file/test3.txt\", 'xt')\n",
    "f.write(s)\n",
    "f.close()"
   ]
  },
  {
   "cell_type": "markdown",
   "metadata": {},
   "source": [
    "- 이진\n",
    " - bytes : 이진데이터로 형변환 시켜줌"
   ]
  },
  {
   "cell_type": "code",
   "execution_count": 23,
   "metadata": {
    "collapsed": true
   },
   "outputs": [],
   "source": [
    "data = bytes(range(0, 10))\n",
    "f = open(\"file/b_range.b\", 'wb')\n",
    "f.write(data)\n",
    "f.close()"
   ]
  },
  {
   "cell_type": "code",
   "execution_count": 24,
   "metadata": {},
   "outputs": [
    {
     "data": {
      "text/plain": [
       "b'\\x00\\x01\\x02\\x03\\x04\\x05\\x06\\x07\\x08\\t'"
      ]
     },
     "execution_count": 24,
     "metadata": {},
     "output_type": "execute_result"
    }
   ],
   "source": [
    "data"
   ]
  },
  {
   "cell_type": "markdown",
   "metadata": {},
   "source": [
    "##### 파일 읽기"
   ]
  },
  {
   "cell_type": "markdown",
   "metadata": {},
   "source": [
    "- 텍스트"
   ]
  },
  {
   "cell_type": "code",
   "execution_count": 8,
   "metadata": {},
   "outputs": [
    {
     "name": "stdout",
     "output_type": "stream",
     "text": [
      "datascicence\n",
      "fast campus write\n"
     ]
    }
   ],
   "source": [
    "# 모두 읽기\n",
    "f = open(\"file/test1.txt\", 'rt')\n",
    "s = f.read()\n",
    "print(s)\n",
    "f.close()"
   ]
  },
  {
   "cell_type": "code",
   "execution_count": 9,
   "metadata": {},
   "outputs": [
    {
     "name": "stdout",
     "output_type": "stream",
     "text": [
      "datascicence\n",
      "fast campus print\n",
      "\n"
     ]
    }
   ],
   "source": [
    "f = open(\"file/test2.txt\", 'rt')\n",
    "s = f.read()\n",
    "print(s)\n",
    "f.close()"
   ]
  },
  {
   "cell_type": "code",
   "execution_count": 12,
   "metadata": {},
   "outputs": [
    {
     "name": "stdout",
     "output_type": "stream",
     "text": [
      "datascicence\n"
     ]
    }
   ],
   "source": [
    "# 일부만 읽기\n",
    "f = open(\"file/test1.txt\", 'rt')\n",
    "s = f.read(12) # 10자만 읽어옴\n",
    "print(s)\n",
    "f.close()"
   ]
  },
  {
   "cell_type": "code",
   "execution_count": 13,
   "metadata": {},
   "outputs": [
    {
     "name": "stdout",
     "output_type": "stream",
     "text": [
      "datascicence\n",
      "\n"
     ]
    }
   ],
   "source": [
    "# 한줄만 읽기\n",
    "f = open(\"file/test1.txt\", 'rt')\n",
    "s = f.readline()\n",
    "print(s)\n",
    "f.close()"
   ]
  },
  {
   "cell_type": "code",
   "execution_count": 14,
   "metadata": {},
   "outputs": [
    {
     "name": "stdout",
     "output_type": "stream",
     "text": [
      "datascicence\n",
      "fast campus write"
     ]
    }
   ],
   "source": [
    "# 2줄 읽기\n",
    "f = open(\"file/test1.txt\", 'rt')\n",
    "for idx in range(2):\n",
    "    s = f.readline()\n",
    "    print(s, end=\"\")\n",
    "f.close()"
   ]
  },
  {
   "cell_type": "code",
   "execution_count": 18,
   "metadata": {},
   "outputs": [
    {
     "name": "stdout",
     "output_type": "stream",
     "text": [
      "datascicence\n",
      "fast campus write"
     ]
    }
   ],
   "source": [
    "# 끝까지 읽기\n",
    "f = open(\"file/test1.txt\", 'rt')\n",
    "while True:\n",
    "    s = f.readline()\n",
    "#     if s == \"test\":\n",
    "#         break\n",
    "    if not s:\n",
    "        break\n",
    "    print(s, end=\"\")\n",
    "f.close()"
   ]
  },
  {
   "cell_type": "code",
   "execution_count": 19,
   "metadata": {},
   "outputs": [
    {
     "name": "stdout",
     "output_type": "stream",
     "text": [
      "['datascicence\\n', 'fast campus write']\n"
     ]
    }
   ],
   "source": [
    "# 여러줄을 리스트로 읽어오기\n",
    "f = open(\"file/test1.txt\", 'rt')\n",
    "s = f.readlines()\n",
    "print(s)\n",
    "f.close()"
   ]
  },
  {
   "cell_type": "markdown",
   "metadata": {},
   "source": [
    "- 이진"
   ]
  },
  {
   "cell_type": "code",
   "execution_count": 26,
   "metadata": {},
   "outputs": [
    {
     "name": "stdout",
     "output_type": "stream",
     "text": [
      "[0, 1, 2, 3, 4, 5, 6, 7, 8, 9]\n"
     ]
    }
   ],
   "source": [
    "f = open(\"file/b_range.b\", 'rb')\n",
    "data = f.read()\n",
    "print(list(data))\n",
    "f.close()"
   ]
  },
  {
   "cell_type": "markdown",
   "metadata": {},
   "source": [
    "##### 파일 추가"
   ]
  },
  {
   "cell_type": "code",
   "execution_count": 27,
   "metadata": {
    "collapsed": true
   },
   "outputs": [],
   "source": [
    "s = \"\\nschool\"\n",
    "f = open(\"file/test1.txt\", 'at')\n",
    "f.write(s)\n",
    "f.close()"
   ]
  },
  {
   "cell_type": "markdown",
   "metadata": {},
   "source": [
    "##### with\n",
    "- 자동으로 파일 닫기"
   ]
  },
  {
   "cell_type": "code",
   "execution_count": 28,
   "metadata": {},
   "outputs": [
    {
     "name": "stdout",
     "output_type": "stream",
     "text": [
      "datascicence\n",
      "fast campus write\n",
      "school\n"
     ]
    }
   ],
   "source": [
    "# close를 안써도 된다.\n",
    "with open(\"file/test1.txt\", 'rt') as f: \n",
    "    s = f.read()\n",
    "    print(s)"
   ]
  },
  {
   "cell_type": "markdown",
   "metadata": {},
   "source": [
    "### Pickle\n",
    "- 객체를 파일로 저장하는것을 직렬화(serialization) 이라고 함\n",
    "- 파이썬에서 직렬화를 통해 바이너리 형태의 데이터를 저장하고 복원하는 모듈"
   ]
  },
  {
   "cell_type": "code",
   "execution_count": 29,
   "metadata": {
    "collapsed": true
   },
   "outputs": [],
   "source": [
    "import pickle"
   ]
  },
  {
   "cell_type": "code",
   "execution_count": 30,
   "metadata": {
    "collapsed": true
   },
   "outputs": [],
   "source": [
    "class A():\n",
    "    def __init__(self, data):\n",
    "        self.data = data\n",
    "    def disp(self):\n",
    "        print(self.data)"
   ]
  },
  {
   "cell_type": "code",
   "execution_count": 31,
   "metadata": {},
   "outputs": [
    {
     "name": "stdout",
     "output_type": "stream",
     "text": [
      "pickle test\n"
     ]
    }
   ],
   "source": [
    "a = A(\"pickle test\")\n",
    "a.disp()"
   ]
  },
  {
   "cell_type": "code",
   "execution_count": 37,
   "metadata": {
    "collapsed": true
   },
   "outputs": [],
   "source": [
    "# 저장\n",
    "f = open(\"file/obj.p\", \"wb\")\n",
    "pickle.dump(a, f)\n",
    "f.close()"
   ]
  },
  {
   "cell_type": "code",
   "execution_count": 38,
   "metadata": {
    "collapsed": true
   },
   "outputs": [],
   "source": [
    "f = open(\"file/obj.p\", \"rb\")\n",
    "load_a = pickle.load(f)\n",
    "f.close()"
   ]
  },
  {
   "cell_type": "code",
   "execution_count": 39,
   "metadata": {},
   "outputs": [
    {
     "name": "stdout",
     "output_type": "stream",
     "text": [
      "pickle test\n"
     ]
    }
   ],
   "source": [
    "load_a.disp()"
   ]
  },
  {
   "cell_type": "code",
   "execution_count": 40,
   "metadata": {},
   "outputs": [
    {
     "data": {
      "text/plain": [
       "'pickle test'"
      ]
     },
     "execution_count": 40,
     "metadata": {},
     "output_type": "execute_result"
    }
   ],
   "source": [
    "load_a.data"
   ]
  }
 ],
 "metadata": {
  "kernelspec": {
   "display_name": "Python 3",
   "language": "python",
   "name": "python3"
  },
  "language_info": {
   "codemirror_mode": {
    "name": "ipython",
    "version": 3
   },
   "file_extension": ".py",
   "mimetype": "text/x-python",
   "name": "python",
   "nbconvert_exporter": "python",
   "pygments_lexer": "ipython3",
   "version": "3.6.1"
  }
 },
 "nbformat": 4,
 "nbformat_minor": 2
}
