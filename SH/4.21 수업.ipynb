{
 "cells": [
  {
   "cell_type": "markdown",
   "metadata": {},
   "source": [
    "# 확률론적 언어 모형"
   ]
  },
  {
   "cell_type": "markdown",
   "metadata": {},
   "source": [
    "# 바이그램의 예"
   ]
  },
  {
   "cell_type": "code",
   "execution_count": 1,
   "metadata": {},
   "outputs": [],
   "source": [
    "import nltk"
   ]
  },
  {
   "cell_type": "code",
   "execution_count": 2,
   "metadata": {},
   "outputs": [
    {
     "name": "stdout",
     "output_type": "stream",
     "text": [
      "[nltk_data] Downloading package movie_reviews to\n",
      "[nltk_data]     C:\\Users\\user\\AppData\\Roaming\\nltk_data...\n",
      "[nltk_data]   Unzipping corpora\\movie_reviews.zip.\n",
      "[nltk_data] Downloading package punkt to\n",
      "[nltk_data]     C:\\Users\\user\\AppData\\Roaming\\nltk_data...\n",
      "[nltk_data]   Package punkt is already up-to-date!\n"
     ]
    },
    {
     "data": {
      "text/plain": [
       "True"
      ]
     },
     "execution_count": 2,
     "metadata": {},
     "output_type": "execute_result"
    }
   ],
   "source": [
    "nltk.download('movie_reviews')\n",
    "nltk.download('punkt')"
   ]
  },
  {
   "cell_type": "code",
   "execution_count": 2,
   "metadata": {},
   "outputs": [],
   "source": [
    "from nltk.corpus import movie_reviews\n",
    "\n",
    "sentences = []\n",
    "for s in movie_reviews.sents():\n",
    "    s.insert(0, \"SS\")\n",
    "    s.append(\"SE\")\n",
    "    if len(s) > 4:\n",
    "            sentences.append(s)"
   ]
  },
  {
   "cell_type": "code",
   "execution_count": 3,
   "metadata": {},
   "outputs": [
    {
     "data": {
      "text/plain": [
       "['SS', 'they', 'get', 'into', 'an', 'accident', '.', 'SE']"
      ]
     },
     "execution_count": 3,
     "metadata": {},
     "output_type": "execute_result"
    }
   ],
   "source": [
    "sentences[1]"
   ]
  },
  {
   "cell_type": "code",
   "execution_count": 4,
   "metadata": {},
   "outputs": [],
   "source": [
    "from collections import Counter\n",
    "\n",
    "def calculate_bigram(sentences):\n",
    "    bigram = {}\n",
    "    for s in sentences:\n",
    "        context = \"SS\"\n",
    "        for i, w in enumerate(s[1:]):\n",
    "            if context not in bigram:\n",
    "                bigram[context] = Counter() # count는 value가 숫자인\n",
    "            if bigram[context][w] == 0:\n",
    "                bigram[context][w] = 1\n",
    "            bigram[context][w] += 1\n",
    "            context = w\n",
    "    for context in bigram.keys():\n",
    "        total = sum(bigram[context].values())\n",
    "        for w in bigram[context]:\n",
    "            bigram[context][w] /= total\n",
    "    return bigram"
   ]
  },
  {
   "cell_type": "code",
   "execution_count": 5,
   "metadata": {},
   "outputs": [],
   "source": [
    "bigram = calculate_bigram(sentences)"
   ]
  },
  {
   "cell_type": "code",
   "execution_count": 6,
   "metadata": {},
   "outputs": [
    {
     "data": {
      "text/plain": [
       "[('the', 0.11231263830320237),\n",
       " ('it', 0.043575076893101194),\n",
       " ('i', 0.03379121261464379),\n",
       " ('but', 0.02523207103391647),\n",
       " ('and', 0.024160438673402642),\n",
       " ('he', 0.023269731256871668),\n",
       " ('in', 0.023102723616272112),\n",
       " ('this', 0.022963550582439148),\n",
       " ('there', 0.0180507424881355),\n",
       " ('as', 0.013249272820898222)]"
      ]
     },
     "execution_count": 6,
     "metadata": {},
     "output_type": "execute_result"
    }
   ],
   "source": [
    "bigram[\"SS\"].most_common(10)"
   ]
  },
  {
   "cell_type": "code",
   "execution_count": 7,
   "metadata": {},
   "outputs": [
    {
     "data": {
      "text/plain": [
       "[(\"'\", 0.12985751295336787),\n",
       " ('are', 0.07674870466321243),\n",
       " ('see', 0.059261658031088085),\n",
       " ('get', 0.052461139896373056),\n",
       " ('have', 0.05116580310880829),\n",
       " ('can', 0.0391839378238342),\n",
       " ('don', 0.03756476683937824),\n",
       " ('know', 0.03432642487046632),\n",
       " ('never', 0.01878238341968912),\n",
       " ('learn', 0.018458549222797927)]"
      ]
     },
     "execution_count": 7,
     "metadata": {},
     "output_type": "execute_result"
    }
   ],
   "source": [
    "bigram[\"we\"].most_common(10)"
   ]
  },
  {
   "cell_type": "code",
   "execution_count": 8,
   "metadata": {},
   "outputs": [
    {
     "data": {
      "text/plain": [
       "0.053622421998942356"
      ]
     },
     "execution_count": 8,
     "metadata": {},
     "output_type": "execute_result"
    }
   ],
   "source": [
    "bigram[\"i\"][\"was\"]"
   ]
  },
  {
   "cell_type": "code",
   "execution_count": 9,
   "metadata": {},
   "outputs": [
    {
     "data": {
      "text/plain": [
       "0.017556848228450557"
      ]
     },
     "execution_count": 9,
     "metadata": {},
     "output_type": "execute_result"
    }
   ],
   "source": [
    "bigram[\"i\"][\"am\"]"
   ]
  },
  {
   "cell_type": "code",
   "execution_count": 10,
   "metadata": {},
   "outputs": [
    {
     "data": {
      "text/plain": [
       "0.00031729243786356425"
      ]
     },
     "execution_count": 10,
     "metadata": {},
     "output_type": "execute_result"
    }
   ],
   "source": [
    "bigram[\"i\"][\"is\"]"
   ]
  },
  {
   "cell_type": "code",
   "execution_count": 11,
   "metadata": {},
   "outputs": [
    {
     "data": {
      "text/plain": [
       "0.00021152829190904283"
      ]
     },
     "execution_count": 11,
     "metadata": {},
     "output_type": "execute_result"
    }
   ],
   "source": [
    "bigram[\"i\"][\"are\"]"
   ]
  },
  {
   "cell_type": "code",
   "execution_count": 12,
   "metadata": {},
   "outputs": [
    {
     "data": {
      "text/plain": [
       "0.9612387969875893"
      ]
     },
     "execution_count": 12,
     "metadata": {},
     "output_type": "execute_result"
    }
   ],
   "source": [
    "bigram[\".\"][\"SE\"]"
   ]
  },
  {
   "cell_type": "code",
   "execution_count": 13,
   "metadata": {},
   "outputs": [
    {
     "data": {
      "text/plain": [
       "Counter({'\"': 0.02922949299760894,\n",
       "         \"'\": 0.0010735373054213634,\n",
       "         \"''\": 6.506286699523415e-05,\n",
       "         ')': 0.00821418695814831,\n",
       "         'SE': 0.9612387969875893,\n",
       "         ']': 0.0001789228842368939})"
      ]
     },
     "execution_count": 13,
     "metadata": {},
     "output_type": "execute_result"
    }
   ],
   "source": [
    "bigram[\".\"]"
   ]
  },
  {
   "cell_type": "code",
   "execution_count": 16,
   "metadata": {},
   "outputs": [],
   "source": [
    "def sentence_score(s):\n",
    "    p = 0.0\n",
    "    for i in range(len(s) - 1):\n",
    "        c = s[i]\n",
    "        w = s[i + 1]\n",
    "        p += np.log(bigram[c][w] + np.finfo(float).eps) # log를 취해서 underflow 방지\n",
    "    return np.exp(p)"
   ]
  },
  {
   "cell_type": "code",
   "execution_count": 17,
   "metadata": {},
   "outputs": [
    {
     "data": {
      "text/plain": [
       "3.2880364380666861e-08"
      ]
     },
     "execution_count": 17,
     "metadata": {},
     "output_type": "execute_result"
    }
   ],
   "source": [
    "test_sentence = [\"i\", \"am\", \"a\", \"boy\", \".\"]\n",
    "sentence_score(test_sentence) # 상대적으로 높은 확률. 있을 수 있는 문장이다."
   ]
  },
  {
   "cell_type": "code",
   "execution_count": 18,
   "metadata": {},
   "outputs": [
    {
     "data": {
      "text/plain": [
       "1.9683389110380156e-38"
      ]
     },
     "execution_count": 18,
     "metadata": {},
     "output_type": "execute_result"
    }
   ],
   "source": [
    "test_sentence = [\"i\", \"is\", \"boy\", \"a\" ,\".\"]\n",
    "sentence_score(test_sentence)"
   ]
  },
  {
   "cell_type": "code",
   "execution_count": 19,
   "metadata": {},
   "outputs": [],
   "source": [
    "def generate_sentence(seed=None):\n",
    "    if seed is not None:\n",
    "        np.random.seed(seed)\n",
    "    c = \"SS\"\n",
    "    sentence = []\n",
    "    while True:\n",
    "        if c not in bigram:\n",
    "            break\n",
    "        words, probs = zip(*[(k, v) for k, v in bigram[c].items()])\n",
    "        idx = np.argmax(np.random.multinomial(1, probs, (1,)))\n",
    "        w = words[idx]\n",
    "        \n",
    "        if w == \"SE\":\n",
    "            break\n",
    "        elif w in [\"i\", \"ii\", \"iii\"]:\n",
    "            w2 = w.upper()\n",
    "        elif w in [\"mr\", \"luc\", \"i\", \"robin\", \"williams\", \"cindy\", \"crawford\"]:\n",
    "            w2 = w.title() # 맨 앞글자만 대문자로 표시\n",
    "        else:\n",
    "            w2 = w\n",
    "        \n",
    "        if c == \"SS\":\n",
    "            sentence.append(w2.title())\n",
    "        elif c in [\"`\", \"\\\"\", \"'\", \"(\"]:\n",
    "            sentence.append(w2)\n",
    "        elif w in [\"'\", \".\", \",\", \")\", \":\", \";\", \"?\"]:\n",
    "            sentence.append(w2)\n",
    "        else:\n",
    "            sentence.append(\" \" + w2)\n",
    "            \n",
    "        c = w\n",
    "    return \"\".join(sentence)"
   ]
  },
  {
   "cell_type": "code",
   "execution_count": 23,
   "metadata": {},
   "outputs": [
    {
     "data": {
      "text/plain": [
       "'With the book adaptations, he is based consumatory session that warning without gellar are.'"
      ]
     },
     "execution_count": 23,
     "metadata": {},
     "output_type": "execute_result"
    }
   ],
   "source": [
    "generate_sentence(12) # bigram 모델이기 때문에 앞에 한단어만 기억하고 문장을 만든다.\n",
    "                      # 그렇기 때문에 문법적으로 틀린 문장이 만들어진다.\n",
    "                      # 그래서 RNN이 나옴 (context가 무한대인 모델)"
   ]
  },
  {
   "cell_type": "code",
   "execution_count": 29,
   "metadata": {},
   "outputs": [],
   "source": [
    "import codecs\n",
    "with codecs.open(\"ratings_train.txt\", encoding='utf-8') as f:\n",
    "    data = [line.split('\\t') for line in f.read().splitlines()]\n",
    "    data = data[1:]   # header 제외\n",
    "    \n",
    "docs = [row[1] for row in data]"
   ]
  },
  {
   "cell_type": "code",
   "execution_count": 30,
   "metadata": {},
   "outputs": [],
   "source": [
    "from konlpy.tag import Twitter\n",
    "tagger = Twitter()\n",
    "\n",
    "def tokenize(doc):\n",
    "    return [\"SS\"] + ['/'.join(t) for t in tagger.pos(doc, norm=True, stem=True)] + [\"SE\"]"
   ]
  },
  {
   "cell_type": "code",
   "execution_count": 31,
   "metadata": {},
   "outputs": [
    {
     "name": "stdout",
     "output_type": "stream",
     "text": [
      "Wall time: 1min 45s\n"
     ]
    }
   ],
   "source": [
    "%%time\n",
    "sentences = [tokenize(d) for d in docs]"
   ]
  },
  {
   "cell_type": "code",
   "execution_count": 32,
   "metadata": {},
   "outputs": [],
   "source": [
    "bigram = calculate_bigram(sentences)"
   ]
  },
  {
   "cell_type": "code",
   "execution_count": 34,
   "metadata": {},
   "outputs": [],
   "source": [
    "def korean_most_common(c, n, pos=None):\n",
    "    if pos is None:\n",
    "        return bigram[tokenize(c)[0]].most_common(n)\n",
    "    else:\n",
    "        return bigram[\"/\".join([c, pos])].most_common(n)"
   ]
  },
  {
   "cell_type": "code",
   "execution_count": 35,
   "metadata": {},
   "outputs": [
    {
     "data": {
      "text/plain": [
       "[('이/Determiner', 0.01689056886482437),\n",
       " ('정말/Noun', 0.015732747611993666),\n",
       " ('이/Noun', 0.014932488804890093),\n",
       " ('진짜/Noun', 0.01232739098602101),\n",
       " ('영화/Noun', 0.012003882106553608),\n",
       " ('재밌다/Adjective', 0.010726873371813864),\n",
       " ('아/Exclamation', 0.010250123444177691),\n",
       " ('너무/Noun', 0.009841480649060973),\n",
       " ('평점/Noun', 0.009109328974476852),\n",
       " ('내/Noun', 0.00893906114317822)]"
      ]
     },
     "execution_count": 35,
     "metadata": {},
     "output_type": "execute_result"
    }
   ],
   "source": [
    "korean_most_common(\"나\", 10)"
   ]
  },
  {
   "cell_type": "code",
   "execution_count": 36,
   "metadata": {},
   "outputs": [
    {
     "data": {
      "text/plain": [
       "[('이/Determiner', 0.01689056886482437),\n",
       " ('정말/Noun', 0.015732747611993666),\n",
       " ('이/Noun', 0.014932488804890093),\n",
       " ('진짜/Noun', 0.01232739098602101),\n",
       " ('영화/Noun', 0.012003882106553608),\n",
       " ('재밌다/Adjective', 0.010726873371813864),\n",
       " ('아/Exclamation', 0.010250123444177691),\n",
       " ('너무/Noun', 0.009841480649060973),\n",
       " ('평점/Noun', 0.009109328974476852),\n",
       " ('내/Noun', 0.00893906114317822)]"
      ]
     },
     "execution_count": 36,
     "metadata": {},
     "output_type": "execute_result"
    }
   ],
   "source": [
    "korean_most_common(\"의\", 10)"
   ]
  },
  {
   "cell_type": "code",
   "execution_count": 37,
   "metadata": {},
   "outputs": [
    {
     "data": {
      "text/plain": [
       "[('SE', 0.32894018276477227),\n",
       " ('영화/Noun', 0.009283867914224342),\n",
       " ('이/Noun', 0.007099428404995085),\n",
       " ('이/Determiner', 0.007063021079841264),\n",
       " ('./Punctuation', 0.00651691120253395),\n",
       " ('정말/Noun', 0.005788764699457531),\n",
       " ('이렇다/Adjective', 0.005788764699457531),\n",
       " ('그리고/Conjunction', 0.005097025521534933),\n",
       " ('하지만/Conjunction', 0.004842174245458186),\n",
       " ('ㅋㅋ/KoreanParticle', 0.004114027742381767)]"
      ]
     },
     "execution_count": 37,
     "metadata": {},
     "output_type": "execute_result"
    }
   ],
   "source": [
    "korean_most_common(\".\", 10, \"Punctuation\")"
   ]
  },
  {
   "cell_type": "code",
   "execution_count": 38,
   "metadata": {},
   "outputs": [],
   "source": [
    "def korean_bigram_prob(c, w):\n",
    "    context = tokenize(c)[1]\n",
    "    word = tokenize(w)[1]\n",
    "    return bigram[context][word]"
   ]
  },
  {
   "cell_type": "code",
   "execution_count": 39,
   "metadata": {},
   "outputs": [
    {
     "data": {
      "text/plain": [
       "0.3496969696969697"
      ]
     },
     "execution_count": 39,
     "metadata": {},
     "output_type": "execute_result"
    }
   ],
   "source": [
    "korean_bigram_prob(\"이\", \"영화\")"
   ]
  },
  {
   "cell_type": "code",
   "execution_count": 40,
   "metadata": {},
   "outputs": [
    {
     "data": {
      "text/plain": [
       "0.00016109977446031575"
      ]
     },
     "execution_count": 40,
     "metadata": {},
     "output_type": "execute_result"
    }
   ],
   "source": [
    "korean_bigram_prob(\"영화\", \"이\")"
   ]
  },
  {
   "cell_type": "code",
   "execution_count": 41,
   "metadata": {},
   "outputs": [],
   "source": [
    "def korean_generate_sentence(seed=None, debug=False):\n",
    "    if seed is not None:\n",
    "        np.random.seed(seed)\n",
    "    c = \"SS\"\n",
    "    sentence = []\n",
    "    while True:\n",
    "        if c not in bigram:\n",
    "            break\n",
    "        words, probs = zip(*[(k, v) for k, v in bigram[c].items()])\n",
    "        idx = np.argmax(np.random.multinomial(1, probs, (1,)))\n",
    "        w = words[idx]\n",
    "        \n",
    "        if w == \"SE\":\n",
    "            break            \n",
    "        \n",
    "        w2 = w.split(\"/\")[0]\n",
    "        pos = w.split(\"/\")[1]\n",
    "        \n",
    "        if c == \"SS\":\n",
    "            sentence.append(w2.title())\n",
    "        elif c in [\"`\", \"\\\"\", \"'\", \"(\"]:\n",
    "            sentence.append(w2)\n",
    "        elif w2 in [\"'\", \".\", \",\", \")\", \":\", \";\", \"?\"]:\n",
    "            sentence.append(w2)\n",
    "        elif pos in [\"Josa\", \"Punctuation\", \"Suffix\"]:\n",
    "            sentence.append(w2)\n",
    "        elif w in [\"임/Noun\", \"것/Noun\", \"는걸/Noun\", \"릴때/Noun\",\n",
    "                   \"되다/Verb\", \"이다/Verb\", \"하다/Verb\", \"이다/Adjective\"]:\n",
    "            sentence.append(w2)\n",
    "        else:\n",
    "            sentence.append(\" \" + w2)\n",
    "        c = w\n",
    "        \n",
    "        if debug:\n",
    "            print(w)\n",
    "            \n",
    "    return \"\".join(sentence)"
   ]
  },
  {
   "cell_type": "code",
   "execution_count": 42,
   "metadata": {},
   "outputs": [
    {
     "data": {
      "text/plain": [
       "'공항 가다 구석이 너무 재밌다'"
      ]
     },
     "execution_count": 42,
     "metadata": {},
     "output_type": "execute_result"
    }
   ],
   "source": [
    "korean_generate_sentence(1)"
   ]
  },
  {
   "cell_type": "code",
   "execution_count": 43,
   "metadata": {},
   "outputs": [
    {
     "data": {
      "text/plain": [
       "'비디오'"
      ]
     },
     "execution_count": 43,
     "metadata": {},
     "output_type": "execute_result"
    }
   ],
   "source": [
    "korean_generate_sentence(17)"
   ]
  },
  {
   "cell_type": "code",
   "execution_count": 44,
   "metadata": {},
   "outputs": [
    {
     "data": {
      "text/plain": [
       "'다 지네 작업실 문을 마물가 아니다'"
      ]
     },
     "execution_count": 44,
     "metadata": {},
     "output_type": "execute_result"
    }
   ],
   "source": [
    "korean_generate_sentence(32)"
   ]
  },
  {
   "cell_type": "code",
   "execution_count": 45,
   "metadata": {},
   "outputs": [
    {
     "data": {
      "text/plain": [
       "'샬라샬라'"
      ]
     },
     "execution_count": 45,
     "metadata": {},
     "output_type": "execute_result"
    }
   ],
   "source": [
    "korean_generate_sentence(35)"
   ]
  },
  {
   "cell_type": "code",
   "execution_count": 46,
   "metadata": {},
   "outputs": [
    {
     "data": {
      "text/plain": [
       "'이영화를 괜찮다 영화 진하다 여운이 없다 만들다?? ㅋㅋ'"
      ]
     },
     "execution_count": 46,
     "metadata": {},
     "output_type": "execute_result"
    }
   ],
   "source": [
    "korean_generate_sentence(46)"
   ]
  },
  {
   "cell_type": "markdown",
   "metadata": {},
   "source": [
    "# 단어 임베딩과 word2vec"
   ]
  },
  {
   "cell_type": "code",
   "execution_count": 51,
   "metadata": {},
   "outputs": [],
   "source": [
    "sentences = [list(s) for s in movie_reviews.sents()]"
   ]
  },
  {
   "cell_type": "code",
   "execution_count": 52,
   "metadata": {},
   "outputs": [],
   "source": [
    "from gensim.models.word2vec import Word2Vec"
   ]
  },
  {
   "cell_type": "code",
   "execution_count": 53,
   "metadata": {},
   "outputs": [],
   "source": [
    "model = Word2Vec(sentences)"
   ]
  },
  {
   "cell_type": "code",
   "execution_count": 54,
   "metadata": {},
   "outputs": [],
   "source": [
    "model.init_sims(replace=True)"
   ]
  },
  {
   "cell_type": "code",
   "execution_count": 55,
   "metadata": {},
   "outputs": [
    {
     "name": "stderr",
     "output_type": "stream",
     "text": [
      "C:\\Users\\user\\Anaconda3\\lib\\site-packages\\ipykernel_launcher.py:1: DeprecationWarning: Call to deprecated `similarity` (Method will be removed in 4.0.0, use self.wv.similarity() instead).\n",
      "  \"\"\"Entry point for launching an IPython kernel.\n"
     ]
    },
    {
     "data": {
      "text/plain": [
       "0.86710436795965506"
      ]
     },
     "execution_count": 55,
     "metadata": {},
     "output_type": "execute_result"
    }
   ],
   "source": [
    "model.similarity('actor', 'actress')"
   ]
  },
  {
   "cell_type": "code",
   "execution_count": 56,
   "metadata": {},
   "outputs": [
    {
     "name": "stderr",
     "output_type": "stream",
     "text": [
      "C:\\Users\\user\\Anaconda3\\lib\\site-packages\\ipykernel_launcher.py:1: DeprecationWarning: Call to deprecated `similarity` (Method will be removed in 4.0.0, use self.wv.similarity() instead).\n",
      "  \"\"\"Entry point for launching an IPython kernel.\n"
     ]
    },
    {
     "data": {
      "text/plain": [
       "0.86536507863405343"
      ]
     },
     "execution_count": 56,
     "metadata": {},
     "output_type": "execute_result"
    }
   ],
   "source": [
    "model.similarity('he', 'she')"
   ]
  },
  {
   "cell_type": "code",
   "execution_count": 57,
   "metadata": {},
   "outputs": [
    {
     "name": "stderr",
     "output_type": "stream",
     "text": [
      "C:\\Users\\user\\Anaconda3\\lib\\site-packages\\ipykernel_launcher.py:1: DeprecationWarning: Call to deprecated `similarity` (Method will be removed in 4.0.0, use self.wv.similarity() instead).\n",
      "  \"\"\"Entry point for launching an IPython kernel.\n"
     ]
    },
    {
     "data": {
      "text/plain": [
       "0.27616074577323224"
      ]
     },
     "execution_count": 57,
     "metadata": {},
     "output_type": "execute_result"
    }
   ],
   "source": [
    "model.similarity('actor', 'she')"
   ]
  },
  {
   "cell_type": "code",
   "execution_count": 58,
   "metadata": {},
   "outputs": [
    {
     "name": "stderr",
     "output_type": "stream",
     "text": [
      "C:\\Users\\user\\Anaconda3\\lib\\site-packages\\ipykernel_launcher.py:1: DeprecationWarning: Call to deprecated `most_similar` (Method will be removed in 4.0.0, use self.wv.most_similar() instead).\n",
      "  \"\"\"Entry point for launching an IPython kernel.\n"
     ]
    },
    {
     "data": {
      "text/plain": [
       "[('genius', 0.8114882707595825),\n",
       " ('bard', 0.7670204639434814),\n",
       " ('impression', 0.7658730745315552),\n",
       " ('personality', 0.7658467888832092),\n",
       " ('droll', 0.7644909620285034),\n",
       " ('charming', 0.7610799074172974),\n",
       " ('actress', 0.7596417665481567),\n",
       " ('dude', 0.7587822079658508),\n",
       " ('doctor', 0.7576232552528381),\n",
       " ('actor', 0.755042552947998)]"
      ]
     },
     "execution_count": 58,
     "metadata": {},
     "output_type": "execute_result"
    }
   ],
   "source": [
    "model.most_similar(\"villain\")"
   ]
  },
  {
   "cell_type": "code",
   "execution_count": 60,
   "metadata": {},
   "outputs": [
    {
     "name": "stderr",
     "output_type": "stream",
     "text": [
      "C:\\Users\\user\\Anaconda3\\lib\\site-packages\\ipykernel_launcher.py:1: DeprecationWarning: Call to deprecated `most_similar` (Method will be removed in 4.0.0, use self.wv.most_similar() instead).\n",
      "  \"\"\"Entry point for launching an IPython kernel.\n"
     ]
    },
    {
     "data": {
      "text/plain": [
       "[('he', 0.333840012550354)]"
      ]
     },
     "execution_count": 60,
     "metadata": {},
     "output_type": "execute_result"
    }
   ],
   "source": [
    "model.most_similar(positive=['she', 'actor'], negative='actress', topn=1)"
   ]
  },
  {
   "cell_type": "code",
   "execution_count": 61,
   "metadata": {},
   "outputs": [],
   "source": [
    "import codecs\n",
    "\n",
    "def read_data(filename):\n",
    "    with codecs.open(filename, encoding='utf-8', mode='r') as f:\n",
    "        data = [line.split('\\t') for line in f.read().splitlines()]\n",
    "        data = data[1:]   # header 제외\n",
    "    return data\n",
    "\n",
    "train_data = read_data('ratings_train.txt')"
   ]
  },
  {
   "cell_type": "code",
   "execution_count": 62,
   "metadata": {},
   "outputs": [],
   "source": [
    "from konlpy.tag import Twitter\n",
    "tagger = Twitter()\n",
    "\n",
    "def tokenize(doc):\n",
    "    return ['/'.join(t) for t in tagger.pos(doc, norm=True, stem=True)]\n",
    "\n",
    "train_docs = [row[1] for row in train_data]\n",
    "sentences = [tokenize(d) for d in train_docs]"
   ]
  },
  {
   "cell_type": "code",
   "execution_count": 64,
   "metadata": {},
   "outputs": [],
   "source": [
    "from gensim.models import word2vec\n",
    "model = word2vec.Word2Vec(sentences)\n",
    "model.init_sims(replace=True)"
   ]
  },
  {
   "cell_type": "code",
   "execution_count": 65,
   "metadata": {},
   "outputs": [
    {
     "name": "stderr",
     "output_type": "stream",
     "text": [
      "C:\\Users\\user\\Anaconda3\\lib\\site-packages\\ipykernel_launcher.py:1: DeprecationWarning: Call to deprecated `similarity` (Method will be removed in 4.0.0, use self.wv.similarity() instead).\n",
      "  \"\"\"Entry point for launching an IPython kernel.\n"
     ]
    },
    {
     "data": {
      "text/plain": [
       "0.77437696027911418"
      ]
     },
     "execution_count": 65,
     "metadata": {},
     "output_type": "execute_result"
    }
   ],
   "source": [
    "model.similarity(*tokenize(u'악당 영웅'))"
   ]
  },
  {
   "cell_type": "code",
   "execution_count": 66,
   "metadata": {},
   "outputs": [
    {
     "name": "stderr",
     "output_type": "stream",
     "text": [
      "C:\\Users\\user\\Anaconda3\\lib\\site-packages\\ipykernel_launcher.py:1: DeprecationWarning: Call to deprecated `similarity` (Method will be removed in 4.0.0, use self.wv.similarity() instead).\n",
      "  \"\"\"Entry point for launching an IPython kernel.\n"
     ]
    },
    {
     "data": {
      "text/plain": [
       "0.25722207445926837"
      ]
     },
     "execution_count": 66,
     "metadata": {},
     "output_type": "execute_result"
    }
   ],
   "source": [
    "model.similarity(*tokenize(u'악당 감동'))"
   ]
  },
  {
   "cell_type": "code",
   "execution_count": 67,
   "metadata": {},
   "outputs": [
    {
     "name": "stdout",
     "output_type": "stream",
     "text": [
      "[('여자/Noun', 0.809704065322876)]\n"
     ]
    },
    {
     "name": "stderr",
     "output_type": "stream",
     "text": [
      "C:\\Users\\user\\Anaconda3\\lib\\site-packages\\ipykernel_launcher.py:2: DeprecationWarning: Call to deprecated `most_similar` (Method will be removed in 4.0.0, use self.wv.most_similar() instead).\n",
      "  \n"
     ]
    }
   ],
   "source": [
    "from konlpy.utils import pprint\n",
    "pprint(model.most_similar(positive=tokenize(u'여배우 남자'), negative=tokenize(u'배우'), topn=1))"
   ]
  },
  {
   "cell_type": "markdown",
   "metadata": {},
   "source": [
    "# CBOW in Keras"
   ]
  },
  {
   "cell_type": "code",
   "execution_count": 70,
   "metadata": {},
   "outputs": [
    {
     "name": "stdout",
     "output_type": "stream",
     "text": [
      "[name: \"/device:CPU:0\"\n",
      "device_type: \"CPU\"\n",
      "memory_limit: 268435456\n",
      "locality {\n",
      "}\n",
      "incarnation: 16545711018486672408\n",
      ", name: \"/device:GPU:0\"\n",
      "device_type: \"GPU\"\n",
      "memory_limit: 2302666342\n",
      "locality {\n",
      "  bus_id: 1\n",
      "}\n",
      "incarnation: 1509918102054816412\n",
      "physical_device_desc: \"device: 0, name: GeForce GTX 970M, pci bus id: 0000:01:00.0, compute capability: 5.2\"\n",
      "]\n"
     ]
    }
   ],
   "source": [
    "print(device_lib.list_local_devices())"
   ]
  },
  {
   "cell_type": "markdown",
   "metadata": {},
   "source": [
    "# RNN 기본 구조와 Keras를 사용한 RNN 구현"
   ]
  },
  {
   "cell_type": "code",
   "execution_count": 2,
   "metadata": {},
   "outputs": [
    {
     "name": "stderr",
     "output_type": "stream",
     "text": [
      "Using TensorFlow backend.\n"
     ]
    }
   ],
   "source": [
    "from keras.models import Sequential\n",
    "from keras.layers import Dense, Embedding, LSTM, Dropout\n",
    "from keras.optimizers import *\n",
    "from keras.utils import np_utils\n",
    "from keras.preprocessing import sequence\n",
    "from keras.preprocessing.text import Tokenizer\n",
    "\n",
    "from nltk.tokenize import sent_tokenize\n",
    "from konlpy.corpus import kolaw\n",
    "from konlpy.tag import Twitter"
   ]
  },
  {
   "cell_type": "code",
   "execution_count": 3,
   "metadata": {},
   "outputs": [],
   "source": [
    "c = kolaw.open('constitution.txt').read()"
   ]
  },
  {
   "cell_type": "code",
   "execution_count": 4,
   "metadata": {},
   "outputs": [],
   "source": [
    "senstents = [s for s in sent_tokenize(c)]"
   ]
  },
  {
   "cell_type": "code",
   "execution_count": 5,
   "metadata": {},
   "outputs": [
    {
     "data": {
      "text/plain": [
       "'제2조 ① 대한민국의 국민이 되는 요건은 법률로 정한다.'"
      ]
     },
     "execution_count": 5,
     "metadata": {},
     "output_type": "execute_result"
    }
   ],
   "source": [
    "senstents[3]"
   ]
  },
  {
   "cell_type": "code",
   "execution_count": 6,
   "metadata": {},
   "outputs": [],
   "source": [
    "twitter = Twitter()\n",
    "doc0 = [\" \".join([\"\".join(w) for w, t in twitter.pos(s) if t not in ['Number', \"Foreign\"] and w not in [\"제\", \"조\"]]) for s in sent_tokenize(c)]"
   ]
  },
  {
   "cell_type": "code",
   "execution_count": 7,
   "metadata": {},
   "outputs": [
    {
     "data": {
      "text/plain": [
       "357"
      ]
     },
     "execution_count": 7,
     "metadata": {},
     "output_type": "execute_result"
    }
   ],
   "source": [
    "len(doc0)"
   ]
  },
  {
   "cell_type": "code",
   "execution_count": 8,
   "metadata": {},
   "outputs": [],
   "source": [
    "tokenizer = Tokenizer()\n",
    "tokenizer.fit_on_texts(doc0)\n",
    "doc = [l for l in tokenizer.texts_to_sequences(doc0) if len(l) > 1]"
   ]
  },
  {
   "cell_type": "code",
   "execution_count": 9,
   "metadata": {},
   "outputs": [
    {
     "data": {
      "text/plain": [
       "354"
      ]
     },
     "execution_count": 9,
     "metadata": {},
     "output_type": "execute_result"
    }
   ],
   "source": [
    "len(doc)"
   ]
  },
  {
   "cell_type": "code",
   "execution_count": 10,
   "metadata": {},
   "outputs": [],
   "source": [
    "maxlen = max([len(x) - 1 for x in doc])\n",
    "vocab_size = len(tokenizer.word_index) + 1"
   ]
  },
  {
   "cell_type": "code",
   "execution_count": 11,
   "metadata": {},
   "outputs": [
    {
     "data": {
      "text/plain": [
       "(188, 1205)"
      ]
     },
     "execution_count": 11,
     "metadata": {},
     "output_type": "execute_result"
    }
   ],
   "source": [
    "maxlen, vocab_size"
   ]
  },
  {
   "cell_type": "code",
   "execution_count": 12,
   "metadata": {},
   "outputs": [],
   "source": [
    "def generate_data(X, maxlen, V):\n",
    "    for sentence in X: \n",
    "        inputs = []\n",
    "        targets = []\n",
    "        for i in range(1, len(sentence)):\n",
    "            inputs.append(sentence[0:i])\n",
    "            targets.append(sentence[i])\n",
    "        y = np_utils.to_categorical(targets, V)\n",
    "        inputs_sequence = sequence.pad_sequences(inputs, maxlen=maxlen)\n",
    "        yield (inputs_sequence, y)"
   ]
  },
  {
   "cell_type": "code",
   "execution_count": 13,
   "metadata": {
    "scrolled": true
   },
   "outputs": [
    {
     "name": "stdout",
     "output_type": "stream",
     "text": [
      "i 0\n",
      "x (188, 188) \n",
      " [[  0   0   0 ...,   0   0 101]\n",
      " [  0   0   0 ...,   0 101  24]\n",
      " [  0   0   0 ..., 101  24 607]\n",
      " ..., \n",
      " [  0   0 101 ..., 155   2  18]\n",
      " [  0 101  24 ...,   2  18 176]\n",
      " [101  24 607 ...,  18 176   7]]\n",
      "y (188, 1205) \n",
      " [[ 0.  0.  0. ...,  0.  0.  0.]\n",
      " [ 0.  0.  0. ...,  0.  0.  0.]\n",
      " [ 0.  0.  0. ...,  0.  0.  0.]\n",
      " ..., \n",
      " [ 0.  0.  0. ...,  0.  0.  0.]\n",
      " [ 0.  0.  0. ...,  0.  0.  0.]\n",
      " [ 0.  0.  0. ...,  0.  0.  0.]]\n",
      "i 1\n",
      "x (5, 188) \n",
      " [[  0   0   0   0   0   0   0   0   0   0   0   0   0   0   0   0   0   0\n",
      "    0   0   0   0   0   0   0   0   0   0   0   0   0   0   0   0   0   0\n",
      "    0   0   0   0   0   0   0   0   0   0   0   0   0   0   0   0   0   0\n",
      "    0   0   0   0   0   0   0   0   0   0   0   0   0   0   0   0   0   0\n",
      "    0   0   0   0   0   0   0   0   0   0   0   0   0   0   0   0   0   0\n",
      "    0   0   0   0   0   0   0   0   0   0   0   0   0   0   0   0   0   0\n",
      "    0   0   0   0   0   0   0   0   0   0   0   0   0   0   0   0   0   0\n",
      "    0   0   0   0   0   0   0   0   0   0   0   0   0   0   0   0   0   0\n",
      "    0   0   0   0   0   0   0   0   0   0   0   0   0   0   0   0   0   0\n",
      "    0   0   0   0   0   0   0   0   0   0   0   0   0   0   0   0   0   0\n",
      "    0   0   0   0   0   0   0  46]\n",
      " [  0   0   0   0   0   0   0   0   0   0   0   0   0   0   0   0   0   0\n",
      "    0   0   0   0   0   0   0   0   0   0   0   0   0   0   0   0   0   0\n",
      "    0   0   0   0   0   0   0   0   0   0   0   0   0   0   0   0   0   0\n",
      "    0   0   0   0   0   0   0   0   0   0   0   0   0   0   0   0   0   0\n",
      "    0   0   0   0   0   0   0   0   0   0   0   0   0   0   0   0   0   0\n",
      "    0   0   0   0   0   0   0   0   0   0   0   0   0   0   0   0   0   0\n",
      "    0   0   0   0   0   0   0   0   0   0   0   0   0   0   0   0   0   0\n",
      "    0   0   0   0   0   0   0   0   0   0   0   0   0   0   0   0   0   0\n",
      "    0   0   0   0   0   0   0   0   0   0   0   0   0   0   0   0   0   0\n",
      "    0   0   0   0   0   0   0   0   0   0   0   0   0   0   0   0   0   0\n",
      "    0   0   0   0   0   0  46 648]\n",
      " [  0   0   0   0   0   0   0   0   0   0   0   0   0   0   0   0   0   0\n",
      "    0   0   0   0   0   0   0   0   0   0   0   0   0   0   0   0   0   0\n",
      "    0   0   0   0   0   0   0   0   0   0   0   0   0   0   0   0   0   0\n",
      "    0   0   0   0   0   0   0   0   0   0   0   0   0   0   0   0   0   0\n",
      "    0   0   0   0   0   0   0   0   0   0   0   0   0   0   0   0   0   0\n",
      "    0   0   0   0   0   0   0   0   0   0   0   0   0   0   0   0   0   0\n",
      "    0   0   0   0   0   0   0   0   0   0   0   0   0   0   0   0   0   0\n",
      "    0   0   0   0   0   0   0   0   0   0   0   0   0   0   0   0   0   0\n",
      "    0   0   0   0   0   0   0   0   0   0   0   0   0   0   0   0   0   0\n",
      "    0   0   0   0   0   0   0   0   0   0   0   0   0   0   0   0   0   0\n",
      "    0   0   0   0   0  46 648 101]\n",
      " [  0   0   0   0   0   0   0   0   0   0   0   0   0   0   0   0   0   0\n",
      "    0   0   0   0   0   0   0   0   0   0   0   0   0   0   0   0   0   0\n",
      "    0   0   0   0   0   0   0   0   0   0   0   0   0   0   0   0   0   0\n",
      "    0   0   0   0   0   0   0   0   0   0   0   0   0   0   0   0   0   0\n",
      "    0   0   0   0   0   0   0   0   0   0   0   0   0   0   0   0   0   0\n",
      "    0   0   0   0   0   0   0   0   0   0   0   0   0   0   0   0   0   0\n",
      "    0   0   0   0   0   0   0   0   0   0   0   0   0   0   0   0   0   0\n",
      "    0   0   0   0   0   0   0   0   0   0   0   0   0   0   0   0   0   0\n",
      "    0   0   0   0   0   0   0   0   0   0   0   0   0   0   0   0   0   0\n",
      "    0   0   0   0   0   0   0   0   0   0   0   0   0   0   0   0   0   0\n",
      "    0   0   0   0  46 648 101   5]\n",
      " [  0   0   0   0   0   0   0   0   0   0   0   0   0   0   0   0   0   0\n",
      "    0   0   0   0   0   0   0   0   0   0   0   0   0   0   0   0   0   0\n",
      "    0   0   0   0   0   0   0   0   0   0   0   0   0   0   0   0   0   0\n",
      "    0   0   0   0   0   0   0   0   0   0   0   0   0   0   0   0   0   0\n",
      "    0   0   0   0   0   0   0   0   0   0   0   0   0   0   0   0   0   0\n",
      "    0   0   0   0   0   0   0   0   0   0   0   0   0   0   0   0   0   0\n",
      "    0   0   0   0   0   0   0   0   0   0   0   0   0   0   0   0   0   0\n",
      "    0   0   0   0   0   0   0   0   0   0   0   0   0   0   0   0   0   0\n",
      "    0   0   0   0   0   0   0   0   0   0   0   0   0   0   0   0   0   0\n",
      "    0   0   0   0   0   0   0   0   0   0   0   0   0   0   0   0   0   0\n",
      "    0   0   0  46 648 101   5 649]]\n",
      "y (5, 1205) \n",
      " [[ 0.  0.  0. ...,  0.  0.  0.]\n",
      " [ 0.  0.  0. ...,  0.  0.  0.]\n",
      " [ 0.  0.  0. ...,  0.  0.  0.]\n",
      " [ 0.  0.  0. ...,  0.  0.  0.]\n",
      " [ 0.  0.  0. ...,  0.  0.  0.]]\n",
      "i 2\n",
      "x (13, 188) \n",
      " [[  0   0   0 ...,   0   0 101]\n",
      " [  0   0   0 ...,   0 101   1]\n",
      " [  0   0   0 ..., 101   1 437]\n",
      " ..., \n",
      " [  0   0   0 ..., 651   5  19]\n",
      " [  0   0   0 ...,   5  19 326]\n",
      " [  0   0   0 ...,  19 326 652]]\n",
      "y (13, 1205) \n",
      " [[ 0.  1.  0. ...,  0.  0.  0.]\n",
      " [ 0.  0.  0. ...,  0.  0.  0.]\n",
      " [ 0.  0.  0. ...,  0.  0.  0.]\n",
      " ..., \n",
      " [ 0.  0.  0. ...,  0.  0.  0.]\n",
      " [ 0.  0.  0. ...,  0.  0.  0.]\n",
      " [ 0.  0.  0. ...,  0.  0.  0.]]\n"
     ]
    }
   ],
   "source": [
    "for i, (x, y) in enumerate(generate_data(doc, maxlen, vocab_size)):\n",
    "    print(\"i\", i)\n",
    "    print(\"x\", x.shape, \"\\n\", x)\n",
    "    print(\"y\", y.shape, \"\\n\", y)\n",
    "    if i > 1:\n",
    "        break"
   ]
  },
  {
   "cell_type": "code",
   "execution_count": 14,
   "metadata": {},
   "outputs": [],
   "source": [
    "X = []\n",
    "Y = []\n",
    "for x, y in generate_data(doc, maxlen, vocab_size):\n",
    "    X.append(x)\n",
    "    Y.append(y)\n",
    "\n",
    "X = np.concatenate(X)\n",
    "Y = np.concatenate(Y)"
   ]
  },
  {
   "cell_type": "code",
   "execution_count": 15,
   "metadata": {},
   "outputs": [
    {
     "data": {
      "text/plain": [
       "((6923, 188), (6923, 1205))"
      ]
     },
     "execution_count": 15,
     "metadata": {},
     "output_type": "execute_result"
    }
   ],
   "source": [
    "X.shape, Y.shape"
   ]
  },
  {
   "cell_type": "code",
   "execution_count": 16,
   "metadata": {},
   "outputs": [],
   "source": [
    "import keras.backend.tensorflow_backend as K"
   ]
  },
  {
   "cell_type": "code",
   "execution_count": 17,
   "metadata": {},
   "outputs": [
    {
     "name": "stdout",
     "output_type": "stream",
     "text": [
      "Epoch 1/500\n"
     ]
    },
    {
     "ename": "InternalError",
     "evalue": "Blas GEMM launch failed : a.shape=(800, 100), b.shape=(100, 100), m=800, n=100, k=100\n\t [[Node: lstm_1/while/MatMul_6 = MatMul[T=DT_FLOAT, transpose_a=false, transpose_b=false, _device=\"/job:localhost/replica:0/task:0/device:GPU:0\"](lstm_1/while/Switch_2:1, lstm_1/while/MatMul_6/Enter)]]\n\t [[Node: metrics/acc/Mean/_97 = _Recv[client_terminated=false, recv_device=\"/job:localhost/replica:0/task:0/device:CPU:0\", send_device=\"/job:localhost/replica:0/task:0/device:GPU:0\", send_device_incarnation=1, tensor_name=\"edge_1860_metrics/acc/Mean\", tensor_type=DT_FLOAT, _device=\"/job:localhost/replica:0/task:0/device:CPU:0\"]()]]\n\nCaused by op 'lstm_1/while/MatMul_6', defined at:\n  File \"C:\\Users\\user\\Anaconda3\\lib\\runpy.py\", line 193, in _run_module_as_main\n    \"__main__\", mod_spec)\n  File \"C:\\Users\\user\\Anaconda3\\lib\\runpy.py\", line 85, in _run_code\n    exec(code, run_globals)\n  File \"C:\\Users\\user\\Anaconda3\\lib\\site-packages\\ipykernel_launcher.py\", line 16, in <module>\n    app.launch_new_instance()\n  File \"C:\\Users\\user\\Anaconda3\\lib\\site-packages\\traitlets\\config\\application.py\", line 658, in launch_instance\n    app.start()\n  File \"C:\\Users\\user\\Anaconda3\\lib\\site-packages\\ipykernel\\kernelapp.py\", line 486, in start\n    self.io_loop.start()\n  File \"C:\\Users\\user\\Anaconda3\\lib\\site-packages\\zmq\\eventloop\\ioloop.py\", line 177, in start\n    super(ZMQIOLoop, self).start()\n  File \"C:\\Users\\user\\Anaconda3\\lib\\site-packages\\tornado\\ioloop.py\", line 888, in start\n    handler_func(fd_obj, events)\n  File \"C:\\Users\\user\\Anaconda3\\lib\\site-packages\\tornado\\stack_context.py\", line 277, in null_wrapper\n    return fn(*args, **kwargs)\n  File \"C:\\Users\\user\\Anaconda3\\lib\\site-packages\\zmq\\eventloop\\zmqstream.py\", line 440, in _handle_events\n    self._handle_recv()\n  File \"C:\\Users\\user\\Anaconda3\\lib\\site-packages\\zmq\\eventloop\\zmqstream.py\", line 472, in _handle_recv\n    self._run_callback(callback, msg)\n  File \"C:\\Users\\user\\Anaconda3\\lib\\site-packages\\zmq\\eventloop\\zmqstream.py\", line 414, in _run_callback\n    callback(*args, **kwargs)\n  File \"C:\\Users\\user\\Anaconda3\\lib\\site-packages\\tornado\\stack_context.py\", line 277, in null_wrapper\n    return fn(*args, **kwargs)\n  File \"C:\\Users\\user\\Anaconda3\\lib\\site-packages\\ipykernel\\kernelbase.py\", line 283, in dispatcher\n    return self.dispatch_shell(stream, msg)\n  File \"C:\\Users\\user\\Anaconda3\\lib\\site-packages\\ipykernel\\kernelbase.py\", line 233, in dispatch_shell\n    handler(stream, idents, msg)\n  File \"C:\\Users\\user\\Anaconda3\\lib\\site-packages\\ipykernel\\kernelbase.py\", line 399, in execute_request\n    user_expressions, allow_stdin)\n  File \"C:\\Users\\user\\Anaconda3\\lib\\site-packages\\ipykernel\\ipkernel.py\", line 208, in do_execute\n    res = shell.run_cell(code, store_history=store_history, silent=silent)\n  File \"C:\\Users\\user\\Anaconda3\\lib\\site-packages\\ipykernel\\zmqshell.py\", line 537, in run_cell\n    return super(ZMQInteractiveShell, self).run_cell(*args, **kwargs)\n  File \"C:\\Users\\user\\Anaconda3\\lib\\site-packages\\IPython\\core\\interactiveshell.py\", line 2728, in run_cell\n    interactivity=interactivity, compiler=compiler, result=result)\n  File \"C:\\Users\\user\\Anaconda3\\lib\\site-packages\\IPython\\core\\interactiveshell.py\", line 2856, in run_ast_nodes\n    if self.run_code(code, result):\n  File \"C:\\Users\\user\\Anaconda3\\lib\\site-packages\\IPython\\core\\interactiveshell.py\", line 2910, in run_code\n    exec(code_obj, self.user_global_ns, self.user_ns)\n  File \"<ipython-input-17-a7853f16a151>\", line 1, in <module>\n    get_ipython().run_cell_magic('time', '', 'with K.tf.device(\\'/gpu:0\\'):\\n    model = Sequential()\\n    model.add(Embedding(vocab_size, 100, input_length=maxlen))\\n    model.add(LSTM(100, return_sequences=False))\\n    model.add(Dropout(0.5))\\n    model.add(Dense(vocab_size, activation=\\'softmax\\'))\\n    model.compile(loss=\\'categorical_crossentropy\\', optimizer=RMSprop(), metrics=[\"accuracy\"])\\n    hist = model.fit(X, Y, epochs=500, batch_size=800, verbose=2)')\n  File \"C:\\Users\\user\\Anaconda3\\lib\\site-packages\\IPython\\core\\interactiveshell.py\", line 2131, in run_cell_magic\n    result = fn(magic_arg_s, cell)\n  File \"<decorator-gen-63>\", line 2, in time\n  File \"C:\\Users\\user\\Anaconda3\\lib\\site-packages\\IPython\\core\\magic.py\", line 187, in <lambda>\n    call = lambda f, *a, **k: f(*a, **k)\n  File \"C:\\Users\\user\\Anaconda3\\lib\\site-packages\\IPython\\core\\magics\\execution.py\", line 1238, in time\n    exec(code, glob, local_ns)\n  File \"<timed exec>\", line 4, in <module>\n  File \"C:\\Users\\user\\Anaconda3\\lib\\site-packages\\keras\\models.py\", line 492, in add\n    output_tensor = layer(self.outputs[0])\n  File \"C:\\Users\\user\\Anaconda3\\lib\\site-packages\\keras\\layers\\recurrent.py\", line 499, in __call__\n    return super(RNN, self).__call__(inputs, **kwargs)\n  File \"C:\\Users\\user\\Anaconda3\\lib\\site-packages\\keras\\engine\\topology.py\", line 619, in __call__\n    output = self.call(inputs, **kwargs)\n  File \"C:\\Users\\user\\Anaconda3\\lib\\site-packages\\keras\\layers\\recurrent.py\", line 2151, in call\n    initial_state=initial_state)\n  File \"C:\\Users\\user\\Anaconda3\\lib\\site-packages\\keras\\layers\\recurrent.py\", line 608, in call\n    input_length=timesteps)\n  File \"C:\\Users\\user\\Anaconda3\\lib\\site-packages\\keras\\backend\\tensorflow_backend.py\", line 2767, in rnn\n    swap_memory=True)\n  File \"C:\\Users\\user\\Anaconda3\\lib\\site-packages\\tensorflow\\python\\ops\\control_flow_ops.py\", line 2934, in while_loop\n    result = loop_context.BuildLoop(cond, body, loop_vars, shape_invariants)\n  File \"C:\\Users\\user\\Anaconda3\\lib\\site-packages\\tensorflow\\python\\ops\\control_flow_ops.py\", line 2720, in BuildLoop\n    pred, body, original_loop_vars, loop_vars, shape_invariants)\n  File \"C:\\Users\\user\\Anaconda3\\lib\\site-packages\\tensorflow\\python\\ops\\control_flow_ops.py\", line 2662, in _BuildLoop\n    body_result = body(*packed_vars_for_body)\n  File \"C:\\Users\\user\\Anaconda3\\lib\\site-packages\\keras\\backend\\tensorflow_backend.py\", line 2753, in _step\n    tuple(constants))\n  File \"C:\\Users\\user\\Anaconda3\\lib\\site-packages\\keras\\layers\\recurrent.py\", line 599, in step\n    return self.cell.call(inputs, states, **kwargs)\n  File \"C:\\Users\\user\\Anaconda3\\lib\\site-packages\\keras\\layers\\recurrent.py\", line 1945, in call\n    self.recurrent_kernel_c))\n  File \"C:\\Users\\user\\Anaconda3\\lib\\site-packages\\keras\\backend\\tensorflow_backend.py\", line 1075, in dot\n    out = tf.matmul(x, y)\n  File \"C:\\Users\\user\\Anaconda3\\lib\\site-packages\\tensorflow\\python\\ops\\math_ops.py\", line 2022, in matmul\n    a, b, transpose_a=transpose_a, transpose_b=transpose_b, name=name)\n  File \"C:\\Users\\user\\Anaconda3\\lib\\site-packages\\tensorflow\\python\\ops\\gen_math_ops.py\", line 2799, in _mat_mul\n    name=name)\n  File \"C:\\Users\\user\\Anaconda3\\lib\\site-packages\\tensorflow\\python\\framework\\op_def_library.py\", line 787, in _apply_op_helper\n    op_def=op_def)\n  File \"C:\\Users\\user\\Anaconda3\\lib\\site-packages\\tensorflow\\python\\framework\\ops.py\", line 3160, in create_op\n    op_def=op_def)\n  File \"C:\\Users\\user\\Anaconda3\\lib\\site-packages\\tensorflow\\python\\framework\\ops.py\", line 1625, in __init__\n    self._traceback = self._graph._extract_stack()  # pylint: disable=protected-access\n\nInternalError (see above for traceback): Blas GEMM launch failed : a.shape=(800, 100), b.shape=(100, 100), m=800, n=100, k=100\n\t [[Node: lstm_1/while/MatMul_6 = MatMul[T=DT_FLOAT, transpose_a=false, transpose_b=false, _device=\"/job:localhost/replica:0/task:0/device:GPU:0\"](lstm_1/while/Switch_2:1, lstm_1/while/MatMul_6/Enter)]]\n\t [[Node: metrics/acc/Mean/_97 = _Recv[client_terminated=false, recv_device=\"/job:localhost/replica:0/task:0/device:CPU:0\", send_device=\"/job:localhost/replica:0/task:0/device:GPU:0\", send_device_incarnation=1, tensor_name=\"edge_1860_metrics/acc/Mean\", tensor_type=DT_FLOAT, _device=\"/job:localhost/replica:0/task:0/device:CPU:0\"]()]]\n",
     "output_type": "error",
     "traceback": [
      "\u001b[1;31m---------------------------------------------------------------------------\u001b[0m",
      "\u001b[1;31mInternalError\u001b[0m                             Traceback (most recent call last)",
      "\u001b[1;32m~\\Anaconda3\\lib\\site-packages\\tensorflow\\python\\client\\session.py\u001b[0m in \u001b[0;36m_do_call\u001b[1;34m(self, fn, *args)\u001b[0m\n\u001b[0;32m   1349\u001b[0m     \u001b[1;32mtry\u001b[0m\u001b[1;33m:\u001b[0m\u001b[1;33m\u001b[0m\u001b[0m\n\u001b[1;32m-> 1350\u001b[1;33m       \u001b[1;32mreturn\u001b[0m \u001b[0mfn\u001b[0m\u001b[1;33m(\u001b[0m\u001b[1;33m*\u001b[0m\u001b[0margs\u001b[0m\u001b[1;33m)\u001b[0m\u001b[1;33m\u001b[0m\u001b[0m\n\u001b[0m\u001b[0;32m   1351\u001b[0m     \u001b[1;32mexcept\u001b[0m \u001b[0merrors\u001b[0m\u001b[1;33m.\u001b[0m\u001b[0mOpError\u001b[0m \u001b[1;32mas\u001b[0m \u001b[0me\u001b[0m\u001b[1;33m:\u001b[0m\u001b[1;33m\u001b[0m\u001b[0m\n",
      "\u001b[1;32m~\\Anaconda3\\lib\\site-packages\\tensorflow\\python\\client\\session.py\u001b[0m in \u001b[0;36m_run_fn\u001b[1;34m(session, feed_dict, fetch_list, target_list, options, run_metadata)\u001b[0m\n\u001b[0;32m   1328\u001b[0m                                    \u001b[0mfeed_dict\u001b[0m\u001b[1;33m,\u001b[0m \u001b[0mfetch_list\u001b[0m\u001b[1;33m,\u001b[0m \u001b[0mtarget_list\u001b[0m\u001b[1;33m,\u001b[0m\u001b[1;33m\u001b[0m\u001b[0m\n\u001b[1;32m-> 1329\u001b[1;33m                                    status, run_metadata)\n\u001b[0m\u001b[0;32m   1330\u001b[0m \u001b[1;33m\u001b[0m\u001b[0m\n",
      "\u001b[1;32m~\\Anaconda3\\lib\\site-packages\\tensorflow\\python\\framework\\errors_impl.py\u001b[0m in \u001b[0;36m__exit__\u001b[1;34m(self, type_arg, value_arg, traceback_arg)\u001b[0m\n\u001b[0;32m    472\u001b[0m             \u001b[0mcompat\u001b[0m\u001b[1;33m.\u001b[0m\u001b[0mas_text\u001b[0m\u001b[1;33m(\u001b[0m\u001b[0mc_api\u001b[0m\u001b[1;33m.\u001b[0m\u001b[0mTF_Message\u001b[0m\u001b[1;33m(\u001b[0m\u001b[0mself\u001b[0m\u001b[1;33m.\u001b[0m\u001b[0mstatus\u001b[0m\u001b[1;33m.\u001b[0m\u001b[0mstatus\u001b[0m\u001b[1;33m)\u001b[0m\u001b[1;33m)\u001b[0m\u001b[1;33m,\u001b[0m\u001b[1;33m\u001b[0m\u001b[0m\n\u001b[1;32m--> 473\u001b[1;33m             c_api.TF_GetCode(self.status.status))\n\u001b[0m\u001b[0;32m    474\u001b[0m     \u001b[1;31m# Delete the underlying status object from memory otherwise it stays alive\u001b[0m\u001b[1;33m\u001b[0m\u001b[1;33m\u001b[0m\u001b[0m\n",
      "\u001b[1;31mInternalError\u001b[0m: Blas GEMM launch failed : a.shape=(800, 100), b.shape=(100, 100), m=800, n=100, k=100\n\t [[Node: lstm_1/while/MatMul_6 = MatMul[T=DT_FLOAT, transpose_a=false, transpose_b=false, _device=\"/job:localhost/replica:0/task:0/device:GPU:0\"](lstm_1/while/Switch_2:1, lstm_1/while/MatMul_6/Enter)]]\n\t [[Node: metrics/acc/Mean/_97 = _Recv[client_terminated=false, recv_device=\"/job:localhost/replica:0/task:0/device:CPU:0\", send_device=\"/job:localhost/replica:0/task:0/device:GPU:0\", send_device_incarnation=1, tensor_name=\"edge_1860_metrics/acc/Mean\", tensor_type=DT_FLOAT, _device=\"/job:localhost/replica:0/task:0/device:CPU:0\"]()]]",
      "\nDuring handling of the above exception, another exception occurred:\n",
      "\u001b[1;31mInternalError\u001b[0m                             Traceback (most recent call last)",
      "\u001b[1;32m<timed exec>\u001b[0m in \u001b[0;36m<module>\u001b[1;34m()\u001b[0m\n",
      "\u001b[1;32m~\\Anaconda3\\lib\\site-packages\\keras\\models.py\u001b[0m in \u001b[0;36mfit\u001b[1;34m(self, x, y, batch_size, epochs, verbose, callbacks, validation_split, validation_data, shuffle, class_weight, sample_weight, initial_epoch, steps_per_epoch, validation_steps, **kwargs)\u001b[0m\n\u001b[0;32m    961\u001b[0m                               \u001b[0minitial_epoch\u001b[0m\u001b[1;33m=\u001b[0m\u001b[0minitial_epoch\u001b[0m\u001b[1;33m,\u001b[0m\u001b[1;33m\u001b[0m\u001b[0m\n\u001b[0;32m    962\u001b[0m                               \u001b[0msteps_per_epoch\u001b[0m\u001b[1;33m=\u001b[0m\u001b[0msteps_per_epoch\u001b[0m\u001b[1;33m,\u001b[0m\u001b[1;33m\u001b[0m\u001b[0m\n\u001b[1;32m--> 963\u001b[1;33m                               validation_steps=validation_steps)\n\u001b[0m\u001b[0;32m    964\u001b[0m \u001b[1;33m\u001b[0m\u001b[0m\n\u001b[0;32m    965\u001b[0m     def evaluate(self, x=None, y=None,\n",
      "\u001b[1;32m~\\Anaconda3\\lib\\site-packages\\keras\\engine\\training.py\u001b[0m in \u001b[0;36mfit\u001b[1;34m(self, x, y, batch_size, epochs, verbose, callbacks, validation_split, validation_data, shuffle, class_weight, sample_weight, initial_epoch, steps_per_epoch, validation_steps, **kwargs)\u001b[0m\n\u001b[0;32m   1703\u001b[0m                               \u001b[0minitial_epoch\u001b[0m\u001b[1;33m=\u001b[0m\u001b[0minitial_epoch\u001b[0m\u001b[1;33m,\u001b[0m\u001b[1;33m\u001b[0m\u001b[0m\n\u001b[0;32m   1704\u001b[0m                               \u001b[0msteps_per_epoch\u001b[0m\u001b[1;33m=\u001b[0m\u001b[0msteps_per_epoch\u001b[0m\u001b[1;33m,\u001b[0m\u001b[1;33m\u001b[0m\u001b[0m\n\u001b[1;32m-> 1705\u001b[1;33m                               validation_steps=validation_steps)\n\u001b[0m\u001b[0;32m   1706\u001b[0m \u001b[1;33m\u001b[0m\u001b[0m\n\u001b[0;32m   1707\u001b[0m     def evaluate(self, x=None, y=None,\n",
      "\u001b[1;32m~\\Anaconda3\\lib\\site-packages\\keras\\engine\\training.py\u001b[0m in \u001b[0;36m_fit_loop\u001b[1;34m(self, f, ins, out_labels, batch_size, epochs, verbose, callbacks, val_f, val_ins, shuffle, callback_metrics, initial_epoch, steps_per_epoch, validation_steps)\u001b[0m\n\u001b[0;32m   1233\u001b[0m                         \u001b[0mins_batch\u001b[0m\u001b[1;33m[\u001b[0m\u001b[0mi\u001b[0m\u001b[1;33m]\u001b[0m \u001b[1;33m=\u001b[0m \u001b[0mins_batch\u001b[0m\u001b[1;33m[\u001b[0m\u001b[0mi\u001b[0m\u001b[1;33m]\u001b[0m\u001b[1;33m.\u001b[0m\u001b[0mtoarray\u001b[0m\u001b[1;33m(\u001b[0m\u001b[1;33m)\u001b[0m\u001b[1;33m\u001b[0m\u001b[0m\n\u001b[0;32m   1234\u001b[0m \u001b[1;33m\u001b[0m\u001b[0m\n\u001b[1;32m-> 1235\u001b[1;33m                     \u001b[0mouts\u001b[0m \u001b[1;33m=\u001b[0m \u001b[0mf\u001b[0m\u001b[1;33m(\u001b[0m\u001b[0mins_batch\u001b[0m\u001b[1;33m)\u001b[0m\u001b[1;33m\u001b[0m\u001b[0m\n\u001b[0m\u001b[0;32m   1236\u001b[0m                     \u001b[1;32mif\u001b[0m \u001b[1;32mnot\u001b[0m \u001b[0misinstance\u001b[0m\u001b[1;33m(\u001b[0m\u001b[0mouts\u001b[0m\u001b[1;33m,\u001b[0m \u001b[0mlist\u001b[0m\u001b[1;33m)\u001b[0m\u001b[1;33m:\u001b[0m\u001b[1;33m\u001b[0m\u001b[0m\n\u001b[0;32m   1237\u001b[0m                         \u001b[0mouts\u001b[0m \u001b[1;33m=\u001b[0m \u001b[1;33m[\u001b[0m\u001b[0mouts\u001b[0m\u001b[1;33m]\u001b[0m\u001b[1;33m\u001b[0m\u001b[0m\n",
      "\u001b[1;32m~\\Anaconda3\\lib\\site-packages\\keras\\backend\\tensorflow_backend.py\u001b[0m in \u001b[0;36m__call__\u001b[1;34m(self, inputs)\u001b[0m\n\u001b[0;32m   2476\u001b[0m         \u001b[0msession\u001b[0m \u001b[1;33m=\u001b[0m \u001b[0mget_session\u001b[0m\u001b[1;33m(\u001b[0m\u001b[1;33m)\u001b[0m\u001b[1;33m\u001b[0m\u001b[0m\n\u001b[0;32m   2477\u001b[0m         updated = session.run(fetches=fetches, feed_dict=feed_dict,\n\u001b[1;32m-> 2478\u001b[1;33m                               **self.session_kwargs)\n\u001b[0m\u001b[0;32m   2479\u001b[0m         \u001b[1;32mreturn\u001b[0m \u001b[0mupdated\u001b[0m\u001b[1;33m[\u001b[0m\u001b[1;33m:\u001b[0m\u001b[0mlen\u001b[0m\u001b[1;33m(\u001b[0m\u001b[0mself\u001b[0m\u001b[1;33m.\u001b[0m\u001b[0moutputs\u001b[0m\u001b[1;33m)\u001b[0m\u001b[1;33m]\u001b[0m\u001b[1;33m\u001b[0m\u001b[0m\n\u001b[0;32m   2480\u001b[0m \u001b[1;33m\u001b[0m\u001b[0m\n",
      "\u001b[1;32m~\\Anaconda3\\lib\\site-packages\\tensorflow\\python\\client\\session.py\u001b[0m in \u001b[0;36mrun\u001b[1;34m(self, fetches, feed_dict, options, run_metadata)\u001b[0m\n\u001b[0;32m    893\u001b[0m     \u001b[1;32mtry\u001b[0m\u001b[1;33m:\u001b[0m\u001b[1;33m\u001b[0m\u001b[0m\n\u001b[0;32m    894\u001b[0m       result = self._run(None, fetches, feed_dict, options_ptr,\n\u001b[1;32m--> 895\u001b[1;33m                          run_metadata_ptr)\n\u001b[0m\u001b[0;32m    896\u001b[0m       \u001b[1;32mif\u001b[0m \u001b[0mrun_metadata\u001b[0m\u001b[1;33m:\u001b[0m\u001b[1;33m\u001b[0m\u001b[0m\n\u001b[0;32m    897\u001b[0m         \u001b[0mproto_data\u001b[0m \u001b[1;33m=\u001b[0m \u001b[0mtf_session\u001b[0m\u001b[1;33m.\u001b[0m\u001b[0mTF_GetBuffer\u001b[0m\u001b[1;33m(\u001b[0m\u001b[0mrun_metadata_ptr\u001b[0m\u001b[1;33m)\u001b[0m\u001b[1;33m\u001b[0m\u001b[0m\n",
      "\u001b[1;32m~\\Anaconda3\\lib\\site-packages\\tensorflow\\python\\client\\session.py\u001b[0m in \u001b[0;36m_run\u001b[1;34m(self, handle, fetches, feed_dict, options, run_metadata)\u001b[0m\n\u001b[0;32m   1126\u001b[0m     \u001b[1;32mif\u001b[0m \u001b[0mfinal_fetches\u001b[0m \u001b[1;32mor\u001b[0m \u001b[0mfinal_targets\u001b[0m \u001b[1;32mor\u001b[0m \u001b[1;33m(\u001b[0m\u001b[0mhandle\u001b[0m \u001b[1;32mand\u001b[0m \u001b[0mfeed_dict_tensor\u001b[0m\u001b[1;33m)\u001b[0m\u001b[1;33m:\u001b[0m\u001b[1;33m\u001b[0m\u001b[0m\n\u001b[0;32m   1127\u001b[0m       results = self._do_run(handle, final_targets, final_fetches,\n\u001b[1;32m-> 1128\u001b[1;33m                              feed_dict_tensor, options, run_metadata)\n\u001b[0m\u001b[0;32m   1129\u001b[0m     \u001b[1;32melse\u001b[0m\u001b[1;33m:\u001b[0m\u001b[1;33m\u001b[0m\u001b[0m\n\u001b[0;32m   1130\u001b[0m       \u001b[0mresults\u001b[0m \u001b[1;33m=\u001b[0m \u001b[1;33m[\u001b[0m\u001b[1;33m]\u001b[0m\u001b[1;33m\u001b[0m\u001b[0m\n",
      "\u001b[1;32m~\\Anaconda3\\lib\\site-packages\\tensorflow\\python\\client\\session.py\u001b[0m in \u001b[0;36m_do_run\u001b[1;34m(self, handle, target_list, fetch_list, feed_dict, options, run_metadata)\u001b[0m\n\u001b[0;32m   1342\u001b[0m     \u001b[1;32mif\u001b[0m \u001b[0mhandle\u001b[0m \u001b[1;32mis\u001b[0m \u001b[1;32mNone\u001b[0m\u001b[1;33m:\u001b[0m\u001b[1;33m\u001b[0m\u001b[0m\n\u001b[0;32m   1343\u001b[0m       return self._do_call(_run_fn, self._session, feeds, fetches, targets,\n\u001b[1;32m-> 1344\u001b[1;33m                            options, run_metadata)\n\u001b[0m\u001b[0;32m   1345\u001b[0m     \u001b[1;32melse\u001b[0m\u001b[1;33m:\u001b[0m\u001b[1;33m\u001b[0m\u001b[0m\n\u001b[0;32m   1346\u001b[0m       \u001b[1;32mreturn\u001b[0m \u001b[0mself\u001b[0m\u001b[1;33m.\u001b[0m\u001b[0m_do_call\u001b[0m\u001b[1;33m(\u001b[0m\u001b[0m_prun_fn\u001b[0m\u001b[1;33m,\u001b[0m \u001b[0mself\u001b[0m\u001b[1;33m.\u001b[0m\u001b[0m_session\u001b[0m\u001b[1;33m,\u001b[0m \u001b[0mhandle\u001b[0m\u001b[1;33m,\u001b[0m \u001b[0mfeeds\u001b[0m\u001b[1;33m,\u001b[0m \u001b[0mfetches\u001b[0m\u001b[1;33m)\u001b[0m\u001b[1;33m\u001b[0m\u001b[0m\n",
      "\u001b[1;32m~\\Anaconda3\\lib\\site-packages\\tensorflow\\python\\client\\session.py\u001b[0m in \u001b[0;36m_do_call\u001b[1;34m(self, fn, *args)\u001b[0m\n\u001b[0;32m   1361\u001b[0m         \u001b[1;32mexcept\u001b[0m \u001b[0mKeyError\u001b[0m\u001b[1;33m:\u001b[0m\u001b[1;33m\u001b[0m\u001b[0m\n\u001b[0;32m   1362\u001b[0m           \u001b[1;32mpass\u001b[0m\u001b[1;33m\u001b[0m\u001b[0m\n\u001b[1;32m-> 1363\u001b[1;33m       \u001b[1;32mraise\u001b[0m \u001b[0mtype\u001b[0m\u001b[1;33m(\u001b[0m\u001b[0me\u001b[0m\u001b[1;33m)\u001b[0m\u001b[1;33m(\u001b[0m\u001b[0mnode_def\u001b[0m\u001b[1;33m,\u001b[0m \u001b[0mop\u001b[0m\u001b[1;33m,\u001b[0m \u001b[0mmessage\u001b[0m\u001b[1;33m)\u001b[0m\u001b[1;33m\u001b[0m\u001b[0m\n\u001b[0m\u001b[0;32m   1364\u001b[0m \u001b[1;33m\u001b[0m\u001b[0m\n\u001b[0;32m   1365\u001b[0m   \u001b[1;32mdef\u001b[0m \u001b[0m_extend_graph\u001b[0m\u001b[1;33m(\u001b[0m\u001b[0mself\u001b[0m\u001b[1;33m)\u001b[0m\u001b[1;33m:\u001b[0m\u001b[1;33m\u001b[0m\u001b[0m\n",
      "\u001b[1;31mInternalError\u001b[0m: Blas GEMM launch failed : a.shape=(800, 100), b.shape=(100, 100), m=800, n=100, k=100\n\t [[Node: lstm_1/while/MatMul_6 = MatMul[T=DT_FLOAT, transpose_a=false, transpose_b=false, _device=\"/job:localhost/replica:0/task:0/device:GPU:0\"](lstm_1/while/Switch_2:1, lstm_1/while/MatMul_6/Enter)]]\n\t [[Node: metrics/acc/Mean/_97 = _Recv[client_terminated=false, recv_device=\"/job:localhost/replica:0/task:0/device:CPU:0\", send_device=\"/job:localhost/replica:0/task:0/device:GPU:0\", send_device_incarnation=1, tensor_name=\"edge_1860_metrics/acc/Mean\", tensor_type=DT_FLOAT, _device=\"/job:localhost/replica:0/task:0/device:CPU:0\"]()]]\n\nCaused by op 'lstm_1/while/MatMul_6', defined at:\n  File \"C:\\Users\\user\\Anaconda3\\lib\\runpy.py\", line 193, in _run_module_as_main\n    \"__main__\", mod_spec)\n  File \"C:\\Users\\user\\Anaconda3\\lib\\runpy.py\", line 85, in _run_code\n    exec(code, run_globals)\n  File \"C:\\Users\\user\\Anaconda3\\lib\\site-packages\\ipykernel_launcher.py\", line 16, in <module>\n    app.launch_new_instance()\n  File \"C:\\Users\\user\\Anaconda3\\lib\\site-packages\\traitlets\\config\\application.py\", line 658, in launch_instance\n    app.start()\n  File \"C:\\Users\\user\\Anaconda3\\lib\\site-packages\\ipykernel\\kernelapp.py\", line 486, in start\n    self.io_loop.start()\n  File \"C:\\Users\\user\\Anaconda3\\lib\\site-packages\\zmq\\eventloop\\ioloop.py\", line 177, in start\n    super(ZMQIOLoop, self).start()\n  File \"C:\\Users\\user\\Anaconda3\\lib\\site-packages\\tornado\\ioloop.py\", line 888, in start\n    handler_func(fd_obj, events)\n  File \"C:\\Users\\user\\Anaconda3\\lib\\site-packages\\tornado\\stack_context.py\", line 277, in null_wrapper\n    return fn(*args, **kwargs)\n  File \"C:\\Users\\user\\Anaconda3\\lib\\site-packages\\zmq\\eventloop\\zmqstream.py\", line 440, in _handle_events\n    self._handle_recv()\n  File \"C:\\Users\\user\\Anaconda3\\lib\\site-packages\\zmq\\eventloop\\zmqstream.py\", line 472, in _handle_recv\n    self._run_callback(callback, msg)\n  File \"C:\\Users\\user\\Anaconda3\\lib\\site-packages\\zmq\\eventloop\\zmqstream.py\", line 414, in _run_callback\n    callback(*args, **kwargs)\n  File \"C:\\Users\\user\\Anaconda3\\lib\\site-packages\\tornado\\stack_context.py\", line 277, in null_wrapper\n    return fn(*args, **kwargs)\n  File \"C:\\Users\\user\\Anaconda3\\lib\\site-packages\\ipykernel\\kernelbase.py\", line 283, in dispatcher\n    return self.dispatch_shell(stream, msg)\n  File \"C:\\Users\\user\\Anaconda3\\lib\\site-packages\\ipykernel\\kernelbase.py\", line 233, in dispatch_shell\n    handler(stream, idents, msg)\n  File \"C:\\Users\\user\\Anaconda3\\lib\\site-packages\\ipykernel\\kernelbase.py\", line 399, in execute_request\n    user_expressions, allow_stdin)\n  File \"C:\\Users\\user\\Anaconda3\\lib\\site-packages\\ipykernel\\ipkernel.py\", line 208, in do_execute\n    res = shell.run_cell(code, store_history=store_history, silent=silent)\n  File \"C:\\Users\\user\\Anaconda3\\lib\\site-packages\\ipykernel\\zmqshell.py\", line 537, in run_cell\n    return super(ZMQInteractiveShell, self).run_cell(*args, **kwargs)\n  File \"C:\\Users\\user\\Anaconda3\\lib\\site-packages\\IPython\\core\\interactiveshell.py\", line 2728, in run_cell\n    interactivity=interactivity, compiler=compiler, result=result)\n  File \"C:\\Users\\user\\Anaconda3\\lib\\site-packages\\IPython\\core\\interactiveshell.py\", line 2856, in run_ast_nodes\n    if self.run_code(code, result):\n  File \"C:\\Users\\user\\Anaconda3\\lib\\site-packages\\IPython\\core\\interactiveshell.py\", line 2910, in run_code\n    exec(code_obj, self.user_global_ns, self.user_ns)\n  File \"<ipython-input-17-a7853f16a151>\", line 1, in <module>\n    get_ipython().run_cell_magic('time', '', 'with K.tf.device(\\'/gpu:0\\'):\\n    model = Sequential()\\n    model.add(Embedding(vocab_size, 100, input_length=maxlen))\\n    model.add(LSTM(100, return_sequences=False))\\n    model.add(Dropout(0.5))\\n    model.add(Dense(vocab_size, activation=\\'softmax\\'))\\n    model.compile(loss=\\'categorical_crossentropy\\', optimizer=RMSprop(), metrics=[\"accuracy\"])\\n    hist = model.fit(X, Y, epochs=500, batch_size=800, verbose=2)')\n  File \"C:\\Users\\user\\Anaconda3\\lib\\site-packages\\IPython\\core\\interactiveshell.py\", line 2131, in run_cell_magic\n    result = fn(magic_arg_s, cell)\n  File \"<decorator-gen-63>\", line 2, in time\n  File \"C:\\Users\\user\\Anaconda3\\lib\\site-packages\\IPython\\core\\magic.py\", line 187, in <lambda>\n    call = lambda f, *a, **k: f(*a, **k)\n  File \"C:\\Users\\user\\Anaconda3\\lib\\site-packages\\IPython\\core\\magics\\execution.py\", line 1238, in time\n    exec(code, glob, local_ns)\n  File \"<timed exec>\", line 4, in <module>\n  File \"C:\\Users\\user\\Anaconda3\\lib\\site-packages\\keras\\models.py\", line 492, in add\n    output_tensor = layer(self.outputs[0])\n  File \"C:\\Users\\user\\Anaconda3\\lib\\site-packages\\keras\\layers\\recurrent.py\", line 499, in __call__\n    return super(RNN, self).__call__(inputs, **kwargs)\n  File \"C:\\Users\\user\\Anaconda3\\lib\\site-packages\\keras\\engine\\topology.py\", line 619, in __call__\n    output = self.call(inputs, **kwargs)\n  File \"C:\\Users\\user\\Anaconda3\\lib\\site-packages\\keras\\layers\\recurrent.py\", line 2151, in call\n    initial_state=initial_state)\n  File \"C:\\Users\\user\\Anaconda3\\lib\\site-packages\\keras\\layers\\recurrent.py\", line 608, in call\n    input_length=timesteps)\n  File \"C:\\Users\\user\\Anaconda3\\lib\\site-packages\\keras\\backend\\tensorflow_backend.py\", line 2767, in rnn\n    swap_memory=True)\n  File \"C:\\Users\\user\\Anaconda3\\lib\\site-packages\\tensorflow\\python\\ops\\control_flow_ops.py\", line 2934, in while_loop\n    result = loop_context.BuildLoop(cond, body, loop_vars, shape_invariants)\n  File \"C:\\Users\\user\\Anaconda3\\lib\\site-packages\\tensorflow\\python\\ops\\control_flow_ops.py\", line 2720, in BuildLoop\n    pred, body, original_loop_vars, loop_vars, shape_invariants)\n  File \"C:\\Users\\user\\Anaconda3\\lib\\site-packages\\tensorflow\\python\\ops\\control_flow_ops.py\", line 2662, in _BuildLoop\n    body_result = body(*packed_vars_for_body)\n  File \"C:\\Users\\user\\Anaconda3\\lib\\site-packages\\keras\\backend\\tensorflow_backend.py\", line 2753, in _step\n    tuple(constants))\n  File \"C:\\Users\\user\\Anaconda3\\lib\\site-packages\\keras\\layers\\recurrent.py\", line 599, in step\n    return self.cell.call(inputs, states, **kwargs)\n  File \"C:\\Users\\user\\Anaconda3\\lib\\site-packages\\keras\\layers\\recurrent.py\", line 1945, in call\n    self.recurrent_kernel_c))\n  File \"C:\\Users\\user\\Anaconda3\\lib\\site-packages\\keras\\backend\\tensorflow_backend.py\", line 1075, in dot\n    out = tf.matmul(x, y)\n  File \"C:\\Users\\user\\Anaconda3\\lib\\site-packages\\tensorflow\\python\\ops\\math_ops.py\", line 2022, in matmul\n    a, b, transpose_a=transpose_a, transpose_b=transpose_b, name=name)\n  File \"C:\\Users\\user\\Anaconda3\\lib\\site-packages\\tensorflow\\python\\ops\\gen_math_ops.py\", line 2799, in _mat_mul\n    name=name)\n  File \"C:\\Users\\user\\Anaconda3\\lib\\site-packages\\tensorflow\\python\\framework\\op_def_library.py\", line 787, in _apply_op_helper\n    op_def=op_def)\n  File \"C:\\Users\\user\\Anaconda3\\lib\\site-packages\\tensorflow\\python\\framework\\ops.py\", line 3160, in create_op\n    op_def=op_def)\n  File \"C:\\Users\\user\\Anaconda3\\lib\\site-packages\\tensorflow\\python\\framework\\ops.py\", line 1625, in __init__\n    self._traceback = self._graph._extract_stack()  # pylint: disable=protected-access\n\nInternalError (see above for traceback): Blas GEMM launch failed : a.shape=(800, 100), b.shape=(100, 100), m=800, n=100, k=100\n\t [[Node: lstm_1/while/MatMul_6 = MatMul[T=DT_FLOAT, transpose_a=false, transpose_b=false, _device=\"/job:localhost/replica:0/task:0/device:GPU:0\"](lstm_1/while/Switch_2:1, lstm_1/while/MatMul_6/Enter)]]\n\t [[Node: metrics/acc/Mean/_97 = _Recv[client_terminated=false, recv_device=\"/job:localhost/replica:0/task:0/device:CPU:0\", send_device=\"/job:localhost/replica:0/task:0/device:GPU:0\", send_device_incarnation=1, tensor_name=\"edge_1860_metrics/acc/Mean\", tensor_type=DT_FLOAT, _device=\"/job:localhost/replica:0/task:0/device:CPU:0\"]()]]\n"
     ]
    }
   ],
   "source": [
    "%%time\n",
    "with K.tf.device('/gpu:0'):\n",
    "    model = Sequential()\n",
    "    model.add(Embedding(vocab_size, 100, input_length=maxlen))\n",
    "    model.add(LSTM(100, return_sequences=False))\n",
    "    model.add(Dropout(0.5))\n",
    "    model.add(Dense(vocab_size, activation='softmax'))\n",
    "    model.compile(loss='categorical_crossentropy', optimizer=RMSprop(), metrics=[\"accuracy\"])\n",
    "    hist = model.fit(X, Y, epochs=500, batch_size=800, verbose=2)"
   ]
  },
  {
   "cell_type": "code",
   "execution_count": 9,
   "metadata": {},
   "outputs": [],
   "source": [
    "from keras.models import load_model\n",
    "model = load_model(\"rnn_text_gen.hdf5\")"
   ]
  },
  {
   "cell_type": "code",
   "execution_count": 10,
   "metadata": {},
   "outputs": [
    {
     "data": {
      "text/plain": [
       "['대한민국', '의', '국민', '이', '되는', '요건', '은', '법률', '로', '정한', '다', '.']"
      ]
     },
     "execution_count": 10,
     "metadata": {},
     "output_type": "execute_result"
    }
   ],
   "source": [
    "word_list = '대한민국 의 국민 이 되는 요건 은 법률 로 정한 다 .'.split(\" \")\n",
    "word_list"
   ]
  },
  {
   "cell_type": "code",
   "execution_count": 24,
   "metadata": {},
   "outputs": [],
   "source": [
    "reverse_word_map = dict(map(reversed, tokenizer.word_index.items()))"
   ]
  },
  {
   "cell_type": "code",
   "execution_count": 27,
   "metadata": {},
   "outputs": [
    {
     "data": {
      "text/plain": [
       "array([[  0,   0,   0,   0,   0,   0,   0,   0,   0,   0,   0,   0,   0,\n",
       "          0,   0,   0,   0,   0,   0,   0,   0,   0,   0,   0,   0,   0,\n",
       "          0,   0,   0,   0,   0,   0,   0,   0,   0,   0,   0,   0,   0,\n",
       "          0,   0,   0,   0,   0,   0,   0,   0,   0,   0,   0,   0,   0,\n",
       "          0,   0,   0,   0,   0,   0,   0,   0,   0,   0,   0,   0,   0,\n",
       "          0,   0,   0,   0,   0,   0,   0,   0,   0,   0,   0,   0,   0,\n",
       "          0,   0,   0,   0,   0,   0,   0,   0,   0,   0,   0,   0,   0,\n",
       "          0,   0,   0,   0,   0,   0,   0,   0,   0,   0,   0,   0,   0,\n",
       "          0,   0,   0,   0,   0,   0,   0,   0,   0,   0,   0,   0,   0,\n",
       "          0,   0,   0,   0,   0,   0,   0,   0,   0,   0,   0,   0,   0,\n",
       "          0,   0,   0,   0,   0,   0,   0,   0,   0,   0,   0,   0,   0,\n",
       "          0,   0,   0,   0,   0,   0,   0,   0,   0,   0,   0,   0,   0,\n",
       "          0,   0,   0,   0,   0,   0,   0,   0,   0,   0,   0,   0,   0,\n",
       "          0,   0,   0,   0,   0,   0,   0,   0,   0,   0,   0,   0,   0,\n",
       "          0,   0,   0,   0, 101,   1]])"
      ]
     },
     "execution_count": 27,
     "metadata": {},
     "output_type": "execute_result"
    }
   ],
   "source": [
    "x = sequence.pad_sequences([[tokenizer.word_index[w] for w in word_list[:2]]], maxlen=maxlen)\n",
    "x"
   ]
  },
  {
   "cell_type": "code",
   "execution_count": 28,
   "metadata": {},
   "outputs": [
    {
     "data": {
      "text/plain": [
       "array([  5.13145473e-08,   1.11537590e-03,   3.62565304e-04, ...,\n",
       "         6.63872834e-06,   1.32354771e-07,   1.36414428e-05], dtype=float32)"
      ]
     },
     "execution_count": 28,
     "metadata": {},
     "output_type": "execute_result"
    }
   ],
   "source": [
    "p = model.predict(x)[0]\n",
    "p"
   ]
  },
  {
   "cell_type": "code",
   "execution_count": 29,
   "metadata": {},
   "outputs": [
    {
     "data": {
      "text/plain": [
       "array([ 438,  437,   19, ...,  605, 1170,  286], dtype=int64)"
      ]
     },
     "execution_count": 29,
     "metadata": {},
     "output_type": "execute_result"
    }
   ],
   "source": [
    "idx = np.flip(np.argsort(p), 0)\n",
    "idx"
   ]
  },
  {
   "cell_type": "code",
   "execution_count": 30,
   "metadata": {},
   "outputs": [
    {
     "data": {
      "text/plain": [
       "array([  1.76298365e-01,   1.67277753e-01,   5.77470176e-02, ...,\n",
       "         1.06850362e-10,   7.99032229e-11,   7.51542439e-11], dtype=float32)"
      ]
     },
     "execution_count": 30,
     "metadata": {},
     "output_type": "execute_result"
    }
   ],
   "source": [
    "p[idx]"
   ]
  },
  {
   "cell_type": "code",
   "execution_count": 31,
   "metadata": {},
   "outputs": [
    {
     "name": "stdout",
     "output_type": "stream",
     "text": [
      "영토\n",
      "주권\n",
      "국민\n",
      "조직\n",
      "종류\n"
     ]
    }
   ],
   "source": [
    "for i in idx[:5]:\n",
    "    print(reverse_word_map[i])"
   ]
  },
  {
   "cell_type": "code",
   "execution_count": 32,
   "metadata": {},
   "outputs": [],
   "source": [
    "def generate_sentence(i):\n",
    "    x = sequence.pad_sequences([[tokenizer.word_index[w] for w in word_list[:i]]], maxlen=maxlen)\n",
    "    p = model.predict(x)[0]\n",
    "    idx = np.flip(np.argsort(p), 0)\n",
    "    for j in idx[:3]:\n",
    "        print('\"', \" \".join(word_list[:i]), '\"', reverse_word_map[j])"
   ]
  },
  {
   "cell_type": "code",
   "execution_count": 33,
   "metadata": {},
   "outputs": [
    {
     "name": "stdout",
     "output_type": "stream",
     "text": [
      "\" 대한민국 \" 의\n",
      "\" 대한민국 \" 은\n",
      "\" 대한민국 \" 헌법\n"
     ]
    }
   ],
   "source": [
    "generate_sentence(1)"
   ]
  },
  {
   "cell_type": "code",
   "execution_count": 34,
   "metadata": {},
   "outputs": [
    {
     "name": "stdout",
     "output_type": "stream",
     "text": [
      "\" 대한민국 의 \" 영토\n",
      "\" 대한민국 의 \" 주권\n",
      "\" 대한민국 의 \" 국민\n"
     ]
    }
   ],
   "source": [
    "generate_sentence(2)"
   ]
  },
  {
   "cell_type": "markdown",
   "metadata": {},
   "source": [
    "# 신경망 언어 번역"
   ]
  },
  {
   "cell_type": "markdown",
   "metadata": {},
   "source": [
    "# BLEU\n",
    " - 단어가 번역되어 나왔을 때 정답인 reference에 있는지 없는지를 측정"
   ]
  },
  {
   "cell_type": "code",
   "execution_count": 35,
   "metadata": {},
   "outputs": [],
   "source": [
    "from nltk.translate.bleu_score import sentence_bleu"
   ]
  },
  {
   "cell_type": "code",
   "execution_count": 36,
   "metadata": {},
   "outputs": [],
   "source": [
    "hypothesis = ['It', 'is', 'a', 'guide', 'to', 'action', 'which', # y hat\n",
    "             'ensures', 'that', 'the', 'military', 'always',\n",
    "             'obeys', 'the', 'commands', 'of', 'the', 'party']\n",
    "reference1 = ['It', 'is', 'a', 'guide', 'to', 'action', 'that',  # reference는 사람이 낸 답\n",
    "              'ensures', 'that', 'the', 'military', 'will', 'forever',\n",
    "              'heed', 'Party', 'commands']\n",
    "reference2 = ['It', 'is', 'the', 'guiding', 'principle', 'which',\n",
    "              'guarantees', 'the', 'military', 'forces', 'always',\n",
    "              'being', 'under', 'the', 'command', 'of', 'the',\n",
    "              'Party']\n",
    "reference3 = ['It', 'is', 'the', 'practical', 'guide', 'for', 'the',\n",
    "              'army', 'always', 'to', 'heed', 'the', 'directions',\n",
    "              'of', 'the', 'party']"
   ]
  },
  {
   "cell_type": "code",
   "execution_count": 37,
   "metadata": {
    "scrolled": true
   },
   "outputs": [
    {
     "data": {
      "text/plain": [
       "0.5045666840058485"
      ]
     },
     "execution_count": 37,
     "metadata": {},
     "output_type": "execute_result"
    }
   ],
   "source": [
    "sentence_bleu([reference1, reference2, reference3], hypothesis)"
   ]
  },
  {
   "cell_type": "markdown",
   "metadata": {},
   "source": [
    "# 베이지안 네트워크"
   ]
  },
  {
   "cell_type": "markdown",
   "metadata": {},
   "source": [
    "# 몬티 홀 문제"
   ]
  },
  {
   "cell_type": "code",
   "execution_count": 19,
   "metadata": {},
   "outputs": [],
   "source": [
    "from pgmpy.factors.discrete import TabularCPD"
   ]
  },
  {
   "cell_type": "code",
   "execution_count": 20,
   "metadata": {},
   "outputs": [
    {
     "name": "stdout",
     "output_type": "stream",
     "text": [
      "╒═════╤══════╕\n",
      "│ C_0 │ 0.33 │\n",
      "├─────┼──────┤\n",
      "│ C_1 │ 0.33 │\n",
      "├─────┼──────┤\n",
      "│ C_2 │ 0.33 │\n",
      "╘═════╧══════╛\n"
     ]
    }
   ],
   "source": [
    "cpd_c = TabularCPD('C', 3, [[0.33, 0.33, 0.33]])\n",
    "print(cpd_c)"
   ]
  },
  {
   "cell_type": "code",
   "execution_count": 21,
   "metadata": {},
   "outputs": [
    {
     "name": "stdout",
     "output_type": "stream",
     "text": [
      "╒═════╤══════╕\n",
      "│ P_0 │ 0.33 │\n",
      "├─────┼──────┤\n",
      "│ P_1 │ 0.33 │\n",
      "├─────┼──────┤\n",
      "│ P_2 │ 0.33 │\n",
      "╘═════╧══════╛\n"
     ]
    }
   ],
   "source": [
    "cpd_p = TabularCPD('P', 3, [[0.33, 0.33, 0.33]])\n",
    "print(cpd_p)"
   ]
  },
  {
   "cell_type": "code",
   "execution_count": 22,
   "metadata": {},
   "outputs": [
    {
     "name": "stdout",
     "output_type": "stream",
     "text": [
      "╒═════╤═════╤═════╤═════╤═════╤═════╤═════╤═════╤═════╤═════╕\n",
      "│ C   │ C_0 │ C_0 │ C_0 │ C_1 │ C_1 │ C_1 │ C_2 │ C_2 │ C_2 │\n",
      "├─────┼─────┼─────┼─────┼─────┼─────┼─────┼─────┼─────┼─────┤\n",
      "│ P   │ P_0 │ P_1 │ P_2 │ P_0 │ P_1 │ P_2 │ P_0 │ P_1 │ P_2 │\n",
      "├─────┼─────┼─────┼─────┼─────┼─────┼─────┼─────┼─────┼─────┤\n",
      "│ H_0 │ 0.0 │ 0.0 │ 0.0 │ 0.0 │ 0.5 │ 1.0 │ 0.0 │ 1.0 │ 0.5 │\n",
      "├─────┼─────┼─────┼─────┼─────┼─────┼─────┼─────┼─────┼─────┤\n",
      "│ H_1 │ 0.5 │ 0.0 │ 1.0 │ 0.0 │ 0.0 │ 0.0 │ 1.0 │ 0.0 │ 0.5 │\n",
      "├─────┼─────┼─────┼─────┼─────┼─────┼─────┼─────┼─────┼─────┤\n",
      "│ H_2 │ 0.5 │ 1.0 │ 0.0 │ 1.0 │ 0.5 │ 0.0 │ 0.0 │ 0.0 │ 0.0 │\n",
      "╘═════╧═════╧═════╧═════╧═════╧═════╧═════╧═════╧═════╧═════╛\n"
     ]
    }
   ],
   "source": [
    "cpd_h = TabularCPD('H', 3, [[0,   0, 0, 0, 0.5, 1, 0, 1, 0.5], \n",
    "                            [0.5, 0, 1, 0,   0, 0, 1, 0, 0.5], \n",
    "                            [0.5, 1, 0, 1, 0.5, 0, 0, 0, 0  ]],\n",
    "                   evidence=['C', 'P'], evidence_card=[3, 3])\n",
    "print(cpd_h)"
   ]
  },
  {
   "cell_type": "code",
   "execution_count": 23,
   "metadata": {},
   "outputs": [
    {
     "data": {
      "text/plain": [
       "True"
      ]
     },
     "execution_count": 23,
     "metadata": {},
     "output_type": "execute_result"
    }
   ],
   "source": [
    "from pgmpy.models import BayesianModel\n",
    "\n",
    "model = BayesianModel([('C', 'H'), ('P', 'H')])\n",
    "model.add_cpds(cpd_c, cpd_p, cpd_h)\n",
    "model.check_model()"
   ]
  },
  {
   "cell_type": "code",
   "execution_count": 24,
   "metadata": {},
   "outputs": [
    {
     "data": {
      "application/javascript": [
       "/* Put everything inside the global mpl namespace */\n",
       "window.mpl = {};\n",
       "\n",
       "\n",
       "mpl.get_websocket_type = function() {\n",
       "    if (typeof(WebSocket) !== 'undefined') {\n",
       "        return WebSocket;\n",
       "    } else if (typeof(MozWebSocket) !== 'undefined') {\n",
       "        return MozWebSocket;\n",
       "    } else {\n",
       "        alert('Your browser does not have WebSocket support.' +\n",
       "              'Please try Chrome, Safari or Firefox ≥ 6. ' +\n",
       "              'Firefox 4 and 5 are also supported but you ' +\n",
       "              'have to enable WebSockets in about:config.');\n",
       "    };\n",
       "}\n",
       "\n",
       "mpl.figure = function(figure_id, websocket, ondownload, parent_element) {\n",
       "    this.id = figure_id;\n",
       "\n",
       "    this.ws = websocket;\n",
       "\n",
       "    this.supports_binary = (this.ws.binaryType != undefined);\n",
       "\n",
       "    if (!this.supports_binary) {\n",
       "        var warnings = document.getElementById(\"mpl-warnings\");\n",
       "        if (warnings) {\n",
       "            warnings.style.display = 'block';\n",
       "            warnings.textContent = (\n",
       "                \"This browser does not support binary websocket messages. \" +\n",
       "                    \"Performance may be slow.\");\n",
       "        }\n",
       "    }\n",
       "\n",
       "    this.imageObj = new Image();\n",
       "\n",
       "    this.context = undefined;\n",
       "    this.message = undefined;\n",
       "    this.canvas = undefined;\n",
       "    this.rubberband_canvas = undefined;\n",
       "    this.rubberband_context = undefined;\n",
       "    this.format_dropdown = undefined;\n",
       "\n",
       "    this.image_mode = 'full';\n",
       "\n",
       "    this.root = $('<div/>');\n",
       "    this._root_extra_style(this.root)\n",
       "    this.root.attr('style', 'display: inline-block');\n",
       "\n",
       "    $(parent_element).append(this.root);\n",
       "\n",
       "    this._init_header(this);\n",
       "    this._init_canvas(this);\n",
       "    this._init_toolbar(this);\n",
       "\n",
       "    var fig = this;\n",
       "\n",
       "    this.waiting = false;\n",
       "\n",
       "    this.ws.onopen =  function () {\n",
       "            fig.send_message(\"supports_binary\", {value: fig.supports_binary});\n",
       "            fig.send_message(\"send_image_mode\", {});\n",
       "            if (mpl.ratio != 1) {\n",
       "                fig.send_message(\"set_dpi_ratio\", {'dpi_ratio': mpl.ratio});\n",
       "            }\n",
       "            fig.send_message(\"refresh\", {});\n",
       "        }\n",
       "\n",
       "    this.imageObj.onload = function() {\n",
       "            if (fig.image_mode == 'full') {\n",
       "                // Full images could contain transparency (where diff images\n",
       "                // almost always do), so we need to clear the canvas so that\n",
       "                // there is no ghosting.\n",
       "                fig.context.clearRect(0, 0, fig.canvas.width, fig.canvas.height);\n",
       "            }\n",
       "            fig.context.drawImage(fig.imageObj, 0, 0);\n",
       "        };\n",
       "\n",
       "    this.imageObj.onunload = function() {\n",
       "        fig.ws.close();\n",
       "    }\n",
       "\n",
       "    this.ws.onmessage = this._make_on_message_function(this);\n",
       "\n",
       "    this.ondownload = ondownload;\n",
       "}\n",
       "\n",
       "mpl.figure.prototype._init_header = function() {\n",
       "    var titlebar = $(\n",
       "        '<div class=\"ui-dialog-titlebar ui-widget-header ui-corner-all ' +\n",
       "        'ui-helper-clearfix\"/>');\n",
       "    var titletext = $(\n",
       "        '<div class=\"ui-dialog-title\" style=\"width: 100%; ' +\n",
       "        'text-align: center; padding: 3px;\"/>');\n",
       "    titlebar.append(titletext)\n",
       "    this.root.append(titlebar);\n",
       "    this.header = titletext[0];\n",
       "}\n",
       "\n",
       "\n",
       "\n",
       "mpl.figure.prototype._canvas_extra_style = function(canvas_div) {\n",
       "\n",
       "}\n",
       "\n",
       "\n",
       "mpl.figure.prototype._root_extra_style = function(canvas_div) {\n",
       "\n",
       "}\n",
       "\n",
       "mpl.figure.prototype._init_canvas = function() {\n",
       "    var fig = this;\n",
       "\n",
       "    var canvas_div = $('<div/>');\n",
       "\n",
       "    canvas_div.attr('style', 'position: relative; clear: both; outline: 0');\n",
       "\n",
       "    function canvas_keyboard_event(event) {\n",
       "        return fig.key_event(event, event['data']);\n",
       "    }\n",
       "\n",
       "    canvas_div.keydown('key_press', canvas_keyboard_event);\n",
       "    canvas_div.keyup('key_release', canvas_keyboard_event);\n",
       "    this.canvas_div = canvas_div\n",
       "    this._canvas_extra_style(canvas_div)\n",
       "    this.root.append(canvas_div);\n",
       "\n",
       "    var canvas = $('<canvas/>');\n",
       "    canvas.addClass('mpl-canvas');\n",
       "    canvas.attr('style', \"left: 0; top: 0; z-index: 0; outline: 0\")\n",
       "\n",
       "    this.canvas = canvas[0];\n",
       "    this.context = canvas[0].getContext(\"2d\");\n",
       "\n",
       "    var backingStore = this.context.backingStorePixelRatio ||\n",
       "\tthis.context.webkitBackingStorePixelRatio ||\n",
       "\tthis.context.mozBackingStorePixelRatio ||\n",
       "\tthis.context.msBackingStorePixelRatio ||\n",
       "\tthis.context.oBackingStorePixelRatio ||\n",
       "\tthis.context.backingStorePixelRatio || 1;\n",
       "\n",
       "    mpl.ratio = (window.devicePixelRatio || 1) / backingStore;\n",
       "\n",
       "    var rubberband = $('<canvas/>');\n",
       "    rubberband.attr('style', \"position: absolute; left: 0; top: 0; z-index: 1;\")\n",
       "\n",
       "    var pass_mouse_events = true;\n",
       "\n",
       "    canvas_div.resizable({\n",
       "        start: function(event, ui) {\n",
       "            pass_mouse_events = false;\n",
       "        },\n",
       "        resize: function(event, ui) {\n",
       "            fig.request_resize(ui.size.width, ui.size.height);\n",
       "        },\n",
       "        stop: function(event, ui) {\n",
       "            pass_mouse_events = true;\n",
       "            fig.request_resize(ui.size.width, ui.size.height);\n",
       "        },\n",
       "    });\n",
       "\n",
       "    function mouse_event_fn(event) {\n",
       "        if (pass_mouse_events)\n",
       "            return fig.mouse_event(event, event['data']);\n",
       "    }\n",
       "\n",
       "    rubberband.mousedown('button_press', mouse_event_fn);\n",
       "    rubberband.mouseup('button_release', mouse_event_fn);\n",
       "    // Throttle sequential mouse events to 1 every 20ms.\n",
       "    rubberband.mousemove('motion_notify', mouse_event_fn);\n",
       "\n",
       "    rubberband.mouseenter('figure_enter', mouse_event_fn);\n",
       "    rubberband.mouseleave('figure_leave', mouse_event_fn);\n",
       "\n",
       "    canvas_div.on(\"wheel\", function (event) {\n",
       "        event = event.originalEvent;\n",
       "        event['data'] = 'scroll'\n",
       "        if (event.deltaY < 0) {\n",
       "            event.step = 1;\n",
       "        } else {\n",
       "            event.step = -1;\n",
       "        }\n",
       "        mouse_event_fn(event);\n",
       "    });\n",
       "\n",
       "    canvas_div.append(canvas);\n",
       "    canvas_div.append(rubberband);\n",
       "\n",
       "    this.rubberband = rubberband;\n",
       "    this.rubberband_canvas = rubberband[0];\n",
       "    this.rubberband_context = rubberband[0].getContext(\"2d\");\n",
       "    this.rubberband_context.strokeStyle = \"#000000\";\n",
       "\n",
       "    this._resize_canvas = function(width, height) {\n",
       "        // Keep the size of the canvas, canvas container, and rubber band\n",
       "        // canvas in synch.\n",
       "        canvas_div.css('width', width)\n",
       "        canvas_div.css('height', height)\n",
       "\n",
       "        canvas.attr('width', width * mpl.ratio);\n",
       "        canvas.attr('height', height * mpl.ratio);\n",
       "        canvas.attr('style', 'width: ' + width + 'px; height: ' + height + 'px;');\n",
       "\n",
       "        rubberband.attr('width', width);\n",
       "        rubberband.attr('height', height);\n",
       "    }\n",
       "\n",
       "    // Set the figure to an initial 600x600px, this will subsequently be updated\n",
       "    // upon first draw.\n",
       "    this._resize_canvas(600, 600);\n",
       "\n",
       "    // Disable right mouse context menu.\n",
       "    $(this.rubberband_canvas).bind(\"contextmenu\",function(e){\n",
       "        return false;\n",
       "    });\n",
       "\n",
       "    function set_focus () {\n",
       "        canvas.focus();\n",
       "        canvas_div.focus();\n",
       "    }\n",
       "\n",
       "    window.setTimeout(set_focus, 100);\n",
       "}\n",
       "\n",
       "mpl.figure.prototype._init_toolbar = function() {\n",
       "    var fig = this;\n",
       "\n",
       "    var nav_element = $('<div/>')\n",
       "    nav_element.attr('style', 'width: 100%');\n",
       "    this.root.append(nav_element);\n",
       "\n",
       "    // Define a callback function for later on.\n",
       "    function toolbar_event(event) {\n",
       "        return fig.toolbar_button_onclick(event['data']);\n",
       "    }\n",
       "    function toolbar_mouse_event(event) {\n",
       "        return fig.toolbar_button_onmouseover(event['data']);\n",
       "    }\n",
       "\n",
       "    for(var toolbar_ind in mpl.toolbar_items) {\n",
       "        var name = mpl.toolbar_items[toolbar_ind][0];\n",
       "        var tooltip = mpl.toolbar_items[toolbar_ind][1];\n",
       "        var image = mpl.toolbar_items[toolbar_ind][2];\n",
       "        var method_name = mpl.toolbar_items[toolbar_ind][3];\n",
       "\n",
       "        if (!name) {\n",
       "            // put a spacer in here.\n",
       "            continue;\n",
       "        }\n",
       "        var button = $('<button/>');\n",
       "        button.addClass('ui-button ui-widget ui-state-default ui-corner-all ' +\n",
       "                        'ui-button-icon-only');\n",
       "        button.attr('role', 'button');\n",
       "        button.attr('aria-disabled', 'false');\n",
       "        button.click(method_name, toolbar_event);\n",
       "        button.mouseover(tooltip, toolbar_mouse_event);\n",
       "\n",
       "        var icon_img = $('<span/>');\n",
       "        icon_img.addClass('ui-button-icon-primary ui-icon');\n",
       "        icon_img.addClass(image);\n",
       "        icon_img.addClass('ui-corner-all');\n",
       "\n",
       "        var tooltip_span = $('<span/>');\n",
       "        tooltip_span.addClass('ui-button-text');\n",
       "        tooltip_span.html(tooltip);\n",
       "\n",
       "        button.append(icon_img);\n",
       "        button.append(tooltip_span);\n",
       "\n",
       "        nav_element.append(button);\n",
       "    }\n",
       "\n",
       "    var fmt_picker_span = $('<span/>');\n",
       "\n",
       "    var fmt_picker = $('<select/>');\n",
       "    fmt_picker.addClass('mpl-toolbar-option ui-widget ui-widget-content');\n",
       "    fmt_picker_span.append(fmt_picker);\n",
       "    nav_element.append(fmt_picker_span);\n",
       "    this.format_dropdown = fmt_picker[0];\n",
       "\n",
       "    for (var ind in mpl.extensions) {\n",
       "        var fmt = mpl.extensions[ind];\n",
       "        var option = $(\n",
       "            '<option/>', {selected: fmt === mpl.default_extension}).html(fmt);\n",
       "        fmt_picker.append(option)\n",
       "    }\n",
       "\n",
       "    // Add hover states to the ui-buttons\n",
       "    $( \".ui-button\" ).hover(\n",
       "        function() { $(this).addClass(\"ui-state-hover\");},\n",
       "        function() { $(this).removeClass(\"ui-state-hover\");}\n",
       "    );\n",
       "\n",
       "    var status_bar = $('<span class=\"mpl-message\"/>');\n",
       "    nav_element.append(status_bar);\n",
       "    this.message = status_bar[0];\n",
       "}\n",
       "\n",
       "mpl.figure.prototype.request_resize = function(x_pixels, y_pixels) {\n",
       "    // Request matplotlib to resize the figure. Matplotlib will then trigger a resize in the client,\n",
       "    // which will in turn request a refresh of the image.\n",
       "    this.send_message('resize', {'width': x_pixels, 'height': y_pixels});\n",
       "}\n",
       "\n",
       "mpl.figure.prototype.send_message = function(type, properties) {\n",
       "    properties['type'] = type;\n",
       "    properties['figure_id'] = this.id;\n",
       "    this.ws.send(JSON.stringify(properties));\n",
       "}\n",
       "\n",
       "mpl.figure.prototype.send_draw_message = function() {\n",
       "    if (!this.waiting) {\n",
       "        this.waiting = true;\n",
       "        this.ws.send(JSON.stringify({type: \"draw\", figure_id: this.id}));\n",
       "    }\n",
       "}\n",
       "\n",
       "\n",
       "mpl.figure.prototype.handle_save = function(fig, msg) {\n",
       "    var format_dropdown = fig.format_dropdown;\n",
       "    var format = format_dropdown.options[format_dropdown.selectedIndex].value;\n",
       "    fig.ondownload(fig, format);\n",
       "}\n",
       "\n",
       "\n",
       "mpl.figure.prototype.handle_resize = function(fig, msg) {\n",
       "    var size = msg['size'];\n",
       "    if (size[0] != fig.canvas.width || size[1] != fig.canvas.height) {\n",
       "        fig._resize_canvas(size[0], size[1]);\n",
       "        fig.send_message(\"refresh\", {});\n",
       "    };\n",
       "}\n",
       "\n",
       "mpl.figure.prototype.handle_rubberband = function(fig, msg) {\n",
       "    var x0 = msg['x0'] / mpl.ratio;\n",
       "    var y0 = (fig.canvas.height - msg['y0']) / mpl.ratio;\n",
       "    var x1 = msg['x1'] / mpl.ratio;\n",
       "    var y1 = (fig.canvas.height - msg['y1']) / mpl.ratio;\n",
       "    x0 = Math.floor(x0) + 0.5;\n",
       "    y0 = Math.floor(y0) + 0.5;\n",
       "    x1 = Math.floor(x1) + 0.5;\n",
       "    y1 = Math.floor(y1) + 0.5;\n",
       "    var min_x = Math.min(x0, x1);\n",
       "    var min_y = Math.min(y0, y1);\n",
       "    var width = Math.abs(x1 - x0);\n",
       "    var height = Math.abs(y1 - y0);\n",
       "\n",
       "    fig.rubberband_context.clearRect(\n",
       "        0, 0, fig.canvas.width, fig.canvas.height);\n",
       "\n",
       "    fig.rubberband_context.strokeRect(min_x, min_y, width, height);\n",
       "}\n",
       "\n",
       "mpl.figure.prototype.handle_figure_label = function(fig, msg) {\n",
       "    // Updates the figure title.\n",
       "    fig.header.textContent = msg['label'];\n",
       "}\n",
       "\n",
       "mpl.figure.prototype.handle_cursor = function(fig, msg) {\n",
       "    var cursor = msg['cursor'];\n",
       "    switch(cursor)\n",
       "    {\n",
       "    case 0:\n",
       "        cursor = 'pointer';\n",
       "        break;\n",
       "    case 1:\n",
       "        cursor = 'default';\n",
       "        break;\n",
       "    case 2:\n",
       "        cursor = 'crosshair';\n",
       "        break;\n",
       "    case 3:\n",
       "        cursor = 'move';\n",
       "        break;\n",
       "    }\n",
       "    fig.rubberband_canvas.style.cursor = cursor;\n",
       "}\n",
       "\n",
       "mpl.figure.prototype.handle_message = function(fig, msg) {\n",
       "    fig.message.textContent = msg['message'];\n",
       "}\n",
       "\n",
       "mpl.figure.prototype.handle_draw = function(fig, msg) {\n",
       "    // Request the server to send over a new figure.\n",
       "    fig.send_draw_message();\n",
       "}\n",
       "\n",
       "mpl.figure.prototype.handle_image_mode = function(fig, msg) {\n",
       "    fig.image_mode = msg['mode'];\n",
       "}\n",
       "\n",
       "mpl.figure.prototype.updated_canvas_event = function() {\n",
       "    // Called whenever the canvas gets updated.\n",
       "    this.send_message(\"ack\", {});\n",
       "}\n",
       "\n",
       "// A function to construct a web socket function for onmessage handling.\n",
       "// Called in the figure constructor.\n",
       "mpl.figure.prototype._make_on_message_function = function(fig) {\n",
       "    return function socket_on_message(evt) {\n",
       "        if (evt.data instanceof Blob) {\n",
       "            /* FIXME: We get \"Resource interpreted as Image but\n",
       "             * transferred with MIME type text/plain:\" errors on\n",
       "             * Chrome.  But how to set the MIME type?  It doesn't seem\n",
       "             * to be part of the websocket stream */\n",
       "            evt.data.type = \"image/png\";\n",
       "\n",
       "            /* Free the memory for the previous frames */\n",
       "            if (fig.imageObj.src) {\n",
       "                (window.URL || window.webkitURL).revokeObjectURL(\n",
       "                    fig.imageObj.src);\n",
       "            }\n",
       "\n",
       "            fig.imageObj.src = (window.URL || window.webkitURL).createObjectURL(\n",
       "                evt.data);\n",
       "            fig.updated_canvas_event();\n",
       "            fig.waiting = false;\n",
       "            return;\n",
       "        }\n",
       "        else if (typeof evt.data === 'string' && evt.data.slice(0, 21) == \"data:image/png;base64\") {\n",
       "            fig.imageObj.src = evt.data;\n",
       "            fig.updated_canvas_event();\n",
       "            fig.waiting = false;\n",
       "            return;\n",
       "        }\n",
       "\n",
       "        var msg = JSON.parse(evt.data);\n",
       "        var msg_type = msg['type'];\n",
       "\n",
       "        // Call the  \"handle_{type}\" callback, which takes\n",
       "        // the figure and JSON message as its only arguments.\n",
       "        try {\n",
       "            var callback = fig[\"handle_\" + msg_type];\n",
       "        } catch (e) {\n",
       "            console.log(\"No handler for the '\" + msg_type + \"' message type: \", msg);\n",
       "            return;\n",
       "        }\n",
       "\n",
       "        if (callback) {\n",
       "            try {\n",
       "                // console.log(\"Handling '\" + msg_type + \"' message: \", msg);\n",
       "                callback(fig, msg);\n",
       "            } catch (e) {\n",
       "                console.log(\"Exception inside the 'handler_\" + msg_type + \"' callback:\", e, e.stack, msg);\n",
       "            }\n",
       "        }\n",
       "    };\n",
       "}\n",
       "\n",
       "// from http://stackoverflow.com/questions/1114465/getting-mouse-location-in-canvas\n",
       "mpl.findpos = function(e) {\n",
       "    //this section is from http://www.quirksmode.org/js/events_properties.html\n",
       "    var targ;\n",
       "    if (!e)\n",
       "        e = window.event;\n",
       "    if (e.target)\n",
       "        targ = e.target;\n",
       "    else if (e.srcElement)\n",
       "        targ = e.srcElement;\n",
       "    if (targ.nodeType == 3) // defeat Safari bug\n",
       "        targ = targ.parentNode;\n",
       "\n",
       "    // jQuery normalizes the pageX and pageY\n",
       "    // pageX,Y are the mouse positions relative to the document\n",
       "    // offset() returns the position of the element relative to the document\n",
       "    var x = e.pageX - $(targ).offset().left;\n",
       "    var y = e.pageY - $(targ).offset().top;\n",
       "\n",
       "    return {\"x\": x, \"y\": y};\n",
       "};\n",
       "\n",
       "/*\n",
       " * return a copy of an object with only non-object keys\n",
       " * we need this to avoid circular references\n",
       " * http://stackoverflow.com/a/24161582/3208463\n",
       " */\n",
       "function simpleKeys (original) {\n",
       "  return Object.keys(original).reduce(function (obj, key) {\n",
       "    if (typeof original[key] !== 'object')\n",
       "        obj[key] = original[key]\n",
       "    return obj;\n",
       "  }, {});\n",
       "}\n",
       "\n",
       "mpl.figure.prototype.mouse_event = function(event, name) {\n",
       "    var canvas_pos = mpl.findpos(event)\n",
       "\n",
       "    if (name === 'button_press')\n",
       "    {\n",
       "        this.canvas.focus();\n",
       "        this.canvas_div.focus();\n",
       "    }\n",
       "\n",
       "    var x = canvas_pos.x * mpl.ratio;\n",
       "    var y = canvas_pos.y * mpl.ratio;\n",
       "\n",
       "    this.send_message(name, {x: x, y: y, button: event.button,\n",
       "                             step: event.step,\n",
       "                             guiEvent: simpleKeys(event)});\n",
       "\n",
       "    /* This prevents the web browser from automatically changing to\n",
       "     * the text insertion cursor when the button is pressed.  We want\n",
       "     * to control all of the cursor setting manually through the\n",
       "     * 'cursor' event from matplotlib */\n",
       "    event.preventDefault();\n",
       "    return false;\n",
       "}\n",
       "\n",
       "mpl.figure.prototype._key_event_extra = function(event, name) {\n",
       "    // Handle any extra behaviour associated with a key event\n",
       "}\n",
       "\n",
       "mpl.figure.prototype.key_event = function(event, name) {\n",
       "\n",
       "    // Prevent repeat events\n",
       "    if (name == 'key_press')\n",
       "    {\n",
       "        if (event.which === this._key)\n",
       "            return;\n",
       "        else\n",
       "            this._key = event.which;\n",
       "    }\n",
       "    if (name == 'key_release')\n",
       "        this._key = null;\n",
       "\n",
       "    var value = '';\n",
       "    if (event.ctrlKey && event.which != 17)\n",
       "        value += \"ctrl+\";\n",
       "    if (event.altKey && event.which != 18)\n",
       "        value += \"alt+\";\n",
       "    if (event.shiftKey && event.which != 16)\n",
       "        value += \"shift+\";\n",
       "\n",
       "    value += 'k';\n",
       "    value += event.which.toString();\n",
       "\n",
       "    this._key_event_extra(event, name);\n",
       "\n",
       "    this.send_message(name, {key: value,\n",
       "                             guiEvent: simpleKeys(event)});\n",
       "    return false;\n",
       "}\n",
       "\n",
       "mpl.figure.prototype.toolbar_button_onclick = function(name) {\n",
       "    if (name == 'download') {\n",
       "        this.handle_save(this, null);\n",
       "    } else {\n",
       "        this.send_message(\"toolbar_button\", {name: name});\n",
       "    }\n",
       "};\n",
       "\n",
       "mpl.figure.prototype.toolbar_button_onmouseover = function(tooltip) {\n",
       "    this.message.textContent = tooltip;\n",
       "};\n",
       "mpl.toolbar_items = [[\"Home\", \"Reset original view\", \"fa fa-home icon-home\", \"home\"], [\"Back\", \"Back to  previous view\", \"fa fa-arrow-left icon-arrow-left\", \"back\"], [\"Forward\", \"Forward to next view\", \"fa fa-arrow-right icon-arrow-right\", \"forward\"], [\"\", \"\", \"\", \"\"], [\"Pan\", \"Pan axes with left mouse, zoom with right\", \"fa fa-arrows icon-move\", \"pan\"], [\"Zoom\", \"Zoom to rectangle\", \"fa fa-square-o icon-check-empty\", \"zoom\"], [\"\", \"\", \"\", \"\"], [\"Download\", \"Download plot\", \"fa fa-floppy-o icon-save\", \"download\"]];\n",
       "\n",
       "mpl.extensions = [\"eps\", \"pdf\", \"png\", \"ps\", \"raw\", \"svg\"];\n",
       "\n",
       "mpl.default_extension = \"png\";var comm_websocket_adapter = function(comm) {\n",
       "    // Create a \"websocket\"-like object which calls the given IPython comm\n",
       "    // object with the appropriate methods. Currently this is a non binary\n",
       "    // socket, so there is still some room for performance tuning.\n",
       "    var ws = {};\n",
       "\n",
       "    ws.close = function() {\n",
       "        comm.close()\n",
       "    };\n",
       "    ws.send = function(m) {\n",
       "        //console.log('sending', m);\n",
       "        comm.send(m);\n",
       "    };\n",
       "    // Register the callback with on_msg.\n",
       "    comm.on_msg(function(msg) {\n",
       "        //console.log('receiving', msg['content']['data'], msg);\n",
       "        // Pass the mpl event to the overriden (by mpl) onmessage function.\n",
       "        ws.onmessage(msg['content']['data'])\n",
       "    });\n",
       "    return ws;\n",
       "}\n",
       "\n",
       "mpl.mpl_figure_comm = function(comm, msg) {\n",
       "    // This is the function which gets called when the mpl process\n",
       "    // starts-up an IPython Comm through the \"matplotlib\" channel.\n",
       "\n",
       "    var id = msg.content.data.id;\n",
       "    // Get hold of the div created by the display call when the Comm\n",
       "    // socket was opened in Python.\n",
       "    var element = $(\"#\" + id);\n",
       "    var ws_proxy = comm_websocket_adapter(comm)\n",
       "\n",
       "    function ondownload(figure, format) {\n",
       "        window.open(figure.imageObj.src);\n",
       "    }\n",
       "\n",
       "    var fig = new mpl.figure(id, ws_proxy,\n",
       "                           ondownload,\n",
       "                           element.get(0));\n",
       "\n",
       "    // Call onopen now - mpl needs it, as it is assuming we've passed it a real\n",
       "    // web socket which is closed, not our websocket->open comm proxy.\n",
       "    ws_proxy.onopen();\n",
       "\n",
       "    fig.parent_element = element.get(0);\n",
       "    fig.cell_info = mpl.find_output_cell(\"<div id='\" + id + \"'></div>\");\n",
       "    if (!fig.cell_info) {\n",
       "        console.error(\"Failed to find cell for figure\", id, fig);\n",
       "        return;\n",
       "    }\n",
       "\n",
       "    var output_index = fig.cell_info[2]\n",
       "    var cell = fig.cell_info[0];\n",
       "\n",
       "};\n",
       "\n",
       "mpl.figure.prototype.handle_close = function(fig, msg) {\n",
       "    var width = fig.canvas.width/mpl.ratio\n",
       "    fig.root.unbind('remove')\n",
       "\n",
       "    // Update the output cell to use the data from the current canvas.\n",
       "    fig.push_to_output();\n",
       "    var dataURL = fig.canvas.toDataURL();\n",
       "    // Re-enable the keyboard manager in IPython - without this line, in FF,\n",
       "    // the notebook keyboard shortcuts fail.\n",
       "    IPython.keyboard_manager.enable()\n",
       "    $(fig.parent_element).html('<img src=\"' + dataURL + '\" width=\"' + width + '\">');\n",
       "    fig.close_ws(fig, msg);\n",
       "}\n",
       "\n",
       "mpl.figure.prototype.close_ws = function(fig, msg){\n",
       "    fig.send_message('closing', msg);\n",
       "    // fig.ws.close()\n",
       "}\n",
       "\n",
       "mpl.figure.prototype.push_to_output = function(remove_interactive) {\n",
       "    // Turn the data on the canvas into data in the output cell.\n",
       "    var width = this.canvas.width/mpl.ratio\n",
       "    var dataURL = this.canvas.toDataURL();\n",
       "    this.cell_info[1]['text/html'] = '<img src=\"' + dataURL + '\" width=\"' + width + '\">';\n",
       "}\n",
       "\n",
       "mpl.figure.prototype.updated_canvas_event = function() {\n",
       "    // Tell IPython that the notebook contents must change.\n",
       "    IPython.notebook.set_dirty(true);\n",
       "    this.send_message(\"ack\", {});\n",
       "    var fig = this;\n",
       "    // Wait a second, then push the new image to the DOM so\n",
       "    // that it is saved nicely (might be nice to debounce this).\n",
       "    setTimeout(function () { fig.push_to_output() }, 1000);\n",
       "}\n",
       "\n",
       "mpl.figure.prototype._init_toolbar = function() {\n",
       "    var fig = this;\n",
       "\n",
       "    var nav_element = $('<div/>')\n",
       "    nav_element.attr('style', 'width: 100%');\n",
       "    this.root.append(nav_element);\n",
       "\n",
       "    // Define a callback function for later on.\n",
       "    function toolbar_event(event) {\n",
       "        return fig.toolbar_button_onclick(event['data']);\n",
       "    }\n",
       "    function toolbar_mouse_event(event) {\n",
       "        return fig.toolbar_button_onmouseover(event['data']);\n",
       "    }\n",
       "\n",
       "    for(var toolbar_ind in mpl.toolbar_items){\n",
       "        var name = mpl.toolbar_items[toolbar_ind][0];\n",
       "        var tooltip = mpl.toolbar_items[toolbar_ind][1];\n",
       "        var image = mpl.toolbar_items[toolbar_ind][2];\n",
       "        var method_name = mpl.toolbar_items[toolbar_ind][3];\n",
       "\n",
       "        if (!name) { continue; };\n",
       "\n",
       "        var button = $('<button class=\"btn btn-default\" href=\"#\" title=\"' + name + '\"><i class=\"fa ' + image + ' fa-lg\"></i></button>');\n",
       "        button.click(method_name, toolbar_event);\n",
       "        button.mouseover(tooltip, toolbar_mouse_event);\n",
       "        nav_element.append(button);\n",
       "    }\n",
       "\n",
       "    // Add the status bar.\n",
       "    var status_bar = $('<span class=\"mpl-message\" style=\"text-align:right; float: right;\"/>');\n",
       "    nav_element.append(status_bar);\n",
       "    this.message = status_bar[0];\n",
       "\n",
       "    // Add the close button to the window.\n",
       "    var buttongrp = $('<div class=\"btn-group inline pull-right\"></div>');\n",
       "    var button = $('<button class=\"btn btn-mini btn-primary\" href=\"#\" title=\"Stop Interaction\"><i class=\"fa fa-power-off icon-remove icon-large\"></i></button>');\n",
       "    button.click(function (evt) { fig.handle_close(fig, {}); } );\n",
       "    button.mouseover('Stop Interaction', toolbar_mouse_event);\n",
       "    buttongrp.append(button);\n",
       "    var titlebar = this.root.find($('.ui-dialog-titlebar'));\n",
       "    titlebar.prepend(buttongrp);\n",
       "}\n",
       "\n",
       "mpl.figure.prototype._root_extra_style = function(el){\n",
       "    var fig = this\n",
       "    el.on(\"remove\", function(){\n",
       "\tfig.close_ws(fig, {});\n",
       "    });\n",
       "}\n",
       "\n",
       "mpl.figure.prototype._canvas_extra_style = function(el){\n",
       "    // this is important to make the div 'focusable\n",
       "    el.attr('tabindex', 0)\n",
       "    // reach out to IPython and tell the keyboard manager to turn it's self\n",
       "    // off when our div gets focus\n",
       "\n",
       "    // location in version 3\n",
       "    if (IPython.notebook.keyboard_manager) {\n",
       "        IPython.notebook.keyboard_manager.register_events(el);\n",
       "    }\n",
       "    else {\n",
       "        // location in version 2\n",
       "        IPython.keyboard_manager.register_events(el);\n",
       "    }\n",
       "\n",
       "}\n",
       "\n",
       "mpl.figure.prototype._key_event_extra = function(event, name) {\n",
       "    var manager = IPython.notebook.keyboard_manager;\n",
       "    if (!manager)\n",
       "        manager = IPython.keyboard_manager;\n",
       "\n",
       "    // Check for shift+enter\n",
       "    if (event.shiftKey && event.which == 13) {\n",
       "        this.canvas_div.blur();\n",
       "        event.shiftKey = false;\n",
       "        // Send a \"J\" for go to next cell\n",
       "        event.which = 74;\n",
       "        event.keyCode = 74;\n",
       "        manager.command_mode();\n",
       "        manager.handle_keydown(event);\n",
       "    }\n",
       "}\n",
       "\n",
       "mpl.figure.prototype.handle_save = function(fig, msg) {\n",
       "    fig.ondownload(fig, null);\n",
       "}\n",
       "\n",
       "\n",
       "mpl.find_output_cell = function(html_output) {\n",
       "    // Return the cell and output element which can be found *uniquely* in the notebook.\n",
       "    // Note - this is a bit hacky, but it is done because the \"notebook_saving.Notebook\"\n",
       "    // IPython event is triggered only after the cells have been serialised, which for\n",
       "    // our purposes (turning an active figure into a static one), is too late.\n",
       "    var cells = IPython.notebook.get_cells();\n",
       "    var ncells = cells.length;\n",
       "    for (var i=0; i<ncells; i++) {\n",
       "        var cell = cells[i];\n",
       "        if (cell.cell_type === 'code'){\n",
       "            for (var j=0; j<cell.output_area.outputs.length; j++) {\n",
       "                var data = cell.output_area.outputs[j];\n",
       "                if (data.data) {\n",
       "                    // IPython >= 3 moved mimebundle to data attribute of output\n",
       "                    data = data.data;\n",
       "                }\n",
       "                if (data['text/html'] == html_output) {\n",
       "                    return [cell, data, j];\n",
       "                }\n",
       "            }\n",
       "        }\n",
       "    }\n",
       "}\n",
       "\n",
       "// Register the function which deals with the matplotlib target/channel.\n",
       "// The kernel may be null if the page has been refreshed.\n",
       "if (IPython.notebook.kernel != null) {\n",
       "    IPython.notebook.kernel.comm_manager.register_target('matplotlib', mpl.mpl_figure_comm);\n",
       "}\n"
      ],
      "text/plain": [
       "<IPython.core.display.Javascript object>"
      ]
     },
     "metadata": {},
     "output_type": "display_data"
    },
    {
     "data": {
      "text/html": [
       "<img src=\"data:image/png;base64,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\" width=\"640\">"
      ],
      "text/plain": [
       "<IPython.core.display.HTML object>"
      ]
     },
     "metadata": {},
     "output_type": "display_data"
    }
   ],
   "source": [
    "import networkx as nx\n",
    "\n",
    "nx.draw_networkx(model.to_directed())"
   ]
  },
  {
   "cell_type": "code",
   "execution_count": 25,
   "metadata": {},
   "outputs": [
    {
     "data": {
      "text/plain": [
       "False"
      ]
     },
     "execution_count": 25,
     "metadata": {},
     "output_type": "execute_result"
    }
   ],
   "source": [
    "model.is_active_trail('C', 'P')"
   ]
  },
  {
   "cell_type": "code",
   "execution_count": 26,
   "metadata": {},
   "outputs": [
    {
     "data": {
      "text/plain": [
       "(C _|_ P)\n",
       "(P _|_ C)"
      ]
     },
     "execution_count": 26,
     "metadata": {},
     "output_type": "execute_result"
    }
   ],
   "source": [
    "model.get_independencies()"
   ]
  },
  {
   "cell_type": "code",
   "execution_count": 27,
   "metadata": {},
   "outputs": [
    {
     "data": {
      "text/plain": [
       "True"
      ]
     },
     "execution_count": 27,
     "metadata": {},
     "output_type": "execute_result"
    }
   ],
   "source": [
    "model.is_active_trail('C', 'P', observed='H')"
   ]
  },
  {
   "cell_type": "code",
   "execution_count": 28,
   "metadata": {},
   "outputs": [],
   "source": [
    "from pgmpy.inference import VariableElimination\n",
    "\n",
    "infer = VariableElimination(model)"
   ]
  },
  {
   "cell_type": "code",
   "execution_count": 29,
   "metadata": {},
   "outputs": [
    {
     "name": "stdout",
     "output_type": "stream",
     "text": [
      "╒═════╤══════════╕\n",
      "│ C   │   phi(C) │\n",
      "╞═════╪══════════╡\n",
      "│ C_0 │   0.3300 │\n",
      "├─────┼──────────┤\n",
      "│ C_1 │   0.3300 │\n",
      "├─────┼──────────┤\n",
      "│ C_2 │   0.3300 │\n",
      "╘═════╧══════════╛\n"
     ]
    }
   ],
   "source": [
    "from pgmpy.factors import factor_product\n",
    "j = infer.factors['C'][0]\n",
    "print(j)"
   ]
  },
  {
   "cell_type": "code",
   "execution_count": 30,
   "metadata": {},
   "outputs": [
    {
     "name": "stdout",
     "output_type": "stream",
     "text": [
      "╒═════╤══════════╕\n",
      "│ H   │   phi(H) │\n",
      "╞═════╪══════════╡\n",
      "│ H_0 │   0.0000 │\n",
      "├─────┼──────────┤\n",
      "│ H_1 │   0.5000 │\n",
      "├─────┼──────────┤\n",
      "│ H_2 │   0.5000 │\n",
      "╘═════╧══════════╛\n"
     ]
    }
   ],
   "source": [
    "from pgmpy.factors import factor_product\n",
    "\n",
    "posteriors = infer.query(['C', 'H'], evidence={'P': 0})\n",
    "print(posteriors['H'])"
   ]
  },
  {
   "cell_type": "code",
   "execution_count": 31,
   "metadata": {},
   "outputs": [
    {
     "name": "stdout",
     "output_type": "stream",
     "text": [
      "╒═════╤══════════╕\n",
      "│ C   │   phi(C) │\n",
      "╞═════╪══════════╡\n",
      "│ C_0 │   0.3333 │\n",
      "├─────┼──────────┤\n",
      "│ C_1 │   0.6667 │\n",
      "├─────┼──────────┤\n",
      "│ C_2 │   0.0000 │\n",
      "╘═════╧══════════╛\n"
     ]
    }
   ],
   "source": [
    "posterior_c = infer.query(['C'], evidence={'P': 0, 'H': 2})\n",
    "print(posterior_c['C'])"
   ]
  },
  {
   "cell_type": "code",
   "execution_count": 32,
   "metadata": {},
   "outputs": [
    {
     "name": "stdout",
     "output_type": "stream",
     "text": [
      "╒═════╤══════════╕\n",
      "│ C   │   phi(C) │\n",
      "╞═════╪══════════╡\n",
      "│ C_0 │   0.6667 │\n",
      "├─────┼──────────┤\n",
      "│ C_1 │   0.3333 │\n",
      "├─────┼──────────┤\n",
      "│ C_2 │   0.0000 │\n",
      "╘═════╧══════════╛\n"
     ]
    }
   ],
   "source": [
    "posterior_c = infer.query(['C'], evidence={'P': 1, 'H': 2})\n",
    "print(posterior_c['C'])"
   ]
  }
 ],
 "metadata": {
  "kernelspec": {
   "display_name": "Python 3",
   "language": "python",
   "name": "python3"
  },
  "language_info": {
   "codemirror_mode": {
    "name": "ipython",
    "version": 3
   },
   "file_extension": ".py",
   "mimetype": "text/x-python",
   "name": "python",
   "nbconvert_exporter": "python",
   "pygments_lexer": "ipython3",
   "version": "3.6.4"
  }
 },
 "nbformat": 4,
 "nbformat_minor": 2
}
