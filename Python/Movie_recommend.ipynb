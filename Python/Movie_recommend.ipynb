{
 "cells": [
  {
   "cell_type": "markdown",
   "metadata": {},
   "source": [
    "# Movie dataset recommend"
   ]
  },
  {
   "cell_type": "markdown",
   "metadata": {},
   "source": [
    "## 1. Dataset"
   ]
  },
  {
   "cell_type": "code",
   "execution_count": 17,
   "metadata": {},
   "outputs": [],
   "source": [
    "from scipy import spatial"
   ]
  },
  {
   "cell_type": "code",
   "execution_count": 18,
   "metadata": {},
   "outputs": [
    {
     "data": {
      "text/html": [
       "<div>\n",
       "<style scoped>\n",
       "    .dataframe tbody tr th:only-of-type {\n",
       "        vertical-align: middle;\n",
       "    }\n",
       "\n",
       "    .dataframe tbody tr th {\n",
       "        vertical-align: top;\n",
       "    }\n",
       "\n",
       "    .dataframe thead th {\n",
       "        text-align: right;\n",
       "    }\n",
       "</style>\n",
       "<table border=\"1\" class=\"dataframe\">\n",
       "  <thead>\n",
       "    <tr style=\"text-align: right;\">\n",
       "      <th></th>\n",
       "      <th>userId</th>\n",
       "      <th>movieId</th>\n",
       "      <th>rating</th>\n",
       "    </tr>\n",
       "  </thead>\n",
       "  <tbody>\n",
       "    <tr>\n",
       "      <th>99999</th>\n",
       "      <td>671</td>\n",
       "      <td>6268</td>\n",
       "      <td>2.5</td>\n",
       "    </tr>\n",
       "    <tr>\n",
       "      <th>100000</th>\n",
       "      <td>671</td>\n",
       "      <td>6269</td>\n",
       "      <td>4.0</td>\n",
       "    </tr>\n",
       "    <tr>\n",
       "      <th>100001</th>\n",
       "      <td>671</td>\n",
       "      <td>6365</td>\n",
       "      <td>4.0</td>\n",
       "    </tr>\n",
       "    <tr>\n",
       "      <th>100002</th>\n",
       "      <td>671</td>\n",
       "      <td>6385</td>\n",
       "      <td>2.5</td>\n",
       "    </tr>\n",
       "    <tr>\n",
       "      <th>100003</th>\n",
       "      <td>671</td>\n",
       "      <td>6565</td>\n",
       "      <td>3.5</td>\n",
       "    </tr>\n",
       "  </tbody>\n",
       "</table>\n",
       "</div>"
      ],
      "text/plain": [
       "        userId  movieId  rating\n",
       "99999      671     6268     2.5\n",
       "100000     671     6269     4.0\n",
       "100001     671     6365     4.0\n",
       "100002     671     6385     2.5\n",
       "100003     671     6565     3.5"
      ]
     },
     "execution_count": 18,
     "metadata": {},
     "output_type": "execute_result"
    }
   ],
   "source": [
    "rating_df = pd.read_csv('ratings_small.csv')\n",
    "rating_df.drop('timestamp', axis=1 ,inplace=True)\n",
    "rating_df.tail()"
   ]
  },
  {
   "cell_type": "markdown",
   "metadata": {},
   "source": [
    "## 2. Check dataset"
   ]
  },
  {
   "cell_type": "code",
   "execution_count": 19,
   "metadata": {},
   "outputs": [
    {
     "data": {
      "text/plain": [
       "671"
      ]
     },
     "execution_count": 19,
     "metadata": {},
     "output_type": "execute_result"
    }
   ],
   "source": [
    "unique_user = rating_df['userId'].unique()\n",
    "len(unique_user)"
   ]
  },
  {
   "cell_type": "code",
   "execution_count": 20,
   "metadata": {},
   "outputs": [
    {
     "data": {
      "text/plain": [
       "9066"
      ]
     },
     "execution_count": 20,
     "metadata": {},
     "output_type": "execute_result"
    }
   ],
   "source": [
    "unique_movie = rating_df['movieId'].unique()\n",
    "len(unique_movie)"
   ]
  },
  {
   "cell_type": "code",
   "execution_count": 21,
   "metadata": {},
   "outputs": [
    {
     "data": {
      "text/html": [
       "<div>\n",
       "<style scoped>\n",
       "    .dataframe tbody tr th:only-of-type {\n",
       "        vertical-align: middle;\n",
       "    }\n",
       "\n",
       "    .dataframe tbody tr th {\n",
       "        vertical-align: top;\n",
       "    }\n",
       "\n",
       "    .dataframe thead th {\n",
       "        text-align: right;\n",
       "    }\n",
       "</style>\n",
       "<table border=\"1\" class=\"dataframe\">\n",
       "  <thead>\n",
       "    <tr style=\"text-align: right;\">\n",
       "      <th></th>\n",
       "      <th>rating</th>\n",
       "      <th>rating_counts</th>\n",
       "    </tr>\n",
       "  </thead>\n",
       "  <tbody>\n",
       "    <tr>\n",
       "      <th>0</th>\n",
       "      <td>0.5</td>\n",
       "      <td>1101</td>\n",
       "    </tr>\n",
       "    <tr>\n",
       "      <th>1</th>\n",
       "      <td>1.0</td>\n",
       "      <td>3326</td>\n",
       "    </tr>\n",
       "    <tr>\n",
       "      <th>2</th>\n",
       "      <td>1.5</td>\n",
       "      <td>1687</td>\n",
       "    </tr>\n",
       "    <tr>\n",
       "      <th>3</th>\n",
       "      <td>2.0</td>\n",
       "      <td>7271</td>\n",
       "    </tr>\n",
       "    <tr>\n",
       "      <th>4</th>\n",
       "      <td>2.5</td>\n",
       "      <td>4449</td>\n",
       "    </tr>\n",
       "    <tr>\n",
       "      <th>5</th>\n",
       "      <td>3.0</td>\n",
       "      <td>20064</td>\n",
       "    </tr>\n",
       "    <tr>\n",
       "      <th>6</th>\n",
       "      <td>3.5</td>\n",
       "      <td>10538</td>\n",
       "    </tr>\n",
       "    <tr>\n",
       "      <th>7</th>\n",
       "      <td>4.0</td>\n",
       "      <td>28750</td>\n",
       "    </tr>\n",
       "    <tr>\n",
       "      <th>8</th>\n",
       "      <td>4.5</td>\n",
       "      <td>7723</td>\n",
       "    </tr>\n",
       "    <tr>\n",
       "      <th>9</th>\n",
       "      <td>5.0</td>\n",
       "      <td>15095</td>\n",
       "    </tr>\n",
       "  </tbody>\n",
       "</table>\n",
       "</div>"
      ],
      "text/plain": [
       "   rating  rating_counts\n",
       "0     0.5           1101\n",
       "1     1.0           3326\n",
       "2     1.5           1687\n",
       "3     2.0           7271\n",
       "4     2.5           4449\n",
       "5     3.0          20064\n",
       "6     3.5          10538\n",
       "7     4.0          28750\n",
       "8     4.5           7723\n",
       "9     5.0          15095"
      ]
     },
     "execution_count": 21,
     "metadata": {},
     "output_type": "execute_result"
    }
   ],
   "source": [
    "# ratring\n",
    "rating_df.groupby('rating').size().reset_index(name='rating_counts')"
   ]
  },
  {
   "cell_type": "code",
   "execution_count": 22,
   "metadata": {},
   "outputs": [
    {
     "data": {
      "text/html": [
       "<div>\n",
       "<style scoped>\n",
       "    .dataframe tbody tr th:only-of-type {\n",
       "        vertical-align: middle;\n",
       "    }\n",
       "\n",
       "    .dataframe tbody tr th {\n",
       "        vertical-align: top;\n",
       "    }\n",
       "\n",
       "    .dataframe thead th {\n",
       "        text-align: right;\n",
       "    }\n",
       "</style>\n",
       "<table border=\"1\" class=\"dataframe\">\n",
       "  <thead>\n",
       "    <tr style=\"text-align: right;\">\n",
       "      <th></th>\n",
       "      <th>userId</th>\n",
       "      <th>user_rating_count</th>\n",
       "    </tr>\n",
       "  </thead>\n",
       "  <tbody>\n",
       "    <tr>\n",
       "      <th>546</th>\n",
       "      <td>547</td>\n",
       "      <td>2391</td>\n",
       "    </tr>\n",
       "    <tr>\n",
       "      <th>563</th>\n",
       "      <td>564</td>\n",
       "      <td>1868</td>\n",
       "    </tr>\n",
       "    <tr>\n",
       "      <th>623</th>\n",
       "      <td>624</td>\n",
       "      <td>1735</td>\n",
       "    </tr>\n",
       "    <tr>\n",
       "      <th>14</th>\n",
       "      <td>15</td>\n",
       "      <td>1700</td>\n",
       "    </tr>\n",
       "    <tr>\n",
       "      <th>72</th>\n",
       "      <td>73</td>\n",
       "      <td>1610</td>\n",
       "    </tr>\n",
       "  </tbody>\n",
       "</table>\n",
       "</div>"
      ],
      "text/plain": [
       "     userId  user_rating_count\n",
       "546     547               2391\n",
       "563     564               1868\n",
       "623     624               1735\n",
       "14       15               1700\n",
       "72       73               1610"
      ]
     },
     "execution_count": 22,
     "metadata": {},
     "output_type": "execute_result"
    }
   ],
   "source": [
    "# user_rating 분포\n",
    "user_counts_df = rating_df.groupby('userId').size().reset_index(name='user_rating_count')\n",
    "user_counts_df.sort_values('user_rating_count', ascending=False, inplace=True)\n",
    "user_counts_df.head()"
   ]
  },
  {
   "cell_type": "code",
   "execution_count": 23,
   "metadata": {},
   "outputs": [
    {
     "data": {
      "text/html": [
       "<div>\n",
       "<style scoped>\n",
       "    .dataframe tbody tr th:only-of-type {\n",
       "        vertical-align: middle;\n",
       "    }\n",
       "\n",
       "    .dataframe tbody tr th {\n",
       "        vertical-align: top;\n",
       "    }\n",
       "\n",
       "    .dataframe thead th {\n",
       "        text-align: right;\n",
       "    }\n",
       "</style>\n",
       "<table border=\"1\" class=\"dataframe\">\n",
       "  <thead>\n",
       "    <tr style=\"text-align: right;\">\n",
       "      <th></th>\n",
       "      <th>movieId</th>\n",
       "      <th>movie_rating_count</th>\n",
       "    </tr>\n",
       "  </thead>\n",
       "  <tbody>\n",
       "    <tr>\n",
       "      <th>321</th>\n",
       "      <td>356</td>\n",
       "      <td>341</td>\n",
       "    </tr>\n",
       "    <tr>\n",
       "      <th>266</th>\n",
       "      <td>296</td>\n",
       "      <td>324</td>\n",
       "    </tr>\n",
       "    <tr>\n",
       "      <th>284</th>\n",
       "      <td>318</td>\n",
       "      <td>311</td>\n",
       "    </tr>\n",
       "    <tr>\n",
       "      <th>525</th>\n",
       "      <td>593</td>\n",
       "      <td>304</td>\n",
       "    </tr>\n",
       "    <tr>\n",
       "      <th>232</th>\n",
       "      <td>260</td>\n",
       "      <td>291</td>\n",
       "    </tr>\n",
       "  </tbody>\n",
       "</table>\n",
       "</div>"
      ],
      "text/plain": [
       "     movieId  movie_rating_count\n",
       "321      356                 341\n",
       "266      296                 324\n",
       "284      318                 311\n",
       "525      593                 304\n",
       "232      260                 291"
      ]
     },
     "execution_count": 23,
     "metadata": {},
     "output_type": "execute_result"
    }
   ],
   "source": [
    "# movie 분포\n",
    "movie_counts_df = rating_df.groupby('movieId').size().reset_index(name='movie_rating_count')\n",
    "movie_counts_df.sort_values('movie_rating_count', ascending=False, inplace=True)\n",
    "movie_counts_df.head()"
   ]
  },
  {
   "cell_type": "markdown",
   "metadata": {},
   "source": [
    "## 3. Preprocessing"
   ]
  },
  {
   "cell_type": "code",
   "execution_count": 24,
   "metadata": {},
   "outputs": [],
   "source": [
    "# user 최소 평가 수, movie 최소 평가 수\n",
    "user_limit, movie_limit = 365, 100"
   ]
  },
  {
   "cell_type": "code",
   "execution_count": 25,
   "metadata": {},
   "outputs": [
    {
     "data": {
      "text/plain": [
       "(59, [547, 564, 624, 15, 73])"
      ]
     },
     "execution_count": 25,
     "metadata": {},
     "output_type": "execute_result"
    }
   ],
   "source": [
    "filtered_userId = user_counts_df[user_counts_df['user_rating_count'] > user_limit]\n",
    "filtered_userId = list(filtered_userId['userId'])\n",
    "len(filtered_userId), filtered_userId[:5]"
   ]
  },
  {
   "cell_type": "code",
   "execution_count": 26,
   "metadata": {},
   "outputs": [
    {
     "data": {
      "text/plain": [
       "(149, [356, 296, 318, 593, 260])"
      ]
     },
     "execution_count": 26,
     "metadata": {},
     "output_type": "execute_result"
    }
   ],
   "source": [
    "filtered_movieId = movie_counts_df[movie_counts_df['movie_rating_count'] > movie_limit]\n",
    "filtered_movieId = list(filtered_movieId['movieId'])\n",
    "len(filtered_movieId), filtered_movieId[:5]"
   ]
  },
  {
   "cell_type": "code",
   "execution_count": 27,
   "metadata": {},
   "outputs": [
    {
     "data": {
      "text/plain": [
       "5570"
      ]
     },
     "execution_count": 27,
     "metadata": {},
     "output_type": "execute_result"
    }
   ],
   "source": [
    "# 10004 -> 5570\n",
    "filtered_df = rating_df[rating_df['userId'].isin(filtered_userId)]\n",
    "\n",
    "filtered_df = filtered_df[filtered_df['movieId'].isin(filtered_movieId)]\n",
    "len(filtered_df)"
   ]
  },
  {
   "cell_type": "code",
   "execution_count": 28,
   "metadata": {
    "scrolled": true
   },
   "outputs": [
    {
     "data": {
      "text/html": [
       "<div>\n",
       "<style scoped>\n",
       "    .dataframe tbody tr th:only-of-type {\n",
       "        vertical-align: middle;\n",
       "    }\n",
       "\n",
       "    .dataframe tbody tr th {\n",
       "        vertical-align: top;\n",
       "    }\n",
       "\n",
       "    .dataframe thead th {\n",
       "        text-align: right;\n",
       "    }\n",
       "</style>\n",
       "<table border=\"1\" class=\"dataframe\">\n",
       "  <thead>\n",
       "    <tr style=\"text-align: right;\">\n",
       "      <th></th>\n",
       "      <th>userId</th>\n",
       "      <th>movieId</th>\n",
       "      <th>rating</th>\n",
       "    </tr>\n",
       "  </thead>\n",
       "  <tbody>\n",
       "    <tr>\n",
       "      <th>962</th>\n",
       "      <td>15</td>\n",
       "      <td>1</td>\n",
       "      <td>2.0</td>\n",
       "    </tr>\n",
       "    <tr>\n",
       "      <th>963</th>\n",
       "      <td>15</td>\n",
       "      <td>2</td>\n",
       "      <td>2.0</td>\n",
       "    </tr>\n",
       "    <tr>\n",
       "      <th>965</th>\n",
       "      <td>15</td>\n",
       "      <td>6</td>\n",
       "      <td>4.0</td>\n",
       "    </tr>\n",
       "    <tr>\n",
       "      <th>966</th>\n",
       "      <td>15</td>\n",
       "      <td>10</td>\n",
       "      <td>3.0</td>\n",
       "    </tr>\n",
       "    <tr>\n",
       "      <th>974</th>\n",
       "      <td>15</td>\n",
       "      <td>25</td>\n",
       "      <td>3.0</td>\n",
       "    </tr>\n",
       "  </tbody>\n",
       "</table>\n",
       "</div>"
      ],
      "text/plain": [
       "     userId  movieId  rating\n",
       "962      15        1     2.0\n",
       "963      15        2     2.0\n",
       "965      15        6     4.0\n",
       "966      15       10     3.0\n",
       "974      15       25     3.0"
      ]
     },
     "execution_count": 28,
     "metadata": {},
     "output_type": "execute_result"
    }
   ],
   "source": [
    "filtered_df.head()"
   ]
  },
  {
   "cell_type": "markdown",
   "metadata": {},
   "source": [
    "## 4. Pivot table"
   ]
  },
  {
   "cell_type": "code",
   "execution_count": 29,
   "metadata": {},
   "outputs": [
    {
     "data": {
      "text/html": [
       "<div>\n",
       "<style scoped>\n",
       "    .dataframe tbody tr th:only-of-type {\n",
       "        vertical-align: middle;\n",
       "    }\n",
       "\n",
       "    .dataframe tbody tr th {\n",
       "        vertical-align: top;\n",
       "    }\n",
       "\n",
       "    .dataframe thead th {\n",
       "        text-align: right;\n",
       "    }\n",
       "</style>\n",
       "<table border=\"1\" class=\"dataframe\">\n",
       "  <thead>\n",
       "    <tr style=\"text-align: right;\">\n",
       "      <th>movieId</th>\n",
       "      <th>1</th>\n",
       "      <th>2</th>\n",
       "      <th>6</th>\n",
       "      <th>10</th>\n",
       "      <th>25</th>\n",
       "      <th>32</th>\n",
       "      <th>34</th>\n",
       "      <th>36</th>\n",
       "      <th>39</th>\n",
       "      <th>47</th>\n",
       "      <th>...</th>\n",
       "      <th>6377</th>\n",
       "      <th>6539</th>\n",
       "      <th>6874</th>\n",
       "      <th>7153</th>\n",
       "      <th>7361</th>\n",
       "      <th>7438</th>\n",
       "      <th>8961</th>\n",
       "      <th>33794</th>\n",
       "      <th>58559</th>\n",
       "      <th>79132</th>\n",
       "    </tr>\n",
       "    <tr>\n",
       "      <th>userId</th>\n",
       "      <th></th>\n",
       "      <th></th>\n",
       "      <th></th>\n",
       "      <th></th>\n",
       "      <th></th>\n",
       "      <th></th>\n",
       "      <th></th>\n",
       "      <th></th>\n",
       "      <th></th>\n",
       "      <th></th>\n",
       "      <th></th>\n",
       "      <th></th>\n",
       "      <th></th>\n",
       "      <th></th>\n",
       "      <th></th>\n",
       "      <th></th>\n",
       "      <th></th>\n",
       "      <th></th>\n",
       "      <th></th>\n",
       "      <th></th>\n",
       "      <th></th>\n",
       "    </tr>\n",
       "  </thead>\n",
       "  <tbody>\n",
       "    <tr>\n",
       "      <th>615</th>\n",
       "      <td>4.0</td>\n",
       "      <td>0.0</td>\n",
       "      <td>3.5</td>\n",
       "      <td>0.0</td>\n",
       "      <td>0.0</td>\n",
       "      <td>3.0</td>\n",
       "      <td>0.0</td>\n",
       "      <td>0.0</td>\n",
       "      <td>0.0</td>\n",
       "      <td>4.5</td>\n",
       "      <td>...</td>\n",
       "      <td>4.5</td>\n",
       "      <td>3.5</td>\n",
       "      <td>4.5</td>\n",
       "      <td>4.0</td>\n",
       "      <td>4.0</td>\n",
       "      <td>4.0</td>\n",
       "      <td>4.0</td>\n",
       "      <td>4.0</td>\n",
       "      <td>4.5</td>\n",
       "      <td>4.0</td>\n",
       "    </tr>\n",
       "    <tr>\n",
       "      <th>624</th>\n",
       "      <td>5.0</td>\n",
       "      <td>3.0</td>\n",
       "      <td>0.0</td>\n",
       "      <td>4.0</td>\n",
       "      <td>0.0</td>\n",
       "      <td>2.0</td>\n",
       "      <td>0.0</td>\n",
       "      <td>0.0</td>\n",
       "      <td>0.0</td>\n",
       "      <td>4.0</td>\n",
       "      <td>...</td>\n",
       "      <td>3.5</td>\n",
       "      <td>3.5</td>\n",
       "      <td>4.0</td>\n",
       "      <td>4.5</td>\n",
       "      <td>0.0</td>\n",
       "      <td>3.5</td>\n",
       "      <td>4.5</td>\n",
       "      <td>3.5</td>\n",
       "      <td>3.5</td>\n",
       "      <td>4.0</td>\n",
       "    </tr>\n",
       "    <tr>\n",
       "      <th>654</th>\n",
       "      <td>5.0</td>\n",
       "      <td>3.0</td>\n",
       "      <td>0.0</td>\n",
       "      <td>4.0</td>\n",
       "      <td>0.0</td>\n",
       "      <td>5.0</td>\n",
       "      <td>4.5</td>\n",
       "      <td>4.5</td>\n",
       "      <td>0.0</td>\n",
       "      <td>4.5</td>\n",
       "      <td>...</td>\n",
       "      <td>5.0</td>\n",
       "      <td>4.5</td>\n",
       "      <td>4.5</td>\n",
       "      <td>5.0</td>\n",
       "      <td>4.0</td>\n",
       "      <td>4.0</td>\n",
       "      <td>5.0</td>\n",
       "      <td>4.5</td>\n",
       "      <td>0.0</td>\n",
       "      <td>0.0</td>\n",
       "    </tr>\n",
       "    <tr>\n",
       "      <th>664</th>\n",
       "      <td>3.5</td>\n",
       "      <td>0.0</td>\n",
       "      <td>4.0</td>\n",
       "      <td>0.0</td>\n",
       "      <td>0.0</td>\n",
       "      <td>5.0</td>\n",
       "      <td>0.0</td>\n",
       "      <td>0.0</td>\n",
       "      <td>0.0</td>\n",
       "      <td>4.5</td>\n",
       "      <td>...</td>\n",
       "      <td>0.0</td>\n",
       "      <td>4.0</td>\n",
       "      <td>4.0</td>\n",
       "      <td>4.0</td>\n",
       "      <td>4.0</td>\n",
       "      <td>4.0</td>\n",
       "      <td>4.0</td>\n",
       "      <td>4.0</td>\n",
       "      <td>4.5</td>\n",
       "      <td>5.0</td>\n",
       "    </tr>\n",
       "    <tr>\n",
       "      <th>665</th>\n",
       "      <td>0.0</td>\n",
       "      <td>3.0</td>\n",
       "      <td>0.0</td>\n",
       "      <td>0.0</td>\n",
       "      <td>0.0</td>\n",
       "      <td>4.0</td>\n",
       "      <td>2.0</td>\n",
       "      <td>0.0</td>\n",
       "      <td>2.0</td>\n",
       "      <td>0.0</td>\n",
       "      <td>...</td>\n",
       "      <td>0.0</td>\n",
       "      <td>0.0</td>\n",
       "      <td>0.0</td>\n",
       "      <td>0.0</td>\n",
       "      <td>0.0</td>\n",
       "      <td>0.0</td>\n",
       "      <td>0.0</td>\n",
       "      <td>0.0</td>\n",
       "      <td>0.0</td>\n",
       "      <td>0.0</td>\n",
       "    </tr>\n",
       "  </tbody>\n",
       "</table>\n",
       "<p>5 rows × 149 columns</p>\n",
       "</div>"
      ],
      "text/plain": [
       "movieId  1      2      6      10     25     32     34     36     39     47     \\\n",
       "userId                                                                          \n",
       "615        4.0    0.0    3.5    0.0    0.0    3.0    0.0    0.0    0.0    4.5   \n",
       "624        5.0    3.0    0.0    4.0    0.0    2.0    0.0    0.0    0.0    4.0   \n",
       "654        5.0    3.0    0.0    4.0    0.0    5.0    4.5    4.5    0.0    4.5   \n",
       "664        3.5    0.0    4.0    0.0    0.0    5.0    0.0    0.0    0.0    4.5   \n",
       "665        0.0    3.0    0.0    0.0    0.0    4.0    2.0    0.0    2.0    0.0   \n",
       "\n",
       "movieId  ...    6377   6539   6874   7153   7361   7438   8961   33794  58559  \\\n",
       "userId   ...                                                                    \n",
       "615      ...      4.5    3.5    4.5    4.0    4.0    4.0    4.0    4.0    4.5   \n",
       "624      ...      3.5    3.5    4.0    4.5    0.0    3.5    4.5    3.5    3.5   \n",
       "654      ...      5.0    4.5    4.5    5.0    4.0    4.0    5.0    4.5    0.0   \n",
       "664      ...      0.0    4.0    4.0    4.0    4.0    4.0    4.0    4.0    4.5   \n",
       "665      ...      0.0    0.0    0.0    0.0    0.0    0.0    0.0    0.0    0.0   \n",
       "\n",
       "movieId  79132  \n",
       "userId          \n",
       "615        4.0  \n",
       "624        4.0  \n",
       "654        0.0  \n",
       "664        5.0  \n",
       "665        0.0  \n",
       "\n",
       "[5 rows x 149 columns]"
      ]
     },
     "execution_count": 29,
     "metadata": {},
     "output_type": "execute_result"
    }
   ],
   "source": [
    "user_df = filtered_df.pivot_table(values='rating', index='userId', columns='movieId', aggfunc=np.average, fill_value=0, dropna=False)\n",
    "user_df.tail()"
   ]
  },
  {
   "cell_type": "markdown",
   "metadata": {},
   "source": [
    "## 5. Function"
   ]
  },
  {
   "cell_type": "code",
   "execution_count": 30,
   "metadata": {},
   "outputs": [],
   "source": [
    "def cosine_similarity(vector_1, vector_2):\n",
    "    idx = vector_1.nonzero()[0]\n",
    "    if len(idx) == 0:\n",
    "        return -1\n",
    "    vector_1, vector_2 = np.array(vector_1)[idx], np.array(vector_2)[idx]\n",
    "    \n",
    "    idx = vector_2.nonzero()[0]\n",
    "    if len(idx) == 0:\n",
    "        return -1\n",
    "    vector_1, vector_2 = np.array(vector_1)[idx], np.array(vector_2)[idx]\n",
    "    \n",
    "    return 1 - spatial.distance.cosine(vector_1, vector_2)"
   ]
  },
  {
   "cell_type": "code",
   "execution_count": 31,
   "metadata": {},
   "outputs": [
    {
     "data": {
      "text/plain": [
       "0.8320502943378437"
      ]
     },
     "execution_count": 31,
     "metadata": {},
     "output_type": "execute_result"
    }
   ],
   "source": [
    "# test code - cosine_similarity\n",
    "vector_1 = np.array([1,0,3,0,5])\n",
    "vector_2 = np.array([5,3,0,1,5])\n",
    "cosine_similarity(vector_1, vector_2)"
   ]
  },
  {
   "cell_type": "code",
   "execution_count": 32,
   "metadata": {},
   "outputs": [
    {
     "data": {
      "text/plain": [
       "0.9501250301799182"
      ]
     },
     "execution_count": 32,
     "metadata": {},
     "output_type": "execute_result"
    }
   ],
   "source": [
    "# test code - cosine_similarity\n",
    "cosine_similarity(user_df.loc[15], user_df.loc[19])"
   ]
  },
  {
   "cell_type": "code",
   "execution_count": 33,
   "metadata": {},
   "outputs": [],
   "source": [
    "def similarity_matrix(user_df, similarity_func):\n",
    "    \n",
    "    users = user_df.index\n",
    "    \n",
    "    df = user_df.T\n",
    "    \n",
    "    matrix = []\n",
    "    for idx_1, value_1 in df.items():\n",
    "        row = []\n",
    "        for idx_2, value_2 in df.items():\n",
    "            row.append(similarity_func(value_1, value_2))\n",
    "        matrix.append(row)\n",
    "        \n",
    "    return pd.DataFrame(matrix, index= users, columns=users)"
   ]
  },
  {
   "cell_type": "code",
   "execution_count": 34,
   "metadata": {},
   "outputs": [
    {
     "data": {
      "text/html": [
       "<div>\n",
       "<style scoped>\n",
       "    .dataframe tbody tr th:only-of-type {\n",
       "        vertical-align: middle;\n",
       "    }\n",
       "\n",
       "    .dataframe tbody tr th {\n",
       "        vertical-align: top;\n",
       "    }\n",
       "\n",
       "    .dataframe thead th {\n",
       "        text-align: right;\n",
       "    }\n",
       "</style>\n",
       "<table border=\"1\" class=\"dataframe\">\n",
       "  <thead>\n",
       "    <tr style=\"text-align: right;\">\n",
       "      <th>userId</th>\n",
       "      <th>15</th>\n",
       "      <th>19</th>\n",
       "      <th>23</th>\n",
       "      <th>30</th>\n",
       "      <th>48</th>\n",
       "      <th>56</th>\n",
       "      <th>73</th>\n",
       "      <th>102</th>\n",
       "      <th>105</th>\n",
       "      <th>119</th>\n",
       "      <th>...</th>\n",
       "      <th>580</th>\n",
       "      <th>587</th>\n",
       "      <th>596</th>\n",
       "      <th>605</th>\n",
       "      <th>607</th>\n",
       "      <th>615</th>\n",
       "      <th>624</th>\n",
       "      <th>654</th>\n",
       "      <th>664</th>\n",
       "      <th>665</th>\n",
       "    </tr>\n",
       "    <tr>\n",
       "      <th>userId</th>\n",
       "      <th></th>\n",
       "      <th></th>\n",
       "      <th></th>\n",
       "      <th></th>\n",
       "      <th></th>\n",
       "      <th></th>\n",
       "      <th></th>\n",
       "      <th></th>\n",
       "      <th></th>\n",
       "      <th></th>\n",
       "      <th></th>\n",
       "      <th></th>\n",
       "      <th></th>\n",
       "      <th></th>\n",
       "      <th></th>\n",
       "      <th></th>\n",
       "      <th></th>\n",
       "      <th></th>\n",
       "      <th></th>\n",
       "      <th></th>\n",
       "      <th></th>\n",
       "    </tr>\n",
       "  </thead>\n",
       "  <tbody>\n",
       "    <tr>\n",
       "      <th>615</th>\n",
       "      <td>0.913701</td>\n",
       "      <td>0.986879</td>\n",
       "      <td>0.977971</td>\n",
       "      <td>0.976351</td>\n",
       "      <td>0.990701</td>\n",
       "      <td>0.986844</td>\n",
       "      <td>0.977249</td>\n",
       "      <td>0.977529</td>\n",
       "      <td>0.981156</td>\n",
       "      <td>0.975449</td>\n",
       "      <td>...</td>\n",
       "      <td>0.984180</td>\n",
       "      <td>0.982973</td>\n",
       "      <td>0.984113</td>\n",
       "      <td>0.945157</td>\n",
       "      <td>0.979301</td>\n",
       "      <td>1.000000</td>\n",
       "      <td>0.977023</td>\n",
       "      <td>0.991736</td>\n",
       "      <td>0.991745</td>\n",
       "      <td>0.977560</td>\n",
       "    </tr>\n",
       "    <tr>\n",
       "      <th>624</th>\n",
       "      <td>0.933455</td>\n",
       "      <td>0.973056</td>\n",
       "      <td>0.974726</td>\n",
       "      <td>0.970812</td>\n",
       "      <td>0.977897</td>\n",
       "      <td>0.964744</td>\n",
       "      <td>0.968863</td>\n",
       "      <td>0.967962</td>\n",
       "      <td>0.974071</td>\n",
       "      <td>0.964382</td>\n",
       "      <td>...</td>\n",
       "      <td>0.967887</td>\n",
       "      <td>0.974954</td>\n",
       "      <td>0.970422</td>\n",
       "      <td>0.949962</td>\n",
       "      <td>0.968329</td>\n",
       "      <td>0.977023</td>\n",
       "      <td>1.000000</td>\n",
       "      <td>0.978762</td>\n",
       "      <td>0.977336</td>\n",
       "      <td>0.959331</td>\n",
       "    </tr>\n",
       "    <tr>\n",
       "      <th>654</th>\n",
       "      <td>0.917356</td>\n",
       "      <td>0.979269</td>\n",
       "      <td>0.981476</td>\n",
       "      <td>0.978836</td>\n",
       "      <td>0.987746</td>\n",
       "      <td>0.977249</td>\n",
       "      <td>0.976780</td>\n",
       "      <td>0.976687</td>\n",
       "      <td>0.983877</td>\n",
       "      <td>0.977521</td>\n",
       "      <td>...</td>\n",
       "      <td>0.983758</td>\n",
       "      <td>0.977940</td>\n",
       "      <td>0.981081</td>\n",
       "      <td>0.955068</td>\n",
       "      <td>0.980240</td>\n",
       "      <td>0.991736</td>\n",
       "      <td>0.978762</td>\n",
       "      <td>1.000000</td>\n",
       "      <td>0.993751</td>\n",
       "      <td>0.973894</td>\n",
       "    </tr>\n",
       "    <tr>\n",
       "      <th>664</th>\n",
       "      <td>0.930106</td>\n",
       "      <td>0.979273</td>\n",
       "      <td>0.985208</td>\n",
       "      <td>0.974926</td>\n",
       "      <td>0.993049</td>\n",
       "      <td>0.976032</td>\n",
       "      <td>0.982777</td>\n",
       "      <td>0.976597</td>\n",
       "      <td>0.982344</td>\n",
       "      <td>0.982795</td>\n",
       "      <td>...</td>\n",
       "      <td>0.983680</td>\n",
       "      <td>0.973120</td>\n",
       "      <td>0.988273</td>\n",
       "      <td>0.956637</td>\n",
       "      <td>0.988647</td>\n",
       "      <td>0.991745</td>\n",
       "      <td>0.977336</td>\n",
       "      <td>0.993751</td>\n",
       "      <td>1.000000</td>\n",
       "      <td>0.974557</td>\n",
       "    </tr>\n",
       "    <tr>\n",
       "      <th>665</th>\n",
       "      <td>0.903008</td>\n",
       "      <td>0.954240</td>\n",
       "      <td>0.967124</td>\n",
       "      <td>0.951942</td>\n",
       "      <td>0.976520</td>\n",
       "      <td>0.948660</td>\n",
       "      <td>0.962269</td>\n",
       "      <td>0.937813</td>\n",
       "      <td>0.964187</td>\n",
       "      <td>0.967379</td>\n",
       "      <td>...</td>\n",
       "      <td>0.962619</td>\n",
       "      <td>0.955417</td>\n",
       "      <td>0.954341</td>\n",
       "      <td>0.924420</td>\n",
       "      <td>0.960054</td>\n",
       "      <td>0.977560</td>\n",
       "      <td>0.959331</td>\n",
       "      <td>0.973894</td>\n",
       "      <td>0.974557</td>\n",
       "      <td>1.000000</td>\n",
       "    </tr>\n",
       "  </tbody>\n",
       "</table>\n",
       "<p>5 rows × 59 columns</p>\n",
       "</div>"
      ],
      "text/plain": [
       "userId       15        19        23        30        48        56        73   \\\n",
       "userId                                                                         \n",
       "615     0.913701  0.986879  0.977971  0.976351  0.990701  0.986844  0.977249   \n",
       "624     0.933455  0.973056  0.974726  0.970812  0.977897  0.964744  0.968863   \n",
       "654     0.917356  0.979269  0.981476  0.978836  0.987746  0.977249  0.976780   \n",
       "664     0.930106  0.979273  0.985208  0.974926  0.993049  0.976032  0.982777   \n",
       "665     0.903008  0.954240  0.967124  0.951942  0.976520  0.948660  0.962269   \n",
       "\n",
       "userId       102       105       119    ...          580       587       596  \\\n",
       "userId                                  ...                                    \n",
       "615     0.977529  0.981156  0.975449    ...     0.984180  0.982973  0.984113   \n",
       "624     0.967962  0.974071  0.964382    ...     0.967887  0.974954  0.970422   \n",
       "654     0.976687  0.983877  0.977521    ...     0.983758  0.977940  0.981081   \n",
       "664     0.976597  0.982344  0.982795    ...     0.983680  0.973120  0.988273   \n",
       "665     0.937813  0.964187  0.967379    ...     0.962619  0.955417  0.954341   \n",
       "\n",
       "userId       605       607       615       624       654       664       665  \n",
       "userId                                                                        \n",
       "615     0.945157  0.979301  1.000000  0.977023  0.991736  0.991745  0.977560  \n",
       "624     0.949962  0.968329  0.977023  1.000000  0.978762  0.977336  0.959331  \n",
       "654     0.955068  0.980240  0.991736  0.978762  1.000000  0.993751  0.973894  \n",
       "664     0.956637  0.988647  0.991745  0.977336  0.993751  1.000000  0.974557  \n",
       "665     0.924420  0.960054  0.977560  0.959331  0.973894  0.974557  1.000000  \n",
       "\n",
       "[5 rows x 59 columns]"
      ]
     },
     "execution_count": 34,
     "metadata": {},
     "output_type": "execute_result"
    }
   ],
   "source": [
    "# test code - similarity_matrix\n",
    "sm_df = similarity_matrix(user_df, cosine_similarity)\n",
    "sm_df.tail()"
   ]
  },
  {
   "cell_type": "code",
   "execution_count": 75,
   "metadata": {},
   "outputs": [],
   "source": [
    "def mean_score(user_df, sm_df, target, closer_count):\n",
    "    \n",
    "    sms_df = sm_df.drop(target)\n",
    "    sms_df.sort_values(target, ascending=False)\n",
    "    sms_df = sms_df[target][:closer_count]\n",
    "    \n",
    "    smsw_df = user_df.loc[sms_df.index]\n",
    "    \n",
    "    ms_df = pd.DataFrame(columns=user_df.columns)\n",
    "    ms_df.loc['user'] = user_df.loc[target]\n",
    "    ms_df.loc['mean'] = smsw_df.mean()\n",
    "    \n",
    "    return ms_df"
   ]
  },
  {
   "cell_type": "code",
   "execution_count": 76,
   "metadata": {},
   "outputs": [
    {
     "data": {
      "text/html": [
       "<div>\n",
       "<style scoped>\n",
       "    .dataframe tbody tr th:only-of-type {\n",
       "        vertical-align: middle;\n",
       "    }\n",
       "\n",
       "    .dataframe tbody tr th {\n",
       "        vertical-align: top;\n",
       "    }\n",
       "\n",
       "    .dataframe thead th {\n",
       "        text-align: right;\n",
       "    }\n",
       "</style>\n",
       "<table border=\"1\" class=\"dataframe\">\n",
       "  <thead>\n",
       "    <tr style=\"text-align: right;\">\n",
       "      <th>movieId</th>\n",
       "      <th>1</th>\n",
       "      <th>2</th>\n",
       "      <th>6</th>\n",
       "      <th>10</th>\n",
       "      <th>25</th>\n",
       "      <th>32</th>\n",
       "      <th>34</th>\n",
       "      <th>36</th>\n",
       "      <th>39</th>\n",
       "      <th>47</th>\n",
       "      <th>...</th>\n",
       "      <th>6377</th>\n",
       "      <th>6539</th>\n",
       "      <th>6874</th>\n",
       "      <th>7153</th>\n",
       "      <th>7361</th>\n",
       "      <th>7438</th>\n",
       "      <th>8961</th>\n",
       "      <th>33794</th>\n",
       "      <th>58559</th>\n",
       "      <th>79132</th>\n",
       "    </tr>\n",
       "  </thead>\n",
       "  <tbody>\n",
       "    <tr>\n",
       "      <th>user</th>\n",
       "      <td>4.0</td>\n",
       "      <td>3.50</td>\n",
       "      <td>0.0</td>\n",
       "      <td>0.0</td>\n",
       "      <td>0.00</td>\n",
       "      <td>0.0</td>\n",
       "      <td>3.0</td>\n",
       "      <td>0.00</td>\n",
       "      <td>0.00</td>\n",
       "      <td>0.00</td>\n",
       "      <td>...</td>\n",
       "      <td>4.00</td>\n",
       "      <td>4.00</td>\n",
       "      <td>0.00</td>\n",
       "      <td>4.0</td>\n",
       "      <td>4.5</td>\n",
       "      <td>0.0</td>\n",
       "      <td>3.5</td>\n",
       "      <td>0.0</td>\n",
       "      <td>4.00</td>\n",
       "      <td>4.0</td>\n",
       "    </tr>\n",
       "    <tr>\n",
       "      <th>mean</th>\n",
       "      <td>2.6</td>\n",
       "      <td>1.25</td>\n",
       "      <td>2.7</td>\n",
       "      <td>2.0</td>\n",
       "      <td>2.25</td>\n",
       "      <td>2.6</td>\n",
       "      <td>2.4</td>\n",
       "      <td>2.25</td>\n",
       "      <td>1.45</td>\n",
       "      <td>4.05</td>\n",
       "      <td>...</td>\n",
       "      <td>1.85</td>\n",
       "      <td>1.95</td>\n",
       "      <td>1.85</td>\n",
       "      <td>2.5</td>\n",
       "      <td>1.9</td>\n",
       "      <td>1.6</td>\n",
       "      <td>1.3</td>\n",
       "      <td>1.9</td>\n",
       "      <td>1.45</td>\n",
       "      <td>1.4</td>\n",
       "    </tr>\n",
       "  </tbody>\n",
       "</table>\n",
       "<p>2 rows × 149 columns</p>\n",
       "</div>"
      ],
      "text/plain": [
       "movieId  1      2      6      10     25     32     34     36     39     47     \\\n",
       "user       4.0   3.50    0.0    0.0   0.00    0.0    3.0   0.00   0.00   0.00   \n",
       "mean       2.6   1.25    2.7    2.0   2.25    2.6    2.4   2.25   1.45   4.05   \n",
       "\n",
       "movieId  ...    6377   6539   6874   7153   7361   7438   8961   33794  58559  \\\n",
       "user     ...     4.00   4.00   0.00    4.0    4.5    0.0    3.5    0.0   4.00   \n",
       "mean     ...     1.85   1.95   1.85    2.5    1.9    1.6    1.3    1.9   1.45   \n",
       "\n",
       "movieId  79132  \n",
       "user       4.0  \n",
       "mean       1.4  \n",
       "\n",
       "[2 rows x 149 columns]"
      ]
     },
     "execution_count": 76,
     "metadata": {},
     "output_type": "execute_result"
    }
   ],
   "source": [
    "# test code - mean_score\n",
    "ms_df = mean_score(user_df, sm_df, 48, 10)\n",
    "ms_df"
   ]
  },
  {
   "cell_type": "markdown",
   "metadata": {},
   "source": [
    "## 6. Recommend func"
   ]
  },
  {
   "cell_type": "code",
   "execution_count": 56,
   "metadata": {},
   "outputs": [],
   "source": [
    "def recommend(ms_df):\n",
    "    recommend_df = ms_df.T\n",
    "    recommend_df = recommend_df[recommend_df['user'] == 0]\n",
    "    recommend_df = recommend_df.sort_values('mean', ascending=False)\n",
    "    \n",
    "    return recommend_df, list(recommend_df.index)"
   ]
  },
  {
   "cell_type": "code",
   "execution_count": 70,
   "metadata": {},
   "outputs": [
    {
     "name": "stdout",
     "output_type": "stream",
     "text": [
      "[1208, 1213, 50, 1198, 1196, 1193, 1221, 260, 1036, 47]\n"
     ]
    },
    {
     "data": {
      "text/html": [
       "<div>\n",
       "<style scoped>\n",
       "    .dataframe tbody tr th:only-of-type {\n",
       "        vertical-align: middle;\n",
       "    }\n",
       "\n",
       "    .dataframe tbody tr th {\n",
       "        vertical-align: top;\n",
       "    }\n",
       "\n",
       "    .dataframe thead th {\n",
       "        text-align: right;\n",
       "    }\n",
       "</style>\n",
       "<table border=\"1\" class=\"dataframe\">\n",
       "  <thead>\n",
       "    <tr style=\"text-align: right;\">\n",
       "      <th></th>\n",
       "      <th>user</th>\n",
       "      <th>mean</th>\n",
       "    </tr>\n",
       "    <tr>\n",
       "      <th>movieId</th>\n",
       "      <th></th>\n",
       "      <th></th>\n",
       "    </tr>\n",
       "  </thead>\n",
       "  <tbody>\n",
       "    <tr>\n",
       "      <th>1208</th>\n",
       "      <td>0.0</td>\n",
       "      <td>4.70</td>\n",
       "    </tr>\n",
       "    <tr>\n",
       "      <th>1213</th>\n",
       "      <td>0.0</td>\n",
       "      <td>4.40</td>\n",
       "    </tr>\n",
       "    <tr>\n",
       "      <th>50</th>\n",
       "      <td>0.0</td>\n",
       "      <td>4.30</td>\n",
       "    </tr>\n",
       "    <tr>\n",
       "      <th>1198</th>\n",
       "      <td>0.0</td>\n",
       "      <td>4.25</td>\n",
       "    </tr>\n",
       "    <tr>\n",
       "      <th>1196</th>\n",
       "      <td>0.0</td>\n",
       "      <td>4.25</td>\n",
       "    </tr>\n",
       "  </tbody>\n",
       "</table>\n",
       "</div>"
      ],
      "text/plain": [
       "         user  mean\n",
       "movieId            \n",
       "1208      0.0  4.70\n",
       "1213      0.0  4.40\n",
       "50        0.0  4.30\n",
       "1198      0.0  4.25\n",
       "1196      0.0  4.25"
      ]
     },
     "execution_count": 70,
     "metadata": {},
     "output_type": "execute_result"
    }
   ],
   "source": [
    "# test code - recommend\n",
    "recommend_df, recommend_list = recommend(ms_df)\n",
    "print(recommend_list[:10])\n",
    "recommend_df.head()"
   ]
  },
  {
   "cell_type": "markdown",
   "metadata": {},
   "source": [
    "## 7. MAE"
   ]
  },
  {
   "cell_type": "code",
   "execution_count": 71,
   "metadata": {},
   "outputs": [],
   "source": [
    "def mae(value, pred):\n",
    "    idx = value.nonzero()[0]\n",
    "    value, pred = np.array(value)[idx], np.array(pred)[idx]\n",
    "    \n",
    "    idx = pred.nonzero()[0]\n",
    "    value, pred = np.array(value)[idx], np.array(pred)[idx]\n",
    "    \n",
    "    return sum(np.abs(value - pred)) / len(idx)"
   ]
  },
  {
   "cell_type": "code",
   "execution_count": 72,
   "metadata": {},
   "outputs": [
    {
     "data": {
      "text/plain": [
       "1.34453125"
      ]
     },
     "execution_count": 72,
     "metadata": {},
     "output_type": "execute_result"
    }
   ],
   "source": [
    "# test code - MAE\n",
    "mae(ms_df.loc['user'], ms_df.loc['mean'])"
   ]
  },
  {
   "cell_type": "code",
   "execution_count": 63,
   "metadata": {},
   "outputs": [],
   "source": [
    "def evaluate (user_df, sm_df, closer_count, algorithm):\n",
    "    users = user_df.index\n",
    "    evaluate_list = []\n",
    "    \n",
    "    for target in users:\n",
    "        pred_df = mean_score(user_df, sm_df, target, closer_count)\n",
    "        evaluate_list.append(algorithm(pred_df.loc['user'], pred_df.loc['mean']))\n",
    "        \n",
    "    return np.average(evaluate_list)"
   ]
  },
  {
   "cell_type": "code",
   "execution_count": 65,
   "metadata": {},
   "outputs": [
    {
     "data": {
      "text/plain": [
       "1.2550454175330121"
      ]
     },
     "execution_count": 65,
     "metadata": {},
     "output_type": "execute_result"
    }
   ],
   "source": [
    "# test code - evaluate\n",
    "evaluate(user_df, sm_df, 10, mae)"
   ]
  },
  {
   "cell_type": "code",
   "execution_count": 68,
   "metadata": {},
   "outputs": [
    {
     "name": "stdout",
     "output_type": "stream",
     "text": [
      "2 1.3814250858071688\n",
      "3 1.275097639817603\n",
      "4 1.2094074821105159\n",
      "5 1.3050461778620523\n",
      "6 1.3246275766991435\n",
      "7 1.2311636621195423\n",
      "8 1.2761566957251878\n",
      "9 1.2561241235115717\n",
      "10 1.2550454175330121\n",
      "11 1.2542228170235707\n",
      "12 1.275346215307806\n",
      "13 1.2993443322828602\n",
      "14 1.3391508570106374\n",
      "15 1.3562680703092493\n",
      "16 1.3471410085424833\n",
      "17 1.3686166965787816\n",
      "18 1.3682563528865233\n",
      "19 1.3813134350455234\n",
      "20 1.384239580756688\n",
      "21 1.354592796537474\n",
      "22 1.3661788048874124\n",
      "23 1.3895042667894872\n",
      "24 1.4195456927761512\n",
      "25 1.4196079861436561\n",
      "26 1.4275149304242982\n",
      "27 1.434993448370625\n",
      "28 1.429677818535073\n",
      "29 1.4265488855275679\n",
      "30 1.422003306822126\n"
     ]
    }
   ],
   "source": [
    "start, end = 2, 30\n",
    "\n",
    "for closer_count in range(start, end+1):\n",
    "    print(closer_count, evaluate(user_df, sm_df, closer_count, mae))"
   ]
  },
  {
   "cell_type": "code",
   "execution_count": null,
   "metadata": {},
   "outputs": [],
   "source": []
  }
 ],
 "metadata": {
  "kernelspec": {
   "display_name": "Python 3",
   "language": "python",
   "name": "python3"
  },
  "language_info": {
   "codemirror_mode": {
    "name": "ipython",
    "version": 3
   },
   "file_extension": ".py",
   "mimetype": "text/x-python",
   "name": "python",
   "nbconvert_exporter": "python",
   "pygments_lexer": "ipython3",
   "version": "3.6.4"
  }
 },
 "nbformat": 4,
 "nbformat_minor": 2
}
