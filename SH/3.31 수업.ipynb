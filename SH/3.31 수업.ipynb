{
 "cells": [
  {
   "cell_type": "code",
   "execution_count": 33,
   "metadata": {},
   "outputs": [],
   "source": [
    "%matplotlib inline"
   ]
  },
  {
   "cell_type": "markdown",
   "metadata": {},
   "source": [
    "# 다항 분포 나이브 베이즈 모형"
   ]
  },
  {
   "cell_type": "markdown",
   "metadata": {},
   "source": [
    "실수를 사용해도 상관이 없다"
   ]
  },
  {
   "cell_type": "code",
   "execution_count": 7,
   "metadata": {},
   "outputs": [],
   "source": [
    "from sklearn.datasets import load_digits\n",
    "from sklearn.naive_bayes import MultinomialNB"
   ]
  },
  {
   "cell_type": "code",
   "execution_count": 2,
   "metadata": {},
   "outputs": [],
   "source": [
    "digits = load_digits()"
   ]
  },
  {
   "cell_type": "code",
   "execution_count": 4,
   "metadata": {},
   "outputs": [],
   "source": [
    "X = digits.data\n",
    "y = digits.target"
   ]
  },
  {
   "cell_type": "code",
   "execution_count": 8,
   "metadata": {},
   "outputs": [],
   "source": [
    "model = MultinomialNB().fit(X, y)"
   ]
  },
  {
   "cell_type": "code",
   "execution_count": 9,
   "metadata": {},
   "outputs": [
    {
     "data": {
      "text/plain": [
       "array([0, 1, 2, 3, 4, 5, 6, 7, 8, 9])"
      ]
     },
     "execution_count": 9,
     "metadata": {},
     "output_type": "execute_result"
    }
   ],
   "source": [
    "model.classes_"
   ]
  },
  {
   "cell_type": "code",
   "execution_count": 10,
   "metadata": {},
   "outputs": [
    {
     "data": {
      "text/plain": [
       "array([178., 182., 177., 183., 181., 182., 181., 179., 174., 180.])"
      ]
     },
     "execution_count": 10,
     "metadata": {},
     "output_type": "execute_result"
    }
   ],
   "source": [
    "model.class_count_"
   ]
  },
  {
   "cell_type": "code",
   "execution_count": 12,
   "metadata": {},
   "outputs": [
    {
     "data": {
      "text/plain": [
       "array([[0.000e+00, 4.000e+00, 7.450e+02, 2.331e+03, 2.011e+03, 5.210e+02,\n",
       "        6.000e+00, 0.000e+00, 0.000e+00, 1.580e+02, 2.239e+03, 2.380e+03,\n",
       "        2.046e+03, 2.025e+03, 1.720e+02, 0.000e+00, 0.000e+00, 6.640e+02,\n",
       "        2.541e+03, 9.370e+02, 3.740e+02, 2.166e+03, 6.270e+02, 0.000e+00,\n",
       "        0.000e+00, 9.420e+02, 2.263e+03, 3.550e+02, 2.500e+01, 1.613e+03,\n",
       "        1.148e+03, 0.000e+00, 0.000e+00, 1.045e+03, 2.057e+03, 1.590e+02,\n",
       "        8.000e+00, 1.562e+03, 1.268e+03, 0.000e+00, 0.000e+00, 6.220e+02,\n",
       "        2.365e+03, 2.940e+02, 2.730e+02, 2.013e+03, 1.042e+03, 0.000e+00,\n",
       "        0.000e+00, 1.420e+02, 2.324e+03, 1.773e+03, 1.842e+03, 2.359e+03,\n",
       "        4.300e+02, 0.000e+00, 0.000e+00, 1.000e+00, 7.400e+02, 2.414e+03,\n",
       "        2.372e+03, 9.680e+02, 4.900e+01, 0.000e+00],\n",
       "       [0.000e+00, 2.000e+00, 4.470e+02, 1.676e+03, 1.894e+03, 1.106e+03,\n",
       "        1.810e+02, 0.000e+00, 0.000e+00, 1.700e+01, 7.400e+02, 2.323e+03,\n",
       "        2.538e+03, 1.537e+03, 2.190e+02, 0.000e+00, 2.000e+00, 2.010e+02,\n",
       "        1.284e+03, 2.704e+03, 2.578e+03, 1.345e+03, 1.270e+02, 0.000e+00,\n",
       "        1.000e+00, 3.870e+02, 1.652e+03, 2.600e+03, 2.523e+03, 1.138e+03,\n",
       "        6.700e+01, 0.000e+00, 0.000e+00, 2.100e+02, 1.243e+03, 2.160e+03,\n",
       "        2.492e+03, 1.010e+03, 6.600e+01, 0.000e+00, 0.000e+00, 7.900e+01,\n",
       "        9.420e+02, 1.872e+03, 2.441e+03, 1.070e+03, 6.400e+01, 0.000e+00,\n",
       "        0.000e+00, 2.100e+01, 8.640e+02, 1.992e+03, 2.471e+03, 1.400e+03,\n",
       "        3.730e+02, 1.170e+02, 0.000e+00, 1.000e+00, 4.080e+02, 1.663e+03,\n",
       "        2.371e+03, 1.561e+03, 5.550e+02, 2.720e+02],\n",
       "       [0.000e+00, 1.650e+02, 1.711e+03, 2.511e+03, 1.704e+03, 4.220e+02,\n",
       "        1.900e+01, 0.000e+00, 2.000e+00, 9.340e+02, 2.444e+03, 2.143e+03,\n",
       "        2.223e+03, 9.740e+02, 7.400e+01, 0.000e+00, 1.000e+00, 8.030e+02,\n",
       "        1.389e+03, 8.040e+02, 2.053e+03, 1.050e+03, 8.300e+01, 0.000e+00,\n",
       "        0.000e+00, 1.520e+02, 3.070e+02, 8.390e+02, 2.141e+03, 7.850e+02,\n",
       "        4.400e+01, 0.000e+00, 0.000e+00, 1.100e+01, 2.170e+02, 1.551e+03,\n",
       "        1.857e+03, 4.020e+02, 1.100e+01, 0.000e+00, 0.000e+00, 1.020e+02,\n",
       "        9.480e+02, 2.099e+03, 1.286e+03, 3.640e+02, 1.700e+02, 3.000e+00,\n",
       "        3.000e+00, 2.510e+02, 1.979e+03, 2.527e+03, 2.129e+03, 1.883e+03,\n",
       "        1.271e+03, 1.260e+02, 1.000e+00, 1.670e+02, 1.787e+03, 2.472e+03,\n",
       "        2.322e+03, 2.088e+03, 1.420e+03, 3.420e+02],\n",
       "       [0.000e+00, 1.180e+02, 1.535e+03, 2.593e+03, 2.603e+03, 1.369e+03,\n",
       "        1.440e+02, 1.000e+00, 2.000e+00, 7.700e+02, 2.316e+03, 1.645e+03,\n",
       "        2.065e+03, 2.195e+03, 3.860e+02, 3.000e+00, 1.000e+00, 4.070e+02,\n",
       "        6.780e+02, 5.690e+02, 2.201e+03, 1.706e+03, 1.490e+02, 0.000e+00,\n",
       "        0.000e+00, 5.400e+01, 2.670e+02, 1.636e+03, 2.612e+03, 1.026e+03,\n",
       "        1.500e+01, 0.000e+00, 0.000e+00, 1.100e+01, 1.920e+02, 1.032e+03,\n",
       "        2.205e+03, 2.064e+03, 4.020e+02, 0.000e+00, 0.000e+00, 7.800e+01,\n",
       "        2.560e+02, 1.770e+02, 8.070e+02, 2.221e+03, 1.156e+03, 0.000e+00,\n",
       "        0.000e+00, 1.590e+02, 1.302e+03, 1.140e+03, 1.512e+03, 2.382e+03,\n",
       "        1.085e+03, 1.200e+01, 0.000e+00, 9.200e+01, 1.705e+03, 2.681e+03,\n",
       "        2.557e+03, 1.587e+03, 2.580e+02, 1.200e+01],\n",
       "       [0.000e+00, 0.000e+00, 8.200e+01, 1.277e+03, 2.081e+03, 3.640e+02,\n",
       "        3.800e+01, 2.300e+01, 0.000e+00, 1.100e+01, 6.290e+02, 2.401e+03,\n",
       "        1.530e+03, 3.710e+02, 2.070e+02, 5.400e+01, 0.000e+00, 1.310e+02,\n",
       "        1.896e+03, 2.064e+03, 8.840e+02, 1.048e+03, 6.960e+02, 6.100e+01,\n",
       "        1.000e+00, 8.400e+02, 2.622e+03, 1.150e+03, 1.331e+03, 1.924e+03,\n",
       "        1.110e+03, 4.000e+00, 0.000e+00, 1.553e+03, 2.640e+03, 1.758e+03,\n",
       "        2.356e+03, 2.525e+03, 9.600e+02, 0.000e+00, 1.600e+01, 1.140e+03,\n",
       "        2.039e+03, 2.245e+03, 2.646e+03, 1.889e+03, 2.910e+02, 0.000e+00,\n",
       "        1.000e+01, 1.970e+02, 5.270e+02, 1.415e+03, 2.435e+03, 7.530e+02,\n",
       "        4.000e+00, 0.000e+00, 0.000e+00, 4.000e+00, 1.000e+02, 1.414e+03,\n",
       "        2.138e+03, 3.540e+02, 0.000e+00, 0.000e+00],\n",
       "       [0.000e+00, 1.760e+02, 1.817e+03, 2.373e+03, 2.529e+03, 2.217e+03,\n",
       "        7.540e+02, 8.000e+00, 1.000e+00, 7.090e+02, 2.694e+03, 2.190e+03,\n",
       "        1.500e+03, 1.134e+03, 3.850e+02, 6.000e+00, 0.000e+00, 1.017e+03,\n",
       "        2.611e+03, 1.037e+03, 3.510e+02, 1.060e+02, 1.000e+01, 0.000e+00,\n",
       "        0.000e+00, 9.770e+02, 2.606e+03, 2.191e+03, 1.633e+03, 7.570e+02,\n",
       "        7.000e+01, 0.000e+00, 0.000e+00, 3.530e+02, 1.393e+03, 1.534e+03,\n",
       "        1.608e+03, 1.390e+03, 3.300e+02, 0.000e+00, 0.000e+00, 4.600e+01,\n",
       "        2.300e+02, 6.680e+02, 1.345e+03, 1.488e+03, 4.330e+02, 0.000e+00,\n",
       "        0.000e+00, 1.510e+02, 1.050e+03, 1.490e+03, 1.973e+03, 1.333e+03,\n",
       "        2.430e+02, 0.000e+00, 0.000e+00, 1.740e+02, 1.941e+03, 2.682e+03,\n",
       "        1.704e+03, 4.610e+02, 3.600e+01, 0.000e+00],\n",
       "       [0.000e+00, 0.000e+00, 2.060e+02, 2.021e+03, 1.735e+03, 2.620e+02,\n",
       "        2.000e+00, 0.000e+00, 0.000e+00, 6.000e+00, 1.291e+03, 2.628e+03,\n",
       "        1.123e+03, 1.590e+02, 9.000e+00, 0.000e+00, 0.000e+00, 1.340e+02,\n",
       "        2.267e+03, 1.724e+03, 1.690e+02, 1.900e+01, 1.000e+00, 0.000e+00,\n",
       "        0.000e+00, 4.190e+02, 2.479e+03, 1.468e+03, 7.030e+02, 3.670e+02,\n",
       "        2.500e+01, 0.000e+00, 0.000e+00, 6.480e+02, 2.668e+03, 2.331e+03,\n",
       "        2.178e+03, 1.871e+03, 5.130e+02, 0.000e+00, 0.000e+00, 3.490e+02,\n",
       "        2.658e+03, 1.940e+03, 1.012e+03, 1.832e+03, 1.668e+03, 4.200e+01,\n",
       "        0.000e+00, 3.500e+01, 1.877e+03, 2.292e+03, 1.003e+03, 2.041e+03,\n",
       "        1.951e+03, 9.500e+01, 0.000e+00, 0.000e+00, 2.600e+02, 1.934e+03,\n",
       "        2.732e+03, 2.361e+03, 8.110e+02, 1.700e+01],\n",
       "       [0.000e+00, 3.000e+01, 9.130e+02, 2.338e+03, 2.550e+03, 1.974e+03,\n",
       "        9.290e+02, 1.790e+02, 0.000e+00, 1.960e+02, 1.885e+03, 2.096e+03,\n",
       "        1.999e+03, 2.227e+03, 9.590e+02, 1.090e+02, 0.000e+00, 1.460e+02,\n",
       "        8.650e+02, 4.150e+02, 1.269e+03, 2.016e+03, 5.690e+02, 2.100e+01,\n",
       "        0.000e+00, 1.100e+02, 7.780e+02, 1.119e+03, 2.172e+03, 2.208e+03,\n",
       "        9.060e+02, 0.000e+00, 0.000e+00, 2.660e+02, 1.624e+03, 2.406e+03,\n",
       "        2.643e+03, 2.036e+03, 7.900e+02, 0.000e+00, 0.000e+00, 2.010e+02,\n",
       "        9.750e+02, 2.102e+03, 1.942e+03, 6.940e+02, 1.100e+02, 0.000e+00,\n",
       "        0.000e+00, 1.800e+01, 5.570e+02, 2.213e+03, 1.051e+03, 3.300e+01,\n",
       "        0.000e+00, 0.000e+00, 0.000e+00, 2.200e+01, 1.144e+03, 2.087e+03,\n",
       "        3.950e+02, 2.000e+00, 0.000e+00, 0.000e+00],\n",
       "       [0.000e+00, 2.500e+01, 8.740e+02, 2.019e+03, 2.158e+03, 1.085e+03,\n",
       "        9.200e+01, 0.000e+00, 5.000e+00, 3.440e+02, 2.138e+03, 1.995e+03,\n",
       "        1.625e+03, 2.025e+03, 4.380e+02, 0.000e+00, 1.000e+00, 5.130e+02,\n",
       "        2.015e+03, 1.295e+03, 1.379e+03, 2.032e+03, 3.740e+02, 0.000e+00,\n",
       "        0.000e+00, 2.050e+02, 1.488e+03, 2.300e+03, 2.318e+03, 1.221e+03,\n",
       "        8.900e+01, 0.000e+00, 0.000e+00, 7.700e+01, 1.214e+03, 2.441e+03,\n",
       "        2.248e+03, 7.570e+02, 1.800e+01, 0.000e+00, 0.000e+00, 2.010e+02,\n",
       "        1.859e+03, 1.482e+03, 1.593e+03, 1.476e+03, 2.240e+02, 0.000e+00,\n",
       "        0.000e+00, 1.730e+02, 1.909e+03, 1.407e+03, 1.459e+03, 1.660e+03,\n",
       "        4.030e+02, 1.000e+00, 0.000e+00, 2.500e+01, 8.710e+02, 2.209e+03,\n",
       "        2.264e+03, 1.172e+03, 2.100e+02, 2.000e+00],\n",
       "       [0.000e+00, 2.600e+01, 1.023e+03, 2.130e+03, 2.026e+03, 1.070e+03,\n",
       "        2.830e+02, 2.200e+01, 0.000e+00, 4.380e+02, 2.281e+03, 1.726e+03,\n",
       "        1.823e+03, 2.045e+03, 4.690e+02, 2.200e+01, 0.000e+00, 6.590e+02,\n",
       "        2.250e+03, 1.017e+03, 1.497e+03, 2.540e+03, 5.780e+02, 8.000e+00,\n",
       "        0.000e+00, 3.520e+02, 1.875e+03, 2.194e+03, 2.381e+03, 2.531e+03,\n",
       "        6.910e+02, 0.000e+00, 0.000e+00, 3.000e+01, 5.300e+02, 9.300e+02,\n",
       "        9.170e+02, 2.096e+03, 8.700e+02, 0.000e+00, 0.000e+00, 2.800e+01,\n",
       "        9.400e+01, 1.100e+02, 4.420e+02, 1.754e+03, 1.053e+03, 4.000e+00,\n",
       "        0.000e+00, 1.190e+02, 1.101e+03, 8.930e+02, 1.046e+03, 1.895e+03,\n",
       "        9.340e+02, 2.000e+01, 0.000e+00, 1.600e+01, 1.031e+03, 2.168e+03,\n",
       "        2.366e+03, 1.601e+03, 3.770e+02, 1.000e+01]])"
      ]
     },
     "execution_count": 12,
     "metadata": {},
     "output_type": "execute_result"
    }
   ],
   "source": [
    "fc = model.feature_count_\n",
    "fc"
   ]
  },
  {
   "cell_type": "code",
   "execution_count": 14,
   "metadata": {},
   "outputs": [
    {
     "data": {
      "text/plain": [
       "array([[1.77056959e-05, 8.85284796e-05, 1.32084492e-02, 4.12896829e-02,\n",
       "        3.56238602e-02, 9.24237327e-03, 1.23939871e-04, 1.77056959e-05,\n",
       "        1.77056959e-05, 2.81520565e-03, 3.96607589e-02, 4.21572620e-02,\n",
       "        3.62435596e-02, 3.58717399e-02, 3.06308539e-03, 1.77056959e-05,\n",
       "        1.77056959e-05, 1.17742878e-02, 4.50078790e-02, 1.66079428e-02,\n",
       "        6.63963597e-03, 3.83682431e-02, 1.11191770e-02, 1.77056959e-05,\n",
       "        1.77056959e-05, 1.66964713e-02, 4.00856956e-02, 6.30322775e-03,\n",
       "        4.60348094e-04, 2.85769932e-02, 2.03438446e-02, 1.77056959e-05,\n",
       "        1.77056959e-05, 1.85201579e-02, 3.64383222e-02, 2.83291135e-03,\n",
       "        1.59351263e-04, 2.76740027e-02, 2.24685281e-02, 1.77056959e-05,\n",
       "        1.77056959e-05, 1.10306486e-02, 4.18916766e-02, 5.22318030e-03,\n",
       "        4.85136068e-03, 3.56592716e-02, 1.84670408e-02, 1.77056959e-05,\n",
       "        1.77056959e-05, 2.53191452e-03, 4.11657430e-02, 3.14099046e-02,\n",
       "        3.26315976e-02, 4.17854424e-02, 7.63115494e-03, 1.77056959e-05,\n",
       "        1.77056959e-05, 3.54113918e-05, 1.31199207e-02, 4.27592557e-02,\n",
       "        4.20156164e-02, 1.71568193e-02, 8.85284796e-04, 1.77056959e-05],\n",
       "       [1.75220340e-05, 5.25661019e-05, 7.84987121e-03, 2.93844509e-02,\n",
       "        3.32042543e-02, 1.93968916e-02, 3.18901018e-03, 1.75220340e-05,\n",
       "        1.75220340e-05, 3.15396611e-04, 1.29838272e-02, 4.07212069e-02,\n",
       "        4.44884442e-02, 2.69488882e-02, 3.85484747e-03, 1.75220340e-05,\n",
       "        5.25661019e-05, 3.53945086e-03, 2.25158136e-02, 4.73971019e-02,\n",
       "        4.51893256e-02, 2.35846577e-02, 2.24282035e-03, 1.75220340e-05,\n",
       "        3.50440679e-05, 6.79854918e-03, 2.89639221e-02, 4.55748103e-02,\n",
       "        4.42256137e-02, 1.99575967e-02, 1.19149831e-03, 1.75220340e-05,\n",
       "        1.75220340e-05, 3.69714917e-03, 2.17974102e-02, 3.78651154e-02,\n",
       "        4.36824307e-02, 1.77147763e-02, 1.17397628e-03, 1.75220340e-05,\n",
       "        1.75220340e-05, 1.40176272e-03, 1.65232780e-02, 3.28187696e-02,\n",
       "        4.27888069e-02, 1.87660984e-02, 1.13893221e-03, 1.75220340e-05,\n",
       "        1.75220340e-05, 3.85484747e-04, 1.51565594e-02, 3.49214137e-02,\n",
       "        4.33144679e-02, 2.45483696e-02, 6.55324070e-03, 2.06760001e-03,\n",
       "        1.75220340e-05, 3.50440679e-05, 7.16651189e-03, 2.91566645e-02,\n",
       "        4.15622645e-02, 2.73694170e-02, 9.74225088e-03, 4.78351527e-03],\n",
       "       [1.79759123e-05, 2.98400144e-03, 3.07747618e-02, 4.51554916e-02,\n",
       "        3.06489304e-02, 7.60381089e-03, 3.59518246e-04, 1.79759123e-05,\n",
       "        5.39277368e-05, 1.68074780e-02, 4.39511055e-02, 3.85403559e-02,\n",
       "        3.99784289e-02, 1.75265145e-02, 1.34819342e-03, 1.79759123e-05,\n",
       "        3.59518246e-05, 1.44526335e-02, 2.49865181e-02, 1.44706094e-02,\n",
       "        3.69225238e-02, 1.88926838e-02, 1.50997663e-03, 1.79759123e-05,\n",
       "        1.79759123e-05, 2.75031458e-03, 5.53658098e-03, 1.50997663e-02,\n",
       "        3.85044041e-02, 1.41290671e-02, 8.08916052e-04, 1.79759123e-05,\n",
       "        1.79759123e-05, 2.15710947e-04, 3.91874888e-03, 2.78986159e-02,\n",
       "        3.33992450e-02, 7.24429265e-03, 2.15710947e-04, 1.79759123e-05,\n",
       "        1.79759123e-05, 1.85151896e-03, 1.70591408e-02, 3.77494158e-02,\n",
       "        2.31349991e-02, 6.56120798e-03, 3.07388100e-03, 7.19036491e-05,\n",
       "        7.19036491e-05, 4.52992989e-03, 3.55923063e-02, 4.54431062e-02,\n",
       "        3.82886932e-02, 3.38666187e-02, 2.28653604e-02, 2.28294086e-03,\n",
       "        3.59518246e-05, 3.01995326e-03, 3.21409312e-02, 4.44544311e-02,\n",
       "        4.17580442e-02, 3.75516807e-02, 2.55437713e-02, 6.16573791e-03],\n",
       "       [1.77888464e-05, 2.11687272e-03, 2.73236681e-02, 4.61442675e-02,\n",
       "        4.63221560e-02, 2.43707196e-02, 2.57938273e-03, 3.55776928e-05,\n",
       "        5.33665392e-05, 1.37152006e-02, 4.12167571e-02, 2.92804412e-02,\n",
       "        3.67517566e-02, 3.90643067e-02, 6.88428355e-03, 7.11553856e-05,\n",
       "        3.55776928e-05, 7.25784933e-03, 1.20786267e-02, 1.01396424e-02,\n",
       "        3.91710398e-02, 3.03655608e-02, 2.66832696e-03, 1.77888464e-05,\n",
       "        1.77888464e-05, 9.78386552e-04, 4.76741083e-03, 2.91203415e-02,\n",
       "        4.64822556e-02, 1.82691452e-02, 2.84621542e-04, 1.77888464e-05,\n",
       "        1.77888464e-05, 2.13466157e-04, 3.43324735e-03, 1.83758783e-02,\n",
       "        3.92421951e-02, 3.67339678e-02, 7.16890510e-03, 1.77888464e-05,\n",
       "        1.77888464e-05, 1.40531887e-03, 4.57173352e-03, 3.16641466e-03,\n",
       "        1.43733879e-02, 3.95268167e-02, 2.05816953e-02, 1.77888464e-05,\n",
       "        1.77888464e-05, 2.84621542e-03, 2.31788669e-02, 2.02970737e-02,\n",
       "        2.69145246e-02, 4.23908210e-02, 1.93186872e-02, 2.31255003e-04,\n",
       "        1.77888464e-05, 1.65436271e-03, 3.03477719e-02, 4.77096860e-02,\n",
       "        4.55038691e-02, 2.82486881e-02, 4.60731122e-03, 2.31255003e-04],\n",
       "       [1.77610429e-05, 1.77610429e-05, 1.47416656e-03, 2.26986129e-02,\n",
       "        3.69784914e-02, 6.48278067e-03, 6.92680674e-04, 4.26265030e-04,\n",
       "        1.77610429e-05, 2.13132515e-04, 1.11894570e-02, 4.26620251e-02,\n",
       "        2.71921567e-02, 6.60710797e-03, 3.69429693e-03, 9.76857361e-04,\n",
       "        1.77610429e-05, 2.34445767e-03, 3.36926984e-02, 3.66765536e-02,\n",
       "        1.57185230e-02, 1.86313340e-02, 1.23794469e-02, 1.10118466e-03,\n",
       "        3.55220859e-05, 1.49370371e-02, 4.65872156e-02, 2.04429604e-02,\n",
       "        2.36577092e-02, 3.41900076e-02, 1.97325187e-02, 8.88052146e-05,\n",
       "        1.77610429e-05, 2.76006607e-02, 4.69069144e-02, 3.12416745e-02,\n",
       "        4.18627782e-02, 4.48643944e-02, 1.70683623e-02, 1.77610429e-05,\n",
       "        3.01937730e-04, 2.02653500e-02, 3.62325276e-02, 3.98913024e-02,\n",
       "        4.70134806e-02, 3.35683711e-02, 5.18622454e-03, 1.77610429e-05,\n",
       "        1.95371472e-04, 3.51668650e-03, 9.37783067e-03, 2.51496368e-02,\n",
       "        4.32659006e-02, 1.33918264e-02, 8.88052146e-05, 1.77610429e-05,\n",
       "        1.77610429e-05, 8.88052146e-05, 1.79386534e-03, 2.51318757e-02,\n",
       "        3.79908708e-02, 6.30517024e-03, 1.77610429e-05, 1.77610429e-05],\n",
       "       [1.78638418e-05, 3.16190000e-03, 3.24764644e-02, 4.24087604e-02,\n",
       "        4.51955197e-02, 3.96220011e-02, 1.34872006e-02, 1.60774576e-04,\n",
       "        3.57276836e-05, 1.26833277e-02, 4.81430536e-02, 3.91396774e-02,\n",
       "        2.68136265e-02, 2.02754604e-02, 6.89544293e-03, 1.25046893e-04,\n",
       "        1.78638418e-05, 1.81853910e-02, 4.66603548e-02, 1.85426678e-02,\n",
       "        6.28807231e-03, 1.91143107e-03, 1.96502260e-04, 1.78638418e-05,\n",
       "        1.78638418e-05, 1.74708373e-02, 4.65710356e-02, 3.91575412e-02,\n",
       "        2.91895175e-02, 1.35407921e-02, 1.26833277e-03, 1.78638418e-05,\n",
       "        1.78638418e-05, 6.32380000e-03, 2.49021955e-02, 2.74209972e-02,\n",
       "        2.87429215e-02, 2.48486039e-02, 5.91293164e-03, 1.78638418e-05,\n",
       "        1.78638418e-05, 8.39600564e-04, 4.12654746e-03, 1.19509102e-02,\n",
       "        2.40447311e-02, 2.65992604e-02, 7.75290734e-03, 1.78638418e-05,\n",
       "        1.78638418e-05, 2.71530395e-03, 1.87748977e-02, 2.66349881e-02,\n",
       "        3.52632237e-02, 2.38303650e-02, 4.35877740e-03, 1.78638418e-05,\n",
       "        1.78638418e-05, 3.12617231e-03, 3.46915808e-02, 4.79286875e-02,\n",
       "        3.04578503e-02, 8.25309491e-03, 6.60962147e-04, 1.78638418e-05],\n",
       "       [1.77304965e-05, 1.77304965e-05, 3.67021277e-03, 3.58510638e-02,\n",
       "        3.07801418e-02, 4.66312057e-03, 5.31914894e-05, 1.77304965e-05,\n",
       "        1.77304965e-05, 1.24113475e-04, 2.29078014e-02, 4.66134752e-02,\n",
       "        1.99290780e-02, 2.83687943e-03, 1.77304965e-04, 1.77304965e-05,\n",
       "        1.77304965e-05, 2.39361702e-03, 4.02127660e-02, 3.05851064e-02,\n",
       "        3.01418440e-03, 3.54609929e-04, 3.54609929e-05, 1.77304965e-05,\n",
       "        1.77304965e-05, 7.44680851e-03, 4.39716312e-02, 2.60460993e-02,\n",
       "        1.24822695e-02, 6.52482270e-03, 4.60992908e-04, 1.77304965e-05,\n",
       "        1.77304965e-05, 1.15070922e-02, 4.73226950e-02, 4.13475177e-02,\n",
       "        3.86347518e-02, 3.31914894e-02, 9.11347518e-03, 1.77304965e-05,\n",
       "        1.77304965e-05, 6.20567376e-03, 4.71453901e-02, 3.44148936e-02,\n",
       "        1.79609929e-02, 3.25000000e-02, 2.95921986e-02, 7.62411348e-04,\n",
       "        1.77304965e-05, 6.38297872e-04, 3.32978723e-02, 4.06560284e-02,\n",
       "        1.78014184e-02, 3.62056738e-02, 3.46099291e-02, 1.70212766e-03,\n",
       "        1.77304965e-05, 1.77304965e-05, 4.62765957e-03, 3.43085106e-02,\n",
       "        4.84574468e-02, 4.18794326e-02, 1.43971631e-02, 3.19148936e-04],\n",
       "       [1.83982485e-05, 5.70345703e-04, 1.68159991e-02, 4.30335032e-02,\n",
       "        4.69339319e-02, 3.63365408e-02, 1.71103711e-02, 3.31168473e-03,\n",
       "        1.83982485e-05, 3.62445495e-03, 3.46990966e-02, 3.85811271e-02,\n",
       "        3.67964970e-02, 4.09912976e-02, 1.76623185e-02, 2.02380733e-03,\n",
       "        1.83982485e-05, 2.70454253e-03, 1.59328832e-02, 7.65367137e-03,\n",
       "        2.33657756e-02, 3.71092672e-02, 1.04870016e-02, 4.04761467e-04,\n",
       "        1.83982485e-05, 2.04220558e-03, 1.43322356e-02, 2.06060383e-02,\n",
       "        3.99793940e-02, 4.06417309e-02, 1.66872114e-02, 1.83982485e-05,\n",
       "        1.83982485e-05, 4.91233235e-03, 2.98971538e-02, 4.42845841e-02,\n",
       "        4.86449690e-02, 3.74772322e-02, 1.45530146e-02, 1.83982485e-05,\n",
       "        1.83982485e-05, 3.71644619e-03, 1.79566905e-02, 3.86915166e-02,\n",
       "        3.57477968e-02, 1.27867827e-02, 2.04220558e-03, 1.83982485e-05,\n",
       "        1.83982485e-05, 3.49566721e-04, 1.02662227e-02, 4.07337221e-02,\n",
       "        1.93549574e-02, 6.25540449e-04, 1.83982485e-05, 1.83982485e-05,\n",
       "        1.83982485e-05, 4.23159715e-04, 2.10659945e-02, 3.84155428e-02,\n",
       "        7.28570640e-03, 5.51947455e-05, 1.83982485e-05, 1.83982485e-05],\n",
       "       [1.73997773e-05, 4.52394209e-04, 1.52248051e-02, 3.51475501e-02,\n",
       "        3.75661192e-02, 1.88961581e-02, 1.61817929e-03, 1.73997773e-05,\n",
       "        1.04398664e-04, 6.00292316e-03, 3.72181236e-02, 3.47299555e-02,\n",
       "        2.82920379e-02, 3.52519488e-02, 7.63850223e-03, 1.73997773e-05,\n",
       "        3.47995546e-05, 8.94348552e-03, 3.50779510e-02, 2.25501114e-02,\n",
       "        2.40116927e-02, 3.53737472e-02, 6.52491648e-03, 1.73997773e-05,\n",
       "        1.73997773e-05, 3.58435412e-03, 2.59082684e-02, 4.00368875e-02,\n",
       "        4.03500835e-02, 2.12625278e-02, 1.56597996e-03, 1.73997773e-05,\n",
       "        1.73997773e-05, 1.35718263e-03, 2.11407294e-02, 4.24902561e-02,\n",
       "        3.91320991e-02, 1.31890312e-02, 3.30595768e-04, 1.73997773e-05,\n",
       "        1.73997773e-05, 3.51475501e-03, 3.23635857e-02, 2.58038697e-02,\n",
       "        2.77352450e-02, 2.56994710e-02, 3.91494989e-03, 1.73997773e-05,\n",
       "        1.73997773e-05, 3.02756125e-03, 3.32335746e-02, 2.44988864e-02,\n",
       "        2.54036748e-02, 2.89010301e-02, 7.02951002e-03, 3.47995546e-05,\n",
       "        1.73997773e-05, 4.52394209e-04, 1.51726058e-02, 3.84535078e-02,\n",
       "        3.94104955e-02, 2.04099388e-02, 3.67135301e-03, 5.21993318e-05],\n",
       "       [1.77129092e-05, 4.78248548e-04, 1.81380190e-02, 3.77462094e-02,\n",
       "        3.59040669e-02, 1.89705257e-02, 5.03046620e-03, 4.07396911e-04,\n",
       "        1.77129092e-05, 7.77596712e-03, 4.04208587e-02, 3.05901941e-02,\n",
       "        3.23083463e-02, 3.62406122e-02, 8.32506731e-03, 4.07396911e-04,\n",
       "        1.77129092e-05, 1.16905201e-02, 3.98717585e-02, 1.80317415e-02,\n",
       "        2.65339379e-02, 4.50085022e-02, 1.02557744e-02, 1.59416183e-04,\n",
       "        1.77129092e-05, 6.25265694e-03, 3.32294176e-02, 3.88798356e-02,\n",
       "        4.21921496e-02, 4.48490860e-02, 1.22573331e-02, 1.77129092e-05,\n",
       "        1.77129092e-05, 5.49100184e-04, 9.40555477e-03, 1.64907184e-02,\n",
       "        1.62604506e-02, 3.71439705e-02, 1.54279439e-02, 1.77129092e-05,\n",
       "        1.77129092e-05, 5.13674366e-04, 1.68272637e-03, 1.96613292e-03,\n",
       "        7.84681876e-03, 3.10861556e-02, 1.86694063e-02, 8.85645458e-05,\n",
       "        1.77129092e-05, 2.12554910e-03, 1.95196259e-02, 1.58353408e-02,\n",
       "        1.85454159e-02, 3.35836758e-02, 1.65615701e-02, 3.71971093e-04,\n",
       "        1.77129092e-05, 3.01119456e-04, 1.82797223e-02, 3.84193000e-02,\n",
       "        4.19264560e-02, 2.83760805e-02, 6.69547967e-03, 1.94842001e-04]])"
      ]
     },
     "execution_count": 14,
     "metadata": {},
     "output_type": "execute_result"
    }
   ],
   "source": [
    "theta = np.exp(model.feature_log_prob_)\n",
    "theta"
   ]
  },
  {
   "cell_type": "markdown",
   "metadata": {},
   "source": [
    "# 뉴스 그룹 분류"
   ]
  },
  {
   "cell_type": "markdown",
   "metadata": {},
   "source": [
    "만약 x 값이 실수 변수, 1/0 값을 가지는 변수, 일정 변수 집합이 특정한 분포를 이루는 변수들이 섞여 있다면 어떻게 풀어야 하는가?"
   ]
  },
  {
   "cell_type": "markdown",
   "metadata": {},
   "source": [
    "# 나이브 베이즈 분류 모형을 이용한 감성 분석"
   ]
  },
  {
   "cell_type": "markdown",
   "metadata": {},
   "source": [
    "# 엔트로피"
   ]
  },
  {
   "cell_type": "markdown",
   "metadata": {},
   "source": [
    "## 엔트로피의 정의"
   ]
  },
  {
   "cell_type": "markdown",
   "metadata": {},
   "source": [
    "# 의사 결정 나무"
   ]
  },
  {
   "cell_type": "markdown",
   "metadata": {},
   "source": [
    "# Scikit-Learn의 의사 결정 나무 클래스\n",
    " - DecisionTreeRegressor 도 가능"
   ]
  },
  {
   "cell_type": "code",
   "execution_count": 15,
   "metadata": {},
   "outputs": [],
   "source": [
    "from sklearn.datasets import load_iris"
   ]
  },
  {
   "cell_type": "code",
   "execution_count": 34,
   "metadata": {},
   "outputs": [],
   "source": [
    "iris = load_iris()\n",
    "X = iris.data[:, [0, 3]]\n",
    "y = iris.target"
   ]
  },
  {
   "cell_type": "code",
   "execution_count": 35,
   "metadata": {},
   "outputs": [],
   "source": [
    "from sklearn.tree import DecisionTreeClassifier\n",
    "from sklearn.tree import export_graphviz\n",
    "import io\n",
    "from IPython.core.display import Image \n",
    "tree1 = DecisionTreeClassifier(criterion='entropy', max_depth=1, random_state=0).fit(X,y)"
   ]
  },
  {
   "cell_type": "code",
   "execution_count": 36,
   "metadata": {},
   "outputs": [],
   "source": [
    "def draw_decision_tree(model):\n",
    "    dot_buf = io.StringIO() \n",
    "    export_graphviz(model, out_file=dot_buf, feature_names=iris.feature_names[2:])\n",
    "    graph = pydot.graph_from_dot_data(dot_buf.getvalue())[0] \n",
    "    image = graph.create_png()\n",
    "    return Image(image)\n",
    "\n",
    "\n",
    "def plot_decision_regions(X, y, model, title):\n",
    "    resolution = 0.01\n",
    "    markers = ('s', '^', 'o')\n",
    "    colors = ('red', 'blue', 'lightgreen')\n",
    "    cmap = mpl.colors.ListedColormap(colors[:len(np.unique(y))])\n",
    "    \n",
    "    x1_min, x1_max = X[:, 0].min() - 1, X[:, 0].max() + 1\n",
    "    x2_min, x2_max = X[:, 1].min() - 1, X[:, 1].max() + 1\n",
    "    xx1, xx2 = np.meshgrid(np.arange(x1_min, x1_max, resolution), np.arange(x2_min, x2_max, resolution))\n",
    "    Z = model.predict(np.array([xx1.ravel(), xx2.ravel()]).T).reshape(xx1.shape)\n",
    "    \n",
    "    plt.contour(xx1, xx2, Z, cmap=mpl.colors.ListedColormap(['k']))\n",
    "    plt.contourf(xx1, xx2, Z, alpha=0.4, cmap=cmap)\n",
    "    plt.xlim(xx1.min(), xx1.max())\n",
    "    plt.ylim(xx2.min(), xx2.max())\n",
    "\n",
    "    for idx, cl in enumerate(np.unique(y)):\n",
    "        plt.scatter(x=X[y == cl, 0], y=X[y == cl, 1], alpha=0.8, c=cmap(idx), marker=markers[idx], s=80, label=cl)\n",
    "\n",
    "    plt.xlabel(iris.feature_names[2])\n",
    "    plt.ylabel(iris.feature_names[3])\n",
    "    plt.legend(loc='upper left')\n",
    "    plt.title(title)\n",
    "    \n",
    "    return Z"
   ]
  },
  {
   "cell_type": "code",
   "execution_count": 37,
   "metadata": {},
   "outputs": [
    {
     "data": {
      "image/png": "[encoded data removed]",
      "text/plain": [
       "<matplotlib.figure.Figure at 0x24e91329d30>"
      ]
     },
     "metadata": {
      "image/png": {
       "height": 277,
       "width": 389
      }
     },
     "output_type": "display_data"
    }
   ],
   "source": [
    "plot_decision_regions(X, y, tree1, \"depth 1\")\n",
    "plt.show()"
   ]
  },
  {
   "cell_type": "markdown",
   "metadata": {},
   "source": [
    "# 모형 결합의 기초\n",
    " - overfitting 방지\n",
    " - 성능이 좋아지는 경우가 있다.\n",
    " - 취합 방법론 : 똑같은 문제를 풀고, 취합\n",
    "  - 다수결\n",
    "  - 배깅\n",
    "  - 랜덤 포레스트\n",
    " - 부스팅 방법론: 모델들의 목표가 서로 다르다. 역할을 분담해서 문제 해결\n",
    " "
   ]
  },
  {
   "cell_type": "markdown",
   "metadata": {},
   "source": [
    "## 다수결 방법\n",
    " - hard voting\n",
    " - soft voting"
   ]
  },
  {
   "cell_type": "markdown",
   "metadata": {},
   "source": [
    "## 모형 결합을 사용한 성능 향상\n",
    " - 모델이 독립적이어야 한다. (모델의 답들이 달라야 한다.)\n",
    " - weak classifier라도 50점 이상의 성능은 나와야 한다.\n",
    " - 하나하나의 모델을 만들 때 대강 만들고, aggregation해서 성능을 좋게 만들자."
   ]
  },
  {
   "cell_type": "markdown",
   "metadata": {},
   "source": [
    "## 배깅\n",
    " - pasting\n",
    " - bagging\n",
    " - random subspaces\n",
    " - random patches"
   ]
  },
  {
   "cell_type": "markdown",
   "metadata": {},
   "source": [
    "## 랜덤 포레스트\n",
    " - Decision Tree를 개별 모형으로 사용하는 모형 결합 방법\n",
    " - 노드별로 다른 독립변수를 사용할 수 있다.\n",
    " - extremly randomized trees이 아닌 경우 맨 앞의 노드는 항상 같은 독립변수가 뽑힌다.\n",
    " - extremly randomized tree에서 feature importance를 뽑을 수 있다."
   ]
  },
  {
   "cell_type": "code",
   "execution_count": null,
   "metadata": {},
   "outputs": [],
   "source": []
  }
 ],
 "metadata": {
  "kernelspec": {
   "display_name": "Python 3",
   "language": "python",
   "name": "python3"
  },
  "language_info": {
   "codemirror_mode": {
    "name": "ipython",
    "version": 3
   },
   "file_extension": ".py",
   "mimetype": "text/x-python",
   "name": "python",
   "nbconvert_exporter": "python",
   "pygments_lexer": "ipython3",
   "version": "3.6.4"
  }
 },
 "nbformat": 4,
 "nbformat_minor": 2
}
