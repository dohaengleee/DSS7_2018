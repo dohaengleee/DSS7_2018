{
 "cells": [
  {
   "cell_type": "markdown",
   "metadata": {},
   "source": [
    "##### pdb\n",
    "- jupyter notebook debug\n",
    "- https://pypi.python.org/pypi/ipdb\n",
    "- http://frid.github.io/blog/2014/06/05/python-ipdb-cheatsheet/"
   ]
  },
  {
   "cell_type": "code",
   "execution_count": 11,
   "metadata": {
    "scrolled": true
   },
   "outputs": [],
   "source": [
    "import ipdb"
   ]
  },
  {
   "cell_type": "code",
   "execution_count": 7,
   "metadata": {
    "collapsed": true
   },
   "outputs": [],
   "source": [
    "# h : help\n",
    "# q : quit\n",
    "# n : next line\n",
    "# u : one level up"
   ]
  },
  {
   "cell_type": "code",
   "execution_count": 12,
   "metadata": {
    "collapsed": true
   },
   "outputs": [],
   "source": [
    "def test(total=0, start=1, end=3):\n",
    "    for idx in range(start, end):\n",
    "        ipdb.set_trace()\n",
    "        total += idx\n",
    "        print(idx, total)\n",
    "    return idx, total"
   ]
  },
  {
   "cell_type": "code",
   "execution_count": null,
   "metadata": {},
   "outputs": [
    {
     "name": "stdout",
     "output_type": "stream",
     "text": [
      "> <ipython-input-12-00ec6b960f05>(4)test()\n",
      "      3         ipdb.set_trace()\n",
      "----> 4         total += idx\n",
      "      5         print(idx, total)\n",
      "\n",
      "ipdb> n\n",
      "> <ipython-input-12-00ec6b960f05>(5)test()\n",
      "      4         total += idx\n",
      "----> 5         print(idx, total)\n",
      "      6     return idx, total\n",
      "\n",
      "ipdb> n\n",
      "1 1\n",
      "> <ipython-input-12-00ec6b960f05>(2)test()\n",
      "      1 def test(total=0, start=1, end=3):\n",
      "----> 2     for idx in range(start, end):\n",
      "      3         ipdb.set_trace()\n",
      "\n",
      "ipdb> n\n",
      "> <ipython-input-12-00ec6b960f05>(3)test()\n",
      "      2     for idx in range(start, end):\n",
      "----> 3         ipdb.set_trace()\n",
      "      4         total += idx\n",
      "\n",
      "ipdb> n\n",
      "> <ipython-input-12-00ec6b960f05>(4)test()\n",
      "      3         ipdb.set_trace()\n",
      "----> 4         total += idx\n",
      "      5         print(idx, total)\n",
      "\n",
      "ipdb> n\n",
      "> <ipython-input-12-00ec6b960f05>(5)test()\n",
      "      4         total += idx\n",
      "----> 5         print(idx, total)\n",
      "      6     return idx, total\n",
      "\n",
      "ipdb> n\n",
      "2 3\n",
      "> <ipython-input-12-00ec6b960f05>(2)test()\n",
      "      1 def test(total=0, start=1, end=3):\n",
      "----> 2     for idx in range(start, end):\n",
      "      3         ipdb.set_trace()\n",
      "\n",
      "ipdb> 3\n",
      "3\n",
      "ipdb> n\n",
      "> <ipython-input-12-00ec6b960f05>(6)test()\n",
      "      4         total += idx\n",
      "      5         print(idx, total)\n",
      "----> 6     return idx, total\n",
      "\n",
      "ipdb> 3\n",
      "3\n",
      "ipdb> n\n",
      "--Return--\n",
      "(2, 3)\n",
      "> <ipython-input-12-00ec6b960f05>(6)test()\n",
      "      4         total += idx\n",
      "      5         print(idx, total)\n",
      "----> 6     return idx, total\n",
      "\n",
      "ipdb> n\n",
      "--Call--\n",
      "> c:\\users\\dohan\\anaconda3\\lib\\site-packages\\ipython\\core\\displayhook.py(247)__call__()\n",
      "    246 \n",
      "--> 247     def __call__(self, result=None):\n",
      "    248         \"\"\"Printing with history cache management.\n",
      "\n",
      "ipdb> n\n",
      "> c:\\users\\dohan\\anaconda3\\lib\\site-packages\\ipython\\core\\displayhook.py(253)__call__()\n",
      "    252         \"\"\"\n",
      "--> 253         self.check_for_underscore()\n",
      "    254         if result is not None and not self.quiet():\n",
      "\n"
     ]
    }
   ],
   "source": [
    "test()"
   ]
  },
  {
   "cell_type": "code",
   "execution_count": null,
   "metadata": {
    "collapsed": true
   },
   "outputs": [],
   "source": []
  }
 ],
 "metadata": {
  "kernelspec": {
   "display_name": "Python 3",
   "language": "python",
   "name": "python3"
  },
  "language_info": {
   "codemirror_mode": {
    "name": "ipython",
    "version": 3
   },
   "file_extension": ".py",
   "mimetype": "text/x-python",
   "name": "python",
   "nbconvert_exporter": "python",
   "pygments_lexer": "ipython3",
   "version": "3.6.1"
  }
 },
 "nbformat": 4,
 "nbformat_minor": 2
}
