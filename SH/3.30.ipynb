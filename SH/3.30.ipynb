{
 "cells": [
  {
   "cell_type": "code",
   "execution_count": 1,
   "metadata": {},
   "outputs": [],
   "source": [
    "%matplotlib inline"
   ]
  },
  {
   "cell_type": "markdown",
   "metadata": {},
   "source": [
    "# NLTK 자연어 처리 패키지"
   ]
  },
  {
   "cell_type": "code",
   "execution_count": 1,
   "metadata": {},
   "outputs": [],
   "source": [
    "import nltk"
   ]
  },
  {
   "cell_type": "markdown",
   "metadata": {},
   "source": [
    "# 말뭉치"
   ]
  },
  {
   "cell_type": "code",
   "execution_count": 2,
   "metadata": {
    "scrolled": true
   },
   "outputs": [
    {
     "data": {
      "text/plain": [
       "['austen-emma.txt',\n",
       " 'austen-persuasion.txt',\n",
       " 'austen-sense.txt',\n",
       " 'bible-kjv.txt',\n",
       " 'blake-poems.txt',\n",
       " 'bryant-stories.txt',\n",
       " 'burgess-busterbrown.txt',\n",
       " 'carroll-alice.txt',\n",
       " 'chesterton-ball.txt',\n",
       " 'chesterton-brown.txt',\n",
       " 'chesterton-thursday.txt',\n",
       " 'edgeworth-parents.txt',\n",
       " 'melville-moby_dick.txt',\n",
       " 'milton-paradise.txt',\n",
       " 'shakespeare-caesar.txt',\n",
       " 'shakespeare-hamlet.txt',\n",
       " 'shakespeare-macbeth.txt',\n",
       " 'whitman-leaves.txt']"
      ]
     },
     "execution_count": 2,
     "metadata": {},
     "output_type": "execute_result"
    }
   ],
   "source": [
    "nltk.corpus.gutenberg.fileids()"
   ]
  },
  {
   "cell_type": "code",
   "execution_count": 13,
   "metadata": {},
   "outputs": [
    {
     "name": "stdout",
     "output_type": "stream",
     "text": [
      "[Emma by Jane Austen 1816]\n",
      "\n",
      "VOLUME I\n",
      "\n",
      "CHAPTER I\n",
      "\n",
      "\n",
      "Emma Woodhouse, handsome, clever, and rich, with a comfortable home\n",
      "and happy disposition, seemed to unite some of the best blessings\n",
      "of existence; and had lived nearly twenty-one years in the world\n",
      "with very little to distress or vex her.\n",
      "\n",
      "She was the youngest of the two daughters of a most affectionate,\n",
      "indulgent father; and had, in consequence of her sister's marriage,\n",
      "been mistress of his house from a very early period.  Her mother\n",
      "had died too long ago for her to have more than an indistinct\n",
      "remembrance of her caresses; and her place had been supplied\n",
      "by an excellent woman as governess, who had fallen little short\n",
      "of a mother in affection.\n",
      "\n",
      "Sixteen years had Miss Taylor been in Mr. Woodhouse's family,\n",
      "less as a governess than a friend, very fond of both daughters,\n",
      "but particularly of Emma.  Between _them_ it was more the intimacy\n",
      "of sisters.  Even before Miss Taylor had ceased to hold the nominal\n",
      "office of governess, the mildness of her temper had hardly allowed\n",
      "her to impose any restraint; and the shadow of authority being\n",
      "now long passed away, they had been living together as friend and\n",
      "friend very mutually attached, and Emma doing just what she liked;\n",
      "highly esteeming Miss Taylor's judgment, but directed chiefly by\n",
      "her own.\n",
      "\n"
     ]
    }
   ],
   "source": [
    "emma_raw = nltk.corpus.gutenberg.raw(\"austen-emma.txt\")\n",
    "print(emma_raw[:1302])"
   ]
  },
  {
   "cell_type": "markdown",
   "metadata": {},
   "source": [
    "# 토큰 생성"
   ]
  },
  {
   "cell_type": "code",
   "execution_count": 14,
   "metadata": {},
   "outputs": [
    {
     "name": "stdout",
     "output_type": "stream",
     "text": [
      "Sixteen years had Miss Taylor been in Mr. Woodhouse's family,\n",
      "less as a governess than a friend, very fond of both daughters,\n",
      "but particularly of Emma.\n"
     ]
    }
   ],
   "source": [
    "from nltk.tokenize import sent_tokenize\n",
    "print(sent_tokenize(emma_raw[:1000])[3])"
   ]
  },
  {
   "cell_type": "code",
   "execution_count": 15,
   "metadata": {},
   "outputs": [
    {
     "data": {
      "text/plain": [
       "['Emma',\n",
       " 'Woodhouse',\n",
       " ',',\n",
       " 'handsome',\n",
       " ',',\n",
       " 'clever',\n",
       " ',',\n",
       " 'and',\n",
       " 'rich',\n",
       " ',',\n",
       " 'with',\n",
       " 'a']"
      ]
     },
     "execution_count": 15,
     "metadata": {},
     "output_type": "execute_result"
    }
   ],
   "source": [
    "from nltk.tokenize import word_tokenize\n",
    "word_tokenize(emma_raw[50:100])"
   ]
  },
  {
   "cell_type": "code",
   "execution_count": 16,
   "metadata": {},
   "outputs": [
    {
     "data": {
      "text/plain": [
       "['Emma', 'Woodhouse', 'handsome', 'clever', 'and', 'rich', 'with', 'a']"
      ]
     },
     "execution_count": 16,
     "metadata": {},
     "output_type": "execute_result"
    }
   ],
   "source": [
    "from nltk.tokenize import RegexpTokenizer\n",
    "t = RegexpTokenizer(\"[\\w]+\")\n",
    "t.tokenize(emma_raw[50:100])"
   ]
  },
  {
   "cell_type": "markdown",
   "metadata": {},
   "source": [
    "## tokenizer 함수\n",
    " - 문자열을 받아서 문자열 token의 list를 출력\n",
    " - list안의 문자는 token을 의미"
   ]
  },
  {
   "cell_type": "markdown",
   "metadata": {},
   "source": [
    "# 형태소 분석(morpheme)"
   ]
  },
  {
   "cell_type": "markdown",
   "metadata": {},
   "source": [
    "## 어간 추출(stemming)과 원형 복원"
   ]
  },
  {
   "cell_type": "code",
   "execution_count": 17,
   "metadata": {},
   "outputs": [],
   "source": [
    "words = ['lives', 'dies', 'flies', 'died']"
   ]
  },
  {
   "cell_type": "code",
   "execution_count": 18,
   "metadata": {},
   "outputs": [
    {
     "data": {
      "text/plain": [
       "['live', 'die', 'fli', 'die']"
      ]
     },
     "execution_count": 18,
     "metadata": {},
     "output_type": "execute_result"
    }
   ],
   "source": [
    "from nltk.stem import PorterStemmer\n",
    "st = PorterStemmer()\n",
    "[st.stem(w) for w in words]"
   ]
  },
  {
   "cell_type": "code",
   "execution_count": 19,
   "metadata": {},
   "outputs": [
    {
     "data": {
      "text/plain": [
       "['liv', 'die', 'fli', 'died']"
      ]
     },
     "execution_count": 19,
     "metadata": {},
     "output_type": "execute_result"
    }
   ],
   "source": [
    "from nltk.stem import LancasterStemmer\n",
    "st = LancasterStemmer()\n",
    "[st.stem(w) for w in words]"
   ]
  },
  {
   "cell_type": "code",
   "execution_count": 20,
   "metadata": {},
   "outputs": [
    {
     "data": {
      "text/plain": [
       "['life', 'dy', 'fly', 'died']"
      ]
     },
     "execution_count": 20,
     "metadata": {},
     "output_type": "execute_result"
    }
   ],
   "source": [
    "from nltk.stem import WordNetLemmatizer\n",
    "lm = WordNetLemmatizer()\n",
    "[lm.lemmatize(w) for w in words]"
   ]
  },
  {
   "cell_type": "code",
   "execution_count": 21,
   "metadata": {},
   "outputs": [
    {
     "data": {
      "text/plain": [
       "'die'"
      ]
     },
     "execution_count": 21,
     "metadata": {},
     "output_type": "execute_result"
    }
   ],
   "source": [
    "lm.lemmatize(\"died\", pos=\"v\")"
   ]
  },
  {
   "cell_type": "markdown",
   "metadata": {},
   "source": [
    "# POS tagging"
   ]
  },
  {
   "cell_type": "code",
   "execution_count": 12,
   "metadata": {},
   "outputs": [
    {
     "data": {
      "text/plain": [
       "[('volume', 'NN'),\n",
       " ('I', 'PRP'),\n",
       " ('chapter', 'VBP'),\n",
       " ('1', 'CD'),\n",
       " ('I', 'PRP'),\n",
       " ('am', 'VBP'),\n",
       " ('a', 'DT'),\n",
       " ('boy', 'NN'),\n",
       " ('.', '.')]"
      ]
     },
     "execution_count": 12,
     "metadata": {},
     "output_type": "execute_result"
    }
   ],
   "source": [
    "from nltk.tag import pos_tag\n",
    "x = [\"volume\", \"I\", \"chapter\", \"1\", \"I\", \"am\", \"a\", \"boy\", \".\"]\n",
    "tagged_list = pos_tag(x)\n",
    "tagged_list"
   ]
  },
  {
   "cell_type": "code",
   "execution_count": 6,
   "metadata": {},
   "outputs": [],
   "source": [
    "def tokenizer(doc):\n",
    "    return [\"/\".join(p) for p in pos_tag(doc)]"
   ]
  },
  {
   "cell_type": "code",
   "execution_count": 7,
   "metadata": {
    "scrolled": true
   },
   "outputs": [
    {
     "data": {
      "text/plain": [
       "['volume/NN',\n",
       " 'I/PRP',\n",
       " 'chapter/VBP',\n",
       " '1/CD',\n",
       " 'I/PRP',\n",
       " 'am/VBP',\n",
       " 'a/DT',\n",
       " 'boy/NN',\n",
       " './.']"
      ]
     },
     "execution_count": 7,
     "metadata": {},
     "output_type": "execute_result"
    }
   ],
   "source": [
    "tokenizer(x)"
   ]
  },
  {
   "cell_type": "markdown",
   "metadata": {},
   "source": [
    "# KoNLPy 한국어 처리 패키지"
   ]
  },
  {
   "cell_type": "markdown",
   "metadata": {},
   "source": [
    "## 형태소 분석"
   ]
  },
  {
   "cell_type": "code",
   "execution_count": 23,
   "metadata": {},
   "outputs": [],
   "source": [
    "from konlpy.tag import *\n",
    "hannanum = Hannanum()\n",
    "kkma = Kkma()\n",
    "twitter = Twitter()"
   ]
  },
  {
   "cell_type": "code",
   "execution_count": 31,
   "metadata": {},
   "outputs": [
    {
     "name": "stdout",
     "output_type": "stream",
     "text": [
      "대한민국헌법\n",
      "\n",
      "유구한 역사와 전통에 빛나는 우리 대한국민은 3·1운동으로 건립된 대한민국임시정부의 법통과 불의에 항거한 4·19민주이념을 계승하고, 조국의 민주개혁과 평화적 통일의\n"
     ]
    }
   ],
   "source": [
    "from konlpy.corpus import kolaw\n",
    "c = kolaw.open('constitution.txt').read()\n",
    "print(c[:100])"
   ]
  },
  {
   "cell_type": "code",
   "execution_count": 32,
   "metadata": {},
   "outputs": [],
   "source": [
    "i = \"안녕하세요? 제 이름은 손흥민입니다. 만나서 반갑습니다.\""
   ]
  },
  {
   "cell_type": "code",
   "execution_count": 24,
   "metadata": {},
   "outputs": [],
   "source": [
    "def tokenizer2(doc):\n",
    "    return [\"/\".join(p) for p in hannanum.pos(doc)]"
   ]
  },
  {
   "cell_type": "code",
   "execution_count": 33,
   "metadata": {},
   "outputs": [
    {
     "data": {
      "text/plain": [
       "['안녕/N',\n",
       " '하/X',\n",
       " '세/E',\n",
       " '요/J',\n",
       " '?/S',\n",
       " '저/N',\n",
       " '의/J',\n",
       " '이름/N',\n",
       " '은/J',\n",
       " '손흥민입니/N',\n",
       " '이/J',\n",
       " '다/E',\n",
       " './S',\n",
       " '만나/P',\n",
       " '아/E',\n",
       " '반갑/P',\n",
       " '습니다/E',\n",
       " './S']"
      ]
     },
     "execution_count": 33,
     "metadata": {},
     "output_type": "execute_result"
    }
   ],
   "source": [
    "tokenizer2(i)"
   ]
  },
  {
   "cell_type": "markdown",
   "metadata": {},
   "source": [
    "# Scikit-Learn의 문서 전처리 기능"
   ]
  },
  {
   "cell_type": "markdown",
   "metadata": {},
   "source": [
    "# BOW(Bag of Words)"
   ]
  },
  {
   "cell_type": "markdown",
   "metadata": {},
   "source": [
    "# Scikit-Learn의 문서 전처리 기능"
   ]
  },
  {
   "cell_type": "markdown",
   "metadata": {},
   "source": [
    "## DictVectorizer"
   ]
  },
  {
   "cell_type": "markdown",
   "metadata": {},
   "source": [
    "## CountVectorizer\n",
    " - 문자열을 넣어주면 tokenizing 후 token list로 바꿔준다.\n",
    " - 빈도수를 세서 BOW 인코딩 벡터로 변환한다."
   ]
  },
  {
   "cell_type": "markdown",
   "metadata": {},
   "source": [
    "# 빈도수\n",
    " - 정수로 받으면 횟수, 실수로 받으면 %로 인식한다.\n",
    " - min_df 너무 빈도수가 적은 단어도 제외할 수 있다."
   ]
  },
  {
   "cell_type": "markdown",
   "metadata": {},
   "source": [
    "# TF-IDF\n",
    " - tf가 크다는 의미는 중요하지 않다는 의미일 수 있다.\n",
    " - 가중치를 줄이기 위해 df로 나눠주는 것 (idf)"
   ]
  },
  {
   "cell_type": "markdown",
   "metadata": {},
   "source": [
    "# Hasing Trick\n",
    " - voca dict를 만들고 나서\n",
    " - 같은단어를 집어 넣으면 같은 숫자가 나와야 한다.\n",
    " - 충돌이 일어날 간가능성이 있다"
   ]
  },
  {
   "cell_type": "code",
   "execution_count": null,
   "metadata": {},
   "outputs": [],
   "source": []
  },
  {
   "cell_type": "markdown",
   "metadata": {},
   "source": [
    "# 나이브 베이즈 분류 모형"
   ]
  },
  {
   "cell_type": "markdown",
   "metadata": {},
   "source": [
    "# 가우시안 정규 분포 likelihood 모형"
   ]
  },
  {
   "cell_type": "markdown",
   "metadata": {},
   "source": [
    "# Scikit-Learn에서 제공하는 나이브 베이즈 모형\n",
    " - class_count_ : 사전확률을 구하기 위해 필요하다"
   ]
  },
  {
   "cell_type": "markdown",
   "metadata": {},
   "source": [
    "## Likelihood 추정 속성\n",
    " - 가우시안 정규분포의 경우, theta_(기댓값 뮤), sigma_(분산)\n",
    " - 베르누이 분포의 경우 세타는 클래스 별로 x1이 몇번 앞면이 나왔는지 세야 한다. (feature_count_)\n",
    " - feature_log_prob_"
   ]
  },
  {
   "cell_type": "markdown",
   "metadata": {},
   "source": [
    "## 가우시안 정규 분포 나이브 베이즈 모형"
   ]
  },
  {
   "cell_type": "code",
   "execution_count": 2,
   "metadata": {},
   "outputs": [],
   "source": [
    "# x가 2차원인 경우\n",
    "np.random.seed(0)\n",
    "rv0 = sp.stats.multivariate_normal([-2, -2], [[1, 0.9], [0.9, 2]])\n",
    "rv1 = sp.stats.multivariate_normal([2, 2], [[1.2, -0.8], [-0.8, 2]])\n",
    "X0 = rv0.rvs(40)\n",
    "X1 = rv1.rvs(60)\n",
    "X = np.vstack([X0, X1])\n",
    "y = np.hstack([np.zeros(40), np.ones(60)])"
   ]
  },
  {
   "cell_type": "code",
   "execution_count": 3,
   "metadata": {},
   "outputs": [
    {
     "data": {
      "image/png": "[encoded data removed]",
      "text/plain": [
       "<matplotlib.figure.Figure at 0x1ef5d83b748>"
      ]
     },
     "metadata": {
      "image/png": {
       "height": 248,
       "width": 367
      }
     },
     "output_type": "display_data"
    }
   ],
   "source": [
    "xx1 = np.linspace(-5, 5, 100)\n",
    "xx2 = np.linspace(-5, 5, 100)\n",
    "XX1, XX2 = np.meshgrid(xx1, xx2)\n",
    "plt.grid(False)\n",
    "plt.contour(XX1, XX2, rv0.pdf(np.dstack([XX1, XX2])), cmap=mpl.cm.cool)\n",
    "plt.contour(XX1, XX2, rv1.pdf(np.dstack([XX1, XX2])), cmap=mpl.cm.hot)\n",
    "plt.scatter(X0[:, 0], X0[:, 1], c='b')\n",
    "plt.scatter(X1[:, 0], X1[:, 1], c='r')\n",
    "plt.axis(\"equal\")\n",
    "plt.show()"
   ]
  },
  {
   "cell_type": "code",
   "execution_count": 4,
   "metadata": {},
   "outputs": [],
   "source": [
    "from sklearn.naive_bayes import GaussianNB\n",
    "model_norm = GaussianNB().fit(X, y)"
   ]
  },
  {
   "cell_type": "code",
   "execution_count": 5,
   "metadata": {},
   "outputs": [
    {
     "data": {
      "text/plain": [
       "array([0., 1.])"
      ]
     },
     "execution_count": 5,
     "metadata": {},
     "output_type": "execute_result"
    }
   ],
   "source": [
    "model_norm.classes_"
   ]
  },
  {
   "cell_type": "code",
   "execution_count": 6,
   "metadata": {},
   "outputs": [
    {
     "data": {
      "text/plain": [
       "array([40., 60.])"
      ]
     },
     "execution_count": 6,
     "metadata": {},
     "output_type": "execute_result"
    }
   ],
   "source": [
    "model_norm.class_count_"
   ]
  },
  {
   "cell_type": "code",
   "execution_count": 7,
   "metadata": {},
   "outputs": [
    {
     "data": {
      "text/plain": [
       "array([0.4, 0.6])"
      ]
     },
     "execution_count": 7,
     "metadata": {},
     "output_type": "execute_result"
    }
   ],
   "source": [
    "model_norm.class_prior_"
   ]
  },
  {
   "cell_type": "code",
   "execution_count": 8,
   "metadata": {},
   "outputs": [
    {
     "data": {
      "text/plain": [
       "(array([-1.96197643, -2.00597903]), array([1.02398854, 2.31390497]))"
      ]
     },
     "execution_count": 8,
     "metadata": {},
     "output_type": "execute_result"
    }
   ],
   "source": [
    "model_norm.theta_[0], model_norm.sigma_[0]"
   ]
  },
  {
   "cell_type": "code",
   "execution_count": 9,
   "metadata": {},
   "outputs": [
    {
     "data": {
      "text/plain": [
       "(array([2.19130701, 2.12626716]), array([1.25429371, 1.93742544]))"
      ]
     },
     "execution_count": 9,
     "metadata": {},
     "output_type": "execute_result"
    }
   ],
   "source": [
    "model_norm.theta_[1], model_norm.sigma_[1]"
   ]
  },
  {
   "cell_type": "code",
   "execution_count": 10,
   "metadata": {},
   "outputs": [
    {
     "data": {
      "image/png": "[encoded data removed]",
      "text/plain": [
       "<matplotlib.figure.Figure at 0x1ef5d840c50>"
      ]
     },
     "metadata": {
      "image/png": {
       "height": 248,
       "width": 367
      }
     },
     "output_type": "display_data"
    }
   ],
   "source": [
    "rv0 = sp.stats.multivariate_normal(model_norm.theta_[0], model_norm.sigma_[0])\n",
    "rv1 = sp.stats.multivariate_normal(model_norm.theta_[1], model_norm.sigma_[1])\n",
    "\n",
    "xx1 = np.linspace(-5, 5, 100)\n",
    "xx2 = np.linspace(-5, 5, 100)\n",
    "XX1, XX2 = np.meshgrid(xx1, xx2)\n",
    "plt.grid(False)\n",
    "plt.contour(XX1, XX2, rv0.pdf(np.dstack([XX1, XX2])), cmap=mpl.cm.cool)\n",
    "plt.contour(XX1, XX2, rv1.pdf(np.dstack([XX1, XX2])), cmap=mpl.cm.hot)\n",
    "plt.scatter(X0[:, 0], X0[:, 1], c='b')\n",
    "plt.scatter(X1[:, 0], X1[:, 1], c='r')\n",
    "plt.axis(\"equal\")\n",
    "plt.show()"
   ]
  },
  {
   "cell_type": "code",
   "execution_count": 11,
   "metadata": {},
   "outputs": [
    {
     "data": {
      "text/plain": [
       "array([[0.98300323, 0.01699677]])"
      ]
     },
     "execution_count": 11,
     "metadata": {},
     "output_type": "execute_result"
    }
   ],
   "source": [
    "x_new = [-0.7, -0.8]\n",
    "model_norm.predict_proba([x_new])"
   ]
  },
  {
   "cell_type": "code",
   "execution_count": 12,
   "metadata": {},
   "outputs": [
    {
     "data": {
      "text/plain": [
       "[0.0346968402917242, 0.0003999540815189114]"
      ]
     },
     "execution_count": 12,
     "metadata": {},
     "output_type": "execute_result"
    }
   ],
   "source": [
    "likelihood = [sp.stats.norm(model_norm.theta_[0], np.sqrt(model_norm.sigma_[0])).pdf(x_new).prod(),\n",
    "              sp.stats.norm(model_norm.theta_[1], np.sqrt(model_norm.sigma_[1])).pdf(x_new).prod()]\n",
    "likelihood"
   ]
  },
  {
   "cell_type": "code",
   "execution_count": 13,
   "metadata": {},
   "outputs": [
    {
     "data": {
      "text/plain": [
       "array([0.01387874, 0.00023997])"
      ]
     },
     "execution_count": 13,
     "metadata": {},
     "output_type": "execute_result"
    }
   ],
   "source": [
    "posterior = likelihood * model_norm.class_prior_\n",
    "posterior"
   ]
  },
  {
   "cell_type": "code",
   "execution_count": 14,
   "metadata": {},
   "outputs": [
    {
     "data": {
      "text/plain": [
       "array([0.98300323, 0.01699677])"
      ]
     },
     "execution_count": 14,
     "metadata": {},
     "output_type": "execute_result"
    }
   ],
   "source": [
    "posterior / posterior.sum()"
   ]
  },
  {
   "cell_type": "code",
   "execution_count": 15,
   "metadata": {},
   "outputs": [],
   "source": [
    "from sklearn.datasets import load_iris\n",
    "iris = load_iris()"
   ]
  },
  {
   "cell_type": "code",
   "execution_count": 16,
   "metadata": {},
   "outputs": [],
   "source": [
    "X = iris.data\n",
    "y = iris.target"
   ]
  },
  {
   "cell_type": "code",
   "execution_count": 17,
   "metadata": {},
   "outputs": [],
   "source": [
    "iris_model = GaussianNB().fit(X, y)"
   ]
  },
  {
   "cell_type": "code",
   "execution_count": 18,
   "metadata": {},
   "outputs": [
    {
     "data": {
      "text/plain": [
       "array([0, 1, 2])"
      ]
     },
     "execution_count": 18,
     "metadata": {},
     "output_type": "execute_result"
    }
   ],
   "source": [
    "iris_model.classes_"
   ]
  },
  {
   "cell_type": "code",
   "execution_count": 19,
   "metadata": {},
   "outputs": [
    {
     "data": {
      "text/plain": [
       "array([50., 50., 50.])"
      ]
     },
     "execution_count": 19,
     "metadata": {},
     "output_type": "execute_result"
    }
   ],
   "source": [
    "iris_model.class_count_"
   ]
  },
  {
   "cell_type": "code",
   "execution_count": 20,
   "metadata": {},
   "outputs": [
    {
     "data": {
      "text/plain": [
       "array([0.33333333, 0.33333333, 0.33333333])"
      ]
     },
     "execution_count": 20,
     "metadata": {},
     "output_type": "execute_result"
    }
   ],
   "source": [
    "iris_model.class_prior_"
   ]
  },
  {
   "cell_type": "code",
   "execution_count": 21,
   "metadata": {},
   "outputs": [
    {
     "data": {
      "text/plain": [
       "(array([5.006, 3.418, 1.464, 0.244]),\n",
       " array([0.121764, 0.142276, 0.029504, 0.011264]))"
      ]
     },
     "execution_count": 21,
     "metadata": {},
     "output_type": "execute_result"
    }
   ],
   "source": [
    "iris_model.theta_[0], iris_model.sigma_[0]"
   ]
  },
  {
   "cell_type": "code",
   "execution_count": 22,
   "metadata": {},
   "outputs": [
    {
     "data": {
      "text/plain": [
       "(array([5.936, 2.77 , 4.26 , 1.326]),\n",
       " array([0.261104, 0.0965  , 0.2164  , 0.038324]))"
      ]
     },
     "execution_count": 22,
     "metadata": {},
     "output_type": "execute_result"
    }
   ],
   "source": [
    "iris_model.theta_[1], iris_model.sigma_[1]"
   ]
  },
  {
   "cell_type": "code",
   "execution_count": 23,
   "metadata": {},
   "outputs": [
    {
     "data": {
      "text/plain": [
       "(array([6.588, 2.974, 5.552, 2.026]),\n",
       " array([0.396256, 0.101924, 0.298496, 0.073924]))"
      ]
     },
     "execution_count": 23,
     "metadata": {},
     "output_type": "execute_result"
    }
   ],
   "source": [
    "iris_model.theta_[2], iris_model.sigma_[2]"
   ]
  },
  {
   "cell_type": "code",
   "execution_count": 24,
   "metadata": {},
   "outputs": [],
   "source": [
    "from sklearn.metrics import *"
   ]
  },
  {
   "cell_type": "code",
   "execution_count": 30,
   "metadata": {},
   "outputs": [
    {
     "data": {
      "text/plain": [
       "array([[1.00000000e+000, 1.38496103e-018, 7.25489025e-026],\n",
       "       [1.00000000e+000, 1.48206242e-017, 2.29743996e-025],\n",
       "       [1.00000000e+000, 1.07780639e-018, 2.35065917e-026],\n",
       "       [1.00000000e+000, 1.43871443e-017, 2.89954283e-025],\n",
       "       [1.00000000e+000, 4.65192224e-019, 2.95961100e-026],\n",
       "       [1.00000000e+000, 1.52598944e-014, 1.79883402e-021],\n",
       "       [1.00000000e+000, 1.13555084e-017, 2.79240943e-025],\n",
       "       [1.00000000e+000, 6.57615274e-018, 2.79021029e-025],\n",
       "       [1.00000000e+000, 9.12219356e-018, 1.16607332e-025],\n",
       "       [1.00000000e+000, 3.20344249e-018, 1.12989524e-025],\n",
       "       [1.00000000e+000, 4.48944985e-018, 5.19388089e-025],\n",
       "       [1.00000000e+000, 1.65734172e-017, 7.24605453e-025],\n",
       "       [1.00000000e+000, 1.19023891e-018, 3.06690017e-026],\n",
       "       [1.00000000e+000, 7.39520546e-020, 1.77972179e-027],\n",
       "       [1.00000000e+000, 2.58242749e-019, 8.73399972e-026],\n",
       "       [1.00000000e+000, 3.17746623e-017, 1.73684833e-023],\n",
       "       [1.00000000e+000, 5.70113578e-017, 4.84010372e-024],\n",
       "       [1.00000000e+000, 2.42054769e-017, 8.45556661e-025],\n",
       "       [1.00000000e+000, 6.27645419e-015, 1.06276762e-021],\n",
       "       [1.00000000e+000, 8.94493797e-018, 7.10691894e-025],\n",
       "       [1.00000000e+000, 1.12843548e-015, 7.60807373e-023],\n",
       "       [1.00000000e+000, 6.39726172e-016, 2.98066089e-023],\n",
       "       [1.00000000e+000, 2.01227309e-020, 1.00676223e-027],\n",
       "       [1.00000000e+000, 1.88370574e-011, 3.47694606e-019],\n",
       "       [1.00000000e+000, 9.85315738e-015, 6.06138600e-022],\n",
       "       [1.00000000e+000, 3.37823264e-016, 6.39532840e-024],\n",
       "       [1.00000000e+000, 1.76045187e-014, 4.11462407e-022],\n",
       "       [1.00000000e+000, 7.35980232e-018, 4.42389485e-025],\n",
       "       [1.00000000e+000, 4.16674318e-018, 1.83083484e-025],\n",
       "       [1.00000000e+000, 4.59768498e-017, 1.25839903e-024],\n",
       "       [1.00000000e+000, 1.05032415e-016, 2.32677467e-024],\n",
       "       [1.00000000e+000, 2.19590125e-014, 6.17650711e-022],\n",
       "       [1.00000000e+000, 6.53087316e-021, 3.11887725e-027],\n",
       "       [1.00000000e+000, 3.19701924e-020, 1.42881733e-026],\n",
       "       [1.00000000e+000, 3.20344249e-018, 1.12989524e-025],\n",
       "       [1.00000000e+000, 1.31355747e-018, 2.91614269e-026],\n",
       "       [1.00000000e+000, 3.69675482e-018, 2.51866027e-025],\n",
       "       [1.00000000e+000, 3.20344249e-018, 1.12989524e-025],\n",
       "       [1.00000000e+000, 2.08944813e-018, 3.09410939e-026],\n",
       "       [1.00000000e+000, 9.57268514e-018, 4.26475768e-025],\n",
       "       [1.00000000e+000, 6.37746927e-018, 1.99216264e-025],\n",
       "       [1.00000000e+000, 7.48755609e-016, 1.85220582e-024],\n",
       "       [1.00000000e+000, 6.74316102e-019, 1.54533175e-026],\n",
       "       [1.00000000e+000, 6.24456357e-011, 1.54295833e-018],\n",
       "       [1.00000000e+000, 8.14548341e-013, 7.52199540e-020],\n",
       "       [1.00000000e+000, 1.94244394e-016, 1.96296487e-024],\n",
       "       [1.00000000e+000, 2.39642309e-018, 3.11909164e-025],\n",
       "       [1.00000000e+000, 2.30047669e-018, 5.36192288e-026],\n",
       "       [1.00000000e+000, 2.70414239e-018, 2.86492790e-025],\n",
       "       [1.00000000e+000, 3.60099614e-018, 1.12304319e-025],\n",
       "       [1.87127931e-108, 8.04037666e-001, 1.95962334e-001],\n",
       "       [6.18854779e-101, 9.45169639e-001, 5.48303606e-002],\n",
       "       [1.52821825e-122, 4.56151317e-001, 5.43848683e-001],\n",
       "       [2.14997261e-070, 9.99968751e-001, 3.12488556e-005],\n",
       "       [9.04938222e-107, 9.52441811e-001, 4.75581888e-002],\n",
       "       [1.29272979e-090, 9.99119627e-001, 8.80372565e-004],\n",
       "       [2.72490532e-114, 6.58952285e-001, 3.41047715e-001],\n",
       "       [1.19734767e-034, 9.99999767e-001, 2.33206910e-007],\n",
       "       [3.02545627e-098, 9.90316309e-001, 9.68369084e-003],\n",
       "       [1.29477666e-069, 9.99909746e-001, 9.02536083e-005],\n",
       "       [2.68173680e-041, 9.99999765e-001, 2.35068227e-007],\n",
       "       [7.51115851e-087, 9.96238286e-001, 3.76171369e-003],\n",
       "       [6.40165546e-061, 9.99993984e-001, 6.01632484e-006],\n",
       "       [4.81814146e-105, 9.86090825e-001, 1.39091754e-002],\n",
       "       [1.72509107e-055, 9.99975387e-001, 2.46126406e-005],\n",
       "       [1.18941242e-093, 9.80037003e-001, 1.99629974e-002],\n",
       "       [1.18009940e-098, 9.90687273e-001, 9.31272734e-003],\n",
       "       [2.31534504e-063, 9.99983663e-001, 1.63372809e-005],\n",
       "       [5.48394976e-102, 9.94697108e-001, 5.30289217e-003],\n",
       "       [5.51699136e-059, 9.99993006e-001, 6.99364316e-006],\n",
       "       [7.43572418e-129, 1.54494085e-001, 8.45505915e-001],\n",
       "       [2.12417952e-071, 9.99807026e-001, 1.92973847e-004],\n",
       "       [1.06622383e-120, 9.27077052e-001, 7.29229479e-002],\n",
       "       [4.79428037e-097, 9.98156519e-001, 1.84348055e-003],\n",
       "       [2.71707817e-084, 9.98460816e-001, 1.53918416e-003],\n",
       "       [2.03176962e-093, 9.87471082e-001, 1.25289184e-002],\n",
       "       [4.95012220e-113, 9.12844444e-001, 8.71555561e-002],\n",
       "       [2.12531216e-137, 7.52691316e-002, 9.24730868e-001],\n",
       "       [4.19702663e-100, 9.86480268e-001, 1.35197316e-002],\n",
       "       [4.63173354e-042, 9.99998762e-001, 1.23794211e-006],\n",
       "       [2.77274013e-055, 9.99996447e-001, 3.55251831e-006],\n",
       "       [2.14091116e-048, 9.99998651e-001, 1.34923924e-006],\n",
       "       [6.63563094e-063, 9.99972348e-001, 2.76523927e-005],\n",
       "       [2.61124821e-134, 6.12159845e-001, 3.87840155e-001],\n",
       "       [3.71647418e-098, 9.92476638e-001, 7.52336224e-003],\n",
       "       [1.13230275e-103, 8.76107551e-001, 1.23892449e-001],\n",
       "       [1.05786721e-111, 7.99294752e-001, 2.00705248e-001],\n",
       "       [3.76539608e-089, 9.99385417e-001, 6.14582528e-004],\n",
       "       [3.07894878e-073, 9.99796270e-001, 2.03730114e-004],\n",
       "       [4.17712661e-070, 9.99955234e-001, 4.47664632e-005],\n",
       "       [3.92710689e-082, 9.99873680e-001, 1.26320322e-004],\n",
       "       [3.30872742e-100, 9.89371467e-001, 1.06285328e-002],\n",
       "       [8.31545615e-067, 9.99966229e-001, 3.37713204e-005],\n",
       "       [6.26912483e-035, 9.99999798e-001, 2.02487922e-007],\n",
       "       [7.66367658e-078, 9.99832329e-001, 1.67671378e-004],\n",
       "       [1.58557717e-073, 9.99849875e-001, 1.50125137e-004],\n",
       "       [1.02662082e-077, 9.99714947e-001, 2.85053350e-004],\n",
       "       [1.72307593e-083, 9.98992363e-001, 1.00763708e-003],\n",
       "       [4.12872931e-030, 9.99999769e-001, 2.31316897e-007],\n",
       "       [5.99667528e-074, 9.99847160e-001, 1.52839987e-004],\n",
       "       [4.13779546e-251, 6.35381030e-011, 1.00000000e+000],\n",
       "       [5.00845630e-151, 2.50121636e-002, 9.74987836e-001],\n",
       "       [1.04941686e-218, 1.67915381e-007, 9.99999832e-001],\n",
       "       [2.13833836e-175, 1.99462374e-003, 9.98005376e-001],\n",
       "       [7.20399720e-216, 2.30543407e-007, 9.99999769e-001],\n",
       "       [4.51654712e-271, 2.40976994e-010, 1.00000000e+000],\n",
       "       [4.59552511e-108, 9.73514345e-001, 2.64856553e-002],\n",
       "       [2.22191497e-227, 1.34018147e-006, 9.99998660e-001],\n",
       "       [2.10589122e-190, 4.92901785e-004, 9.99507098e-001],\n",
       "       [1.20055778e-262, 1.40568402e-012, 1.00000000e+000],\n",
       "       [3.62359789e-160, 4.12884115e-004, 9.99587116e-001],\n",
       "       [8.83719953e-165, 2.77742178e-003, 9.97222578e-001],\n",
       "       [6.87376950e-192, 4.80711862e-006, 9.99995193e-001],\n",
       "       [4.08220498e-152, 1.28807070e-002, 9.87119293e-001],\n",
       "       [2.75153031e-187, 1.04253685e-006, 9.99998957e-001],\n",
       "       [1.44750671e-192, 4.50951786e-007, 9.99999549e-001],\n",
       "       [2.76680341e-170, 1.87196580e-003, 9.98128034e-001],\n",
       "       [3.75302289e-285, 1.64574932e-012, 1.00000000e+000],\n",
       "       [4.69548986e-310, 6.47406861e-013, 1.00000000e+000],\n",
       "       [5.69697725e-125, 9.58135362e-001, 4.18646381e-002],\n",
       "       [2.94299535e-219, 1.17116897e-008, 9.99999988e-001],\n",
       "       [2.82525894e-146, 1.37625971e-002, 9.86237403e-001],\n",
       "       [1.12237933e-272, 7.58240410e-010, 9.99999999e-001],\n",
       "       [2.28867567e-136, 1.29986728e-001, 8.70013272e-001],\n",
       "       [5.61795825e-203, 9.71777952e-007, 9.99999028e-001],\n",
       "       [8.72622664e-206, 7.39901993e-006, 9.99992601e-001],\n",
       "       [9.96933448e-131, 1.99928220e-001, 8.00071780e-001],\n",
       "       [4.66749613e-135, 1.07483532e-001, 8.92516468e-001],\n",
       "       [6.88743059e-196, 1.09467814e-005, 9.99989053e-001],\n",
       "       [1.61337601e-181, 7.01805717e-004, 9.99298194e-001],\n",
       "       [8.55580252e-221, 9.06238440e-007, 9.99999094e-001],\n",
       "       [1.24722670e-250, 2.96730515e-010, 1.00000000e+000],\n",
       "       [3.64874362e-203, 1.50788229e-006, 9.99998492e-001],\n",
       "       [2.19798649e-130, 7.12645144e-001, 2.87354856e-001],\n",
       "       [3.68949024e-153, 4.86199285e-001, 5.13800715e-001],\n",
       "       [2.13595212e-251, 8.98578645e-011, 1.00000000e+000],\n",
       "       [2.75337356e-217, 6.58848819e-009, 9.99999993e-001],\n",
       "       [1.30868299e-169, 1.90227600e-003, 9.98097724e-001],\n",
       "       [1.38946382e-129, 1.93183856e-001, 8.06816144e-001],\n",
       "       [1.71830037e-186, 5.23126458e-006, 9.99994769e-001],\n",
       "       [5.79667973e-220, 5.01446575e-009, 9.99999995e-001],\n",
       "       [1.61093140e-184, 4.67798053e-007, 9.99999532e-001],\n",
       "       [5.00845630e-151, 2.50121636e-002, 9.74987836e-001],\n",
       "       [2.54029381e-231, 4.42556022e-009, 9.99999996e-001],\n",
       "       [4.84219075e-234, 1.64602693e-010, 1.00000000e+000],\n",
       "       [6.47732320e-189, 5.85507961e-007, 9.99999414e-001],\n",
       "       [5.17352411e-148, 2.54457623e-002, 9.74554238e-001],\n",
       "       [5.93498263e-166, 3.70166861e-004, 9.99629833e-001],\n",
       "       [5.58649523e-197, 2.46020434e-007, 9.99999754e-001],\n",
       "       [9.13863414e-145, 5.60050091e-002, 9.43994991e-001]])"
      ]
     },
     "execution_count": 30,
     "metadata": {},
     "output_type": "execute_result"
    }
   ],
   "source": [
    "y_pred = iris_model.predict_proba(X)\n",
    "y_pred"
   ]
  },
  {
   "cell_type": "code",
   "execution_count": 31,
   "metadata": {},
   "outputs": [
    {
     "ename": "ValueError",
     "evalue": "Classification metrics can't handle a mix of multiclass and continuous-multioutput targets",
     "output_type": "error",
     "traceback": [
      "\u001b[1;31m---------------------------------------------------------------------------\u001b[0m",
      "\u001b[1;31mValueError\u001b[0m                                Traceback (most recent call last)",
      "\u001b[1;32m<ipython-input-31-59edb478cf8e>\u001b[0m in \u001b[0;36m<module>\u001b[1;34m()\u001b[0m\n\u001b[1;32m----> 1\u001b[1;33m \u001b[0msk\u001b[0m\u001b[1;33m.\u001b[0m\u001b[0mmetrics\u001b[0m\u001b[1;33m.\u001b[0m\u001b[0mconfusion_matrix\u001b[0m\u001b[1;33m(\u001b[0m\u001b[0my\u001b[0m\u001b[1;33m,\u001b[0m \u001b[0my_pred\u001b[0m\u001b[1;33m)\u001b[0m\u001b[1;33m\u001b[0m\u001b[0m\n\u001b[0m",
      "\u001b[1;32m~\\Anaconda3\\lib\\site-packages\\sklearn\\metrics\\classification.py\u001b[0m in \u001b[0;36mconfusion_matrix\u001b[1;34m(y_true, y_pred, labels, sample_weight)\u001b[0m\n\u001b[0;32m    248\u001b[0m \u001b[1;33m\u001b[0m\u001b[0m\n\u001b[0;32m    249\u001b[0m     \"\"\"\n\u001b[1;32m--> 250\u001b[1;33m     \u001b[0my_type\u001b[0m\u001b[1;33m,\u001b[0m \u001b[0my_true\u001b[0m\u001b[1;33m,\u001b[0m \u001b[0my_pred\u001b[0m \u001b[1;33m=\u001b[0m \u001b[0m_check_targets\u001b[0m\u001b[1;33m(\u001b[0m\u001b[0my_true\u001b[0m\u001b[1;33m,\u001b[0m \u001b[0my_pred\u001b[0m\u001b[1;33m)\u001b[0m\u001b[1;33m\u001b[0m\u001b[0m\n\u001b[0m\u001b[0;32m    251\u001b[0m     \u001b[1;32mif\u001b[0m \u001b[0my_type\u001b[0m \u001b[1;32mnot\u001b[0m \u001b[1;32min\u001b[0m \u001b[1;33m(\u001b[0m\u001b[1;34m\"binary\"\u001b[0m\u001b[1;33m,\u001b[0m \u001b[1;34m\"multiclass\"\u001b[0m\u001b[1;33m)\u001b[0m\u001b[1;33m:\u001b[0m\u001b[1;33m\u001b[0m\u001b[0m\n\u001b[0;32m    252\u001b[0m         \u001b[1;32mraise\u001b[0m \u001b[0mValueError\u001b[0m\u001b[1;33m(\u001b[0m\u001b[1;34m\"%s is not supported\"\u001b[0m \u001b[1;33m%\u001b[0m \u001b[0my_type\u001b[0m\u001b[1;33m)\u001b[0m\u001b[1;33m\u001b[0m\u001b[0m\n",
      "\u001b[1;32m~\\Anaconda3\\lib\\site-packages\\sklearn\\metrics\\classification.py\u001b[0m in \u001b[0;36m_check_targets\u001b[1;34m(y_true, y_pred)\u001b[0m\n\u001b[0;32m     79\u001b[0m     \u001b[1;32mif\u001b[0m \u001b[0mlen\u001b[0m\u001b[1;33m(\u001b[0m\u001b[0my_type\u001b[0m\u001b[1;33m)\u001b[0m \u001b[1;33m>\u001b[0m \u001b[1;36m1\u001b[0m\u001b[1;33m:\u001b[0m\u001b[1;33m\u001b[0m\u001b[0m\n\u001b[0;32m     80\u001b[0m         raise ValueError(\"Classification metrics can't handle a mix of {0} \"\n\u001b[1;32m---> 81\u001b[1;33m                          \"and {1} targets\".format(type_true, type_pred))\n\u001b[0m\u001b[0;32m     82\u001b[0m \u001b[1;33m\u001b[0m\u001b[0m\n\u001b[0;32m     83\u001b[0m     \u001b[1;31m# We can't have more than one value on y_type => The set is no more needed\u001b[0m\u001b[1;33m\u001b[0m\u001b[1;33m\u001b[0m\u001b[0m\n",
      "\u001b[1;31mValueError\u001b[0m: Classification metrics can't handle a mix of multiclass and continuous-multioutput targets"
     ]
    }
   ],
   "source": [
    "sk.metrics.confusion_matrix(y, y_pred)"
   ]
  },
  {
   "cell_type": "code",
   "execution_count": 139,
   "metadata": {
    "scrolled": true
   },
   "outputs": [
    {
     "ename": "ValueError",
     "evalue": "Mix type of y not allowed, got types {'multiclass', 'continuous-multioutput'}",
     "output_type": "error",
     "traceback": [
      "\u001b[1;31m---------------------------------------------------------------------------\u001b[0m",
      "\u001b[1;31mValueError\u001b[0m                                Traceback (most recent call last)",
      "\u001b[1;32m<ipython-input-139-c94857941e41>\u001b[0m in \u001b[0;36m<module>\u001b[1;34m()\u001b[0m\n\u001b[1;32m----> 1\u001b[1;33m \u001b[0msk\u001b[0m\u001b[1;33m.\u001b[0m\u001b[0mmetrics\u001b[0m\u001b[1;33m.\u001b[0m\u001b[0mclassification_report\u001b[0m\u001b[1;33m(\u001b[0m\u001b[0my\u001b[0m\u001b[1;33m,\u001b[0m \u001b[0my_pred\u001b[0m\u001b[1;33m)\u001b[0m\u001b[1;33m\u001b[0m\u001b[0m\n\u001b[0m",
      "\u001b[1;32m~\\Anaconda3\\lib\\site-packages\\sklearn\\metrics\\classification.py\u001b[0m in \u001b[0;36mclassification_report\u001b[1;34m(y_true, y_pred, labels, target_names, sample_weight, digits)\u001b[0m\n\u001b[0;32m   1419\u001b[0m \u001b[1;33m\u001b[0m\u001b[0m\n\u001b[0;32m   1420\u001b[0m     \u001b[1;32mif\u001b[0m \u001b[0mlabels\u001b[0m \u001b[1;32mis\u001b[0m \u001b[1;32mNone\u001b[0m\u001b[1;33m:\u001b[0m\u001b[1;33m\u001b[0m\u001b[0m\n\u001b[1;32m-> 1421\u001b[1;33m         \u001b[0mlabels\u001b[0m \u001b[1;33m=\u001b[0m \u001b[0munique_labels\u001b[0m\u001b[1;33m(\u001b[0m\u001b[0my_true\u001b[0m\u001b[1;33m,\u001b[0m \u001b[0my_pred\u001b[0m\u001b[1;33m)\u001b[0m\u001b[1;33m\u001b[0m\u001b[0m\n\u001b[0m\u001b[0;32m   1422\u001b[0m     \u001b[1;32melse\u001b[0m\u001b[1;33m:\u001b[0m\u001b[1;33m\u001b[0m\u001b[0m\n\u001b[0;32m   1423\u001b[0m         \u001b[0mlabels\u001b[0m \u001b[1;33m=\u001b[0m \u001b[0mnp\u001b[0m\u001b[1;33m.\u001b[0m\u001b[0masarray\u001b[0m\u001b[1;33m(\u001b[0m\u001b[0mlabels\u001b[0m\u001b[1;33m)\u001b[0m\u001b[1;33m\u001b[0m\u001b[0m\n",
      "\u001b[1;32m~\\Anaconda3\\lib\\site-packages\\sklearn\\utils\\multiclass.py\u001b[0m in \u001b[0;36munique_labels\u001b[1;34m(*ys)\u001b[0m\n\u001b[0;32m     81\u001b[0m \u001b[1;33m\u001b[0m\u001b[0m\n\u001b[0;32m     82\u001b[0m     \u001b[1;32mif\u001b[0m \u001b[0mlen\u001b[0m\u001b[1;33m(\u001b[0m\u001b[0mys_types\u001b[0m\u001b[1;33m)\u001b[0m \u001b[1;33m>\u001b[0m \u001b[1;36m1\u001b[0m\u001b[1;33m:\u001b[0m\u001b[1;33m\u001b[0m\u001b[0m\n\u001b[1;32m---> 83\u001b[1;33m         \u001b[1;32mraise\u001b[0m \u001b[0mValueError\u001b[0m\u001b[1;33m(\u001b[0m\u001b[1;34m\"Mix type of y not allowed, got types %s\"\u001b[0m \u001b[1;33m%\u001b[0m \u001b[0mys_types\u001b[0m\u001b[1;33m)\u001b[0m\u001b[1;33m\u001b[0m\u001b[0m\n\u001b[0m\u001b[0;32m     84\u001b[0m \u001b[1;33m\u001b[0m\u001b[0m\n\u001b[0;32m     85\u001b[0m     \u001b[0mlabel_type\u001b[0m \u001b[1;33m=\u001b[0m \u001b[0mys_types\u001b[0m\u001b[1;33m.\u001b[0m\u001b[0mpop\u001b[0m\u001b[1;33m(\u001b[0m\u001b[1;33m)\u001b[0m\u001b[1;33m\u001b[0m\u001b[0m\n",
      "\u001b[1;31mValueError\u001b[0m: Mix type of y not allowed, got types {'multiclass', 'continuous-multioutput'}"
     ]
    }
   ],
   "source": [
    "sk.metrics.classification_report(y, y_pred)"
   ]
  },
  {
   "cell_type": "code",
   "execution_count": 93,
   "metadata": {},
   "outputs": [],
   "source": [
    "import scikitplot"
   ]
  },
  {
   "cell_type": "code",
   "execution_count": 94,
   "metadata": {},
   "outputs": [],
   "source": [
    "from scikitplot.metrics import *"
   ]
  },
  {
   "cell_type": "code",
   "execution_count": 123,
   "metadata": {
    "scrolled": true
   },
   "outputs": [
    {
     "ename": "ValueError",
     "evalue": "bad input shape (150, 3)",
     "output_type": "error",
     "traceback": [
      "\u001b[1;31m---------------------------------------------------------------------------\u001b[0m",
      "\u001b[1;31mValueError\u001b[0m                                Traceback (most recent call last)",
      "\u001b[1;32m<ipython-input-123-cb1454da6d34>\u001b[0m in \u001b[0;36m<module>\u001b[1;34m()\u001b[0m\n\u001b[1;32m----> 1\u001b[1;33m \u001b[0mscikitplot\u001b[0m\u001b[1;33m.\u001b[0m\u001b[0mmetrics\u001b[0m\u001b[1;33m.\u001b[0m\u001b[0mauc\u001b[0m\u001b[1;33m(\u001b[0m\u001b[0my\u001b[0m\u001b[1;33m,\u001b[0m \u001b[0my_pred\u001b[0m\u001b[1;33m)\u001b[0m\u001b[1;33m\u001b[0m\u001b[0m\n\u001b[0m",
      "\u001b[1;32m~\\Anaconda3\\lib\\site-packages\\sklearn\\metrics\\ranking.py\u001b[0m in \u001b[0;36mauc\u001b[1;34m(x, y, reorder)\u001b[0m\n\u001b[0;32m     78\u001b[0m     \u001b[0mcheck_consistent_length\u001b[0m\u001b[1;33m(\u001b[0m\u001b[0mx\u001b[0m\u001b[1;33m,\u001b[0m \u001b[0my\u001b[0m\u001b[1;33m)\u001b[0m\u001b[1;33m\u001b[0m\u001b[0m\n\u001b[0;32m     79\u001b[0m     \u001b[0mx\u001b[0m \u001b[1;33m=\u001b[0m \u001b[0mcolumn_or_1d\u001b[0m\u001b[1;33m(\u001b[0m\u001b[0mx\u001b[0m\u001b[1;33m)\u001b[0m\u001b[1;33m\u001b[0m\u001b[0m\n\u001b[1;32m---> 80\u001b[1;33m     \u001b[0my\u001b[0m \u001b[1;33m=\u001b[0m \u001b[0mcolumn_or_1d\u001b[0m\u001b[1;33m(\u001b[0m\u001b[0my\u001b[0m\u001b[1;33m)\u001b[0m\u001b[1;33m\u001b[0m\u001b[0m\n\u001b[0m\u001b[0;32m     81\u001b[0m \u001b[1;33m\u001b[0m\u001b[0m\n\u001b[0;32m     82\u001b[0m     \u001b[1;32mif\u001b[0m \u001b[0mx\u001b[0m\u001b[1;33m.\u001b[0m\u001b[0mshape\u001b[0m\u001b[1;33m[\u001b[0m\u001b[1;36m0\u001b[0m\u001b[1;33m]\u001b[0m \u001b[1;33m<\u001b[0m \u001b[1;36m2\u001b[0m\u001b[1;33m:\u001b[0m\u001b[1;33m\u001b[0m\u001b[0m\n",
      "\u001b[1;32m~\\Anaconda3\\lib\\site-packages\\sklearn\\utils\\validation.py\u001b[0m in \u001b[0;36mcolumn_or_1d\u001b[1;34m(y, warn)\u001b[0m\n\u001b[0;32m    612\u001b[0m         \u001b[1;32mreturn\u001b[0m \u001b[0mnp\u001b[0m\u001b[1;33m.\u001b[0m\u001b[0mravel\u001b[0m\u001b[1;33m(\u001b[0m\u001b[0my\u001b[0m\u001b[1;33m)\u001b[0m\u001b[1;33m\u001b[0m\u001b[0m\n\u001b[0;32m    613\u001b[0m \u001b[1;33m\u001b[0m\u001b[0m\n\u001b[1;32m--> 614\u001b[1;33m     \u001b[1;32mraise\u001b[0m \u001b[0mValueError\u001b[0m\u001b[1;33m(\u001b[0m\u001b[1;34m\"bad input shape {0}\"\u001b[0m\u001b[1;33m.\u001b[0m\u001b[0mformat\u001b[0m\u001b[1;33m(\u001b[0m\u001b[0mshape\u001b[0m\u001b[1;33m)\u001b[0m\u001b[1;33m)\u001b[0m\u001b[1;33m\u001b[0m\u001b[0m\n\u001b[0m\u001b[0;32m    615\u001b[0m \u001b[1;33m\u001b[0m\u001b[0m\n\u001b[0;32m    616\u001b[0m \u001b[1;33m\u001b[0m\u001b[0m\n",
      "\u001b[1;31mValueError\u001b[0m: bad input shape (150, 3)"
     ]
    }
   ],
   "source": [
    "scikitplot.metrics.auc(y, y_pred)"
   ]
  },
  {
   "cell_type": "code",
   "execution_count": 121,
   "metadata": {
    "scrolled": true
   },
   "outputs": [
    {
     "ename": "ValueError",
     "evalue": "multiclass format is not supported",
     "output_type": "error",
     "traceback": [
      "\u001b[1;31m---------------------------------------------------------------------------\u001b[0m",
      "\u001b[1;31mValueError\u001b[0m                                Traceback (most recent call last)",
      "\u001b[1;32m<ipython-input-121-ca020fa282b8>\u001b[0m in \u001b[0;36m<module>\u001b[1;34m()\u001b[0m\n\u001b[1;32m----> 1\u001b[1;33m \u001b[0mscikitplot\u001b[0m\u001b[1;33m.\u001b[0m\u001b[0mmetrics\u001b[0m\u001b[1;33m.\u001b[0m\u001b[0mroc_curve\u001b[0m\u001b[1;33m(\u001b[0m\u001b[0my\u001b[0m\u001b[1;33m,\u001b[0m \u001b[0my_pred\u001b[0m\u001b[1;33m)\u001b[0m\u001b[1;33m\u001b[0m\u001b[0m\n\u001b[0m",
      "\u001b[1;32m~\\Anaconda3\\lib\\site-packages\\sklearn\\metrics\\ranking.py\u001b[0m in \u001b[0;36mroc_curve\u001b[1;34m(y_true, y_score, pos_label, sample_weight, drop_intermediate)\u001b[0m\n\u001b[0;32m    532\u001b[0m     \"\"\"\n\u001b[0;32m    533\u001b[0m     fps, tps, thresholds = _binary_clf_curve(\n\u001b[1;32m--> 534\u001b[1;33m         y_true, y_score, pos_label=pos_label, sample_weight=sample_weight)\n\u001b[0m\u001b[0;32m    535\u001b[0m \u001b[1;33m\u001b[0m\u001b[0m\n\u001b[0;32m    536\u001b[0m     \u001b[1;31m# Attempt to drop thresholds corresponding to points in between and\u001b[0m\u001b[1;33m\u001b[0m\u001b[1;33m\u001b[0m\u001b[0m\n",
      "\u001b[1;32m~\\Anaconda3\\lib\\site-packages\\sklearn\\metrics\\ranking.py\u001b[0m in \u001b[0;36m_binary_clf_curve\u001b[1;34m(y_true, y_score, pos_label, sample_weight)\u001b[0m\n\u001b[0;32m    316\u001b[0m     if not (y_type == \"binary\" or\n\u001b[0;32m    317\u001b[0m             (y_type == \"multiclass\" and pos_label is not None)):\n\u001b[1;32m--> 318\u001b[1;33m         \u001b[1;32mraise\u001b[0m \u001b[0mValueError\u001b[0m\u001b[1;33m(\u001b[0m\u001b[1;34m\"{0} format is not supported\"\u001b[0m\u001b[1;33m.\u001b[0m\u001b[0mformat\u001b[0m\u001b[1;33m(\u001b[0m\u001b[0my_type\u001b[0m\u001b[1;33m)\u001b[0m\u001b[1;33m)\u001b[0m\u001b[1;33m\u001b[0m\u001b[0m\n\u001b[0m\u001b[0;32m    319\u001b[0m \u001b[1;33m\u001b[0m\u001b[0m\n\u001b[0;32m    320\u001b[0m     \u001b[0mcheck_consistent_length\u001b[0m\u001b[1;33m(\u001b[0m\u001b[0my_true\u001b[0m\u001b[1;33m,\u001b[0m \u001b[0my_score\u001b[0m\u001b[1;33m,\u001b[0m \u001b[0msample_weight\u001b[0m\u001b[1;33m)\u001b[0m\u001b[1;33m\u001b[0m\u001b[0m\n",
      "\u001b[1;31mValueError\u001b[0m: multiclass format is not supported"
     ]
    }
   ],
   "source": [
    "scikitplot.metrics.roc_curve(y, y_pred)"
   ]
  },
  {
   "cell_type": "markdown",
   "metadata": {},
   "source": [
    "\n",
    "### 연습 문제 2\n",
    "- MNIST Digit 분류 문제에서 sklearn.preprocessing.Binarizer로 x값을 0, 1로 바꾼다(값이 8 이상이면 1, 8 미만이면 0). 즉 흰색과 검은색 픽셀로만 구성된 이미지로 만든다. 이 이미지에 대해 베르누이 나이브 베이즈 모형을 적용한다.\n",
    "- BernoulliNB 클래스의 binarize 인수를 사용하여 같은 문제를 풀어본다.\n",
    "계산된 모형의 모수 벡터 값을 각 클래스별로 8*8 이미지의 형태로 나타낸다. 이 이미지는 무엇을 뜻하는가?"
   ]
  },
  {
   "cell_type": "code",
   "execution_count": null,
   "metadata": {},
   "outputs": [],
   "source": []
  },
  {
   "cell_type": "code",
   "execution_count": null,
   "metadata": {},
   "outputs": [],
   "source": []
  },
  {
   "cell_type": "code",
   "execution_count": null,
   "metadata": {},
   "outputs": [],
   "source": []
  },
  {
   "cell_type": "code",
   "execution_count": null,
   "metadata": {},
   "outputs": [],
   "source": []
  },
  {
   "cell_type": "code",
   "execution_count": null,
   "metadata": {},
   "outputs": [],
   "source": []
  },
  {
   "cell_type": "code",
   "execution_count": null,
   "metadata": {},
   "outputs": [],
   "source": []
  },
  {
   "cell_type": "code",
   "execution_count": null,
   "metadata": {},
   "outputs": [],
   "source": []
  },
  {
   "cell_type": "code",
   "execution_count": null,
   "metadata": {},
   "outputs": [],
   "source": []
  },
  {
   "cell_type": "code",
   "execution_count": null,
   "metadata": {},
   "outputs": [],
   "source": []
  },
  {
   "cell_type": "code",
   "execution_count": null,
   "metadata": {},
   "outputs": [],
   "source": []
  },
  {
   "cell_type": "code",
   "execution_count": null,
   "metadata": {},
   "outputs": [],
   "source": []
  }
 ],
 "metadata": {
  "kernelspec": {
   "display_name": "Python 3",
   "language": "python",
   "name": "python3"
  },
  "language_info": {
   "codemirror_mode": {
    "name": "ipython",
    "version": 3
   },
   "file_extension": ".py",
   "mimetype": "text/x-python",
   "name": "python",
   "nbconvert_exporter": "python",
   "pygments_lexer": "ipython3",
   "version": "3.6.4"
  }
 },
 "nbformat": 4,
 "nbformat_minor": 2
}
