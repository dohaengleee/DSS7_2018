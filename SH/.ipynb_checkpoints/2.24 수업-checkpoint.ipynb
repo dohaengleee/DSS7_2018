{
 "cells": [
  {
   "cell_type": "code",
   "execution_count": 1,
   "metadata": {
    "collapsed": true
   },
   "outputs": [],
   "source": [
    "import scipy as sp"
   ]
  },
  {
   "cell_type": "code",
   "execution_count": 28,
   "metadata": {},
   "outputs": [],
   "source": [
    "N = 10\n",
    "theta_0 = 0.5\n",
    "np.random.seed(0)\n",
    "x = sp.stats.bernoulli(theta_0).rvs(N)"
   ]
  },
  {
   "cell_type": "code",
   "execution_count": 29,
   "metadata": {},
   "outputs": [
    {
     "name": "stdout",
     "output_type": "stream",
     "text": [
      "0.021484375\n",
      "0.021484375\n"
     ]
    }
   ],
   "source": [
    "print(sp.stats.binom_test(9, N))\n",
    "print(sp.stats.binom_test(1, N))"
   ]
  },
  {
   "cell_type": "code",
   "execution_count": 31,
   "metadata": {
    "collapsed": true
   },
   "outputs": [],
   "source": [
    "N = 100\n",
    "theta_0 = 0.5\n",
    "np.random.seed(0)\n",
    "x = sp.stats.bernoulli(theta_0).rvs(N)"
   ]
  },
  {
   "cell_type": "code",
   "execution_count": 65,
   "metadata": {},
   "outputs": [
    {
     "name": "stdout",
     "output_type": "stream",
     "text": [
      "0.00663712051593\n",
      "0.00663712051593\n"
     ]
    }
   ],
   "source": [
    "print(sp.stats.binom_test(64, N)) # 64 이상\n",
    "print(sp.stats.binom_test(36, N)) # 36 이하"
   ]
  },
  {
   "cell_type": "code",
   "execution_count": 66,
   "metadata": {},
   "outputs": [
    {
     "data": {
      "text/plain": [
       "array([0, 3, 5, 2], dtype=int64)"
      ]
     },
     "execution_count": 66,
     "metadata": {},
     "output_type": "execute_result"
    }
   ],
   "source": [
    "N = 10\n",
    "K = 4\n",
    "theta_0 = np.ones(K)/K\n",
    "np.random.seed(0)\n",
    "x = np.random.choice(K, N, p=theta_0)\n",
    "n = np.bincount(x, minlength = K)\n",
    "n"
   ]
  },
  {
   "cell_type": "code",
   "execution_count": null,
   "metadata": {
    "collapsed": true
   },
   "outputs": [],
   "source": []
  }
 ],
 "metadata": {
  "kernelspec": {
   "display_name": "Python 3",
   "language": "python",
   "name": "python3"
  },
  "language_info": {
   "codemirror_mode": {
    "name": "ipython",
    "version": 3
   },
   "file_extension": ".py",
   "mimetype": "text/x-python",
   "name": "python",
   "nbconvert_exporter": "python",
   "pygments_lexer": "ipython3",
   "version": "3.6.1"
  }
 },
 "nbformat": 4,
 "nbformat_minor": 2
}
