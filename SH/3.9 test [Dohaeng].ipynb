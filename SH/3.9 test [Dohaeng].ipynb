{
 "cells": [
  {
   "cell_type": "code",
   "execution_count": 50,
   "metadata": {},
   "outputs": [],
   "source": [
    "%matplotlib inline"
   ]
  },
  {
   "cell_type": "code",
   "execution_count": 37,
   "metadata": {},
   "outputs": [],
   "source": [
    "def LinearRegR(data, formula):\n",
    "    model = sm.OLS.from_formula(formula, data)\n",
    "    result = model.fit()\n",
    "    print(result.summary())\n",
    "    return result"
   ]
  },
  {
   "cell_type": "code",
   "execution_count": 38,
   "metadata": {},
   "outputs": [],
   "source": [
    "def makeFormula(target, numeric=None, categoric=None, noInter = False):\n",
    "    formula = \"\"\n",
    "    formula += target\n",
    "    formula += \"~\"\n",
    "    \n",
    "    if(numeric != None):\n",
    "        formula_numeric = \"+\".join(numeric)\n",
    "        formula += formula_numeric \n",
    "    \n",
    "    if(numeric != None and categoric != None):\n",
    "        formula += \"+\"\n",
    "    \n",
    "    if(categoric != None):\n",
    "        categoric = list(map(lambda c :  \"C(\" + c + \")\", categoric))\n",
    "        formula_categoric = \"+\".join(categoric)\n",
    "        formula += formula_categoric\n",
    "        formula += \"+0\"\n",
    "    \n",
    "    if(noInter == True):\n",
    "        formula +=\"+0\"\n",
    "    \n",
    "    return formula"
   ]
  },
  {
   "cell_type": "markdown",
   "metadata": {},
   "source": [
    "# 1번."
   ]
  },
  {
   "cell_type": "code",
   "execution_count": 39,
   "metadata": {
    "scrolled": true
   },
   "outputs": [
    {
     "data": {
      "text/html": [
       "<div>\n",
       "<style scoped>\n",
       "    .dataframe tbody tr th:only-of-type {\n",
       "        vertical-align: middle;\n",
       "    }\n",
       "\n",
       "    .dataframe tbody tr th {\n",
       "        vertical-align: top;\n",
       "    }\n",
       "\n",
       "    .dataframe thead th {\n",
       "        text-align: right;\n",
       "    }\n",
       "</style>\n",
       "<table border=\"1\" class=\"dataframe\">\n",
       "  <thead>\n",
       "    <tr style=\"text-align: right;\">\n",
       "      <th></th>\n",
       "      <th>Restaurant</th>\n",
       "      <th>Price</th>\n",
       "      <th>Food</th>\n",
       "      <th>Decor</th>\n",
       "      <th>Service</th>\n",
       "      <th>East</th>\n",
       "    </tr>\n",
       "  </thead>\n",
       "  <tbody>\n",
       "    <tr>\n",
       "      <th>163</th>\n",
       "      <td>Baci</td>\n",
       "      <td>31</td>\n",
       "      <td>17</td>\n",
       "      <td>15</td>\n",
       "      <td>16</td>\n",
       "      <td>0</td>\n",
       "    </tr>\n",
       "    <tr>\n",
       "      <th>164</th>\n",
       "      <td>Puccini</td>\n",
       "      <td>26</td>\n",
       "      <td>20</td>\n",
       "      <td>16</td>\n",
       "      <td>17</td>\n",
       "      <td>0</td>\n",
       "    </tr>\n",
       "    <tr>\n",
       "      <th>165</th>\n",
       "      <td>Bella Luna</td>\n",
       "      <td>31</td>\n",
       "      <td>18</td>\n",
       "      <td>16</td>\n",
       "      <td>17</td>\n",
       "      <td>0</td>\n",
       "    </tr>\n",
       "    <tr>\n",
       "      <th>166</th>\n",
       "      <td>Métisse</td>\n",
       "      <td>38</td>\n",
       "      <td>22</td>\n",
       "      <td>17</td>\n",
       "      <td>21</td>\n",
       "      <td>0</td>\n",
       "    </tr>\n",
       "    <tr>\n",
       "      <th>167</th>\n",
       "      <td>Gennaro</td>\n",
       "      <td>34</td>\n",
       "      <td>24</td>\n",
       "      <td>10</td>\n",
       "      <td>16</td>\n",
       "      <td>0</td>\n",
       "    </tr>\n",
       "  </tbody>\n",
       "</table>\n",
       "</div>"
      ],
      "text/plain": [
       "     Restaurant  Price  Food  Decor  Service  East\n",
       "163        Baci     31    17     15       16     0\n",
       "164     Puccini     26    20     16       17     0\n",
       "165  Bella Luna     31    18     16       17     0\n",
       "166     Métisse     38    22     17       21     0\n",
       "167     Gennaro     34    24     10       16     0"
      ]
     },
     "execution_count": 39,
     "metadata": {},
     "output_type": "execute_result"
    }
   ],
   "source": [
    "df = pd.read_csv(\"http://www.stat.tamu.edu/~sheather/book/docs/datasets/nyc.csv\", encoding='latin1')\n",
    "del df[\"Case\"]\n",
    "df.tail()"
   ]
  },
  {
   "cell_type": "code",
   "execution_count": 40,
   "metadata": {},
   "outputs": [],
   "source": [
    "column_ls = [c for c in df.columns]\n",
    "column_ls.remove('Price')\n",
    "column_ls.remove('Restaurant')"
   ]
  },
  {
   "cell_type": "code",
   "execution_count": 41,
   "metadata": {
    "scrolled": true
   },
   "outputs": [
    {
     "name": "stdout",
     "output_type": "stream",
     "text": [
      "                            OLS Regression Results                            \n",
      "==============================================================================\n",
      "Dep. Variable:                  Price   R-squared:                       0.981\n",
      "Model:                            OLS   Adj. R-squared:                  0.980\n",
      "Method:                 Least Squares   F-statistic:                     2072.\n",
      "Date:                Fri, 09 Mar 2018   Prob (F-statistic):          3.34e-139\n",
      "Time:                        15:42:51   Log-Likelihood:                -541.80\n",
      "No. Observations:                 168   AIC:                             1092.\n",
      "Df Residuals:                     164   BIC:                             1104.\n",
      "Df Model:                           4                                         \n",
      "Covariance Type:            nonrobust                                         \n",
      "==============================================================================\n",
      "                 coef    std err          t      P>|t|      [0.025      0.975]\n",
      "------------------------------------------------------------------------------\n",
      "Food           0.6277      0.347      1.810      0.072      -0.057       1.312\n",
      "Decor          1.8244      0.232      7.854      0.000       1.366       2.283\n",
      "Service       -0.1949      0.423     -0.460      0.646      -1.031       0.641\n",
      "East           2.3579      1.015      2.324      0.021       0.355       4.361\n",
      "==============================================================================\n",
      "Omnibus:                        2.586   Durbin-Watson:                   1.748\n",
      "Prob(Omnibus):                  0.274   Jarque-Bera (JB):                2.333\n",
      "Skew:                           0.287   Prob(JB):                        0.312\n",
      "Kurtosis:                       3.057   Cond. No.                         71.8\n",
      "==============================================================================\n",
      "\n",
      "Warnings:\n",
      "[1] Standard Errors assume that the covariance matrix of the errors is correctly specified.\n"
     ]
    }
   ],
   "source": [
    "result = LinearRegR(df, makeFormula('Price', column_ls, None, True))"
   ]
  },
  {
   "cell_type": "markdown",
   "metadata": {},
   "source": [
    "# 2번.\n",
    " - Decor가 가장 크게 영향을 미친다. Decor의 P-value가 0.000이므로 유의하다."
   ]
  },
  {
   "cell_type": "markdown",
   "metadata": {},
   "source": [
    "# 3번.\n",
    " - 식당의 위치는 가격에 영향을 미친다. East 식당은 West 식당대비 2.35배 더 비싸다."
   ]
  },
  {
   "cell_type": "markdown",
   "metadata": {},
   "source": [
    "# 4번.\n",
    " - Serivice는 pvalue가 0.646으로 유의하지 않다."
   ]
  },
  {
   "cell_type": "markdown",
   "metadata": {},
   "source": [
    "# 5번.\n",
    " - Service 제거."
   ]
  },
  {
   "cell_type": "code",
   "execution_count": 42,
   "metadata": {},
   "outputs": [
    {
     "name": "stdout",
     "output_type": "stream",
     "text": [
      "                            OLS Regression Results                            \n",
      "==============================================================================\n",
      "Dep. Variable:                  Price   R-squared:                       0.981\n",
      "Model:                            OLS   Adj. R-squared:                  0.980\n",
      "Method:                 Least Squares   F-statistic:                     2775.\n",
      "Date:                Fri, 09 Mar 2018   Prob (F-statistic):          6.49e-141\n",
      "Time:                        15:42:54   Log-Likelihood:                -541.91\n",
      "No. Observations:                 168   AIC:                             1090.\n",
      "Df Residuals:                     165   BIC:                             1099.\n",
      "Df Model:                           3                                         \n",
      "Covariance Type:            nonrobust                                         \n",
      "==============================================================================\n",
      "                 coef    std err          t      P>|t|      [0.025      0.975]\n",
      "------------------------------------------------------------------------------\n",
      "Food           0.4913      0.180      2.735      0.007       0.137       0.846\n",
      "Decor          1.7721      0.202      8.768      0.000       1.373       2.171\n",
      "East           2.2858      1.000      2.286      0.024       0.311       4.260\n",
      "==============================================================================\n",
      "Omnibus:                        2.965   Durbin-Watson:                   1.745\n",
      "Prob(Omnibus):                  0.227   Jarque-Bera (JB):                2.692\n",
      "Skew:                           0.308   Prob(JB):                        0.260\n",
      "Kurtosis:                       3.070   Cond. No.                         57.7\n",
      "==============================================================================\n",
      "\n",
      "Warnings:\n",
      "[1] Standard Errors assume that the covariance matrix of the errors is correctly specified.\n"
     ]
    }
   ],
   "source": [
    "column_ls.remove('Service')\n",
    "result1 = LinearRegR(df, makeFormula(\"Price\", column_ls, None, True))"
   ]
  },
  {
   "cell_type": "markdown",
   "metadata": {},
   "source": [
    "# 6번."
   ]
  },
  {
   "cell_type": "code",
   "execution_count": 45,
   "metadata": {},
   "outputs": [
    {
     "data": {
      "text/plain": [
       "47.50164103569979"
      ]
     },
     "execution_count": 45,
     "metadata": {},
     "output_type": "execute_result"
    }
   ],
   "source": [
    "no6_price = 20 * result.params[0] + 20 * result.params[1] + 20 * result.params[2] + 1 * result.params[3]\n",
    "no6_price"
   ]
  },
  {
   "cell_type": "markdown",
   "metadata": {},
   "source": [
    "# 7번."
   ]
  },
  {
   "cell_type": "code",
   "execution_count": 51,
   "metadata": {},
   "outputs": [
    {
     "data": {
      "image/png": "[encoded data removed]",
      "text/plain": [
       "<matplotlib.figure.Figure at 0x15cf0b43470>"
      ]
     },
     "metadata": {
      "image/png": {
       "height": 139,
       "width": 606
      }
     },
     "output_type": "display_data"
    }
   ],
   "source": [
    "influence = result1.get_influence()\n",
    "hat = influence.hat_matrix_diag\n",
    "plt.figure(figsize=(10,2))\n",
    "plt.stem(hat)\n",
    "plt.show()"
   ]
  },
  {
   "cell_type": "code",
   "execution_count": null,
   "metadata": {},
   "outputs": [],
   "source": []
  }
 ],
 "metadata": {
  "kernelspec": {
   "display_name": "Python 3",
   "language": "python",
   "name": "python3"
  },
  "language_info": {
   "codemirror_mode": {
    "name": "ipython",
    "version": 3
   },
   "file_extension": ".py",
   "mimetype": "text/x-python",
   "name": "python",
   "nbconvert_exporter": "python",
   "pygments_lexer": "ipython3",
   "version": "3.6.4"
  }
 },
 "nbformat": 4,
 "nbformat_minor": 2
}
