{
 "cells": [
  {
   "cell_type": "markdown",
   "metadata": {},
   "source": [
    "determinant가 양수면 vector를 양의 방향으로 끌어당긴다\n",
    "행렬의 역행렬을 내적하면 반대로 가는게 아니라 원래의 점으로 돌아온다.\n",
    "\n",
    "determinant가 0이면 역행렬이 없다. 차원이 하나 축소된다."
   ]
  },
  {
   "cell_type": "markdown",
   "metadata": {},
   "source": [
    "고유분해는 정방행렬에서만 가능하다.\n",
    "A = V x 람다단위행렬 x V의역행렬"
   ]
  },
  {
   "cell_type": "markdown",
   "metadata": {},
   "source": [
    "PCA\n",
    " - 분산의 크기가 크다고 해서 변수가 중요한지 아닌지는 확실히 알 수 없다.\n",
    " - 선형변환 밖에 고려할 수 없다.\n",
    " - "
   ]
  }
 ],
 "metadata": {
  "kernelspec": {
   "display_name": "Python 3",
   "language": "python",
   "name": "python3"
  },
  "language_info": {
   "codemirror_mode": {
    "name": "ipython",
    "version": 3
   },
   "file_extension": ".py",
   "mimetype": "text/x-python",
   "name": "python",
   "nbconvert_exporter": "python",
   "pygments_lexer": "ipython3",
   "version": "3.6.4"
  }
 },
 "nbformat": 4,
 "nbformat_minor": 2
}
