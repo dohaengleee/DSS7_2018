{
 "cells": [
  {
   "cell_type": "markdown",
   "metadata": {},
   "source": [
    "### Send Email\n",
    "- https://docs.python.org/3.5/library/email-examples.html"
   ]
  },
  {
   "cell_type": "code",
   "execution_count": 10,
   "metadata": {
    "collapsed": true
   },
   "outputs": [],
   "source": [
    "import smtplib, os, pickle\n",
    "from email import encoders\n",
    "from email.mime.text import MIMEText\n",
    "from email.mime.multipart import MIMEMultipart\n",
    "from email.mime.base import MIMEBase"
   ]
  },
  {
   "cell_type": "code",
   "execution_count": 11,
   "metadata": {
    "collapsed": true
   },
   "outputs": [],
   "source": [
    "toAddr = [\"dohang333@naver.com\", \"dohang333@daum.net\", \"rnclfvkf@gmail.com\"]"
   ]
  },
  {
   "cell_type": "markdown",
   "metadata": {},
   "source": [
    "##### send text"
   ]
  },
  {
   "cell_type": "code",
   "execution_count": 15,
   "metadata": {
    "collapsed": true
   },
   "outputs": [],
   "source": [
    "pw = 'dhrnclfvkf@@'\n",
    "pickle.dump(pw , open(\"../pw.p\", 'wb'))"
   ]
  },
  {
   "cell_type": "code",
   "execution_count": 23,
   "metadata": {
    "scrolled": true
   },
   "outputs": [
    {
     "data": {
      "text/plain": [
       "(235, b'2.7.0 Accepted')"
      ]
     },
     "execution_count": 23,
     "metadata": {},
     "output_type": "execute_result"
    }
   ],
   "source": [
    "# Access smtp server\n",
    "smtp = smtplib.SMTP('smtp.gmail.com', 587)\n",
    "smtp.ehlo()\n",
    "smtp.starttls()\n",
    "smtp.login('rnclfvkf@gmail.com', pickle.load( open('../pw.p', 'rb') ))"
   ]
  },
  {
   "cell_type": "code",
   "execution_count": 24,
   "metadata": {
    "collapsed": true
   },
   "outputs": [],
   "source": [
    "# Make Msg\n",
    "msg = MIMEMultipart()\n",
    "msg['Subject'] = 'SMTP Send Text 테스트()'"
   ]
  },
  {
   "cell_type": "code",
   "execution_count": 20,
   "metadata": {
    "collapsed": true
   },
   "outputs": [],
   "source": [
    "# Attach Text\n",
    "part = MIMEText('SMTP로 Text 메일 보내기 본문 메시지')\n",
    "msg.attach(part)"
   ]
  },
  {
   "cell_type": "code",
   "execution_count": 21,
   "metadata": {
    "collapsed": true
   },
   "outputs": [],
   "source": [
    "# send to multiful users\n",
    "for addr in toAddr:\n",
    "    msg['To'] = addr\n",
    "    smtp.sendmail('pdj1224@gmail.com', addr, msg.as_string())"
   ]
  },
  {
   "cell_type": "code",
   "execution_count": 22,
   "metadata": {},
   "outputs": [
    {
     "data": {
      "text/plain": [
       "(221, b'2.0.0 closing connection f80sm2560624pfa.1 - gsmtp')"
      ]
     },
     "execution_count": 22,
     "metadata": {},
     "output_type": "execute_result"
    }
   ],
   "source": [
    "# quit smtp service\n",
    "smtp.quit()"
   ]
  },
  {
   "cell_type": "markdown",
   "metadata": {},
   "source": [
    "##### send html"
   ]
  },
  {
   "cell_type": "code",
   "execution_count": 28,
   "metadata": {},
   "outputs": [
    {
     "data": {
      "text/plain": [
       "(235, b'2.7.0 Accepted')"
      ]
     },
     "execution_count": 28,
     "metadata": {},
     "output_type": "execute_result"
    }
   ],
   "source": [
    "# Access smtp server\n",
    "smtp = smtplib.SMTP('smtp.gmail.com', 587)\n",
    "smtp.ehlo()\n",
    "smtp.starttls()\n",
    "smtp.login('rnclfvkf@gmail.com', pickle.load( open('../pw.p', 'rb') ))"
   ]
  },
  {
   "cell_type": "code",
   "execution_count": 29,
   "metadata": {
    "collapsed": true
   },
   "outputs": [],
   "source": [
    "# Make Subject\n",
    "msg = MIMEMultipart()\n",
    "msg['Subject'] = 'SMTP Send HTML 테스트'"
   ]
  },
  {
   "cell_type": "code",
   "execution_count": 30,
   "metadata": {
    "collapsed": true
   },
   "outputs": [],
   "source": [
    "# Make Msg\n",
    "part = MIMEText('<p>SMTP로 HTML 메일 보내기 본문 메시지</p>')\n",
    "msg.attach(part)"
   ]
  },
  {
   "cell_type": "code",
   "execution_count": 31,
   "metadata": {
    "collapsed": true
   },
   "outputs": [],
   "source": [
    "# Attach HTML\n",
    "part1 = MIMEText('<a href=\"http://www.fastcampus.co.kr\">Fast Campus</a>', 'html')\n",
    "msg.attach(part1)"
   ]
  },
  {
   "cell_type": "code",
   "execution_count": 32,
   "metadata": {
    "collapsed": true
   },
   "outputs": [],
   "source": [
    "# send to multiful users\n",
    "for addr in toAddr:\n",
    "    msg['To'] = addr\n",
    "    smtp.sendmail('pdj1224@gmail.com', addr, msg.as_string())"
   ]
  },
  {
   "cell_type": "code",
   "execution_count": 33,
   "metadata": {},
   "outputs": [
    {
     "data": {
      "text/plain": [
       "(221, b'2.0.0 closing connection q24sm17714370pgn.15 - gsmtp')"
      ]
     },
     "execution_count": 33,
     "metadata": {},
     "output_type": "execute_result"
    }
   ],
   "source": [
    "# quit smtp service\n",
    "smtp.quit()"
   ]
  },
  {
   "cell_type": "markdown",
   "metadata": {},
   "source": [
    "##### send file"
   ]
  },
  {
   "cell_type": "code",
   "execution_count": 34,
   "metadata": {},
   "outputs": [
    {
     "data": {
      "text/plain": [
       "(235, b'2.7.0 Accepted')"
      ]
     },
     "execution_count": 34,
     "metadata": {},
     "output_type": "execute_result"
    }
   ],
   "source": [
    "# Access smtp server\n",
    "smtp = smtplib.SMTP('smtp.gmail.com', 587)\n",
    "smtp.ehlo()\n",
    "smtp.starttls()\n",
    "smtp.login('rnclfvkf@gmail.com', pickle.load( open('../pw.p', 'rb') ))"
   ]
  },
  {
   "cell_type": "code",
   "execution_count": 35,
   "metadata": {
    "collapsed": true
   },
   "outputs": [],
   "source": [
    "# Make Subject\n",
    "msg = MIMEMultipart()\n",
    "msg['Subject'] = 'Send File 테스트'"
   ]
  },
  {
   "cell_type": "code",
   "execution_count": 36,
   "metadata": {
    "collapsed": true
   },
   "outputs": [],
   "source": [
    "# Make Msg\n",
    "part = MIMEText('SMTP로 File 메일 보내기 본문 메시지')\n",
    "msg.attach(part)"
   ]
  },
  {
   "cell_type": "code",
   "execution_count": 38,
   "metadata": {},
   "outputs": [],
   "source": [
    "# Attach FILE\n",
    "path = 'img.png'\n",
    "ctype = 'application/octet-stream'\n",
    "maintype, subtype = ctype.split('/', 1)\n",
    "with open(path, 'rb') as fp:\n",
    "    part = MIMEBase(maintype, subtype)\n",
    "    part.set_payload(fp.read())\n",
    "    encoders.encode_base64(part)\n",
    "    \n",
    "part.add_header('Content-Disposition', 'attachment', filename=path)\n",
    "msg.attach(part)"
   ]
  },
  {
   "cell_type": "code",
   "execution_count": 39,
   "metadata": {
    "collapsed": true
   },
   "outputs": [],
   "source": [
    "for addr in toAddr:\n",
    "    msg['To'] = addr\n",
    "    smtp.sendmail('pdj1224@gmail.com', addr, msg.as_string())"
   ]
  },
  {
   "cell_type": "code",
   "execution_count": 40,
   "metadata": {},
   "outputs": [
    {
     "data": {
      "text/plain": [
       "(221, b'2.0.0 closing connection j3sm2359976pfh.39 - gsmtp')"
      ]
     },
     "execution_count": 40,
     "metadata": {},
     "output_type": "execute_result"
    }
   ],
   "source": [
    "smtp.quit()"
   ]
  },
  {
   "cell_type": "markdown",
   "metadata": {},
   "source": [
    "#####  Make Function\n",
    "- 함수로 깔끔하게 만들어 보자"
   ]
  },
  {
   "cell_type": "code",
   "execution_count": 42,
   "metadata": {
    "collapsed": true
   },
   "outputs": [],
   "source": [
    "# Access smtp server\n",
    "def access_smtp_server(email, pw):\n",
    "    smtp = smtplib.SMTP('smtp.gmail.com', 587)\n",
    "    smtp.ehlo()\n",
    "    smtp.starttls()\n",
    "    smtp.login(email, pw)\n",
    "    return smtp\n",
    "\n",
    "# Make Subject\n",
    "def make_subject(subject_str):\n",
    "    msg = MIMEMultipart()\n",
    "    msg['Subject'] = subject_str\n",
    "    return msg\n",
    "\n",
    "# Make Msg\n",
    "def make_msg(msg, msg_str):\n",
    "    part = MIMEText(msg_str)\n",
    "    msg.attach(part)\n",
    "    return msg\n",
    "\n",
    "# Attach HTML\n",
    "def attach_html(msg, html_tag):\n",
    "    part = MIMEText(html_tag, 'html')\n",
    "    msg.attach(part)\n",
    "    return msg\n",
    "\n",
    "# Attach FILE\n",
    "def attach_file(msg, file_path):\n",
    "    \n",
    "    maintype, subtype = 'application', 'octet-stream'\n",
    "    \n",
    "    with open(file_path, 'rb') as fp:\n",
    "        part = MIMEBase(maintype, subtype)\n",
    "        part.set_payload(fp.read())\n",
    "        encoders.encode_base64(part)\n",
    "\n",
    "    part.add_header('Content-Disposition', 'attachment', filename=file_path)\n",
    "    msg.attach(part)\n",
    "    return msg\n",
    "\n",
    "# Send Email\n",
    "def send_email(smtp, email, msg, toAddr):\n",
    "    for addr in toAddr:\n",
    "        msg['To'] = addr\n",
    "        print(\"sending to [{}]...\".format(addr))\n",
    "        smtp.sendmail(email, addr, msg.as_string())\n",
    "    smtp.quit()"
   ]
  },
  {
   "cell_type": "code",
   "execution_count": 43,
   "metadata": {},
   "outputs": [
    {
     "name": "stdout",
     "output_type": "stream",
     "text": [
      "sending to [dohang333@naver.com]...\n",
      "sending to [dohang333@daum.net]...\n",
      "sending to [rnclfvkf@gmail.com]...\n"
     ]
    }
   ],
   "source": [
    "# smtp 연결\n",
    "email, pw = 'rnclfvkf@gmail.com', pickle.load( open('../pw.p', 'rb') )\n",
    "smtp = access_smtp_server(email, pw)  \n",
    "\n",
    "# 제목 설정\n",
    "subject_str = \"Google SMTP로 메일 보내기\"\n",
    "msg = make_subject(subject_str)       \n",
    "\n",
    "# 텍스트 메시지 추가\n",
    "msg_str = \"Google SMTP로 메일 보내기 본문 입니다.\"\n",
    "msg = make_msg(msg, msg_str)        \n",
    "\n",
    "# HTML 메시지 추가\n",
    "html_tag = '<a href=\"http://www.fastcampus.co.kr\">Click Fast Campus</a>'\n",
    "msg = attach_html(msg, html_tag)\n",
    "\n",
    "# File 메시지 추가\n",
    "file_path = 'img.png'\n",
    "msg = attach_file(msg, file_path)\n",
    "file_path = 'video.mp4'\n",
    "msg = attach_file(msg, file_path)\n",
    "file_path = '99_Install_Selenium.pdf'\n",
    "msg = attach_file(msg, file_path)\n",
    "\n",
    "# Send Email\n",
    "toAddr = [\"dohang333@naver.com\", \"dohang333@daum.net\", \"rnclfvkf@gmail.com\"]\n",
    "send_email(smtp, email, msg, toAddr)"
   ]
  },
  {
   "cell_type": "code",
   "execution_count": null,
   "metadata": {
    "collapsed": true
   },
   "outputs": [],
   "source": []
  }
 ],
 "metadata": {
  "kernelspec": {
   "display_name": "Python 3",
   "language": "python",
   "name": "python3"
  },
  "language_info": {
   "codemirror_mode": {
    "name": "ipython",
    "version": 3
   },
   "file_extension": ".py",
   "mimetype": "text/x-python",
   "name": "python",
   "nbconvert_exporter": "python",
   "pygments_lexer": "ipython3",
   "version": "3.6.1"
  }
 },
 "nbformat": 4,
 "nbformat_minor": 2
}
