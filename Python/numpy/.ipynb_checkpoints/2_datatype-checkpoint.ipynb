{
 "cells": [
  {
   "cell_type": "markdown",
   "metadata": {},
   "source": [
    "### Datatype\n",
    "- boolean : bool\n",
    "- integer : int64\n",
    "- float : float64\n",
    "- byte String : S24\n",
    "- unicode String : U24"
   ]
  },
  {
   "cell_type": "code",
   "execution_count": 1,
   "metadata": {
    "collapsed": true
   },
   "outputs": [],
   "source": [
    "import numpy as np"
   ]
  },
  {
   "cell_type": "code",
   "execution_count": 2,
   "metadata": {},
   "outputs": [
    {
     "data": {
      "text/plain": [
       "dtype('bool')"
      ]
     },
     "execution_count": 2,
     "metadata": {},
     "output_type": "execute_result"
    }
   ],
   "source": [
    "na = np.array([True, False])\n",
    "na.dtype"
   ]
  },
  {
   "cell_type": "code",
   "execution_count": 6,
   "metadata": {},
   "outputs": [
    {
     "data": {
      "text/plain": [
       "dtype('int32')"
      ]
     },
     "execution_count": 6,
     "metadata": {},
     "output_type": "execute_result"
    }
   ],
   "source": [
    "na = np.array([1, 2, 3])\n",
    "na.dtype"
   ]
  },
  {
   "cell_type": "code",
   "execution_count": 7,
   "metadata": {},
   "outputs": [
    {
     "data": {
      "text/plain": [
       "dtype('float64')"
      ]
     },
     "execution_count": 7,
     "metadata": {},
     "output_type": "execute_result"
    }
   ],
   "source": [
    "na = np.array([1.0, 2.0, 3.0])\n",
    "na.dtype"
   ]
  },
  {
   "cell_type": "markdown",
   "metadata": {},
   "source": [
    "##### change datatype"
   ]
  },
  {
   "cell_type": "code",
   "execution_count": 9,
   "metadata": {},
   "outputs": [
    {
     "name": "stdout",
     "output_type": "stream",
     "text": [
      "[-1.   0.   1.   2.2  3.8]\n",
      "[-1  0  1  2  3]\n",
      "[ True False  True  True  True]\n",
      "[b'True' b'False' b'True' b'True' b'True']\n",
      "['True' 'False' 'True' 'True' 'True']\n"
     ]
    }
   ],
   "source": [
    "na = np.array([-1.0, 0.0, 1.0, 2.2, 3.8])\n",
    "print(na)\n",
    "\n",
    "na = na.astype('int64')\n",
    "print(na)\n",
    "\n",
    "na = na.astype('bool')\n",
    "print(na)\n",
    "\n",
    "na = na.astype('S24')\n",
    "print(na)\n",
    "\n",
    "na = na.astype('U24')\n",
    "print(na)"
   ]
  },
  {
   "cell_type": "code",
   "execution_count": 13,
   "metadata": {},
   "outputs": [
    {
     "name": "stdout",
     "output_type": "stream",
     "text": [
      "[[  3.91391349e-01   7.18871082e-01   5.02500965e-04   5.71513890e-01\n",
      "    8.18451999e-01]\n",
      " [  1.20729278e-01   8.76937171e-01   1.51271766e-01   3.41936621e-02\n",
      "    8.43367359e-01]\n",
      " [  9.22889703e-01   5.90013511e-01   4.10758757e-01   9.70026319e-01\n",
      "    7.05026385e-01]\n",
      " [  9.54036048e-01   8.61388357e-01   7.85166390e-02   5.86498984e-02\n",
      "    9.35344583e-02]\n",
      " [  6.63791155e-01   6.57247844e-01   1.02528203e-01   3.09632121e-01\n",
      "    2.49105969e-01]]\n",
      "[[ 7  9  5  8  9]\n",
      " [ 5 10  5  5 10]\n",
      " [10  8  7 10  9]\n",
      " [10 10  5  5  5]\n",
      " [ 8  8  5  6  6]]\n"
     ]
    }
   ],
   "source": [
    "# 5~10까지 랜덤한 숫자가 들어있는 5*5 행렬\n",
    "na = np.random.rand(5,5)\n",
    "print(na)\n",
    "\n",
    "na = (na*6+5).astype('int64')\n",
    "print(na)"
   ]
  }
 ],
 "metadata": {
  "kernelspec": {
   "display_name": "Python 3",
   "language": "python",
   "name": "python3"
  },
  "language_info": {
   "codemirror_mode": {
    "name": "ipython",
    "version": 3
   },
   "file_extension": ".py",
   "mimetype": "text/x-python",
   "name": "python",
   "nbconvert_exporter": "python",
   "pygments_lexer": "ipython3",
   "version": "3.6.1"
  }
 },
 "nbformat": 4,
 "nbformat_minor": 2
}
