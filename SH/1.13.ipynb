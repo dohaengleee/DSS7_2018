{
 "cells": [
  {
   "cell_type": "code",
   "execution_count": 30,
   "metadata": {},
   "outputs": [],
   "source": [
    "import numpy as np\n",
    "import scipy as sp\n",
    "import pandas as pd\n",
    "import matplotlib as mpl\n",
    "mpl.use('Agg')\n",
    "import matplotlib.pylab as plt\n",
    "from mpl_toolkits.mplot3d import Axes3D\n",
    "from sklearn.datasets import load_digits\n",
    "\n",
    "import seaborn as sns\n",
    "sns.set()\n",
    "sns.set_style(\"whitegrid\")\n",
    "sns.set_color_codes()"
   ]
  },
  {
   "cell_type": "code",
   "execution_count": 11,
   "metadata": {
    "scrolled": true
   },
   "outputs": [
    {
     "data": {
      "text/plain": [
       "array([[ 5.1],\n",
       "       [ 3.5],\n",
       "       [ 1.4],\n",
       "       [ 0.2]])"
      ]
     },
     "execution_count": 11,
     "metadata": {},
     "output_type": "execute_result"
    }
   ],
   "source": [
    "x1 = np.array([[5.1],[3.5],[1.4],[0.2]])\n",
    "x1"
   ]
  },
  {
   "cell_type": "code",
   "execution_count": 12,
   "metadata": {},
   "outputs": [
    {
     "data": {
      "text/plain": [
       "array([ 5.1,  3.5,  1.4,  0.2])"
      ]
     },
     "execution_count": 12,
     "metadata": {},
     "output_type": "execute_result"
    }
   ],
   "source": [
    "x1 = np.array([5.1,3.5,1.4,0.2])\n",
    "x1"
   ]
  },
  {
   "cell_type": "code",
   "execution_count": 16,
   "metadata": {},
   "outputs": [
    {
     "data": {
      "text/plain": [
       "array([[ 4.9],\n",
       "       [ 3. ],\n",
       "       [ 1.4],\n",
       "       [ 0.2]])"
      ]
     },
     "execution_count": 16,
     "metadata": {},
     "output_type": "execute_result"
    }
   ],
   "source": [
    "x2 = np.array([[4.9],[3.0],[1.4],[0.2]])\n",
    "x2"
   ]
  },
  {
   "cell_type": "code",
   "execution_count": 14,
   "metadata": {},
   "outputs": [
    {
     "data": {
      "text/plain": [
       "array([[11, 12, 13],\n",
       "       [21, 22, 23]])"
      ]
     },
     "execution_count": 14,
     "metadata": {},
     "output_type": "execute_result"
    }
   ],
   "source": [
    "A = np.array([[11,12,13],[21,22,23]])\n",
    "A"
   ]
  },
  {
   "cell_type": "code",
   "execution_count": 37,
   "metadata": {},
   "outputs": [
    {
     "data": {
      "image/png": "[encoded data removed]",
      "text/plain": [
       "<matplotlib.figure.Figure at 0x2145b21fbe0>"
      ]
     },
     "metadata": {},
     "output_type": "display_data"
    }
   ],
   "source": [
    "%matplotlib inline\n",
    "\n",
    "digits = load_digits()\n",
    "d0 = digits.images[0]\n",
    "d1 = digits.images[10]\n",
    "d2 = digits.images[1]\n",
    "d3 = digits.images[11]\n",
    "\n",
    "f, ax = plt.subplots(1, 4)\n",
    "ax[0].imshow(d0, interpolation = 'nearest', cmap = plt.cm.bone_r)\n",
    "ax[0].grid(False)\n",
    "ax[1].imshow(d1, interpolation = 'nearest', cmap = plt.cm.bone_r)\n",
    "ax[1].grid(False)\n",
    "ax[2].imshow(d2, interpolation = 'nearest', cmap = plt.cm.bone_r)\n",
    "ax[2].grid(False)\n",
    "ax[3].imshow(d3, interpolation = 'nearest', cmap = plt.cm.bone_r)\n",
    "ax[3].grid(False)\n",
    "plt.show()"
   ]
  },
  {
   "cell_type": "code",
   "execution_count": 38,
   "metadata": {},
   "outputs": [
    {
     "data": {
      "image/png": "[encoded data removed]",
      "text/plain": [
       "<matplotlib.figure.Figure at 0x2145c5b3eb8>"
      ]
     },
     "metadata": {},
     "output_type": "display_data"
    }
   ],
   "source": [
    "v0 = d0.reshape(64, 1)\n",
    "v1 = d1.reshape(64, 1)\n",
    "v2 = d2.reshape(64, 1)\n",
    "v3 = d3.reshape(64, 1)\n",
    "\n",
    "f, ax = plt.subplots(4, 1, figsize = (12, 2))\n",
    "ax[0].imshow(v0.T, interpolation = 'nearest', cmap=plt.cm.bone_r)\n",
    "ax[0].grid(False); ax[0].set_xticks([]); ax[0].set_yticks([])\n",
    "ax[1].imshow(v1.T, interpolation = 'nearest', cmap=plt.cm.bone_r)\n",
    "ax[1].grid(False); ax[1].set_xticks([]); ax[1].set_yticks([])\n",
    "ax[2].imshow(v2.T, interpolation = 'nearest', cmap=plt.cm.bone_r)\n",
    "ax[2].grid(False); ax[2].set_xticks([]); ax[2].set_yticks([])\n",
    "ax[3].imshow(v3.T, interpolation = 'nearest', cmap=plt.cm.bone_r)\n",
    "ax[3].grid(False); ax[3].set_xticks([]); ax[3].set_yticks([])\n",
    "plt.tight_layout()\n",
    "plt.show()"
   ]
  },
  {
   "cell_type": "code",
   "execution_count": 43,
   "metadata": {},
   "outputs": [
    {
     "data": {
      "text/plain": [
       "array([[ 5.1,  4.9],\n",
       "       [ 3.5,  3. ],\n",
       "       [ 1.4,  1.4],\n",
       "       [ 0.2,  0.2]])"
      ]
     },
     "execution_count": 43,
     "metadata": {},
     "output_type": "execute_result"
    }
   ],
   "source": [
    "X = np.array([[5.1, 3.5, 1.4, 0.2],[4.9, 3.0, 1.4, 0.2]])\n",
    "X.T"
   ]
  },
  {
   "cell_type": "code",
   "execution_count": 45,
   "metadata": {},
   "outputs": [
    {
     "data": {
      "text/plain": [
       "array([[ 5.1,  3.5,  1.4,  0.2],\n",
       "       [ 4.9,  3. ,  1.4,  0.2]])"
      ]
     },
     "execution_count": 45,
     "metadata": {},
     "output_type": "execute_result"
    }
   ],
   "source": [
    "(X.T).T"
   ]
  },
  {
   "cell_type": "code",
   "execution_count": 59,
   "metadata": {},
   "outputs": [
    {
     "name": "stdout",
     "output_type": "stream",
     "text": [
      "[[0]\n",
      " [0]\n",
      " [0]\n",
      " [0]]\n",
      "[[1]\n",
      " [1]\n",
      " [1]\n",
      " [1]]\n",
      "[[1 2 3]\n",
      " [4 5 6]\n",
      " [7 8 9]]\n"
     ]
    }
   ],
   "source": [
    "zero = np.array([[0],[0],[0],[0]])\n",
    "print(zero)\n",
    "\n",
    "one = np.array([[1],[1],[1],[1]])\n",
    "print(one)\n",
    "\n",
    "square_matrix = np.array([[1,2,3],[4,5,6],[7,8,9]])\n",
    "print(square_matrix)"
   ]
  },
  {
   "cell_type": "code",
   "execution_count": 58,
   "metadata": {},
   "outputs": [
    {
     "name": "stdout",
     "output_type": "stream",
     "text": [
      "[[6 0 0]\n",
      " [0 7 0]\n",
      " [0 0 8]]\n",
      "[[ 1.  0.  0.  0.  0.]\n",
      " [ 0.  1.  0.  0.  0.]\n",
      " [ 0.  0.  1.  0.  0.]\n",
      " [ 0.  0.  0.  1.  0.]\n",
      " [ 0.  0.  0.  0.  1.]]\n",
      "[[6 0 0]\n",
      " [0 7 0]\n",
      " [0 0 8]]\n"
     ]
    }
   ],
   "source": [
    "diagonal = np.diag([6,7,8])\n",
    "print(diagonal)\n",
    "\n",
    "identity = np.eye(5)\n",
    "print(identity)\n",
    "\n",
    "symmetric = diagonal.T\n",
    "print(symmetric)"
   ]
  },
  {
   "cell_type": "code",
   "execution_count": 28,
   "metadata": {
    "collapsed": true
   },
   "outputs": [],
   "source": [
    "digits = load_digits()\n",
    "d0 = digits.images[0]\n",
    "d1 = digits.images[10]\n",
    "d2 = digits.images[1]\n",
    "d3 = digits.images[11]\n",
    "\n",
    "f, ax = plt.subplots(1, 4)\n",
    "ax[0].imshow(d0, interpolation='nearest', cmap=plt.cm.bone_r)\n",
    "ax[0].grid(False)\n",
    "ax[1].imshow(d1, interpolation='nearest', cmap=plt.cm.bone_r)\n",
    "ax[1].grid(False)\n",
    "ax[2].imshow(d2, interpolation='nearest', cmap=plt.cm.bone_r)\n",
    "ax[2].grid(False)\n",
    "ax[3].imshow(d3, interpolation='nearest', cmap=plt.cm.bone_r)\n",
    "ax[3].grid(False)\n",
    "plt.show()"
   ]
  },
  {
   "cell_type": "markdown",
   "metadata": {},
   "source": [
    "## 벡터와 행렬의 연산"
   ]
  },
  {
   "cell_type": "code",
   "execution_count": 62,
   "metadata": {},
   "outputs": [
    {
     "name": "stdout",
     "output_type": "stream",
     "text": [
      "[[100]\n",
      " [ 80]\n",
      " [ 50]]\n",
      "[[3]\n",
      " [4]\n",
      " [5]]\n"
     ]
    }
   ],
   "source": [
    "p = np.array([[100],[80],[50]])\n",
    "n = np.array([[3],[4],[5]])\n",
    "print(p)\n",
    "print(n)"
   ]
  },
  {
   "cell_type": "code",
   "execution_count": 64,
   "metadata": {
    "scrolled": true
   },
   "outputs": [
    {
     "name": "stdout",
     "output_type": "stream",
     "text": [
      "100*3 + 80*4 + 50*5 =  870\n"
     ]
    }
   ],
   "source": [
    "print (\"100*3 + 80*4 + 50*5 = \",np.dot(p.T, n)[0, 0])"
   ]
  },
  {
   "cell_type": "code",
   "execution_count": 72,
   "metadata": {},
   "outputs": [
    {
     "data": {
      "text/plain": [
       "1797"
      ]
     },
     "execution_count": 72,
     "metadata": {},
     "output_type": "execute_result"
    }
   ],
   "source": [
    "len(digits.images[:])"
   ]
  },
  {
   "cell_type": "code",
   "execution_count": 77,
   "metadata": {},
   "outputs": [
    {
     "name": "stdout",
     "output_type": "stream",
     "text": [
      "[[22 28]\n",
      " [49 64]]\n",
      "----------\n",
      "[[ 9 12 15]\n",
      " [19 26 33]\n",
      " [29 40 51]]\n"
     ]
    }
   ],
   "source": [
    "A = np.array([[1,2,3],[4,5,6]])\n",
    "B = np.array([[1,2],[3,4],[5,6]])\n",
    "\n",
    "C = np.dot(A, B)\n",
    "print(C)\n",
    "\n",
    "print (\"----------\")\n",
    "\n",
    "D = np.dot(B, A)\n",
    "print(D)"
   ]
  },
  {
   "cell_type": "code",
   "execution_count": 82,
   "metadata": {},
   "outputs": [
    {
     "name": "stdout",
     "output_type": "stream",
     "text": [
      "[[32 50]]\n"
     ]
    }
   ],
   "source": [
    "A = np.array([[1,2,3]])\n",
    "B = np.array([[4,7],[5,8],[6,9]])\n",
    "\n",
    "C = np.dot(A,B)\n",
    "print(C)\n",
    "\n",
    "#계산 불가능\n",
    "#D = np.dot(B,A)\n",
    "#print(D)          "
   ]
  },
  {
   "cell_type": "code",
   "execution_count": 87,
   "metadata": {},
   "outputs": [
    {
     "name": "stdout",
     "output_type": "stream",
     "text": [
      "[[19 22]\n",
      " [43 50]]\n",
      "---------\n",
      "[[23 34]\n",
      " [31 46]]\n"
     ]
    }
   ],
   "source": [
    "A = np.array([[1,2],[3,4]])\n",
    "B = np.array([[5,6],[7,8]])\n",
    "\n",
    "C = np.dot(A,B)\n",
    "print(C)\n",
    "\n",
    "print (\"---------\")\n",
    "\n",
    "D = np.dot(B,A)\n",
    "print(D)"
   ]
  },
  {
   "cell_type": "code",
   "execution_count": 95,
   "metadata": {},
   "outputs": [
    {
     "name": "stdout",
     "output_type": "stream",
     "text": [
      "[[14]]\n",
      "----------\n",
      "[[1 2 3]\n",
      " [2 4 6]\n",
      " [3 6 9]]\n"
     ]
    }
   ],
   "source": [
    "x = np.array([[1],[2],[3]])\n",
    "print(np.dot(x.T,x))\n",
    "print(\"----------\")\n",
    "print(np.dot(x,x.T))"
   ]
  },
  {
   "cell_type": "code",
   "execution_count": null,
   "metadata": {
    "collapsed": true
   },
   "outputs": [],
   "source": []
  },
  {
   "cell_type": "code",
   "execution_count": null,
   "metadata": {
    "collapsed": true
   },
   "outputs": [],
   "source": []
  },
  {
   "cell_type": "code",
   "execution_count": null,
   "metadata": {
    "collapsed": true
   },
   "outputs": [],
   "source": []
  },
  {
   "cell_type": "code",
   "execution_count": null,
   "metadata": {
    "collapsed": true
   },
   "outputs": [],
   "source": []
  },
  {
   "cell_type": "code",
   "execution_count": null,
   "metadata": {
    "collapsed": true
   },
   "outputs": [],
   "source": []
  },
  {
   "cell_type": "code",
   "execution_count": null,
   "metadata": {
    "collapsed": true
   },
   "outputs": [],
   "source": []
  }
 ],
 "metadata": {
  "kernelspec": {
   "display_name": "Python 3",
   "language": "python",
   "name": "python3"
  },
  "language_info": {
   "codemirror_mode": {
    "name": "ipython",
    "version": 3
   },
   "file_extension": ".py",
   "mimetype": "text/x-python",
   "name": "python",
   "nbconvert_exporter": "python",
   "pygments_lexer": "ipython3",
   "version": "3.6.1"
  }
 },
 "nbformat": 4,
 "nbformat_minor": 2
}
