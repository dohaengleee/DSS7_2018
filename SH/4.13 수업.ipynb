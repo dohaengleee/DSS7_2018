{
 "cells": [
  {
   "cell_type": "code",
   "execution_count": 1,
   "metadata": {},
   "outputs": [],
   "source": [
    "import os\n",
    "os.environ['MKL_THREADING_LAYER'] = 'GNU'"
   ]
  },
  {
   "cell_type": "code",
   "execution_count": 10,
   "metadata": {},
   "outputs": [],
   "source": [
    "import theano\n",
    "import theano.tensor as T\n",
    "from IPython.display import SVG"
   ]
  },
  {
   "cell_type": "code",
   "execution_count": 3,
   "metadata": {},
   "outputs": [],
   "source": [
    "x1 = T.dscalar('x1')\n",
    "y1 = T.dscalar('y1')"
   ]
  },
  {
   "cell_type": "code",
   "execution_count": 4,
   "metadata": {},
   "outputs": [
    {
     "data": {
      "text/plain": [
       "(theano.tensor.var.TensorVariable, theano.tensor.var.TensorVariable)"
      ]
     },
     "execution_count": 4,
     "metadata": {},
     "output_type": "execute_result"
    }
   ],
   "source": [
    "type(x1), type(y1)"
   ]
  },
  {
   "cell_type": "code",
   "execution_count": 9,
   "metadata": {},
   "outputs": [],
   "source": [
    "z1 = x1 + y1 # graph"
   ]
  },
  {
   "cell_type": "code",
   "execution_count": 6,
   "metadata": {},
   "outputs": [
    {
     "data": {
      "text/plain": [
       "theano.tensor.var.TensorVariable"
      ]
     },
     "execution_count": 6,
     "metadata": {},
     "output_type": "execute_result"
    }
   ],
   "source": [
    "type(z1)"
   ]
  },
  {
   "cell_type": "code",
   "execution_count": 7,
   "metadata": {},
   "outputs": [],
   "source": [
    "u1 = T.exp(z1)"
   ]
  },
  {
   "cell_type": "code",
   "execution_count": 8,
   "metadata": {},
   "outputs": [
    {
     "data": {
      "text/plain": [
       "theano.tensor.var.TensorVariable"
      ]
     },
     "execution_count": 8,
     "metadata": {},
     "output_type": "execute_result"
    }
   ],
   "source": [
    "type(u1)"
   ]
  },
  {
   "cell_type": "code",
   "execution_count": 11,
   "metadata": {},
   "outputs": [
    {
     "data": {
      "image/svg+xml": [
       "<svg height=\"204pt\" viewBox=\"0.00 0.00 480.00 204.00\" width=\"480pt\" xmlns=\"http://www.w3.org/2000/svg\" xmlns:xlink=\"http://www.w3.org/1999/xlink\">\n",
       "<g class=\"graph\" id=\"graph0\" transform=\"scale(1 1) rotate(0) translate(4 200)\">\n",
       "<title>G</title>\n",
       "<polygon fill=\"white\" points=\"-4,4 -4,-200 476,-200 476,4 -4,4\" stroke=\"none\"/>\n",
       "<!-- 1687738694176 -->\n",
       "<g class=\"node\" id=\"node1\"><title>1687738694176</title>\n",
       "<ellipse cx=\"235.5\" cy=\"-91\" fill=\"#ffaabb\" rx=\"109.381\" ry=\"18\" stroke=\"black\"/>\n",
       "<text font-family=\"Times New Roman,serif\" font-size=\"14.00\" text-anchor=\"middle\" x=\"235.5\" y=\"-87.3\">Elemwise{add,no_inplace}</text>\n",
       "</g>\n",
       "<!-- 1687741175456 -->\n",
       "<g class=\"node\" id=\"node4\"><title>1687741175456</title>\n",
       "<polygon fill=\"blue\" points=\"322,-36 149,-36 149,-0 322,-0 322,-36\" stroke=\"black\"/>\n",
       "<text font-family=\"Times New Roman,serif\" font-size=\"14.00\" text-anchor=\"middle\" x=\"235.5\" y=\"-14.3\">TensorType(float64, scalar)</text>\n",
       "</g>\n",
       "<!-- 1687738694176&#45;&gt;1687741175456 -->\n",
       "<g class=\"edge\" id=\"edge3\"><title>1687738694176-&gt;1687741175456</title>\n",
       "<path d=\"M235.5,-72.8129C235.5,-64.7895 235.5,-55.0475 235.5,-46.0691\" fill=\"none\" stroke=\"black\"/>\n",
       "<polygon fill=\"black\" points=\"239,-46.0288 235.5,-36.0288 232,-46.0289 239,-46.0288\" stroke=\"black\"/>\n",
       "</g>\n",
       "<!-- 1687738709776 -->\n",
       "<g class=\"node\" id=\"node2\"><title>1687738709776</title>\n",
       "<polygon fill=\"green\" points=\"227,-196 0,-196 0,-160 227,-160 227,-196\" stroke=\"black\"/>\n",
       "<text font-family=\"Times New Roman,serif\" font-size=\"14.00\" text-anchor=\"middle\" x=\"113.5\" y=\"-174.3\">name=x1 TensorType(float64, scalar)</text>\n",
       "</g>\n",
       "<!-- 1687738709776&#45;&gt;1687738694176 -->\n",
       "<g class=\"edge\" id=\"edge1\"><title>1687738709776-&gt;1687738694176</title>\n",
       "<path d=\"M138.189,-159.799C156.953,-146.725 182.925,-128.63 203.318,-114.422\" fill=\"none\" stroke=\"black\"/>\n",
       "<polygon fill=\"black\" points=\"205.474,-117.185 211.678,-108.597 201.473,-111.442 205.474,-117.185\" stroke=\"black\"/>\n",
       "<text font-family=\"Times New Roman,serif\" font-size=\"14.00\" text-anchor=\"middle\" x=\"186\" y=\"-130.8\">0</text>\n",
       "</g>\n",
       "<!-- 1687738693448 -->\n",
       "<g class=\"node\" id=\"node3\"><title>1687738693448</title>\n",
       "<polygon fill=\"green\" points=\"472,-196 245,-196 245,-160 472,-160 472,-196\" stroke=\"black\"/>\n",
       "<text font-family=\"Times New Roman,serif\" font-size=\"14.00\" text-anchor=\"middle\" x=\"358.5\" y=\"-174.3\">name=y1 TensorType(float64, scalar)</text>\n",
       "</g>\n",
       "<!-- 1687738693448&#45;&gt;1687738694176 -->\n",
       "<g class=\"edge\" id=\"edge2\"><title>1687738693448-&gt;1687738694176</title>\n",
       "<path d=\"M333.609,-159.799C314.691,-146.725 288.506,-128.63 267.946,-114.422\" fill=\"none\" stroke=\"black\"/>\n",
       "<polygon fill=\"black\" points=\"269.733,-111.403 259.517,-108.597 265.754,-117.162 269.733,-111.403\" stroke=\"black\"/>\n",
       "<text font-family=\"Times New Roman,serif\" font-size=\"14.00\" text-anchor=\"middle\" x=\"308\" y=\"-130.8\">1</text>\n",
       "</g>\n",
       "</g>\n",
       "</svg>"
      ],
      "text/plain": [
       "<IPython.core.display.SVG object>"
      ]
     },
     "execution_count": 11,
     "metadata": {},
     "output_type": "execute_result"
    }
   ],
   "source": [
    "SVG(theano.printing.pydotprint(z1, return_image=True, format='svg'))"
   ]
  },
  {
   "cell_type": "code",
   "execution_count": 12,
   "metadata": {},
   "outputs": [
    {
     "data": {
      "image/svg+xml": [
       "<svg height=\"291pt\" viewBox=\"0.00 0.00 480.00 291.00\" width=\"480pt\" xmlns=\"http://www.w3.org/2000/svg\" xmlns:xlink=\"http://www.w3.org/1999/xlink\">\n",
       "<g class=\"graph\" id=\"graph0\" transform=\"scale(1 1) rotate(0) translate(4 287)\">\n",
       "<title>G</title>\n",
       "<polygon fill=\"white\" points=\"-4,4 -4,-287 476,-287 476,4 -4,4\" stroke=\"none\"/>\n",
       "<!-- 1687750359024 -->\n",
       "<g class=\"node\" id=\"node1\"><title>1687750359024</title>\n",
       "<ellipse cx=\"235.5\" cy=\"-178\" fill=\"#ffaabb\" rx=\"109.381\" ry=\"18\" stroke=\"black\"/>\n",
       "<text font-family=\"Times New Roman,serif\" font-size=\"14.00\" text-anchor=\"middle\" x=\"235.5\" y=\"-174.3\">Elemwise{add,no_inplace}</text>\n",
       "</g>\n",
       "<!-- 1687750359304 -->\n",
       "<g class=\"node\" id=\"node4\"><title>1687750359304</title>\n",
       "<ellipse cx=\"235.5\" cy=\"-91\" fill=\"#ffaabb\" rx=\"108.581\" ry=\"18\" stroke=\"black\"/>\n",
       "<text font-family=\"Times New Roman,serif\" font-size=\"14.00\" text-anchor=\"middle\" x=\"235.5\" y=\"-87.3\">Elemwise{exp,no_inplace}</text>\n",
       "</g>\n",
       "<!-- 1687750359024&#45;&gt;1687750359304 -->\n",
       "<g class=\"edge\" id=\"edge3\"><title>1687750359024-&gt;1687750359304</title>\n",
       "<path d=\"M235.5,-159.799C235.5,-148.163 235.5,-132.548 235.5,-119.237\" fill=\"none\" stroke=\"black\"/>\n",
       "<polygon fill=\"black\" points=\"239,-119.175 235.5,-109.175 232,-119.175 239,-119.175\" stroke=\"black\"/>\n",
       "<text font-family=\"Times New Roman,serif\" font-size=\"14.00\" text-anchor=\"middle\" x=\"314\" y=\"-130.8\">TensorType(float64, scalar)</text>\n",
       "</g>\n",
       "<!-- 1687750358688 -->\n",
       "<g class=\"node\" id=\"node2\"><title>1687750358688</title>\n",
       "<polygon fill=\"green\" points=\"227,-283 0,-283 0,-247 227,-247 227,-283\" stroke=\"black\"/>\n",
       "<text font-family=\"Times New Roman,serif\" font-size=\"14.00\" text-anchor=\"middle\" x=\"113.5\" y=\"-261.3\">name=x1 TensorType(float64, scalar)</text>\n",
       "</g>\n",
       "<!-- 1687750358688&#45;&gt;1687750359024 -->\n",
       "<g class=\"edge\" id=\"edge1\"><title>1687750358688-&gt;1687750359024</title>\n",
       "<path d=\"M138.189,-246.799C156.953,-233.725 182.925,-215.63 203.318,-201.422\" fill=\"none\" stroke=\"black\"/>\n",
       "<polygon fill=\"black\" points=\"205.474,-204.185 211.678,-195.597 201.473,-198.442 205.474,-204.185\" stroke=\"black\"/>\n",
       "<text font-family=\"Times New Roman,serif\" font-size=\"14.00\" text-anchor=\"middle\" x=\"186\" y=\"-217.8\">0</text>\n",
       "</g>\n",
       "<!-- 1687750358856 -->\n",
       "<g class=\"node\" id=\"node3\"><title>1687750358856</title>\n",
       "<polygon fill=\"green\" points=\"472,-283 245,-283 245,-247 472,-247 472,-283\" stroke=\"black\"/>\n",
       "<text font-family=\"Times New Roman,serif\" font-size=\"14.00\" text-anchor=\"middle\" x=\"358.5\" y=\"-261.3\">name=y1 TensorType(float64, scalar)</text>\n",
       "</g>\n",
       "<!-- 1687750358856&#45;&gt;1687750359024 -->\n",
       "<g class=\"edge\" id=\"edge2\"><title>1687750358856-&gt;1687750359024</title>\n",
       "<path d=\"M333.609,-246.799C314.691,-233.725 288.506,-215.63 267.946,-201.422\" fill=\"none\" stroke=\"black\"/>\n",
       "<polygon fill=\"black\" points=\"269.733,-198.403 259.517,-195.597 265.754,-204.162 269.733,-198.403\" stroke=\"black\"/>\n",
       "<text font-family=\"Times New Roman,serif\" font-size=\"14.00\" text-anchor=\"middle\" x=\"308\" y=\"-217.8\">1</text>\n",
       "</g>\n",
       "<!-- 1687750359528 -->\n",
       "<g class=\"node\" id=\"node5\"><title>1687750359528</title>\n",
       "<polygon fill=\"blue\" points=\"322,-36 149,-36 149,-0 322,-0 322,-36\" stroke=\"black\"/>\n",
       "<text font-family=\"Times New Roman,serif\" font-size=\"14.00\" text-anchor=\"middle\" x=\"235.5\" y=\"-14.3\">TensorType(float64, scalar)</text>\n",
       "</g>\n",
       "<!-- 1687750359304&#45;&gt;1687750359528 -->\n",
       "<g class=\"edge\" id=\"edge4\"><title>1687750359304-&gt;1687750359528</title>\n",
       "<path d=\"M235.5,-72.8129C235.5,-64.7895 235.5,-55.0475 235.5,-46.0691\" fill=\"none\" stroke=\"black\"/>\n",
       "<polygon fill=\"black\" points=\"239,-46.0288 235.5,-36.0288 232,-46.0289 239,-46.0288\" stroke=\"black\"/>\n",
       "</g>\n",
       "</g>\n",
       "</svg>"
      ],
      "text/plain": [
       "<IPython.core.display.SVG object>"
      ]
     },
     "execution_count": 12,
     "metadata": {},
     "output_type": "execute_result"
    }
   ],
   "source": [
    "SVG(theano.printing.pydotprint(u1, return_image=True, format='svg'))"
   ]
  },
  {
   "cell_type": "code",
   "execution_count": 13,
   "metadata": {},
   "outputs": [
    {
     "name": "stdout",
     "output_type": "stream",
     "text": [
      "Wall time: 1.68 s\n"
     ]
    }
   ],
   "source": [
    "%time f1 = theano.function(inputs=[x1, y1], outputs=z1)"
   ]
  },
  {
   "cell_type": "code",
   "execution_count": 14,
   "metadata": {},
   "outputs": [
    {
     "data": {
      "text/plain": [
       "array(3.)"
      ]
     },
     "execution_count": 14,
     "metadata": {},
     "output_type": "execute_result"
    }
   ],
   "source": [
    "f1(1,2)"
   ]
  },
  {
   "cell_type": "code",
   "execution_count": 15,
   "metadata": {},
   "outputs": [
    {
     "name": "stdout",
     "output_type": "stream",
     "text": [
      "Wall time: 0 ns\n"
     ]
    },
    {
     "data": {
      "text/plain": [
       "array([4., 6.])"
      ]
     },
     "execution_count": 15,
     "metadata": {},
     "output_type": "execute_result"
    }
   ],
   "source": [
    "%time\n",
    "x2 = T.dvector('x2')\n",
    "y2 = T.dvector('y2')\n",
    "z2 = x2 + y2\n",
    "f2 = theano.function([x2, y2], z2)\n",
    "f2([1, 2], [3, 4])"
   ]
  },
  {
   "cell_type": "code",
   "execution_count": 16,
   "metadata": {},
   "outputs": [
    {
     "data": {
      "text/plain": [
       "array([[4.],\n",
       "       [6.]])"
      ]
     },
     "execution_count": 16,
     "metadata": {},
     "output_type": "execute_result"
    }
   ],
   "source": [
    "x3 = T.dmatrix('x3')\n",
    "y3 = T.dmatrix('y3')\n",
    "z3 = x3 + y3\n",
    "f3 = theano.function([x3, y3], z3)\n",
    "f3([[1], [2]], [[3], [4]])"
   ]
  },
  {
   "cell_type": "code",
   "execution_count": 17,
   "metadata": {},
   "outputs": [
    {
     "data": {
      "text/plain": [
       "array(0.73105858)"
      ]
     },
     "execution_count": 17,
     "metadata": {},
     "output_type": "execute_result"
    }
   ],
   "source": [
    "s1 = 1 / (1 + T.exp(-x1))\n",
    "logistic = theano.function([x1], s1)\n",
    "logistic(1)"
   ]
  },
  {
   "cell_type": "code",
   "execution_count": 18,
   "metadata": {},
   "outputs": [
    {
     "data": {
      "text/plain": [
       "array([0.5       , 0.73105858])"
      ]
     },
     "execution_count": 18,
     "metadata": {},
     "output_type": "execute_result"
    }
   ],
   "source": [
    "s2 = 1 / (1 + T.exp(-x2))\n",
    "logistic2 = theano.function([x2], s2)\n",
    "logistic2([0, 1])"
   ]
  },
  {
   "cell_type": "code",
   "execution_count": 19,
   "metadata": {},
   "outputs": [],
   "source": [
    "test1 = T.dvector('test1')\n",
    "test2 = T.dmatrix('test2')"
   ]
  },
  {
   "cell_type": "code",
   "execution_count": 20,
   "metadata": {},
   "outputs": [],
   "source": [
    "result = T.dot(test1, test2)\n",
    "result_func = theano.function([test1, test2], result)"
   ]
  },
  {
   "cell_type": "code",
   "execution_count": 27,
   "metadata": {},
   "outputs": [
    {
     "ename": "TypeError",
     "evalue": "Bad input argument to theano function with name \"<ipython-input-20-8fc0c93787be>:2\" at index 0 (0-based).  \nBacktrace when that variable is created:\n\n  File \"C:\\Users\\user\\Anaconda3\\lib\\site-packages\\ipykernel\\kernelbase.py\", line 233, in dispatch_shell\n    handler(stream, idents, msg)\n  File \"C:\\Users\\user\\Anaconda3\\lib\\site-packages\\ipykernel\\kernelbase.py\", line 399, in execute_request\n    user_expressions, allow_stdin)\n  File \"C:\\Users\\user\\Anaconda3\\lib\\site-packages\\ipykernel\\ipkernel.py\", line 208, in do_execute\n    res = shell.run_cell(code, store_history=store_history, silent=silent)\n  File \"C:\\Users\\user\\Anaconda3\\lib\\site-packages\\ipykernel\\zmqshell.py\", line 537, in run_cell\n    return super(ZMQInteractiveShell, self).run_cell(*args, **kwargs)\n  File \"C:\\Users\\user\\Anaconda3\\lib\\site-packages\\IPython\\core\\interactiveshell.py\", line 2728, in run_cell\n    interactivity=interactivity, compiler=compiler, result=result)\n  File \"C:\\Users\\user\\Anaconda3\\lib\\site-packages\\IPython\\core\\interactiveshell.py\", line 2850, in run_ast_nodes\n    if self.run_code(code, result):\n  File \"C:\\Users\\user\\Anaconda3\\lib\\site-packages\\IPython\\core\\interactiveshell.py\", line 2910, in run_code\n    exec(code_obj, self.user_global_ns, self.user_ns)\n  File \"<ipython-input-19-f1db693f3046>\", line 1, in <module>\n    test1 = T.dvector('test1')\nWrong number of dimensions: expected 1, got 2 with shape (4, 3).",
     "output_type": "error",
     "traceback": [
      "\u001b[1;31m---------------------------------------------------------------------------\u001b[0m",
      "\u001b[1;31mTypeError\u001b[0m                                 Traceback (most recent call last)",
      "\u001b[1;32m<ipython-input-27-da21fff5236f>\u001b[0m in \u001b[0;36m<module>\u001b[1;34m()\u001b[0m\n\u001b[0;32m      2\u001b[0m             \u001b[1;33m[\u001b[0m\u001b[1;36m4\u001b[0m\u001b[1;33m,\u001b[0m\u001b[1;36m5\u001b[0m\u001b[1;33m,\u001b[0m\u001b[1;36m6\u001b[0m\u001b[1;33m]\u001b[0m\u001b[1;33m,\u001b[0m\u001b[1;33m\u001b[0m\u001b[0m\n\u001b[0;32m      3\u001b[0m             \u001b[1;33m[\u001b[0m\u001b[1;36m7\u001b[0m\u001b[1;33m,\u001b[0m\u001b[1;36m8\u001b[0m\u001b[1;33m,\u001b[0m\u001b[1;36m9\u001b[0m\u001b[1;33m]\u001b[0m\u001b[1;33m,\u001b[0m\u001b[1;33m\u001b[0m\u001b[0m\n\u001b[1;32m----> 4\u001b[1;33m             [10,11,12]], [1,2,3])\n\u001b[0m",
      "\u001b[1;32m~\\Anaconda3\\lib\\site-packages\\theano\\compile\\function_module.py\u001b[0m in \u001b[0;36m__call__\u001b[1;34m(self, *args, **kwargs)\u001b[0m\n\u001b[0;32m    811\u001b[0m                         s.storage[0] = s.type.filter(\n\u001b[0;32m    812\u001b[0m                             \u001b[0marg\u001b[0m\u001b[1;33m,\u001b[0m \u001b[0mstrict\u001b[0m\u001b[1;33m=\u001b[0m\u001b[0ms\u001b[0m\u001b[1;33m.\u001b[0m\u001b[0mstrict\u001b[0m\u001b[1;33m,\u001b[0m\u001b[1;33m\u001b[0m\u001b[0m\n\u001b[1;32m--> 813\u001b[1;33m                             allow_downcast=s.allow_downcast)\n\u001b[0m\u001b[0;32m    814\u001b[0m \u001b[1;33m\u001b[0m\u001b[0m\n\u001b[0;32m    815\u001b[0m                     \u001b[1;32mexcept\u001b[0m \u001b[0mException\u001b[0m \u001b[1;32mas\u001b[0m \u001b[0me\u001b[0m\u001b[1;33m:\u001b[0m\u001b[1;33m\u001b[0m\u001b[0m\n",
      "\u001b[1;32m~\\Anaconda3\\lib\\site-packages\\theano\\tensor\\type.py\u001b[0m in \u001b[0;36mfilter\u001b[1;34m(self, data, strict, allow_downcast)\u001b[0m\n\u001b[0;32m    176\u001b[0m             raise TypeError(\"Wrong number of dimensions: expected %s,\"\n\u001b[0;32m    177\u001b[0m                             \" got %s with shape %s.\" % (self.ndim, data.ndim,\n\u001b[1;32m--> 178\u001b[1;33m                                                         data.shape))\n\u001b[0m\u001b[0;32m    179\u001b[0m         \u001b[1;32mif\u001b[0m \u001b[1;32mnot\u001b[0m \u001b[0mdata\u001b[0m\u001b[1;33m.\u001b[0m\u001b[0mflags\u001b[0m\u001b[1;33m.\u001b[0m\u001b[0maligned\u001b[0m\u001b[1;33m:\u001b[0m\u001b[1;33m\u001b[0m\u001b[0m\n\u001b[0;32m    180\u001b[0m             \u001b[1;32mtry\u001b[0m\u001b[1;33m:\u001b[0m\u001b[1;33m\u001b[0m\u001b[0m\n",
      "\u001b[1;31mTypeError\u001b[0m: Bad input argument to theano function with name \"<ipython-input-20-8fc0c93787be>:2\" at index 0 (0-based).  \nBacktrace when that variable is created:\n\n  File \"C:\\Users\\user\\Anaconda3\\lib\\site-packages\\ipykernel\\kernelbase.py\", line 233, in dispatch_shell\n    handler(stream, idents, msg)\n  File \"C:\\Users\\user\\Anaconda3\\lib\\site-packages\\ipykernel\\kernelbase.py\", line 399, in execute_request\n    user_expressions, allow_stdin)\n  File \"C:\\Users\\user\\Anaconda3\\lib\\site-packages\\ipykernel\\ipkernel.py\", line 208, in do_execute\n    res = shell.run_cell(code, store_history=store_history, silent=silent)\n  File \"C:\\Users\\user\\Anaconda3\\lib\\site-packages\\ipykernel\\zmqshell.py\", line 537, in run_cell\n    return super(ZMQInteractiveShell, self).run_cell(*args, **kwargs)\n  File \"C:\\Users\\user\\Anaconda3\\lib\\site-packages\\IPython\\core\\interactiveshell.py\", line 2728, in run_cell\n    interactivity=interactivity, compiler=compiler, result=result)\n  File \"C:\\Users\\user\\Anaconda3\\lib\\site-packages\\IPython\\core\\interactiveshell.py\", line 2850, in run_ast_nodes\n    if self.run_code(code, result):\n  File \"C:\\Users\\user\\Anaconda3\\lib\\site-packages\\IPython\\core\\interactiveshell.py\", line 2910, in run_code\n    exec(code_obj, self.user_global_ns, self.user_ns)\n  File \"<ipython-input-19-f1db693f3046>\", line 1, in <module>\n    test1 = T.dvector('test1')\nWrong number of dimensions: expected 1, got 2 with shape (4, 3)."
     ]
    }
   ],
   "source": [
    "result_func([[1,2,3],\n",
    "            [4,5,6],\n",
    "            [7,8,9],\n",
    "            [10,11,12]], [1,2,3])"
   ]
  }
 ],
 "metadata": {
  "kernelspec": {
   "display_name": "Python 3",
   "language": "python",
   "name": "python3"
  },
  "language_info": {
   "codemirror_mode": {
    "name": "ipython",
    "version": 3
   },
   "file_extension": ".py",
   "mimetype": "text/x-python",
   "name": "python",
   "nbconvert_exporter": "python",
   "pygments_lexer": "ipython3",
   "version": "3.6.4"
  }
 },
 "nbformat": 4,
 "nbformat_minor": 2
}
