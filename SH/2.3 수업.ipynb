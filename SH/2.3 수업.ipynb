{
 "cells": [
  {
   "cell_type": "code",
   "execution_count": 8,
   "metadata": {},
   "outputs": [],
   "source": [
    "JS = {frozenset({'1'}) : 0.5, \n",
    "     frozenset({'2'}) : 0.3, \n",
    "     frozenset({'3'}) : 0.2,\n",
    "     frozenset({'4'}) : 0,\n",
    "     frozenset({'1, 2'}) : 0.8,\n",
    "     frozenset({'1, 3'}) : 0.7,\n",
    "     frozenset({'1, 4'}) : 0.5,\n",
    "     frozenset({'2, 3'}) : 0.5,\n",
    "     frozenset({'2, 4'}) : 0.3,\n",
    "     frozenset({'3, 4'}) : 0.2,\n",
    "     frozenset({'1, 2, 3'}) : 1,\n",
    "     frozenset({'1, 2, 4'}) : 0.8,\n",
    "     frozenset({'2, 3, 4'}) : 0.5,\n",
    "     frozenset({'1, 3, 4'}) : 0.7,\n",
    "     frozenset({'1, 2, 3, 4'}) : 1,\n",
    "     frozenset({}): 0\n",
    "     }"
   ]
  },
  {
   "cell_type": "code",
   "execution_count": 9,
   "metadata": {
    "scrolled": true
   },
   "outputs": [
    {
     "data": {
      "text/plain": [
       "{frozenset(): 0,\n",
       " frozenset({'1'}): 0.5,\n",
       " frozenset({'2'}): 0.3,\n",
       " frozenset({'3'}): 0.2,\n",
       " frozenset({'4'}): 0,\n",
       " frozenset({'1, 2'}): 0.8,\n",
       " frozenset({'1, 3'}): 0.7,\n",
       " frozenset({'1, 4'}): 0.5,\n",
       " frozenset({'2, 3'}): 0.5,\n",
       " frozenset({'2, 4'}): 0.3,\n",
       " frozenset({'3, 4'}): 0.2,\n",
       " frozenset({'1, 2, 3'}): 1,\n",
       " frozenset({'1, 2, 4'}): 0.8,\n",
       " frozenset({'2, 3, 4'}): 0.5,\n",
       " frozenset({'1, 3, 4'}): 0.7,\n",
       " frozenset({'1, 2, 3, 4'}): 1}"
      ]
     },
     "execution_count": 9,
     "metadata": {},
     "output_type": "execute_result"
    }
   ],
   "source": [
    "JS"
   ]
  },
  {
   "cell_type": "code",
   "execution_count": 14,
   "metadata": {},
   "outputs": [
    {
     "ename": "SyntaxError",
     "evalue": "invalid syntax (<ipython-input-14-fec9d94c1740>, line 13)",
     "output_type": "error",
     "traceback": [
      "\u001b[1;36m  File \u001b[1;32m\"<ipython-input-14-fec9d94c1740>\"\u001b[1;36m, line \u001b[1;32m13\u001b[0m\n\u001b[1;33m    frozenset{('B, C70'}),\u001b[0m\n\u001b[1;37m             ^\u001b[0m\n\u001b[1;31mSyntaxError\u001b[0m\u001b[1;31m:\u001b[0m invalid syntax\n"
     ]
    }
   ],
   "source": [
    "a = {frozenset({'A, B, C20'}),\n",
    "     frozenset({'A, C15'}),\n",
    "     frozenset({'A, C35'}),\n",
    "     frozenset({'A, C40'}),\n",
    "     frozenset({'B, C20'}),\n",
    "     frozenset({'B, C38'}),\n",
    "     frozenset({'B, C55'}),\n",
    "     frozenset({'B, C13'}),\n",
    "     frozenset({'B, C54'}),\n",
    "     frozenset({'A, C23'}),\n",
    "     frozenset({'A, B, C30'}),\n",
    "     frozenset({'B, C67'}),\n",
    "     frozenset{('B, C70'}),\n",
    "     frozenset({'B, C80'}),\n",
    "     frozenset({'A, C33'}),\n",
    "     frozenset({'C23'}),\n",
    "     frozenset({'C37'}),\n",
    "     frozenset({'C66'}),\n",
    "     frozenset({'C70'}),\n",
    "     frozenset({'C80'}),   \n",
    "     }"
   ]
  },
  {
   "cell_type": "code",
   "execution_count": 20,
   "metadata": {},
   "outputs": [
    {
     "data": {
      "text/plain": [
       "1.0"
      ]
     },
     "execution_count": 20,
     "metadata": {},
     "output_type": "execute_result"
    }
   ],
   "source": [
    "PA = 7/20 \n",
    "PAc = 13/20\n",
    "PA + PAc"
   ]
  },
  {
   "cell_type": "code",
   "execution_count": null,
   "metadata": {
    "collapsed": true
   },
   "outputs": [],
   "source": [
    "PAUB = 17/20\n",
    "PB = 10/20\n",
    "PAintersectionB"
   ]
  },
  {
   "cell_type": "markdown",
   "metadata": {},
   "source": [
    "$$ P(A) = 0.35, P(A^c) = 0.65  $$\n",
    "$$ P(A) + P(A^c) = 1$$"
   ]
  },
  {
   "cell_type": "code",
   "execution_count": 22,
   "metadata": {
    "collapsed": true
   },
   "outputs": [],
   "source": [
    "from pgmpy.factors.discrete import JointProbabilityDistribution as JPD"
   ]
  },
  {
   "cell_type": "code",
   "execution_count": 27,
   "metadata": {
    "scrolled": false
   },
   "outputs": [
    {
     "name": "stdout",
     "output_type": "stream",
     "text": [
      "╒═════╤═════╤══════════╕\n",
      "│ X   │ Y   │   P(X,Y) │\n",
      "╞═════╪═════╪══════════╡\n",
      "│ X_0 │ Y_0 │   0.3000 │\n",
      "├─────┼─────┼──────────┤\n",
      "│ X_0 │ Y_1 │   0.3000 │\n",
      "├─────┼─────┼──────────┤\n",
      "│ X_1 │ Y_0 │   0.2000 │\n",
      "├─────┼─────┼──────────┤\n",
      "│ X_1 │ Y_1 │   0.2000 │\n",
      "╘═════╧═════╧══════════╛\n"
     ]
    }
   ],
   "source": [
    "j2 = JPD(['X', 'Y'], [2, 2], np.array([6, 6, 4, 4]) / 20)\n",
    "print(j2)"
   ]
  },
  {
   "cell_type": "code",
   "execution_count": 23,
   "metadata": {
    "scrolled": false
   },
   "outputs": [
    {
     "name": "stdout",
     "output_type": "stream",
     "text": [
      "╒═════╤═════╤══════════╕\n",
      "│ X   │ Y   │   P(X,Y) │\n",
      "╞═════╪═════╪══════════╡\n",
      "│ X_0 │ Y_0 │   0.1500 │\n",
      "├─────┼─────┼──────────┤\n",
      "│ X_0 │ Y_1 │   0.4500 │\n",
      "├─────┼─────┼──────────┤\n",
      "│ X_1 │ Y_0 │   0.3500 │\n",
      "├─────┼─────┼──────────┤\n",
      "│ X_1 │ Y_1 │   0.0500 │\n",
      "╘═════╧═════╧══════════╛\n"
     ]
    }
   ],
   "source": [
    "j1 = JPD(['X', 'Y'], [2, 2], np.array([3, 9, 7, 1]) / 20)\n",
    "print(j1)"
   ]
  },
  {
   "cell_type": "code",
   "execution_count": 30,
   "metadata": {
    "scrolled": true
   },
   "outputs": [
    {
     "name": "stdout",
     "output_type": "stream",
     "text": [
      "╒═════╤════════╕\n",
      "│ X   │   P(X) │\n",
      "╞═════╪════════╡\n",
      "│ X_0 │ 0.6000 │\n",
      "├─────┼────────┤\n",
      "│ X_1 │ 0.4000 │\n",
      "╘═════╧════════╛\n"
     ]
    }
   ],
   "source": [
    "m1a = j1.marginal_distribution(['X'], inplace = False)\n",
    "print(m1a)"
   ]
  },
  {
   "cell_type": "code",
   "execution_count": 31,
   "metadata": {
    "scrolled": true
   },
   "outputs": [
    {
     "name": "stdout",
     "output_type": "stream",
     "text": [
      "╒═════╤════════╕\n",
      "│ Y   │   P(Y) │\n",
      "╞═════╪════════╡\n",
      "│ Y_0 │ 0.5000 │\n",
      "├─────┼────────┤\n",
      "│ Y_1 │ 0.5000 │\n",
      "╘═════╧════════╛\n"
     ]
    }
   ],
   "source": [
    "m1b = j1.marginal_distribution(['Y'], inplace=False)\n",
    "print(m1b)"
   ]
  },
  {
   "cell_type": "code",
   "execution_count": 35,
   "metadata": {
    "scrolled": true
   },
   "outputs": [
    {
     "name": "stdout",
     "output_type": "stream",
     "text": [
      "╒═════╤════════╕\n",
      "│ Y   │   P(Y) │\n",
      "╞═════╪════════╡\n",
      "│ Y_0 │ 0.2500 │\n",
      "├─────┼────────┤\n",
      "│ Y_1 │ 0.7500 │\n",
      "╘═════╧════════╛\n"
     ]
    }
   ],
   "source": [
    "c1a0 = j1.conditional_distribution([('X', 0)], inplace=False)\n",
    "print(c1a0)"
   ]
  },
  {
   "cell_type": "code",
   "execution_count": 36,
   "metadata": {
    "scrolled": false
   },
   "outputs": [
    {
     "name": "stdout",
     "output_type": "stream",
     "text": [
      "╒═════╤════════╕\n",
      "│ Y   │   P(Y) │\n",
      "╞═════╪════════╡\n",
      "│ Y_0 │ 0.8750 │\n",
      "├─────┼────────┤\n",
      "│ Y_1 │ 0.1250 │\n",
      "╘═════╧════════╛\n"
     ]
    }
   ],
   "source": [
    "c1a1 = j1.conditional_distribution([('X', 1)], inplace=False)\n",
    "print(c1a1)"
   ]
  },
  {
   "cell_type": "code",
   "execution_count": 45,
   "metadata": {},
   "outputs": [
    {
     "name": "stdout",
     "output_type": "stream",
     "text": [
      "╒═════╤════════╕\n",
      "│ X   │   P(X) │\n",
      "╞═════╪════════╡\n",
      "│ X_0 │ 0.3000 │\n",
      "├─────┼────────┤\n",
      "│ X_1 │ 0.7000 │\n",
      "╘═════╧════════╛\n"
     ]
    }
   ],
   "source": [
    "c1b0 = j1.conditional_distribution([('Y', 0)], inplace=False)\n",
    "print(c1b0)"
   ]
  },
  {
   "cell_type": "code",
   "execution_count": 46,
   "metadata": {},
   "outputs": [
    {
     "name": "stdout",
     "output_type": "stream",
     "text": [
      "╒═════╤════════╕\n",
      "│ X   │   P(X) │\n",
      "╞═════╪════════╡\n",
      "│ X_0 │ 0.9000 │\n",
      "├─────┼────────┤\n",
      "│ X_1 │ 0.1000 │\n",
      "╘═════╧════════╛\n"
     ]
    }
   ],
   "source": [
    "c1b1 = j1.conditional_distribution([('Y', 1)], inplace=False )\n",
    "print(c1b1)"
   ]
  },
  {
   "cell_type": "code",
   "execution_count": 42,
   "metadata": {},
   "outputs": [
    {
     "data": {
      "text/plain": [
       "True"
      ]
     },
     "execution_count": 42,
     "metadata": {},
     "output_type": "execute_result"
    }
   ],
   "source": [
    "j2.check_independence(['X'], ['Y'])"
   ]
  }
 ],
 "metadata": {
  "kernelspec": {
   "display_name": "Python 3",
   "language": "python",
   "name": "python3"
  },
  "language_info": {
   "codemirror_mode": {
    "name": "ipython",
    "version": 3
   },
   "file_extension": ".py",
   "mimetype": "text/x-python",
   "name": "python",
   "nbconvert_exporter": "python",
   "pygments_lexer": "ipython3",
   "version": "3.6.1"
  }
 },
 "nbformat": 4,
 "nbformat_minor": 2
}
