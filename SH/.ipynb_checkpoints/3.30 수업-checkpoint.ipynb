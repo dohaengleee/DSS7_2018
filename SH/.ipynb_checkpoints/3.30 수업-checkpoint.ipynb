{
 "cells": [
  {
   "cell_type": "code",
   "execution_count": 38,
   "metadata": {},
   "outputs": [],
   "source": [
    "%matplotlib inline"
   ]
  },
  {
   "cell_type": "markdown",
   "metadata": {},
   "source": [
    "# NLTK 자연어 처리 패키지"
   ]
  },
  {
   "cell_type": "code",
   "execution_count": 1,
   "metadata": {},
   "outputs": [],
   "source": [
    "import nltk"
   ]
  },
  {
   "cell_type": "markdown",
   "metadata": {},
   "source": [
    "# 말뭉치"
   ]
  },
  {
   "cell_type": "code",
   "execution_count": 2,
   "metadata": {
    "scrolled": true
   },
   "outputs": [
    {
     "data": {
      "text/plain": [
       "['austen-emma.txt',\n",
       " 'austen-persuasion.txt',\n",
       " 'austen-sense.txt',\n",
       " 'bible-kjv.txt',\n",
       " 'blake-poems.txt',\n",
       " 'bryant-stories.txt',\n",
       " 'burgess-busterbrown.txt',\n",
       " 'carroll-alice.txt',\n",
       " 'chesterton-ball.txt',\n",
       " 'chesterton-brown.txt',\n",
       " 'chesterton-thursday.txt',\n",
       " 'edgeworth-parents.txt',\n",
       " 'melville-moby_dick.txt',\n",
       " 'milton-paradise.txt',\n",
       " 'shakespeare-caesar.txt',\n",
       " 'shakespeare-hamlet.txt',\n",
       " 'shakespeare-macbeth.txt',\n",
       " 'whitman-leaves.txt']"
      ]
     },
     "execution_count": 2,
     "metadata": {},
     "output_type": "execute_result"
    }
   ],
   "source": [
    "nltk.corpus.gutenberg.fileids()"
   ]
  },
  {
   "cell_type": "code",
   "execution_count": 13,
   "metadata": {},
   "outputs": [
    {
     "name": "stdout",
     "output_type": "stream",
     "text": [
      "[Emma by Jane Austen 1816]\n",
      "\n",
      "VOLUME I\n",
      "\n",
      "CHAPTER I\n",
      "\n",
      "\n",
      "Emma Woodhouse, handsome, clever, and rich, with a comfortable home\n",
      "and happy disposition, seemed to unite some of the best blessings\n",
      "of existence; and had lived nearly twenty-one years in the world\n",
      "with very little to distress or vex her.\n",
      "\n",
      "She was the youngest of the two daughters of a most affectionate,\n",
      "indulgent father; and had, in consequence of her sister's marriage,\n",
      "been mistress of his house from a very early period.  Her mother\n",
      "had died too long ago for her to have more than an indistinct\n",
      "remembrance of her caresses; and her place had been supplied\n",
      "by an excellent woman as governess, who had fallen little short\n",
      "of a mother in affection.\n",
      "\n",
      "Sixteen years had Miss Taylor been in Mr. Woodhouse's family,\n",
      "less as a governess than a friend, very fond of both daughters,\n",
      "but particularly of Emma.  Between _them_ it was more the intimacy\n",
      "of sisters.  Even before Miss Taylor had ceased to hold the nominal\n",
      "office of governess, the mildness of her temper had hardly allowed\n",
      "her to impose any restraint; and the shadow of authority being\n",
      "now long passed away, they had been living together as friend and\n",
      "friend very mutually attached, and Emma doing just what she liked;\n",
      "highly esteeming Miss Taylor's judgment, but directed chiefly by\n",
      "her own.\n",
      "\n"
     ]
    }
   ],
   "source": [
    "emma_raw = nltk.corpus.gutenberg.raw(\"austen-emma.txt\")\n",
    "print(emma_raw[:1302])"
   ]
  },
  {
   "cell_type": "markdown",
   "metadata": {},
   "source": [
    "# 토큰 생성"
   ]
  },
  {
   "cell_type": "code",
   "execution_count": 14,
   "metadata": {},
   "outputs": [
    {
     "name": "stdout",
     "output_type": "stream",
     "text": [
      "Sixteen years had Miss Taylor been in Mr. Woodhouse's family,\n",
      "less as a governess than a friend, very fond of both daughters,\n",
      "but particularly of Emma.\n"
     ]
    }
   ],
   "source": [
    "from nltk.tokenize import sent_tokenize\n",
    "print(sent_tokenize(emma_raw[:1000])[3])"
   ]
  },
  {
   "cell_type": "code",
   "execution_count": 15,
   "metadata": {},
   "outputs": [
    {
     "data": {
      "text/plain": [
       "['Emma',\n",
       " 'Woodhouse',\n",
       " ',',\n",
       " 'handsome',\n",
       " ',',\n",
       " 'clever',\n",
       " ',',\n",
       " 'and',\n",
       " 'rich',\n",
       " ',',\n",
       " 'with',\n",
       " 'a']"
      ]
     },
     "execution_count": 15,
     "metadata": {},
     "output_type": "execute_result"
    }
   ],
   "source": [
    "from nltk.tokenize import word_tokenize\n",
    "word_tokenize(emma_raw[50:100])"
   ]
  },
  {
   "cell_type": "code",
   "execution_count": 16,
   "metadata": {},
   "outputs": [
    {
     "data": {
      "text/plain": [
       "['Emma', 'Woodhouse', 'handsome', 'clever', 'and', 'rich', 'with', 'a']"
      ]
     },
     "execution_count": 16,
     "metadata": {},
     "output_type": "execute_result"
    }
   ],
   "source": [
    "from nltk.tokenize import RegexpTokenizer\n",
    "t = RegexpTokenizer(\"[\\w]+\")\n",
    "t.tokenize(emma_raw[50:100])"
   ]
  },
  {
   "cell_type": "markdown",
   "metadata": {},
   "source": [
    "## tokenizer 함수\n",
    " - 문자열을 받아서 문자열 token의 list를 출력\n",
    " - list안의 문자는 token을 의미"
   ]
  },
  {
   "cell_type": "markdown",
   "metadata": {},
   "source": [
    "# 형태소 분석(morpheme)"
   ]
  },
  {
   "cell_type": "markdown",
   "metadata": {},
   "source": [
    "## 어간 추출(stemming)과 원형 복원"
   ]
  },
  {
   "cell_type": "code",
   "execution_count": 17,
   "metadata": {},
   "outputs": [],
   "source": [
    "words = ['lives', 'dies', 'flies', 'died']"
   ]
  },
  {
   "cell_type": "code",
   "execution_count": 18,
   "metadata": {},
   "outputs": [
    {
     "data": {
      "text/plain": [
       "['live', 'die', 'fli', 'die']"
      ]
     },
     "execution_count": 18,
     "metadata": {},
     "output_type": "execute_result"
    }
   ],
   "source": [
    "from nltk.stem import PorterStemmer\n",
    "st = PorterStemmer()\n",
    "[st.stem(w) for w in words]"
   ]
  },
  {
   "cell_type": "code",
   "execution_count": 19,
   "metadata": {},
   "outputs": [
    {
     "data": {
      "text/plain": [
       "['liv', 'die', 'fli', 'died']"
      ]
     },
     "execution_count": 19,
     "metadata": {},
     "output_type": "execute_result"
    }
   ],
   "source": [
    "from nltk.stem import LancasterStemmer\n",
    "st = LancasterStemmer()\n",
    "[st.stem(w) for w in words]"
   ]
  },
  {
   "cell_type": "code",
   "execution_count": 20,
   "metadata": {},
   "outputs": [
    {
     "data": {
      "text/plain": [
       "['life', 'dy', 'fly', 'died']"
      ]
     },
     "execution_count": 20,
     "metadata": {},
     "output_type": "execute_result"
    }
   ],
   "source": [
    "from nltk.stem import WordNetLemmatizer\n",
    "lm = WordNetLemmatizer()\n",
    "[lm.lemmatize(w) for w in words]"
   ]
  },
  {
   "cell_type": "code",
   "execution_count": 21,
   "metadata": {},
   "outputs": [
    {
     "data": {
      "text/plain": [
       "'die'"
      ]
     },
     "execution_count": 21,
     "metadata": {},
     "output_type": "execute_result"
    }
   ],
   "source": [
    "lm.lemmatize(\"died\", pos=\"v\")"
   ]
  },
  {
   "cell_type": "markdown",
   "metadata": {},
   "source": [
    "# POS tagging"
   ]
  },
  {
   "cell_type": "code",
   "execution_count": 12,
   "metadata": {},
   "outputs": [
    {
     "data": {
      "text/plain": [
       "[('volume', 'NN'),\n",
       " ('I', 'PRP'),\n",
       " ('chapter', 'VBP'),\n",
       " ('1', 'CD'),\n",
       " ('I', 'PRP'),\n",
       " ('am', 'VBP'),\n",
       " ('a', 'DT'),\n",
       " ('boy', 'NN'),\n",
       " ('.', '.')]"
      ]
     },
     "execution_count": 12,
     "metadata": {},
     "output_type": "execute_result"
    }
   ],
   "source": [
    "from nltk.tag import pos_tag\n",
    "x = [\"volume\", \"I\", \"chapter\", \"1\", \"I\", \"am\", \"a\", \"boy\", \".\"]\n",
    "tagged_list = pos_tag(x)\n",
    "tagged_list"
   ]
  },
  {
   "cell_type": "code",
   "execution_count": 6,
   "metadata": {},
   "outputs": [],
   "source": [
    "def tokenizer(doc):\n",
    "    return [\"/\".join(p) for p in pos_tag(doc)]"
   ]
  },
  {
   "cell_type": "code",
   "execution_count": 7,
   "metadata": {
    "scrolled": true
   },
   "outputs": [
    {
     "data": {
      "text/plain": [
       "['volume/NN',\n",
       " 'I/PRP',\n",
       " 'chapter/VBP',\n",
       " '1/CD',\n",
       " 'I/PRP',\n",
       " 'am/VBP',\n",
       " 'a/DT',\n",
       " 'boy/NN',\n",
       " './.']"
      ]
     },
     "execution_count": 7,
     "metadata": {},
     "output_type": "execute_result"
    }
   ],
   "source": [
    "tokenizer(x)"
   ]
  },
  {
   "cell_type": "markdown",
   "metadata": {},
   "source": [
    "# KoNLPy 한국어 처리 패키지"
   ]
  },
  {
   "cell_type": "markdown",
   "metadata": {},
   "source": [
    "## 형태소 분석"
   ]
  },
  {
   "cell_type": "code",
   "execution_count": 23,
   "metadata": {},
   "outputs": [],
   "source": [
    "from konlpy.tag import *\n",
    "hannanum = Hannanum()\n",
    "kkma = Kkma()\n",
    "twitter = Twitter()"
   ]
  },
  {
   "cell_type": "code",
   "execution_count": 31,
   "metadata": {},
   "outputs": [
    {
     "name": "stdout",
     "output_type": "stream",
     "text": [
      "대한민국헌법\n",
      "\n",
      "유구한 역사와 전통에 빛나는 우리 대한국민은 3·1운동으로 건립된 대한민국임시정부의 법통과 불의에 항거한 4·19민주이념을 계승하고, 조국의 민주개혁과 평화적 통일의\n"
     ]
    }
   ],
   "source": [
    "from konlpy.corpus import kolaw\n",
    "c = kolaw.open('constitution.txt').read()\n",
    "print(c[:100])"
   ]
  },
  {
   "cell_type": "code",
   "execution_count": 32,
   "metadata": {},
   "outputs": [],
   "source": [
    "i = \"안녕하세요? 제 이름은 손흥민입니다. 만나서 반갑습니다.\""
   ]
  },
  {
   "cell_type": "code",
   "execution_count": 24,
   "metadata": {},
   "outputs": [],
   "source": [
    "def tokenizer2(doc):\n",
    "    return [\"/\".join(p) for p in hannanum.pos(doc)]"
   ]
  },
  {
   "cell_type": "code",
   "execution_count": 33,
   "metadata": {},
   "outputs": [
    {
     "data": {
      "text/plain": [
       "['안녕/N',\n",
       " '하/X',\n",
       " '세/E',\n",
       " '요/J',\n",
       " '?/S',\n",
       " '저/N',\n",
       " '의/J',\n",
       " '이름/N',\n",
       " '은/J',\n",
       " '손흥민입니/N',\n",
       " '이/J',\n",
       " '다/E',\n",
       " './S',\n",
       " '만나/P',\n",
       " '아/E',\n",
       " '반갑/P',\n",
       " '습니다/E',\n",
       " './S']"
      ]
     },
     "execution_count": 33,
     "metadata": {},
     "output_type": "execute_result"
    }
   ],
   "source": [
    "tokenizer2(i)"
   ]
  },
  {
   "cell_type": "markdown",
   "metadata": {},
   "source": [
    "# Scikit-Learn의 문서 전처리 기능"
   ]
  },
  {
   "cell_type": "markdown",
   "metadata": {},
   "source": [
    "# BOW(Bag of Words)"
   ]
  },
  {
   "cell_type": "markdown",
   "metadata": {},
   "source": [
    "# Scikit-Learn의 문서 전처리 기능"
   ]
  },
  {
   "cell_type": "markdown",
   "metadata": {},
   "source": [
    "## DictVectorizer"
   ]
  },
  {
   "cell_type": "markdown",
   "metadata": {},
   "source": [
    "## CountVectorizer\n",
    " - 문자열을 넣어주면 tokenizing 후 token list로 바꿔준다.\n",
    " - 빈도수를 세서 BOW 인코딩 벡터로 변환한다."
   ]
  },
  {
   "cell_type": "markdown",
   "metadata": {},
   "source": [
    "# 빈도수\n",
    " - 정수로 받으면 횟수, 실수로 받으면 %로 인식한다.\n",
    " - min_df 너무 빈도수가 적은 단어도 제외할 수 있다."
   ]
  },
  {
   "cell_type": "markdown",
   "metadata": {},
   "source": [
    "# TF-IDF\n",
    " - tf가 크다는 의미는 중요하지 않다는 의미일 수 있다.\n",
    " - 가중치를 줄이기 위해 df로 나눠주는 것 (idf)"
   ]
  },
  {
   "cell_type": "markdown",
   "metadata": {},
   "source": [
    "# Hasing Trick\n",
    " - voca dict를 만들고 나서\n",
    " - 같은단어를 집어 넣으면 같은 숫자가 나와야 한다.\n",
    " - 충돌이 일어날 간가능성이 있다"
   ]
  },
  {
   "cell_type": "code",
   "execution_count": null,
   "metadata": {},
   "outputs": [],
   "source": []
  },
  {
   "cell_type": "markdown",
   "metadata": {},
   "source": [
    "# 나이브 베이즈 분류 모형"
   ]
  },
  {
   "cell_type": "markdown",
   "metadata": {},
   "source": [
    "# 가우시안 정규 분포 likelihood 모형"
   ]
  },
  {
   "cell_type": "markdown",
   "metadata": {},
   "source": [
    "# Scikit-Learn에서 제공하는 나이브 베이즈 모형\n",
    " - class_count_ : 사전확률을 구하기 위해 필요하다"
   ]
  },
  {
   "cell_type": "markdown",
   "metadata": {},
   "source": [
    "## Likelihood 추정 속성\n",
    " - 가우시안 정규분포의 경우, theta_(기댓값 뮤), sigma_(분산)\n",
    " - 베르누이 분포의 경우 세타는 클래스 별로 x1이 몇번 앞면이 나왔는지 세야 한다. (feature_count_)\n",
    " - feature_log_prob_"
   ]
  },
  {
   "cell_type": "markdown",
   "metadata": {},
   "source": [
    "## 가우시안 정규 분포 나이브 베이즈 모형"
   ]
  },
  {
   "cell_type": "code",
   "execution_count": 36,
   "metadata": {},
   "outputs": [],
   "source": [
    "# x가 2차원인 경우\n",
    "np.random.seed(0)\n",
    "rv0 = sp.stats.multivariate_normal([-2, -2], [[1, 0.9], [0.9, 2]])\n",
    "rv1 = sp.stats.multivariate_normal([2, 2], [[1.2, -0.8], [-0.8, 2]])\n",
    "X0 = rv0.rvs(40)\n",
    "X1 = rv1.rvs(60)\n",
    "X = np.vstack([X0, X1])\n",
    "y = np.hstack([np.zeros(40), np.ones(60)])"
   ]
  },
  {
   "cell_type": "code",
   "execution_count": 37,
   "metadata": {},
   "outputs": [
    {
     "data": {
      "application/javascript": [
       "/* Put everything inside the global mpl namespace */\n",
       "window.mpl = {};\n",
       "\n",
       "\n",
       "mpl.get_websocket_type = function() {\n",
       "    if (typeof(WebSocket) !== 'undefined') {\n",
       "        return WebSocket;\n",
       "    } else if (typeof(MozWebSocket) !== 'undefined') {\n",
       "        return MozWebSocket;\n",
       "    } else {\n",
       "        alert('Your browser does not have WebSocket support.' +\n",
       "              'Please try Chrome, Safari or Firefox ≥ 6. ' +\n",
       "              'Firefox 4 and 5 are also supported but you ' +\n",
       "              'have to enable WebSockets in about:config.');\n",
       "    };\n",
       "}\n",
       "\n",
       "mpl.figure = function(figure_id, websocket, ondownload, parent_element) {\n",
       "    this.id = figure_id;\n",
       "\n",
       "    this.ws = websocket;\n",
       "\n",
       "    this.supports_binary = (this.ws.binaryType != undefined);\n",
       "\n",
       "    if (!this.supports_binary) {\n",
       "        var warnings = document.getElementById(\"mpl-warnings\");\n",
       "        if (warnings) {\n",
       "            warnings.style.display = 'block';\n",
       "            warnings.textContent = (\n",
       "                \"This browser does not support binary websocket messages. \" +\n",
       "                    \"Performance may be slow.\");\n",
       "        }\n",
       "    }\n",
       "\n",
       "    this.imageObj = new Image();\n",
       "\n",
       "    this.context = undefined;\n",
       "    this.message = undefined;\n",
       "    this.canvas = undefined;\n",
       "    this.rubberband_canvas = undefined;\n",
       "    this.rubberband_context = undefined;\n",
       "    this.format_dropdown = undefined;\n",
       "\n",
       "    this.image_mode = 'full';\n",
       "\n",
       "    this.root = $('<div/>');\n",
       "    this._root_extra_style(this.root)\n",
       "    this.root.attr('style', 'display: inline-block');\n",
       "\n",
       "    $(parent_element).append(this.root);\n",
       "\n",
       "    this._init_header(this);\n",
       "    this._init_canvas(this);\n",
       "    this._init_toolbar(this);\n",
       "\n",
       "    var fig = this;\n",
       "\n",
       "    this.waiting = false;\n",
       "\n",
       "    this.ws.onopen =  function () {\n",
       "            fig.send_message(\"supports_binary\", {value: fig.supports_binary});\n",
       "            fig.send_message(\"send_image_mode\", {});\n",
       "            if (mpl.ratio != 1) {\n",
       "                fig.send_message(\"set_dpi_ratio\", {'dpi_ratio': mpl.ratio});\n",
       "            }\n",
       "            fig.send_message(\"refresh\", {});\n",
       "        }\n",
       "\n",
       "    this.imageObj.onload = function() {\n",
       "            if (fig.image_mode == 'full') {\n",
       "                // Full images could contain transparency (where diff images\n",
       "                // almost always do), so we need to clear the canvas so that\n",
       "                // there is no ghosting.\n",
       "                fig.context.clearRect(0, 0, fig.canvas.width, fig.canvas.height);\n",
       "            }\n",
       "            fig.context.drawImage(fig.imageObj, 0, 0);\n",
       "        };\n",
       "\n",
       "    this.imageObj.onunload = function() {\n",
       "        fig.ws.close();\n",
       "    }\n",
       "\n",
       "    this.ws.onmessage = this._make_on_message_function(this);\n",
       "\n",
       "    this.ondownload = ondownload;\n",
       "}\n",
       "\n",
       "mpl.figure.prototype._init_header = function() {\n",
       "    var titlebar = $(\n",
       "        '<div class=\"ui-dialog-titlebar ui-widget-header ui-corner-all ' +\n",
       "        'ui-helper-clearfix\"/>');\n",
       "    var titletext = $(\n",
       "        '<div class=\"ui-dialog-title\" style=\"width: 100%; ' +\n",
       "        'text-align: center; padding: 3px;\"/>');\n",
       "    titlebar.append(titletext)\n",
       "    this.root.append(titlebar);\n",
       "    this.header = titletext[0];\n",
       "}\n",
       "\n",
       "\n",
       "\n",
       "mpl.figure.prototype._canvas_extra_style = function(canvas_div) {\n",
       "\n",
       "}\n",
       "\n",
       "\n",
       "mpl.figure.prototype._root_extra_style = function(canvas_div) {\n",
       "\n",
       "}\n",
       "\n",
       "mpl.figure.prototype._init_canvas = function() {\n",
       "    var fig = this;\n",
       "\n",
       "    var canvas_div = $('<div/>');\n",
       "\n",
       "    canvas_div.attr('style', 'position: relative; clear: both; outline: 0');\n",
       "\n",
       "    function canvas_keyboard_event(event) {\n",
       "        return fig.key_event(event, event['data']);\n",
       "    }\n",
       "\n",
       "    canvas_div.keydown('key_press', canvas_keyboard_event);\n",
       "    canvas_div.keyup('key_release', canvas_keyboard_event);\n",
       "    this.canvas_div = canvas_div\n",
       "    this._canvas_extra_style(canvas_div)\n",
       "    this.root.append(canvas_div);\n",
       "\n",
       "    var canvas = $('<canvas/>');\n",
       "    canvas.addClass('mpl-canvas');\n",
       "    canvas.attr('style', \"left: 0; top: 0; z-index: 0; outline: 0\")\n",
       "\n",
       "    this.canvas = canvas[0];\n",
       "    this.context = canvas[0].getContext(\"2d\");\n",
       "\n",
       "    var backingStore = this.context.backingStorePixelRatio ||\n",
       "\tthis.context.webkitBackingStorePixelRatio ||\n",
       "\tthis.context.mozBackingStorePixelRatio ||\n",
       "\tthis.context.msBackingStorePixelRatio ||\n",
       "\tthis.context.oBackingStorePixelRatio ||\n",
       "\tthis.context.backingStorePixelRatio || 1;\n",
       "\n",
       "    mpl.ratio = (window.devicePixelRatio || 1) / backingStore;\n",
       "\n",
       "    var rubberband = $('<canvas/>');\n",
       "    rubberband.attr('style', \"position: absolute; left: 0; top: 0; z-index: 1;\")\n",
       "\n",
       "    var pass_mouse_events = true;\n",
       "\n",
       "    canvas_div.resizable({\n",
       "        start: function(event, ui) {\n",
       "            pass_mouse_events = false;\n",
       "        },\n",
       "        resize: function(event, ui) {\n",
       "            fig.request_resize(ui.size.width, ui.size.height);\n",
       "        },\n",
       "        stop: function(event, ui) {\n",
       "            pass_mouse_events = true;\n",
       "            fig.request_resize(ui.size.width, ui.size.height);\n",
       "        },\n",
       "    });\n",
       "\n",
       "    function mouse_event_fn(event) {\n",
       "        if (pass_mouse_events)\n",
       "            return fig.mouse_event(event, event['data']);\n",
       "    }\n",
       "\n",
       "    rubberband.mousedown('button_press', mouse_event_fn);\n",
       "    rubberband.mouseup('button_release', mouse_event_fn);\n",
       "    // Throttle sequential mouse events to 1 every 20ms.\n",
       "    rubberband.mousemove('motion_notify', mouse_event_fn);\n",
       "\n",
       "    rubberband.mouseenter('figure_enter', mouse_event_fn);\n",
       "    rubberband.mouseleave('figure_leave', mouse_event_fn);\n",
       "\n",
       "    canvas_div.on(\"wheel\", function (event) {\n",
       "        event = event.originalEvent;\n",
       "        event['data'] = 'scroll'\n",
       "        if (event.deltaY < 0) {\n",
       "            event.step = 1;\n",
       "        } else {\n",
       "            event.step = -1;\n",
       "        }\n",
       "        mouse_event_fn(event);\n",
       "    });\n",
       "\n",
       "    canvas_div.append(canvas);\n",
       "    canvas_div.append(rubberband);\n",
       "\n",
       "    this.rubberband = rubberband;\n",
       "    this.rubberband_canvas = rubberband[0];\n",
       "    this.rubberband_context = rubberband[0].getContext(\"2d\");\n",
       "    this.rubberband_context.strokeStyle = \"#000000\";\n",
       "\n",
       "    this._resize_canvas = function(width, height) {\n",
       "        // Keep the size of the canvas, canvas container, and rubber band\n",
       "        // canvas in synch.\n",
       "        canvas_div.css('width', width)\n",
       "        canvas_div.css('height', height)\n",
       "\n",
       "        canvas.attr('width', width * mpl.ratio);\n",
       "        canvas.attr('height', height * mpl.ratio);\n",
       "        canvas.attr('style', 'width: ' + width + 'px; height: ' + height + 'px;');\n",
       "\n",
       "        rubberband.attr('width', width);\n",
       "        rubberband.attr('height', height);\n",
       "    }\n",
       "\n",
       "    // Set the figure to an initial 600x600px, this will subsequently be updated\n",
       "    // upon first draw.\n",
       "    this._resize_canvas(600, 600);\n",
       "\n",
       "    // Disable right mouse context menu.\n",
       "    $(this.rubberband_canvas).bind(\"contextmenu\",function(e){\n",
       "        return false;\n",
       "    });\n",
       "\n",
       "    function set_focus () {\n",
       "        canvas.focus();\n",
       "        canvas_div.focus();\n",
       "    }\n",
       "\n",
       "    window.setTimeout(set_focus, 100);\n",
       "}\n",
       "\n",
       "mpl.figure.prototype._init_toolbar = function() {\n",
       "    var fig = this;\n",
       "\n",
       "    var nav_element = $('<div/>')\n",
       "    nav_element.attr('style', 'width: 100%');\n",
       "    this.root.append(nav_element);\n",
       "\n",
       "    // Define a callback function for later on.\n",
       "    function toolbar_event(event) {\n",
       "        return fig.toolbar_button_onclick(event['data']);\n",
       "    }\n",
       "    function toolbar_mouse_event(event) {\n",
       "        return fig.toolbar_button_onmouseover(event['data']);\n",
       "    }\n",
       "\n",
       "    for(var toolbar_ind in mpl.toolbar_items) {\n",
       "        var name = mpl.toolbar_items[toolbar_ind][0];\n",
       "        var tooltip = mpl.toolbar_items[toolbar_ind][1];\n",
       "        var image = mpl.toolbar_items[toolbar_ind][2];\n",
       "        var method_name = mpl.toolbar_items[toolbar_ind][3];\n",
       "\n",
       "        if (!name) {\n",
       "            // put a spacer in here.\n",
       "            continue;\n",
       "        }\n",
       "        var button = $('<button/>');\n",
       "        button.addClass('ui-button ui-widget ui-state-default ui-corner-all ' +\n",
       "                        'ui-button-icon-only');\n",
       "        button.attr('role', 'button');\n",
       "        button.attr('aria-disabled', 'false');\n",
       "        button.click(method_name, toolbar_event);\n",
       "        button.mouseover(tooltip, toolbar_mouse_event);\n",
       "\n",
       "        var icon_img = $('<span/>');\n",
       "        icon_img.addClass('ui-button-icon-primary ui-icon');\n",
       "        icon_img.addClass(image);\n",
       "        icon_img.addClass('ui-corner-all');\n",
       "\n",
       "        var tooltip_span = $('<span/>');\n",
       "        tooltip_span.addClass('ui-button-text');\n",
       "        tooltip_span.html(tooltip);\n",
       "\n",
       "        button.append(icon_img);\n",
       "        button.append(tooltip_span);\n",
       "\n",
       "        nav_element.append(button);\n",
       "    }\n",
       "\n",
       "    var fmt_picker_span = $('<span/>');\n",
       "\n",
       "    var fmt_picker = $('<select/>');\n",
       "    fmt_picker.addClass('mpl-toolbar-option ui-widget ui-widget-content');\n",
       "    fmt_picker_span.append(fmt_picker);\n",
       "    nav_element.append(fmt_picker_span);\n",
       "    this.format_dropdown = fmt_picker[0];\n",
       "\n",
       "    for (var ind in mpl.extensions) {\n",
       "        var fmt = mpl.extensions[ind];\n",
       "        var option = $(\n",
       "            '<option/>', {selected: fmt === mpl.default_extension}).html(fmt);\n",
       "        fmt_picker.append(option)\n",
       "    }\n",
       "\n",
       "    // Add hover states to the ui-buttons\n",
       "    $( \".ui-button\" ).hover(\n",
       "        function() { $(this).addClass(\"ui-state-hover\");},\n",
       "        function() { $(this).removeClass(\"ui-state-hover\");}\n",
       "    );\n",
       "\n",
       "    var status_bar = $('<span class=\"mpl-message\"/>');\n",
       "    nav_element.append(status_bar);\n",
       "    this.message = status_bar[0];\n",
       "}\n",
       "\n",
       "mpl.figure.prototype.request_resize = function(x_pixels, y_pixels) {\n",
       "    // Request matplotlib to resize the figure. Matplotlib will then trigger a resize in the client,\n",
       "    // which will in turn request a refresh of the image.\n",
       "    this.send_message('resize', {'width': x_pixels, 'height': y_pixels});\n",
       "}\n",
       "\n",
       "mpl.figure.prototype.send_message = function(type, properties) {\n",
       "    properties['type'] = type;\n",
       "    properties['figure_id'] = this.id;\n",
       "    this.ws.send(JSON.stringify(properties));\n",
       "}\n",
       "\n",
       "mpl.figure.prototype.send_draw_message = function() {\n",
       "    if (!this.waiting) {\n",
       "        this.waiting = true;\n",
       "        this.ws.send(JSON.stringify({type: \"draw\", figure_id: this.id}));\n",
       "    }\n",
       "}\n",
       "\n",
       "\n",
       "mpl.figure.prototype.handle_save = function(fig, msg) {\n",
       "    var format_dropdown = fig.format_dropdown;\n",
       "    var format = format_dropdown.options[format_dropdown.selectedIndex].value;\n",
       "    fig.ondownload(fig, format);\n",
       "}\n",
       "\n",
       "\n",
       "mpl.figure.prototype.handle_resize = function(fig, msg) {\n",
       "    var size = msg['size'];\n",
       "    if (size[0] != fig.canvas.width || size[1] != fig.canvas.height) {\n",
       "        fig._resize_canvas(size[0], size[1]);\n",
       "        fig.send_message(\"refresh\", {});\n",
       "    };\n",
       "}\n",
       "\n",
       "mpl.figure.prototype.handle_rubberband = function(fig, msg) {\n",
       "    var x0 = msg['x0'] / mpl.ratio;\n",
       "    var y0 = (fig.canvas.height - msg['y0']) / mpl.ratio;\n",
       "    var x1 = msg['x1'] / mpl.ratio;\n",
       "    var y1 = (fig.canvas.height - msg['y1']) / mpl.ratio;\n",
       "    x0 = Math.floor(x0) + 0.5;\n",
       "    y0 = Math.floor(y0) + 0.5;\n",
       "    x1 = Math.floor(x1) + 0.5;\n",
       "    y1 = Math.floor(y1) + 0.5;\n",
       "    var min_x = Math.min(x0, x1);\n",
       "    var min_y = Math.min(y0, y1);\n",
       "    var width = Math.abs(x1 - x0);\n",
       "    var height = Math.abs(y1 - y0);\n",
       "\n",
       "    fig.rubberband_context.clearRect(\n",
       "        0, 0, fig.canvas.width, fig.canvas.height);\n",
       "\n",
       "    fig.rubberband_context.strokeRect(min_x, min_y, width, height);\n",
       "}\n",
       "\n",
       "mpl.figure.prototype.handle_figure_label = function(fig, msg) {\n",
       "    // Updates the figure title.\n",
       "    fig.header.textContent = msg['label'];\n",
       "}\n",
       "\n",
       "mpl.figure.prototype.handle_cursor = function(fig, msg) {\n",
       "    var cursor = msg['cursor'];\n",
       "    switch(cursor)\n",
       "    {\n",
       "    case 0:\n",
       "        cursor = 'pointer';\n",
       "        break;\n",
       "    case 1:\n",
       "        cursor = 'default';\n",
       "        break;\n",
       "    case 2:\n",
       "        cursor = 'crosshair';\n",
       "        break;\n",
       "    case 3:\n",
       "        cursor = 'move';\n",
       "        break;\n",
       "    }\n",
       "    fig.rubberband_canvas.style.cursor = cursor;\n",
       "}\n",
       "\n",
       "mpl.figure.prototype.handle_message = function(fig, msg) {\n",
       "    fig.message.textContent = msg['message'];\n",
       "}\n",
       "\n",
       "mpl.figure.prototype.handle_draw = function(fig, msg) {\n",
       "    // Request the server to send over a new figure.\n",
       "    fig.send_draw_message();\n",
       "}\n",
       "\n",
       "mpl.figure.prototype.handle_image_mode = function(fig, msg) {\n",
       "    fig.image_mode = msg['mode'];\n",
       "}\n",
       "\n",
       "mpl.figure.prototype.updated_canvas_event = function() {\n",
       "    // Called whenever the canvas gets updated.\n",
       "    this.send_message(\"ack\", {});\n",
       "}\n",
       "\n",
       "// A function to construct a web socket function for onmessage handling.\n",
       "// Called in the figure constructor.\n",
       "mpl.figure.prototype._make_on_message_function = function(fig) {\n",
       "    return function socket_on_message(evt) {\n",
       "        if (evt.data instanceof Blob) {\n",
       "            /* FIXME: We get \"Resource interpreted as Image but\n",
       "             * transferred with MIME type text/plain:\" errors on\n",
       "             * Chrome.  But how to set the MIME type?  It doesn't seem\n",
       "             * to be part of the websocket stream */\n",
       "            evt.data.type = \"image/png\";\n",
       "\n",
       "            /* Free the memory for the previous frames */\n",
       "            if (fig.imageObj.src) {\n",
       "                (window.URL || window.webkitURL).revokeObjectURL(\n",
       "                    fig.imageObj.src);\n",
       "            }\n",
       "\n",
       "            fig.imageObj.src = (window.URL || window.webkitURL).createObjectURL(\n",
       "                evt.data);\n",
       "            fig.updated_canvas_event();\n",
       "            fig.waiting = false;\n",
       "            return;\n",
       "        }\n",
       "        else if (typeof evt.data === 'string' && evt.data.slice(0, 21) == \"data:image/png;base64\") {\n",
       "            fig.imageObj.src = evt.data;\n",
       "            fig.updated_canvas_event();\n",
       "            fig.waiting = false;\n",
       "            return;\n",
       "        }\n",
       "\n",
       "        var msg = JSON.parse(evt.data);\n",
       "        var msg_type = msg['type'];\n",
       "\n",
       "        // Call the  \"handle_{type}\" callback, which takes\n",
       "        // the figure and JSON message as its only arguments.\n",
       "        try {\n",
       "            var callback = fig[\"handle_\" + msg_type];\n",
       "        } catch (e) {\n",
       "            console.log(\"No handler for the '\" + msg_type + \"' message type: \", msg);\n",
       "            return;\n",
       "        }\n",
       "\n",
       "        if (callback) {\n",
       "            try {\n",
       "                // console.log(\"Handling '\" + msg_type + \"' message: \", msg);\n",
       "                callback(fig, msg);\n",
       "            } catch (e) {\n",
       "                console.log(\"Exception inside the 'handler_\" + msg_type + \"' callback:\", e, e.stack, msg);\n",
       "            }\n",
       "        }\n",
       "    };\n",
       "}\n",
       "\n",
       "// from http://stackoverflow.com/questions/1114465/getting-mouse-location-in-canvas\n",
       "mpl.findpos = function(e) {\n",
       "    //this section is from http://www.quirksmode.org/js/events_properties.html\n",
       "    var targ;\n",
       "    if (!e)\n",
       "        e = window.event;\n",
       "    if (e.target)\n",
       "        targ = e.target;\n",
       "    else if (e.srcElement)\n",
       "        targ = e.srcElement;\n",
       "    if (targ.nodeType == 3) // defeat Safari bug\n",
       "        targ = targ.parentNode;\n",
       "\n",
       "    // jQuery normalizes the pageX and pageY\n",
       "    // pageX,Y are the mouse positions relative to the document\n",
       "    // offset() returns the position of the element relative to the document\n",
       "    var x = e.pageX - $(targ).offset().left;\n",
       "    var y = e.pageY - $(targ).offset().top;\n",
       "\n",
       "    return {\"x\": x, \"y\": y};\n",
       "};\n",
       "\n",
       "/*\n",
       " * return a copy of an object with only non-object keys\n",
       " * we need this to avoid circular references\n",
       " * http://stackoverflow.com/a/24161582/3208463\n",
       " */\n",
       "function simpleKeys (original) {\n",
       "  return Object.keys(original).reduce(function (obj, key) {\n",
       "    if (typeof original[key] !== 'object')\n",
       "        obj[key] = original[key]\n",
       "    return obj;\n",
       "  }, {});\n",
       "}\n",
       "\n",
       "mpl.figure.prototype.mouse_event = function(event, name) {\n",
       "    var canvas_pos = mpl.findpos(event)\n",
       "\n",
       "    if (name === 'button_press')\n",
       "    {\n",
       "        this.canvas.focus();\n",
       "        this.canvas_div.focus();\n",
       "    }\n",
       "\n",
       "    var x = canvas_pos.x * mpl.ratio;\n",
       "    var y = canvas_pos.y * mpl.ratio;\n",
       "\n",
       "    this.send_message(name, {x: x, y: y, button: event.button,\n",
       "                             step: event.step,\n",
       "                             guiEvent: simpleKeys(event)});\n",
       "\n",
       "    /* This prevents the web browser from automatically changing to\n",
       "     * the text insertion cursor when the button is pressed.  We want\n",
       "     * to control all of the cursor setting manually through the\n",
       "     * 'cursor' event from matplotlib */\n",
       "    event.preventDefault();\n",
       "    return false;\n",
       "}\n",
       "\n",
       "mpl.figure.prototype._key_event_extra = function(event, name) {\n",
       "    // Handle any extra behaviour associated with a key event\n",
       "}\n",
       "\n",
       "mpl.figure.prototype.key_event = function(event, name) {\n",
       "\n",
       "    // Prevent repeat events\n",
       "    if (name == 'key_press')\n",
       "    {\n",
       "        if (event.which === this._key)\n",
       "            return;\n",
       "        else\n",
       "            this._key = event.which;\n",
       "    }\n",
       "    if (name == 'key_release')\n",
       "        this._key = null;\n",
       "\n",
       "    var value = '';\n",
       "    if (event.ctrlKey && event.which != 17)\n",
       "        value += \"ctrl+\";\n",
       "    if (event.altKey && event.which != 18)\n",
       "        value += \"alt+\";\n",
       "    if (event.shiftKey && event.which != 16)\n",
       "        value += \"shift+\";\n",
       "\n",
       "    value += 'k';\n",
       "    value += event.which.toString();\n",
       "\n",
       "    this._key_event_extra(event, name);\n",
       "\n",
       "    this.send_message(name, {key: value,\n",
       "                             guiEvent: simpleKeys(event)});\n",
       "    return false;\n",
       "}\n",
       "\n",
       "mpl.figure.prototype.toolbar_button_onclick = function(name) {\n",
       "    if (name == 'download') {\n",
       "        this.handle_save(this, null);\n",
       "    } else {\n",
       "        this.send_message(\"toolbar_button\", {name: name});\n",
       "    }\n",
       "};\n",
       "\n",
       "mpl.figure.prototype.toolbar_button_onmouseover = function(tooltip) {\n",
       "    this.message.textContent = tooltip;\n",
       "};\n",
       "mpl.toolbar_items = [[\"Home\", \"Reset original view\", \"fa fa-home icon-home\", \"home\"], [\"Back\", \"Back to  previous view\", \"fa fa-arrow-left icon-arrow-left\", \"back\"], [\"Forward\", \"Forward to next view\", \"fa fa-arrow-right icon-arrow-right\", \"forward\"], [\"\", \"\", \"\", \"\"], [\"Pan\", \"Pan axes with left mouse, zoom with right\", \"fa fa-arrows icon-move\", \"pan\"], [\"Zoom\", \"Zoom to rectangle\", \"fa fa-square-o icon-check-empty\", \"zoom\"], [\"\", \"\", \"\", \"\"], [\"Download\", \"Download plot\", \"fa fa-floppy-o icon-save\", \"download\"]];\n",
       "\n",
       "mpl.extensions = [\"eps\", \"pdf\", \"png\", \"ps\", \"raw\", \"svg\"];\n",
       "\n",
       "mpl.default_extension = \"png\";var comm_websocket_adapter = function(comm) {\n",
       "    // Create a \"websocket\"-like object which calls the given IPython comm\n",
       "    // object with the appropriate methods. Currently this is a non binary\n",
       "    // socket, so there is still some room for performance tuning.\n",
       "    var ws = {};\n",
       "\n",
       "    ws.close = function() {\n",
       "        comm.close()\n",
       "    };\n",
       "    ws.send = function(m) {\n",
       "        //console.log('sending', m);\n",
       "        comm.send(m);\n",
       "    };\n",
       "    // Register the callback with on_msg.\n",
       "    comm.on_msg(function(msg) {\n",
       "        //console.log('receiving', msg['content']['data'], msg);\n",
       "        // Pass the mpl event to the overriden (by mpl) onmessage function.\n",
       "        ws.onmessage(msg['content']['data'])\n",
       "    });\n",
       "    return ws;\n",
       "}\n",
       "\n",
       "mpl.mpl_figure_comm = function(comm, msg) {\n",
       "    // This is the function which gets called when the mpl process\n",
       "    // starts-up an IPython Comm through the \"matplotlib\" channel.\n",
       "\n",
       "    var id = msg.content.data.id;\n",
       "    // Get hold of the div created by the display call when the Comm\n",
       "    // socket was opened in Python.\n",
       "    var element = $(\"#\" + id);\n",
       "    var ws_proxy = comm_websocket_adapter(comm)\n",
       "\n",
       "    function ondownload(figure, format) {\n",
       "        window.open(figure.imageObj.src);\n",
       "    }\n",
       "\n",
       "    var fig = new mpl.figure(id, ws_proxy,\n",
       "                           ondownload,\n",
       "                           element.get(0));\n",
       "\n",
       "    // Call onopen now - mpl needs it, as it is assuming we've passed it a real\n",
       "    // web socket which is closed, not our websocket->open comm proxy.\n",
       "    ws_proxy.onopen();\n",
       "\n",
       "    fig.parent_element = element.get(0);\n",
       "    fig.cell_info = mpl.find_output_cell(\"<div id='\" + id + \"'></div>\");\n",
       "    if (!fig.cell_info) {\n",
       "        console.error(\"Failed to find cell for figure\", id, fig);\n",
       "        return;\n",
       "    }\n",
       "\n",
       "    var output_index = fig.cell_info[2]\n",
       "    var cell = fig.cell_info[0];\n",
       "\n",
       "};\n",
       "\n",
       "mpl.figure.prototype.handle_close = function(fig, msg) {\n",
       "    var width = fig.canvas.width/mpl.ratio\n",
       "    fig.root.unbind('remove')\n",
       "\n",
       "    // Update the output cell to use the data from the current canvas.\n",
       "    fig.push_to_output();\n",
       "    var dataURL = fig.canvas.toDataURL();\n",
       "    // Re-enable the keyboard manager in IPython - without this line, in FF,\n",
       "    // the notebook keyboard shortcuts fail.\n",
       "    IPython.keyboard_manager.enable()\n",
       "    $(fig.parent_element).html('<img src=\"' + dataURL + '\" width=\"' + width + '\">');\n",
       "    fig.close_ws(fig, msg);\n",
       "}\n",
       "\n",
       "mpl.figure.prototype.close_ws = function(fig, msg){\n",
       "    fig.send_message('closing', msg);\n",
       "    // fig.ws.close()\n",
       "}\n",
       "\n",
       "mpl.figure.prototype.push_to_output = function(remove_interactive) {\n",
       "    // Turn the data on the canvas into data in the output cell.\n",
       "    var width = this.canvas.width/mpl.ratio\n",
       "    var dataURL = this.canvas.toDataURL();\n",
       "    this.cell_info[1]['text/html'] = '<img src=\"' + dataURL + '\" width=\"' + width + '\">';\n",
       "}\n",
       "\n",
       "mpl.figure.prototype.updated_canvas_event = function() {\n",
       "    // Tell IPython that the notebook contents must change.\n",
       "    IPython.notebook.set_dirty(true);\n",
       "    this.send_message(\"ack\", {});\n",
       "    var fig = this;\n",
       "    // Wait a second, then push the new image to the DOM so\n",
       "    // that it is saved nicely (might be nice to debounce this).\n",
       "    setTimeout(function () { fig.push_to_output() }, 1000);\n",
       "}\n",
       "\n",
       "mpl.figure.prototype._init_toolbar = function() {\n",
       "    var fig = this;\n",
       "\n",
       "    var nav_element = $('<div/>')\n",
       "    nav_element.attr('style', 'width: 100%');\n",
       "    this.root.append(nav_element);\n",
       "\n",
       "    // Define a callback function for later on.\n",
       "    function toolbar_event(event) {\n",
       "        return fig.toolbar_button_onclick(event['data']);\n",
       "    }\n",
       "    function toolbar_mouse_event(event) {\n",
       "        return fig.toolbar_button_onmouseover(event['data']);\n",
       "    }\n",
       "\n",
       "    for(var toolbar_ind in mpl.toolbar_items){\n",
       "        var name = mpl.toolbar_items[toolbar_ind][0];\n",
       "        var tooltip = mpl.toolbar_items[toolbar_ind][1];\n",
       "        var image = mpl.toolbar_items[toolbar_ind][2];\n",
       "        var method_name = mpl.toolbar_items[toolbar_ind][3];\n",
       "\n",
       "        if (!name) { continue; };\n",
       "\n",
       "        var button = $('<button class=\"btn btn-default\" href=\"#\" title=\"' + name + '\"><i class=\"fa ' + image + ' fa-lg\"></i></button>');\n",
       "        button.click(method_name, toolbar_event);\n",
       "        button.mouseover(tooltip, toolbar_mouse_event);\n",
       "        nav_element.append(button);\n",
       "    }\n",
       "\n",
       "    // Add the status bar.\n",
       "    var status_bar = $('<span class=\"mpl-message\" style=\"text-align:right; float: right;\"/>');\n",
       "    nav_element.append(status_bar);\n",
       "    this.message = status_bar[0];\n",
       "\n",
       "    // Add the close button to the window.\n",
       "    var buttongrp = $('<div class=\"btn-group inline pull-right\"></div>');\n",
       "    var button = $('<button class=\"btn btn-mini btn-primary\" href=\"#\" title=\"Stop Interaction\"><i class=\"fa fa-power-off icon-remove icon-large\"></i></button>');\n",
       "    button.click(function (evt) { fig.handle_close(fig, {}); } );\n",
       "    button.mouseover('Stop Interaction', toolbar_mouse_event);\n",
       "    buttongrp.append(button);\n",
       "    var titlebar = this.root.find($('.ui-dialog-titlebar'));\n",
       "    titlebar.prepend(buttongrp);\n",
       "}\n",
       "\n",
       "mpl.figure.prototype._root_extra_style = function(el){\n",
       "    var fig = this\n",
       "    el.on(\"remove\", function(){\n",
       "\tfig.close_ws(fig, {});\n",
       "    });\n",
       "}\n",
       "\n",
       "mpl.figure.prototype._canvas_extra_style = function(el){\n",
       "    // this is important to make the div 'focusable\n",
       "    el.attr('tabindex', 0)\n",
       "    // reach out to IPython and tell the keyboard manager to turn it's self\n",
       "    // off when our div gets focus\n",
       "\n",
       "    // location in version 3\n",
       "    if (IPython.notebook.keyboard_manager) {\n",
       "        IPython.notebook.keyboard_manager.register_events(el);\n",
       "    }\n",
       "    else {\n",
       "        // location in version 2\n",
       "        IPython.keyboard_manager.register_events(el);\n",
       "    }\n",
       "\n",
       "}\n",
       "\n",
       "mpl.figure.prototype._key_event_extra = function(event, name) {\n",
       "    var manager = IPython.notebook.keyboard_manager;\n",
       "    if (!manager)\n",
       "        manager = IPython.keyboard_manager;\n",
       "\n",
       "    // Check for shift+enter\n",
       "    if (event.shiftKey && event.which == 13) {\n",
       "        this.canvas_div.blur();\n",
       "        event.shiftKey = false;\n",
       "        // Send a \"J\" for go to next cell\n",
       "        event.which = 74;\n",
       "        event.keyCode = 74;\n",
       "        manager.command_mode();\n",
       "        manager.handle_keydown(event);\n",
       "    }\n",
       "}\n",
       "\n",
       "mpl.figure.prototype.handle_save = function(fig, msg) {\n",
       "    fig.ondownload(fig, null);\n",
       "}\n",
       "\n",
       "\n",
       "mpl.find_output_cell = function(html_output) {\n",
       "    // Return the cell and output element which can be found *uniquely* in the notebook.\n",
       "    // Note - this is a bit hacky, but it is done because the \"notebook_saving.Notebook\"\n",
       "    // IPython event is triggered only after the cells have been serialised, which for\n",
       "    // our purposes (turning an active figure into a static one), is too late.\n",
       "    var cells = IPython.notebook.get_cells();\n",
       "    var ncells = cells.length;\n",
       "    for (var i=0; i<ncells; i++) {\n",
       "        var cell = cells[i];\n",
       "        if (cell.cell_type === 'code'){\n",
       "            for (var j=0; j<cell.output_area.outputs.length; j++) {\n",
       "                var data = cell.output_area.outputs[j];\n",
       "                if (data.data) {\n",
       "                    // IPython >= 3 moved mimebundle to data attribute of output\n",
       "                    data = data.data;\n",
       "                }\n",
       "                if (data['text/html'] == html_output) {\n",
       "                    return [cell, data, j];\n",
       "                }\n",
       "            }\n",
       "        }\n",
       "    }\n",
       "}\n",
       "\n",
       "// Register the function which deals with the matplotlib target/channel.\n",
       "// The kernel may be null if the page has been refreshed.\n",
       "if (IPython.notebook.kernel != null) {\n",
       "    IPython.notebook.kernel.comm_manager.register_target('matplotlib', mpl.mpl_figure_comm);\n",
       "}\n"
      ],
      "text/plain": [
       "<IPython.core.display.Javascript object>"
      ]
     },
     "metadata": {},
     "output_type": "display_data"
    },
    {
     "data": {
      "text/html": [
       "<img src=\"data:image/png;base64,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\" width=\"640\">"
      ],
      "text/plain": [
       "<IPython.core.display.HTML object>"
      ]
     },
     "metadata": {},
     "output_type": "display_data"
    }
   ],
   "source": [
    "xx1 = np.linspace(-5, 5, 100)\n",
    "xx2 = np.linspace(-5, 5, 100)\n",
    "XX1, XX2 = np.meshgrid(xx1, xx2)\n",
    "plt.grid(False)\n",
    "plt.contour(XX1, XX2, rv0.pdf(np.dstack([XX1, XX2])), cmap=mpl.cm.cool)\n",
    "plt.contour(XX1, XX2, rv1.pdf(np.dstack([XX1, XX2])), cmap=mpl.cm.hot)\n",
    "plt.scatter(X0[:, 0], X0[:, 1], c='b')\n",
    "plt.scatter(X1[:, 0], X1[:, 1], c='r')\n",
    "plt.axis(\"equal\")\n",
    "plt.show()"
   ]
  },
  {
   "cell_type": "code",
   "execution_count": 39,
   "metadata": {},
   "outputs": [],
   "source": [
    "from sklearn.naive_bayes import GaussianNB\n",
    "model_norm = GaussianNB().fit(X, y)"
   ]
  },
  {
   "cell_type": "code",
   "execution_count": 41,
   "metadata": {},
   "outputs": [
    {
     "data": {
      "text/plain": [
       "array([0., 1.])"
      ]
     },
     "execution_count": 41,
     "metadata": {},
     "output_type": "execute_result"
    }
   ],
   "source": [
    "model_norm.classes_"
   ]
  },
  {
   "cell_type": "code",
   "execution_count": 42,
   "metadata": {},
   "outputs": [
    {
     "data": {
      "text/plain": [
       "array([40., 60.])"
      ]
     },
     "execution_count": 42,
     "metadata": {},
     "output_type": "execute_result"
    }
   ],
   "source": [
    "model_norm.class_count_"
   ]
  },
  {
   "cell_type": "code",
   "execution_count": 43,
   "metadata": {},
   "outputs": [
    {
     "data": {
      "text/plain": [
       "array([0.4, 0.6])"
      ]
     },
     "execution_count": 43,
     "metadata": {},
     "output_type": "execute_result"
    }
   ],
   "source": [
    "model_norm.class_prior_"
   ]
  },
  {
   "cell_type": "code",
   "execution_count": 44,
   "metadata": {},
   "outputs": [
    {
     "data": {
      "text/plain": [
       "(array([-1.96197643, -2.00597903]), array([1.02398854, 2.31390497]))"
      ]
     },
     "execution_count": 44,
     "metadata": {},
     "output_type": "execute_result"
    }
   ],
   "source": [
    "model_norm.theta_[0], model_norm.sigma_[0]"
   ]
  },
  {
   "cell_type": "code",
   "execution_count": 45,
   "metadata": {},
   "outputs": [
    {
     "data": {
      "text/plain": [
       "(array([2.19130701, 2.12626716]), array([1.25429371, 1.93742544]))"
      ]
     },
     "execution_count": 45,
     "metadata": {},
     "output_type": "execute_result"
    }
   ],
   "source": [
    "model_norm.theta_[1], model_norm.sigma_[1]"
   ]
  },
  {
   "cell_type": "code",
   "execution_count": 46,
   "metadata": {},
   "outputs": [
    {
     "data": {
      "image/png": "[encoded data removed]",
      "text/plain": [
       "<matplotlib.figure.Figure at 0x213f503c668>"
      ]
     },
     "metadata": {
      "image/png": {
       "height": 248,
       "width": 367
      }
     },
     "output_type": "display_data"
    }
   ],
   "source": [
    "rv0 = sp.stats.multivariate_normal(model_norm.theta_[0], model_norm.sigma_[0])\n",
    "rv1 = sp.stats.multivariate_normal(model_norm.theta_[1], model_norm.sigma_[1])\n",
    "\n",
    "xx1 = np.linspace(-5, 5, 100)\n",
    "xx2 = np.linspace(-5, 5, 100)\n",
    "XX1, XX2 = np.meshgrid(xx1, xx2)\n",
    "plt.grid(False)\n",
    "plt.contour(XX1, XX2, rv0.pdf(np.dstack([XX1, XX2])), cmap=mpl.cm.cool)\n",
    "plt.contour(XX1, XX2, rv1.pdf(np.dstack([XX1, XX2])), cmap=mpl.cm.hot)\n",
    "plt.scatter(X0[:, 0], X0[:, 1], c='b')\n",
    "plt.scatter(X1[:, 0], X1[:, 1], c='r')\n",
    "plt.axis(\"equal\")\n",
    "plt.show()"
   ]
  },
  {
   "cell_type": "code",
   "execution_count": 47,
   "metadata": {},
   "outputs": [
    {
     "data": {
      "text/plain": [
       "array([[0.98300323, 0.01699677]])"
      ]
     },
     "execution_count": 47,
     "metadata": {},
     "output_type": "execute_result"
    }
   ],
   "source": [
    "x_new = [-0.7, -0.8]\n",
    "model_norm.predict_proba([x_new])"
   ]
  },
  {
   "cell_type": "code",
   "execution_count": 48,
   "metadata": {},
   "outputs": [
    {
     "data": {
      "text/plain": [
       "[0.0346968402917242, 0.0003999540815189114]"
      ]
     },
     "execution_count": 48,
     "metadata": {},
     "output_type": "execute_result"
    }
   ],
   "source": [
    "likelihood = [sp.stats.norm(model_norm.theta_[0], np.sqrt(model_norm.sigma_[0])).pdf(x_new).prod(),\n",
    "              sp.stats.norm(model_norm.theta_[1], np.sqrt(model_norm.sigma_[1])).pdf(x_new).prod()]\n",
    "likelihood"
   ]
  },
  {
   "cell_type": "code",
   "execution_count": 49,
   "metadata": {},
   "outputs": [
    {
     "data": {
      "text/plain": [
       "array([0.01387874, 0.00023997])"
      ]
     },
     "execution_count": 49,
     "metadata": {},
     "output_type": "execute_result"
    }
   ],
   "source": [
    "posterior = likelihood * model_norm.class_prior_\n",
    "posterior"
   ]
  },
  {
   "cell_type": "code",
   "execution_count": 50,
   "metadata": {},
   "outputs": [
    {
     "data": {
      "text/plain": [
       "array([0.98300323, 0.01699677])"
      ]
     },
     "execution_count": 50,
     "metadata": {},
     "output_type": "execute_result"
    }
   ],
   "source": [
    "posterior / posterior.sum()"
   ]
  },
  {
   "cell_type": "code",
   "execution_count": 52,
   "metadata": {},
   "outputs": [],
   "source": [
    "from sklearn.datasets import load_iris\n",
    "iris = load_iris()"
   ]
  },
  {
   "cell_type": "code",
   "execution_count": 107,
   "metadata": {},
   "outputs": [],
   "source": [
    "X = iris.data\n",
    "y = iris.target"
   ]
  },
  {
   "cell_type": "code",
   "execution_count": 109,
   "metadata": {},
   "outputs": [],
   "source": [
    "iris_model = GaussianNB().fit(X, y)"
   ]
  },
  {
   "cell_type": "code",
   "execution_count": 110,
   "metadata": {},
   "outputs": [
    {
     "data": {
      "text/plain": [
       "array([0, 1, 2])"
      ]
     },
     "execution_count": 110,
     "metadata": {},
     "output_type": "execute_result"
    }
   ],
   "source": [
    "iris_model.classes_"
   ]
  },
  {
   "cell_type": "code",
   "execution_count": 111,
   "metadata": {},
   "outputs": [
    {
     "data": {
      "text/plain": [
       "array([50., 50., 50.])"
      ]
     },
     "execution_count": 111,
     "metadata": {},
     "output_type": "execute_result"
    }
   ],
   "source": [
    "iris_model.class_count_"
   ]
  },
  {
   "cell_type": "code",
   "execution_count": 112,
   "metadata": {},
   "outputs": [
    {
     "data": {
      "text/plain": [
       "array([0.33333333, 0.33333333, 0.33333333])"
      ]
     },
     "execution_count": 112,
     "metadata": {},
     "output_type": "execute_result"
    }
   ],
   "source": [
    "iris_model.class_prior_"
   ]
  },
  {
   "cell_type": "code",
   "execution_count": 113,
   "metadata": {},
   "outputs": [
    {
     "data": {
      "text/plain": [
       "(array([5.006, 3.418, 1.464, 0.244]),\n",
       " array([0.121764, 0.142276, 0.029504, 0.011264]))"
      ]
     },
     "execution_count": 113,
     "metadata": {},
     "output_type": "execute_result"
    }
   ],
   "source": [
    "iris_model.theta_[0], iris_model.sigma_[0]"
   ]
  },
  {
   "cell_type": "code",
   "execution_count": 114,
   "metadata": {},
   "outputs": [
    {
     "data": {
      "text/plain": [
       "(array([5.936, 2.77 , 4.26 , 1.326]),\n",
       " array([0.261104, 0.0965  , 0.2164  , 0.038324]))"
      ]
     },
     "execution_count": 114,
     "metadata": {},
     "output_type": "execute_result"
    }
   ],
   "source": [
    "iris_model.theta_[1], iris_model.sigma_[1]"
   ]
  },
  {
   "cell_type": "code",
   "execution_count": 115,
   "metadata": {},
   "outputs": [
    {
     "data": {
      "text/plain": [
       "(array([6.588, 2.974, 5.552, 2.026]),\n",
       " array([0.396256, 0.101924, 0.298496, 0.073924]))"
      ]
     },
     "execution_count": 115,
     "metadata": {},
     "output_type": "execute_result"
    }
   ],
   "source": [
    "iris_model.theta_[2], iris_model.sigma_[2]"
   ]
  },
  {
   "cell_type": "code",
   "execution_count": 116,
   "metadata": {},
   "outputs": [],
   "source": [
    "from sklearn.metrics import *"
   ]
  },
  {
   "cell_type": "code",
   "execution_count": 163,
   "metadata": {},
   "outputs": [
    {
     "data": {
      "text/plain": [
       "array([[1.00000000e+000, 1.38496103e-018, 7.25489025e-026],\n",
       "       [1.00000000e+000, 1.48206242e-017, 2.29743996e-025],\n",
       "       [1.00000000e+000, 1.07780639e-018, 2.35065917e-026],\n",
       "       [1.00000000e+000, 1.43871443e-017, 2.89954283e-025],\n",
       "       [1.00000000e+000, 4.65192224e-019, 2.95961100e-026],\n",
       "       [1.00000000e+000, 1.52598944e-014, 1.79883402e-021],\n",
       "       [1.00000000e+000, 1.13555084e-017, 2.79240943e-025],\n",
       "       [1.00000000e+000, 6.57615274e-018, 2.79021029e-025],\n",
       "       [1.00000000e+000, 9.12219356e-018, 1.16607332e-025],\n",
       "       [1.00000000e+000, 3.20344249e-018, 1.12989524e-025],\n",
       "       [1.00000000e+000, 4.48944985e-018, 5.19388089e-025],\n",
       "       [1.00000000e+000, 1.65734172e-017, 7.24605453e-025],\n",
       "       [1.00000000e+000, 1.19023891e-018, 3.06690017e-026],\n",
       "       [1.00000000e+000, 7.39520546e-020, 1.77972179e-027],\n",
       "       [1.00000000e+000, 2.58242749e-019, 8.73399972e-026],\n",
       "       [1.00000000e+000, 3.17746623e-017, 1.73684833e-023],\n",
       "       [1.00000000e+000, 5.70113578e-017, 4.84010372e-024],\n",
       "       [1.00000000e+000, 2.42054769e-017, 8.45556661e-025],\n",
       "       [1.00000000e+000, 6.27645419e-015, 1.06276762e-021],\n",
       "       [1.00000000e+000, 8.94493797e-018, 7.10691894e-025],\n",
       "       [1.00000000e+000, 1.12843548e-015, 7.60807373e-023],\n",
       "       [1.00000000e+000, 6.39726172e-016, 2.98066089e-023],\n",
       "       [1.00000000e+000, 2.01227309e-020, 1.00676223e-027],\n",
       "       [1.00000000e+000, 1.88370574e-011, 3.47694606e-019],\n",
       "       [1.00000000e+000, 9.85315738e-015, 6.06138600e-022],\n",
       "       [1.00000000e+000, 3.37823264e-016, 6.39532840e-024],\n",
       "       [1.00000000e+000, 1.76045187e-014, 4.11462407e-022],\n",
       "       [1.00000000e+000, 7.35980232e-018, 4.42389485e-025],\n",
       "       [1.00000000e+000, 4.16674318e-018, 1.83083484e-025],\n",
       "       [1.00000000e+000, 4.59768498e-017, 1.25839903e-024],\n",
       "       [1.00000000e+000, 1.05032415e-016, 2.32677467e-024],\n",
       "       [1.00000000e+000, 2.19590125e-014, 6.17650711e-022],\n",
       "       [1.00000000e+000, 6.53087316e-021, 3.11887725e-027],\n",
       "       [1.00000000e+000, 3.19701924e-020, 1.42881733e-026],\n",
       "       [1.00000000e+000, 3.20344249e-018, 1.12989524e-025],\n",
       "       [1.00000000e+000, 1.31355747e-018, 2.91614269e-026],\n",
       "       [1.00000000e+000, 3.69675482e-018, 2.51866027e-025],\n",
       "       [1.00000000e+000, 3.20344249e-018, 1.12989524e-025],\n",
       "       [1.00000000e+000, 2.08944813e-018, 3.09410939e-026],\n",
       "       [1.00000000e+000, 9.57268514e-018, 4.26475768e-025],\n",
       "       [1.00000000e+000, 6.37746927e-018, 1.99216264e-025],\n",
       "       [1.00000000e+000, 7.48755609e-016, 1.85220582e-024],\n",
       "       [1.00000000e+000, 6.74316102e-019, 1.54533175e-026],\n",
       "       [1.00000000e+000, 6.24456357e-011, 1.54295833e-018],\n",
       "       [1.00000000e+000, 8.14548341e-013, 7.52199540e-020],\n",
       "       [1.00000000e+000, 1.94244394e-016, 1.96296487e-024],\n",
       "       [1.00000000e+000, 2.39642309e-018, 3.11909164e-025],\n",
       "       [1.00000000e+000, 2.30047669e-018, 5.36192288e-026],\n",
       "       [1.00000000e+000, 2.70414239e-018, 2.86492790e-025],\n",
       "       [1.00000000e+000, 3.60099614e-018, 1.12304319e-025],\n",
       "       [1.87127931e-108, 8.04037666e-001, 1.95962334e-001],\n",
       "       [6.18854779e-101, 9.45169639e-001, 5.48303606e-002],\n",
       "       [1.52821825e-122, 4.56151317e-001, 5.43848683e-001],\n",
       "       [2.14997261e-070, 9.99968751e-001, 3.12488556e-005],\n",
       "       [9.04938222e-107, 9.52441811e-001, 4.75581888e-002],\n",
       "       [1.29272979e-090, 9.99119627e-001, 8.80372565e-004],\n",
       "       [2.72490532e-114, 6.58952285e-001, 3.41047715e-001],\n",
       "       [1.19734767e-034, 9.99999767e-001, 2.33206910e-007],\n",
       "       [3.02545627e-098, 9.90316309e-001, 9.68369084e-003],\n",
       "       [1.29477666e-069, 9.99909746e-001, 9.02536083e-005],\n",
       "       [2.68173680e-041, 9.99999765e-001, 2.35068227e-007],\n",
       "       [7.51115851e-087, 9.96238286e-001, 3.76171369e-003],\n",
       "       [6.40165546e-061, 9.99993984e-001, 6.01632484e-006],\n",
       "       [4.81814146e-105, 9.86090825e-001, 1.39091754e-002],\n",
       "       [1.72509107e-055, 9.99975387e-001, 2.46126406e-005],\n",
       "       [1.18941242e-093, 9.80037003e-001, 1.99629974e-002],\n",
       "       [1.18009940e-098, 9.90687273e-001, 9.31272734e-003],\n",
       "       [2.31534504e-063, 9.99983663e-001, 1.63372809e-005],\n",
       "       [5.48394976e-102, 9.94697108e-001, 5.30289217e-003],\n",
       "       [5.51699136e-059, 9.99993006e-001, 6.99364316e-006],\n",
       "       [7.43572418e-129, 1.54494085e-001, 8.45505915e-001],\n",
       "       [2.12417952e-071, 9.99807026e-001, 1.92973847e-004],\n",
       "       [1.06622383e-120, 9.27077052e-001, 7.29229479e-002],\n",
       "       [4.79428037e-097, 9.98156519e-001, 1.84348055e-003],\n",
       "       [2.71707817e-084, 9.98460816e-001, 1.53918416e-003],\n",
       "       [2.03176962e-093, 9.87471082e-001, 1.25289184e-002],\n",
       "       [4.95012220e-113, 9.12844444e-001, 8.71555561e-002],\n",
       "       [2.12531216e-137, 7.52691316e-002, 9.24730868e-001],\n",
       "       [4.19702663e-100, 9.86480268e-001, 1.35197316e-002],\n",
       "       [4.63173354e-042, 9.99998762e-001, 1.23794211e-006],\n",
       "       [2.77274013e-055, 9.99996447e-001, 3.55251831e-006],\n",
       "       [2.14091116e-048, 9.99998651e-001, 1.34923924e-006],\n",
       "       [6.63563094e-063, 9.99972348e-001, 2.76523927e-005],\n",
       "       [2.61124821e-134, 6.12159845e-001, 3.87840155e-001],\n",
       "       [3.71647418e-098, 9.92476638e-001, 7.52336224e-003],\n",
       "       [1.13230275e-103, 8.76107551e-001, 1.23892449e-001],\n",
       "       [1.05786721e-111, 7.99294752e-001, 2.00705248e-001],\n",
       "       [3.76539608e-089, 9.99385417e-001, 6.14582528e-004],\n",
       "       [3.07894878e-073, 9.99796270e-001, 2.03730114e-004],\n",
       "       [4.17712661e-070, 9.99955234e-001, 4.47664632e-005],\n",
       "       [3.92710689e-082, 9.99873680e-001, 1.26320322e-004],\n",
       "       [3.30872742e-100, 9.89371467e-001, 1.06285328e-002],\n",
       "       [8.31545615e-067, 9.99966229e-001, 3.37713204e-005],\n",
       "       [6.26912483e-035, 9.99999798e-001, 2.02487922e-007],\n",
       "       [7.66367658e-078, 9.99832329e-001, 1.67671378e-004],\n",
       "       [1.58557717e-073, 9.99849875e-001, 1.50125137e-004],\n",
       "       [1.02662082e-077, 9.99714947e-001, 2.85053350e-004],\n",
       "       [1.72307593e-083, 9.98992363e-001, 1.00763708e-003],\n",
       "       [4.12872931e-030, 9.99999769e-001, 2.31316897e-007],\n",
       "       [5.99667528e-074, 9.99847160e-001, 1.52839987e-004],\n",
       "       [4.13779546e-251, 6.35381030e-011, 1.00000000e+000],\n",
       "       [5.00845630e-151, 2.50121636e-002, 9.74987836e-001],\n",
       "       [1.04941686e-218, 1.67915381e-007, 9.99999832e-001],\n",
       "       [2.13833836e-175, 1.99462374e-003, 9.98005376e-001],\n",
       "       [7.20399720e-216, 2.30543407e-007, 9.99999769e-001],\n",
       "       [4.51654712e-271, 2.40976994e-010, 1.00000000e+000],\n",
       "       [4.59552511e-108, 9.73514345e-001, 2.64856553e-002],\n",
       "       [2.22191497e-227, 1.34018147e-006, 9.99998660e-001],\n",
       "       [2.10589122e-190, 4.92901785e-004, 9.99507098e-001],\n",
       "       [1.20055778e-262, 1.40568402e-012, 1.00000000e+000],\n",
       "       [3.62359789e-160, 4.12884115e-004, 9.99587116e-001],\n",
       "       [8.83719953e-165, 2.77742178e-003, 9.97222578e-001],\n",
       "       [6.87376950e-192, 4.80711862e-006, 9.99995193e-001],\n",
       "       [4.08220498e-152, 1.28807070e-002, 9.87119293e-001],\n",
       "       [2.75153031e-187, 1.04253685e-006, 9.99998957e-001],\n",
       "       [1.44750671e-192, 4.50951786e-007, 9.99999549e-001],\n",
       "       [2.76680341e-170, 1.87196580e-003, 9.98128034e-001],\n",
       "       [3.75302289e-285, 1.64574932e-012, 1.00000000e+000],\n",
       "       [4.69548986e-310, 6.47406861e-013, 1.00000000e+000],\n",
       "       [5.69697725e-125, 9.58135362e-001, 4.18646381e-002],\n",
       "       [2.94299535e-219, 1.17116897e-008, 9.99999988e-001],\n",
       "       [2.82525894e-146, 1.37625971e-002, 9.86237403e-001],\n",
       "       [1.12237933e-272, 7.58240410e-010, 9.99999999e-001],\n",
       "       [2.28867567e-136, 1.29986728e-001, 8.70013272e-001],\n",
       "       [5.61795825e-203, 9.71777952e-007, 9.99999028e-001],\n",
       "       [8.72622664e-206, 7.39901993e-006, 9.99992601e-001],\n",
       "       [9.96933448e-131, 1.99928220e-001, 8.00071780e-001],\n",
       "       [4.66749613e-135, 1.07483532e-001, 8.92516468e-001],\n",
       "       [6.88743059e-196, 1.09467814e-005, 9.99989053e-001],\n",
       "       [1.61337601e-181, 7.01805717e-004, 9.99298194e-001],\n",
       "       [8.55580252e-221, 9.06238440e-007, 9.99999094e-001],\n",
       "       [1.24722670e-250, 2.96730515e-010, 1.00000000e+000],\n",
       "       [3.64874362e-203, 1.50788229e-006, 9.99998492e-001],\n",
       "       [2.19798649e-130, 7.12645144e-001, 2.87354856e-001],\n",
       "       [3.68949024e-153, 4.86199285e-001, 5.13800715e-001],\n",
       "       [2.13595212e-251, 8.98578645e-011, 1.00000000e+000],\n",
       "       [2.75337356e-217, 6.58848819e-009, 9.99999993e-001],\n",
       "       [1.30868299e-169, 1.90227600e-003, 9.98097724e-001],\n",
       "       [1.38946382e-129, 1.93183856e-001, 8.06816144e-001],\n",
       "       [1.71830037e-186, 5.23126458e-006, 9.99994769e-001],\n",
       "       [5.79667973e-220, 5.01446575e-009, 9.99999995e-001],\n",
       "       [1.61093140e-184, 4.67798053e-007, 9.99999532e-001],\n",
       "       [5.00845630e-151, 2.50121636e-002, 9.74987836e-001],\n",
       "       [2.54029381e-231, 4.42556022e-009, 9.99999996e-001],\n",
       "       [4.84219075e-234, 1.64602693e-010, 1.00000000e+000],\n",
       "       [6.47732320e-189, 5.85507961e-007, 9.99999414e-001],\n",
       "       [5.17352411e-148, 2.54457623e-002, 9.74554238e-001],\n",
       "       [5.93498263e-166, 3.70166861e-004, 9.99629833e-001],\n",
       "       [5.58649523e-197, 2.46020434e-007, 9.99999754e-001],\n",
       "       [9.13863414e-145, 5.60050091e-002, 9.43994991e-001]])"
      ]
     },
     "execution_count": 163,
     "metadata": {},
     "output_type": "execute_result"
    }
   ],
   "source": [
    "y_pred = iris_model.predict_proba(X)\n",
    "y_pred"
   ]
  },
  {
   "cell_type": "code",
   "execution_count": 165,
   "metadata": {},
   "outputs": [
    {
     "ename": "ValueError",
     "evalue": "Classification metrics can't handle a mix of multiclass and continuous-multioutput targets",
     "output_type": "error",
     "traceback": [
      "\u001b[1;31m---------------------------------------------------------------------------\u001b[0m",
      "\u001b[1;31mValueError\u001b[0m                                Traceback (most recent call last)",
      "\u001b[1;32m<ipython-input-165-59edb478cf8e>\u001b[0m in \u001b[0;36m<module>\u001b[1;34m()\u001b[0m\n\u001b[1;32m----> 1\u001b[1;33m \u001b[0msk\u001b[0m\u001b[1;33m.\u001b[0m\u001b[0mmetrics\u001b[0m\u001b[1;33m.\u001b[0m\u001b[0mconfusion_matrix\u001b[0m\u001b[1;33m(\u001b[0m\u001b[0my\u001b[0m\u001b[1;33m,\u001b[0m \u001b[0my_pred\u001b[0m\u001b[1;33m)\u001b[0m\u001b[1;33m\u001b[0m\u001b[0m\n\u001b[0m",
      "\u001b[1;32m~\\Anaconda3\\lib\\site-packages\\sklearn\\metrics\\classification.py\u001b[0m in \u001b[0;36mconfusion_matrix\u001b[1;34m(y_true, y_pred, labels, sample_weight)\u001b[0m\n\u001b[0;32m    248\u001b[0m \u001b[1;33m\u001b[0m\u001b[0m\n\u001b[0;32m    249\u001b[0m     \"\"\"\n\u001b[1;32m--> 250\u001b[1;33m     \u001b[0my_type\u001b[0m\u001b[1;33m,\u001b[0m \u001b[0my_true\u001b[0m\u001b[1;33m,\u001b[0m \u001b[0my_pred\u001b[0m \u001b[1;33m=\u001b[0m \u001b[0m_check_targets\u001b[0m\u001b[1;33m(\u001b[0m\u001b[0my_true\u001b[0m\u001b[1;33m,\u001b[0m \u001b[0my_pred\u001b[0m\u001b[1;33m)\u001b[0m\u001b[1;33m\u001b[0m\u001b[0m\n\u001b[0m\u001b[0;32m    251\u001b[0m     \u001b[1;32mif\u001b[0m \u001b[0my_type\u001b[0m \u001b[1;32mnot\u001b[0m \u001b[1;32min\u001b[0m \u001b[1;33m(\u001b[0m\u001b[1;34m\"binary\"\u001b[0m\u001b[1;33m,\u001b[0m \u001b[1;34m\"multiclass\"\u001b[0m\u001b[1;33m)\u001b[0m\u001b[1;33m:\u001b[0m\u001b[1;33m\u001b[0m\u001b[0m\n\u001b[0;32m    252\u001b[0m         \u001b[1;32mraise\u001b[0m \u001b[0mValueError\u001b[0m\u001b[1;33m(\u001b[0m\u001b[1;34m\"%s is not supported\"\u001b[0m \u001b[1;33m%\u001b[0m \u001b[0my_type\u001b[0m\u001b[1;33m)\u001b[0m\u001b[1;33m\u001b[0m\u001b[0m\n",
      "\u001b[1;32m~\\Anaconda3\\lib\\site-packages\\sklearn\\metrics\\classification.py\u001b[0m in \u001b[0;36m_check_targets\u001b[1;34m(y_true, y_pred)\u001b[0m\n\u001b[0;32m     79\u001b[0m     \u001b[1;32mif\u001b[0m \u001b[0mlen\u001b[0m\u001b[1;33m(\u001b[0m\u001b[0my_type\u001b[0m\u001b[1;33m)\u001b[0m \u001b[1;33m>\u001b[0m \u001b[1;36m1\u001b[0m\u001b[1;33m:\u001b[0m\u001b[1;33m\u001b[0m\u001b[0m\n\u001b[0;32m     80\u001b[0m         raise ValueError(\"Classification metrics can't handle a mix of {0} \"\n\u001b[1;32m---> 81\u001b[1;33m                          \"and {1} targets\".format(type_true, type_pred))\n\u001b[0m\u001b[0;32m     82\u001b[0m \u001b[1;33m\u001b[0m\u001b[0m\n\u001b[0;32m     83\u001b[0m     \u001b[1;31m# We can't have more than one value on y_type => The set is no more needed\u001b[0m\u001b[1;33m\u001b[0m\u001b[1;33m\u001b[0m\u001b[0m\n",
      "\u001b[1;31mValueError\u001b[0m: Classification metrics can't handle a mix of multiclass and continuous-multioutput targets"
     ]
    }
   ],
   "source": [
    "sk.metrics.confusion_matrix(y, y_pred)"
   ]
  },
  {
   "cell_type": "code",
   "execution_count": 139,
   "metadata": {
    "scrolled": true
   },
   "outputs": [
    {
     "ename": "ValueError",
     "evalue": "Mix type of y not allowed, got types {'multiclass', 'continuous-multioutput'}",
     "output_type": "error",
     "traceback": [
      "\u001b[1;31m---------------------------------------------------------------------------\u001b[0m",
      "\u001b[1;31mValueError\u001b[0m                                Traceback (most recent call last)",
      "\u001b[1;32m<ipython-input-139-c94857941e41>\u001b[0m in \u001b[0;36m<module>\u001b[1;34m()\u001b[0m\n\u001b[1;32m----> 1\u001b[1;33m \u001b[0msk\u001b[0m\u001b[1;33m.\u001b[0m\u001b[0mmetrics\u001b[0m\u001b[1;33m.\u001b[0m\u001b[0mclassification_report\u001b[0m\u001b[1;33m(\u001b[0m\u001b[0my\u001b[0m\u001b[1;33m,\u001b[0m \u001b[0my_pred\u001b[0m\u001b[1;33m)\u001b[0m\u001b[1;33m\u001b[0m\u001b[0m\n\u001b[0m",
      "\u001b[1;32m~\\Anaconda3\\lib\\site-packages\\sklearn\\metrics\\classification.py\u001b[0m in \u001b[0;36mclassification_report\u001b[1;34m(y_true, y_pred, labels, target_names, sample_weight, digits)\u001b[0m\n\u001b[0;32m   1419\u001b[0m \u001b[1;33m\u001b[0m\u001b[0m\n\u001b[0;32m   1420\u001b[0m     \u001b[1;32mif\u001b[0m \u001b[0mlabels\u001b[0m \u001b[1;32mis\u001b[0m \u001b[1;32mNone\u001b[0m\u001b[1;33m:\u001b[0m\u001b[1;33m\u001b[0m\u001b[0m\n\u001b[1;32m-> 1421\u001b[1;33m         \u001b[0mlabels\u001b[0m \u001b[1;33m=\u001b[0m \u001b[0munique_labels\u001b[0m\u001b[1;33m(\u001b[0m\u001b[0my_true\u001b[0m\u001b[1;33m,\u001b[0m \u001b[0my_pred\u001b[0m\u001b[1;33m)\u001b[0m\u001b[1;33m\u001b[0m\u001b[0m\n\u001b[0m\u001b[0;32m   1422\u001b[0m     \u001b[1;32melse\u001b[0m\u001b[1;33m:\u001b[0m\u001b[1;33m\u001b[0m\u001b[0m\n\u001b[0;32m   1423\u001b[0m         \u001b[0mlabels\u001b[0m \u001b[1;33m=\u001b[0m \u001b[0mnp\u001b[0m\u001b[1;33m.\u001b[0m\u001b[0masarray\u001b[0m\u001b[1;33m(\u001b[0m\u001b[0mlabels\u001b[0m\u001b[1;33m)\u001b[0m\u001b[1;33m\u001b[0m\u001b[0m\n",
      "\u001b[1;32m~\\Anaconda3\\lib\\site-packages\\sklearn\\utils\\multiclass.py\u001b[0m in \u001b[0;36munique_labels\u001b[1;34m(*ys)\u001b[0m\n\u001b[0;32m     81\u001b[0m \u001b[1;33m\u001b[0m\u001b[0m\n\u001b[0;32m     82\u001b[0m     \u001b[1;32mif\u001b[0m \u001b[0mlen\u001b[0m\u001b[1;33m(\u001b[0m\u001b[0mys_types\u001b[0m\u001b[1;33m)\u001b[0m \u001b[1;33m>\u001b[0m \u001b[1;36m1\u001b[0m\u001b[1;33m:\u001b[0m\u001b[1;33m\u001b[0m\u001b[0m\n\u001b[1;32m---> 83\u001b[1;33m         \u001b[1;32mraise\u001b[0m \u001b[0mValueError\u001b[0m\u001b[1;33m(\u001b[0m\u001b[1;34m\"Mix type of y not allowed, got types %s\"\u001b[0m \u001b[1;33m%\u001b[0m \u001b[0mys_types\u001b[0m\u001b[1;33m)\u001b[0m\u001b[1;33m\u001b[0m\u001b[0m\n\u001b[0m\u001b[0;32m     84\u001b[0m \u001b[1;33m\u001b[0m\u001b[0m\n\u001b[0;32m     85\u001b[0m     \u001b[0mlabel_type\u001b[0m \u001b[1;33m=\u001b[0m \u001b[0mys_types\u001b[0m\u001b[1;33m.\u001b[0m\u001b[0mpop\u001b[0m\u001b[1;33m(\u001b[0m\u001b[1;33m)\u001b[0m\u001b[1;33m\u001b[0m\u001b[0m\n",
      "\u001b[1;31mValueError\u001b[0m: Mix type of y not allowed, got types {'multiclass', 'continuous-multioutput'}"
     ]
    }
   ],
   "source": [
    "sk.metrics.classification_report(y, y_pred)"
   ]
  },
  {
   "cell_type": "code",
   "execution_count": 93,
   "metadata": {},
   "outputs": [],
   "source": [
    "import scikitplot"
   ]
  },
  {
   "cell_type": "code",
   "execution_count": 94,
   "metadata": {},
   "outputs": [],
   "source": [
    "from scikitplot.metrics import *"
   ]
  },
  {
   "cell_type": "code",
   "execution_count": 123,
   "metadata": {
    "scrolled": true
   },
   "outputs": [
    {
     "ename": "ValueError",
     "evalue": "bad input shape (150, 3)",
     "output_type": "error",
     "traceback": [
      "\u001b[1;31m---------------------------------------------------------------------------\u001b[0m",
      "\u001b[1;31mValueError\u001b[0m                                Traceback (most recent call last)",
      "\u001b[1;32m<ipython-input-123-cb1454da6d34>\u001b[0m in \u001b[0;36m<module>\u001b[1;34m()\u001b[0m\n\u001b[1;32m----> 1\u001b[1;33m \u001b[0mscikitplot\u001b[0m\u001b[1;33m.\u001b[0m\u001b[0mmetrics\u001b[0m\u001b[1;33m.\u001b[0m\u001b[0mauc\u001b[0m\u001b[1;33m(\u001b[0m\u001b[0my\u001b[0m\u001b[1;33m,\u001b[0m \u001b[0my_pred\u001b[0m\u001b[1;33m)\u001b[0m\u001b[1;33m\u001b[0m\u001b[0m\n\u001b[0m",
      "\u001b[1;32m~\\Anaconda3\\lib\\site-packages\\sklearn\\metrics\\ranking.py\u001b[0m in \u001b[0;36mauc\u001b[1;34m(x, y, reorder)\u001b[0m\n\u001b[0;32m     78\u001b[0m     \u001b[0mcheck_consistent_length\u001b[0m\u001b[1;33m(\u001b[0m\u001b[0mx\u001b[0m\u001b[1;33m,\u001b[0m \u001b[0my\u001b[0m\u001b[1;33m)\u001b[0m\u001b[1;33m\u001b[0m\u001b[0m\n\u001b[0;32m     79\u001b[0m     \u001b[0mx\u001b[0m \u001b[1;33m=\u001b[0m \u001b[0mcolumn_or_1d\u001b[0m\u001b[1;33m(\u001b[0m\u001b[0mx\u001b[0m\u001b[1;33m)\u001b[0m\u001b[1;33m\u001b[0m\u001b[0m\n\u001b[1;32m---> 80\u001b[1;33m     \u001b[0my\u001b[0m \u001b[1;33m=\u001b[0m \u001b[0mcolumn_or_1d\u001b[0m\u001b[1;33m(\u001b[0m\u001b[0my\u001b[0m\u001b[1;33m)\u001b[0m\u001b[1;33m\u001b[0m\u001b[0m\n\u001b[0m\u001b[0;32m     81\u001b[0m \u001b[1;33m\u001b[0m\u001b[0m\n\u001b[0;32m     82\u001b[0m     \u001b[1;32mif\u001b[0m \u001b[0mx\u001b[0m\u001b[1;33m.\u001b[0m\u001b[0mshape\u001b[0m\u001b[1;33m[\u001b[0m\u001b[1;36m0\u001b[0m\u001b[1;33m]\u001b[0m \u001b[1;33m<\u001b[0m \u001b[1;36m2\u001b[0m\u001b[1;33m:\u001b[0m\u001b[1;33m\u001b[0m\u001b[0m\n",
      "\u001b[1;32m~\\Anaconda3\\lib\\site-packages\\sklearn\\utils\\validation.py\u001b[0m in \u001b[0;36mcolumn_or_1d\u001b[1;34m(y, warn)\u001b[0m\n\u001b[0;32m    612\u001b[0m         \u001b[1;32mreturn\u001b[0m \u001b[0mnp\u001b[0m\u001b[1;33m.\u001b[0m\u001b[0mravel\u001b[0m\u001b[1;33m(\u001b[0m\u001b[0my\u001b[0m\u001b[1;33m)\u001b[0m\u001b[1;33m\u001b[0m\u001b[0m\n\u001b[0;32m    613\u001b[0m \u001b[1;33m\u001b[0m\u001b[0m\n\u001b[1;32m--> 614\u001b[1;33m     \u001b[1;32mraise\u001b[0m \u001b[0mValueError\u001b[0m\u001b[1;33m(\u001b[0m\u001b[1;34m\"bad input shape {0}\"\u001b[0m\u001b[1;33m.\u001b[0m\u001b[0mformat\u001b[0m\u001b[1;33m(\u001b[0m\u001b[0mshape\u001b[0m\u001b[1;33m)\u001b[0m\u001b[1;33m)\u001b[0m\u001b[1;33m\u001b[0m\u001b[0m\n\u001b[0m\u001b[0;32m    615\u001b[0m \u001b[1;33m\u001b[0m\u001b[0m\n\u001b[0;32m    616\u001b[0m \u001b[1;33m\u001b[0m\u001b[0m\n",
      "\u001b[1;31mValueError\u001b[0m: bad input shape (150, 3)"
     ]
    }
   ],
   "source": [
    "scikitplot.metrics.auc(y, y_pred)"
   ]
  },
  {
   "cell_type": "code",
   "execution_count": 121,
   "metadata": {
    "scrolled": true
   },
   "outputs": [
    {
     "ename": "ValueError",
     "evalue": "multiclass format is not supported",
     "output_type": "error",
     "traceback": [
      "\u001b[1;31m---------------------------------------------------------------------------\u001b[0m",
      "\u001b[1;31mValueError\u001b[0m                                Traceback (most recent call last)",
      "\u001b[1;32m<ipython-input-121-ca020fa282b8>\u001b[0m in \u001b[0;36m<module>\u001b[1;34m()\u001b[0m\n\u001b[1;32m----> 1\u001b[1;33m \u001b[0mscikitplot\u001b[0m\u001b[1;33m.\u001b[0m\u001b[0mmetrics\u001b[0m\u001b[1;33m.\u001b[0m\u001b[0mroc_curve\u001b[0m\u001b[1;33m(\u001b[0m\u001b[0my\u001b[0m\u001b[1;33m,\u001b[0m \u001b[0my_pred\u001b[0m\u001b[1;33m)\u001b[0m\u001b[1;33m\u001b[0m\u001b[0m\n\u001b[0m",
      "\u001b[1;32m~\\Anaconda3\\lib\\site-packages\\sklearn\\metrics\\ranking.py\u001b[0m in \u001b[0;36mroc_curve\u001b[1;34m(y_true, y_score, pos_label, sample_weight, drop_intermediate)\u001b[0m\n\u001b[0;32m    532\u001b[0m     \"\"\"\n\u001b[0;32m    533\u001b[0m     fps, tps, thresholds = _binary_clf_curve(\n\u001b[1;32m--> 534\u001b[1;33m         y_true, y_score, pos_label=pos_label, sample_weight=sample_weight)\n\u001b[0m\u001b[0;32m    535\u001b[0m \u001b[1;33m\u001b[0m\u001b[0m\n\u001b[0;32m    536\u001b[0m     \u001b[1;31m# Attempt to drop thresholds corresponding to points in between and\u001b[0m\u001b[1;33m\u001b[0m\u001b[1;33m\u001b[0m\u001b[0m\n",
      "\u001b[1;32m~\\Anaconda3\\lib\\site-packages\\sklearn\\metrics\\ranking.py\u001b[0m in \u001b[0;36m_binary_clf_curve\u001b[1;34m(y_true, y_score, pos_label, sample_weight)\u001b[0m\n\u001b[0;32m    316\u001b[0m     if not (y_type == \"binary\" or\n\u001b[0;32m    317\u001b[0m             (y_type == \"multiclass\" and pos_label is not None)):\n\u001b[1;32m--> 318\u001b[1;33m         \u001b[1;32mraise\u001b[0m \u001b[0mValueError\u001b[0m\u001b[1;33m(\u001b[0m\u001b[1;34m\"{0} format is not supported\"\u001b[0m\u001b[1;33m.\u001b[0m\u001b[0mformat\u001b[0m\u001b[1;33m(\u001b[0m\u001b[0my_type\u001b[0m\u001b[1;33m)\u001b[0m\u001b[1;33m)\u001b[0m\u001b[1;33m\u001b[0m\u001b[0m\n\u001b[0m\u001b[0;32m    319\u001b[0m \u001b[1;33m\u001b[0m\u001b[0m\n\u001b[0;32m    320\u001b[0m     \u001b[0mcheck_consistent_length\u001b[0m\u001b[1;33m(\u001b[0m\u001b[0my_true\u001b[0m\u001b[1;33m,\u001b[0m \u001b[0my_score\u001b[0m\u001b[1;33m,\u001b[0m \u001b[0msample_weight\u001b[0m\u001b[1;33m)\u001b[0m\u001b[1;33m\u001b[0m\u001b[0m\n",
      "\u001b[1;31mValueError\u001b[0m: multiclass format is not supported"
     ]
    }
   ],
   "source": [
    "scikitplot.metrics.roc_curve(y, y_pred)"
   ]
  },
  {
   "cell_type": "markdown",
   "metadata": {},
   "source": [
    "\n",
    "### 연습 문제 2\n",
    "- MNIST Digit 분류 문제에서 sklearn.preprocessing.Binarizer로 x값을 0, 1로 바꾼다(값이 8 이상이면 1, 8 미만이면 0). 즉 흰색과 검은색 픽셀로만 구성된 이미지로 만든다. 이 이미지에 대해 베르누이 나이브 베이즈 모형을 적용한다.\n",
    "- BernoulliNB 클래스의 binarize 인수를 사용하여 같은 문제를 풀어본다.\n",
    "계산된 모형의 모수 벡터 값을 각 클래스별로 8*8 이미지의 형태로 나타낸다. 이 이미지는 무엇을 뜻하는가?"
   ]
  },
  {
   "cell_type": "code",
   "execution_count": null,
   "metadata": {},
   "outputs": [],
   "source": []
  },
  {
   "cell_type": "code",
   "execution_count": null,
   "metadata": {},
   "outputs": [],
   "source": []
  },
  {
   "cell_type": "code",
   "execution_count": null,
   "metadata": {},
   "outputs": [],
   "source": []
  },
  {
   "cell_type": "code",
   "execution_count": null,
   "metadata": {},
   "outputs": [],
   "source": []
  },
  {
   "cell_type": "code",
   "execution_count": null,
   "metadata": {},
   "outputs": [],
   "source": []
  },
  {
   "cell_type": "code",
   "execution_count": null,
   "metadata": {},
   "outputs": [],
   "source": []
  },
  {
   "cell_type": "code",
   "execution_count": null,
   "metadata": {},
   "outputs": [],
   "source": []
  },
  {
   "cell_type": "code",
   "execution_count": null,
   "metadata": {},
   "outputs": [],
   "source": []
  },
  {
   "cell_type": "code",
   "execution_count": null,
   "metadata": {},
   "outputs": [],
   "source": []
  },
  {
   "cell_type": "code",
   "execution_count": null,
   "metadata": {},
   "outputs": [],
   "source": []
  },
  {
   "cell_type": "code",
   "execution_count": null,
   "metadata": {},
   "outputs": [],
   "source": []
  }
 ],
 "metadata": {
  "kernelspec": {
   "display_name": "Python 3",
   "language": "python",
   "name": "python3"
  },
  "language_info": {
   "codemirror_mode": {
    "name": "ipython",
    "version": 3
   },
   "file_extension": ".py",
   "mimetype": "text/x-python",
   "name": "python",
   "nbconvert_exporter": "python",
   "pygments_lexer": "ipython3",
   "version": "3.6.4"
  }
 },
 "nbformat": 4,
 "nbformat_minor": 2
}
