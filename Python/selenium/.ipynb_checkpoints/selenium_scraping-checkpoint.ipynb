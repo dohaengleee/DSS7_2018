{
 "cells": [
  {
   "cell_type": "markdown",
   "metadata": {},
   "source": [
    "### Selenium Scraping"
   ]
  },
  {
   "cell_type": "markdown",
   "metadata": {},
   "source": [
    "##### Gmarket 베스트 셀러 데이터 스크래핑 \n",
    "- 전체 200개중 상위 10개 출력\n",
    "- pandas 데이터를 분석할수 있는 python 라이브러리\n",
    "    - pip3 install pandas\n",
    "    - 데이터 프레임 생성 : df = pd.DataFrame(columns=[\"A\",\"B\"])\n",
    "    - 데이터 추가 : df.loc[len(df)] = [{\"A\":1,\"B\":2}, {\"A\":3,\"B\":4}]"
   ]
  },
  {
   "cell_type": "code",
   "execution_count": 1,
   "metadata": {
    "collapsed": true
   },
   "outputs": [],
   "source": [
    "from selenium import webdriver\n",
    "import pandas as pd"
   ]
  },
  {
   "cell_type": "code",
   "execution_count": 4,
   "metadata": {
    "collapsed": true,
    "scrolled": false
   },
   "outputs": [],
   "source": [
    "def get_gmarket_bestsellers(number=10):\n",
    "    \n",
    "    def to_int(price):\n",
    "        return int(price.replace(\",\",\"\").replace(\"원\",\"\"))\n",
    "    \n",
    "    driver =  webdriver.Chrome(\"C:/Users/dohan/chromedriver.exe\")\n",
    "    driver.get('http://corners.gmarket.co.kr/Bestsellers')\n",
    "\n",
    "    bestlist_selector = driver.find_elements_by_css_selector(\"#gBestWrap .best-list\")[1]\n",
    "    items = bestlist_selector.find_elements_by_css_selector(\"li\")[:number]\n",
    "    \n",
    "    df = pd.DataFrame(columns=[\"상품명\",\"원가\",\"판매가\",\"이미지\",\"상품링크\"])\n",
    "    \n",
    "    for item in items:\n",
    "\n",
    "        idx = item.find_element_by_css_selector(\"p\").text # 순번\n",
    "        img_link = item.find_element_by_css_selector(\"img\").get_attribute(\"src\") # 이미지 URL\n",
    "        item_link = item.find_element_by_css_selector(\".itemname\").get_attribute(\"href\") # 아이템 URL\n",
    "        content = item.find_element_by_css_selector(\".itemname\").text # 아이템 텍스트\n",
    "        o_price = item.find_element_by_css_selector(\".item_price .o-price\").text # 오리지날 가격\n",
    "        s_price = item.find_element_by_css_selector(\".item_price .s-price\").text.split(\" \")[0] # 판매 가격\n",
    "        o_price = o_price if o_price else s_price # 원가 데이터가 없는경우 판매가를 대입\n",
    "        \n",
    "        data = {\"상품명\": content,\n",
    "                \"원가\": to_int(o_price), \n",
    "                \"판매가\": to_int(s_price),\n",
    "                \"이미지\": img_link, \n",
    "                \"상품링크\": item_link, }\n",
    "        \n",
    "        # Pandas 데이터 입력\n",
    "        df.loc[len(df)] = data\n",
    "        \n",
    "    driver.close()\n",
    "    return df"
   ]
  },
  {
   "cell_type": "code",
   "execution_count": 7,
   "metadata": {
    "scrolled": true
   },
   "outputs": [
    {
     "name": "stdout",
     "output_type": "stream",
     "text": [
      "Wall time: 15.5 s\n"
     ]
    }
   ],
   "source": [
    "%%time\n",
    "result = get_gmarket_bestsellers(20)\n",
    "result.tail()"
   ]
  },
  {
   "cell_type": "code",
   "execution_count": 8,
   "metadata": {},
   "outputs": [
    {
     "data": {
      "text/html": [
       "<div>\n",
       "<style>\n",
       "    .dataframe thead tr:only-child th {\n",
       "        text-align: right;\n",
       "    }\n",
       "\n",
       "    .dataframe thead th {\n",
       "        text-align: left;\n",
       "    }\n",
       "\n",
       "    .dataframe tbody tr th {\n",
       "        vertical-align: top;\n",
       "    }\n",
       "</style>\n",
       "<table border=\"1\" class=\"dataframe\">\n",
       "  <thead>\n",
       "    <tr style=\"text-align: right;\">\n",
       "      <th></th>\n",
       "      <th>rank</th>\n",
       "      <th>상품명</th>\n",
       "      <th>원가</th>\n",
       "      <th>판매가</th>\n",
       "      <th>이미지</th>\n",
       "      <th>상품링크</th>\n",
       "      <th>할인율</th>\n",
       "    </tr>\n",
       "  </thead>\n",
       "  <tbody>\n",
       "    <tr>\n",
       "      <th>0</th>\n",
       "      <td>1</td>\n",
       "      <td>삠뽀요/봄신상 원피스9900원 베이비 우주복 돌복</td>\n",
       "      <td>33000</td>\n",
       "      <td>9900</td>\n",
       "      <td>http://gdimg.gmarket.co.kr/900637906/still/300</td>\n",
       "      <td>http://item2.gmarket.co.kr/Item/DetailView/Ite...</td>\n",
       "      <td>70.00</td>\n",
       "    </tr>\n",
       "    <tr>\n",
       "      <th>1</th>\n",
       "      <td>16</td>\n",
       "      <td>[디프니]20%쿠폰 디프니 봄신상~셔츠/블라우스/원피스</td>\n",
       "      <td>42900</td>\n",
       "      <td>12900</td>\n",
       "      <td>http://image.gmarket.co.kr/challenge/neo_image...</td>\n",
       "      <td>http://item2.gmarket.co.kr/Item/DetailView/Ite...</td>\n",
       "      <td>69.93</td>\n",
       "    </tr>\n",
       "    <tr>\n",
       "      <th>2</th>\n",
       "      <td>14</td>\n",
       "      <td>[디프니]20%쿠폰 디프니 봄신상~롱티셔츠/맨투맨</td>\n",
       "      <td>42900</td>\n",
       "      <td>12900</td>\n",
       "      <td>http://image.gmarket.co.kr/challenge/neo_image...</td>\n",
       "      <td>http://item2.gmarket.co.kr/Item/DetailView/Ite...</td>\n",
       "      <td>69.93</td>\n",
       "    </tr>\n",
       "    <tr>\n",
       "      <th>3</th>\n",
       "      <td>9</td>\n",
       "      <td>더다다/신상맨투맨/후드/빅사이즈/롱티/원피스/레깅스</td>\n",
       "      <td>32900</td>\n",
       "      <td>9900</td>\n",
       "      <td>http://image.gmarket.co.kr/challenge/neo_image...</td>\n",
       "      <td>http://item2.gmarket.co.kr/Item/DetailView/Ite...</td>\n",
       "      <td>69.91</td>\n",
       "    </tr>\n",
       "    <tr>\n",
       "      <th>4</th>\n",
       "      <td>7</td>\n",
       "      <td>[요즘에]20%쿠폰/신상특가/청바지/슬랙스/빅사이즈</td>\n",
       "      <td>33000</td>\n",
       "      <td>10000</td>\n",
       "      <td>http://gdimg.gmarket.co.kr/189842449/still/300</td>\n",
       "      <td>http://item2.gmarket.co.kr/Item/DetailView/Ite...</td>\n",
       "      <td>69.70</td>\n",
       "    </tr>\n",
       "  </tbody>\n",
       "</table>\n",
       "</div>"
      ],
      "text/plain": [
       "   rank                             상품명     원가    판매가  \\\n",
       "0     1     삠뽀요/봄신상 원피스9900원 베이비 우주복 돌복  33000   9900   \n",
       "1    16  [디프니]20%쿠폰 디프니 봄신상~셔츠/블라우스/원피스  42900  12900   \n",
       "2    14     [디프니]20%쿠폰 디프니 봄신상~롱티셔츠/맨투맨  42900  12900   \n",
       "3     9    더다다/신상맨투맨/후드/빅사이즈/롱티/원피스/레깅스  32900   9900   \n",
       "4     7    [요즘에]20%쿠폰/신상특가/청바지/슬랙스/빅사이즈  33000  10000   \n",
       "\n",
       "                                                 이미지  \\\n",
       "0     http://gdimg.gmarket.co.kr/900637906/still/300   \n",
       "1  http://image.gmarket.co.kr/challenge/neo_image...   \n",
       "2  http://image.gmarket.co.kr/challenge/neo_image...   \n",
       "3  http://image.gmarket.co.kr/challenge/neo_image...   \n",
       "4     http://gdimg.gmarket.co.kr/189842449/still/300   \n",
       "\n",
       "                                                상품링크    할인율  \n",
       "0  http://item2.gmarket.co.kr/Item/DetailView/Ite...  70.00  \n",
       "1  http://item2.gmarket.co.kr/Item/DetailView/Ite...  69.93  \n",
       "2  http://item2.gmarket.co.kr/Item/DetailView/Ite...  69.93  \n",
       "3  http://item2.gmarket.co.kr/Item/DetailView/Ite...  69.91  \n",
       "4  http://item2.gmarket.co.kr/Item/DetailView/Ite...  69.70  "
      ]
     },
     "execution_count": 8,
     "metadata": {},
     "output_type": "execute_result"
    }
   ],
   "source": [
    "# Pandas로 할인율 계산\n",
    "result[\"할인율\"] = 100 - (result[\"판매가\"] / result[\"원가\"]) * 100\n",
    "result[\"할인율\"] = result[\"할인율\"].astype(dtype=\"float64\")\n",
    "result[\"할인율\"] = round(result[\"할인율\"], 2)\n",
    "result = result.sort_values(\"할인율\", ascending=False).reset_index().rename(columns={\"index\": \"rank\"})\n",
    "result.head()"
   ]
  },
  {
   "cell_type": "code",
   "execution_count": 5,
   "metadata": {
    "collapsed": true
   },
   "outputs": [],
   "source": [
    "# utf-8로 인코딩한 csv 파일로 저장\n",
    "result.to_csv(\"gmarket.csv\", encoding=\"utf-8\")"
   ]
  },
  {
   "cell_type": "markdown",
   "metadata": {},
   "source": [
    "##### Naver 메일 데이터 스크래핑\n",
    "- 네이버 메일에 로그인한후 데이터 가져오기"
   ]
  },
  {
   "cell_type": "code",
   "execution_count": 10,
   "metadata": {
    "collapsed": true
   },
   "outputs": [],
   "source": [
    "from selenium import webdriver\n",
    "import pickle\n",
    "import time"
   ]
  },
  {
   "cell_type": "code",
   "execution_count": 31,
   "metadata": {},
   "outputs": [],
   "source": [
    "# 패스워드 저장하기\n",
    "pw = \"dhrnclfvkf@@\"\n",
    "file = open(\"pw.pickle\", \"wb\")\n",
    "pickle.dump(pw, file)"
   ]
  },
  {
   "cell_type": "code",
   "execution_count": 32,
   "metadata": {
    "collapsed": true
   },
   "outputs": [],
   "source": [
    "main_url = \"http://naver.com\"\n",
    "mail_url = \"http://mail.naver.com\""
   ]
  },
  {
   "cell_type": "code",
   "execution_count": 33,
   "metadata": {},
   "outputs": [],
   "source": [
    "# 브라우져 오픈 및 메인 사이트 이동\n",
    "driver = webdriver.Chrome(\"C:/Users/dohan/chromedriver.exe\")\n",
    "driver.get(main_url)"
   ]
  },
  {
   "cell_type": "code",
   "execution_count": 34,
   "metadata": {
    "scrolled": true
   },
   "outputs": [],
   "source": [
    "# 아이디 패스워드 입력\n",
    "pw = pickle.load(open(\"pw.pickle\", \"rb\")) # pw 변수에 본인의 패스워드 입력\n",
    "driver.find_element_by_css_selector( \"#id\" ).send_keys( \"dohang333\" )\n",
    "driver.find_element_by_css_selector( \"#pw\" ).send_keys(pw)"
   ]
  },
  {
   "cell_type": "code",
   "execution_count": 35,
   "metadata": {
    "collapsed": true
   },
   "outputs": [],
   "source": [
    "# 로그인 버튼 클릭\n",
    "driver.find_element_by_css_selector(\"span.btn_login input[type=submit]\").click()"
   ]
  },
  {
   "cell_type": "code",
   "execution_count": 37,
   "metadata": {
    "collapsed": true
   },
   "outputs": [],
   "source": [
    "# 메일 페이지로 이동\n",
    "driver.get(mail_url)"
   ]
  },
  {
   "cell_type": "code",
   "execution_count": 38,
   "metadata": {},
   "outputs": [
    {
     "data": {
      "text/plain": [
       "239"
      ]
     },
     "execution_count": 38,
     "metadata": {},
     "output_type": "execute_result"
    }
   ],
   "source": [
    "# 메일 갯수\n",
    "total_mail = driver.find_element_by_css_selector(\"#headTotalNum\").text\n",
    "total_mail = int(total_mail)\n",
    "total_mail"
   ]
  },
  {
   "cell_type": "code",
   "execution_count": 39,
   "metadata": {},
   "outputs": [
    {
     "data": {
      "text/plain": [
       "0"
      ]
     },
     "execution_count": 39,
     "metadata": {},
     "output_type": "execute_result"
    }
   ],
   "source": [
    "# 안읽은 메일 갯수\n",
    "not_read_mail = driver.find_element_by_css_selector(\"#headUnreadNum\").text\n",
    "not_read_mail = int(not_read_mail)\n",
    "not_read_mail"
   ]
  },
  {
   "cell_type": "code",
   "execution_count": 40,
   "metadata": {},
   "outputs": [
    {
     "name": "stdout",
     "output_type": "stream",
     "text": [
      "전체 메일수 :  15\n"
     ]
    },
    {
     "data": {
      "text/html": [
       "<div>\n",
       "<style>\n",
       "    .dataframe thead tr:only-child th {\n",
       "        text-align: right;\n",
       "    }\n",
       "\n",
       "    .dataframe thead th {\n",
       "        text-align: left;\n",
       "    }\n",
       "\n",
       "    .dataframe tbody tr th {\n",
       "        vertical-align: top;\n",
       "    }\n",
       "</style>\n",
       "<table border=\"1\" class=\"dataframe\">\n",
       "  <thead>\n",
       "    <tr style=\"text-align: right;\">\n",
       "      <th></th>\n",
       "      <th>제목</th>\n",
       "      <th>보낸사람</th>\n",
       "      <th>메일링크</th>\n",
       "    </tr>\n",
       "  </thead>\n",
       "  <tbody>\n",
       "    <tr>\n",
       "      <th>10</th>\n",
       "      <td>(광고) 내 병원비 보장내용/보장금액 확인하기 : 메리츠화재 의료실비보험</td>\n",
       "      <td>my포텐</td>\n",
       "      <td>https://mail.naver.com/read/popup/?nMailId=12595</td>\n",
       "    </tr>\n",
       "    <tr>\n",
       "      <th>11</th>\n",
       "      <td>[my포텐 마케팅 및 제휴 (보험·상조) 경품 이벤트] 참여 경품을 드립니다. (경...</td>\n",
       "      <td>my포텐</td>\n",
       "      <td>https://mail.naver.com/read/popup/?nMailId=12594</td>\n",
       "    </tr>\n",
       "    <tr>\n",
       "      <th>12</th>\n",
       "      <td>[my포텐 마케팅 및 제휴 (보험·상조) 경품 이벤트] 참여해주셔서 감사합니다. (...</td>\n",
       "      <td>my포텐</td>\n",
       "      <td>https://mail.naver.com/read/popup/?nMailId=12593</td>\n",
       "    </tr>\n",
       "    <tr>\n",
       "      <th>13</th>\n",
       "      <td>Google SMTP로 메일 보내기</td>\n",
       "      <td>rnclfvkf@gmail.com</td>\n",
       "      <td>https://mail.naver.com/read/popup/?nMailId=12591</td>\n",
       "    </tr>\n",
       "    <tr>\n",
       "      <th>14</th>\n",
       "      <td>Send File 테스트</td>\n",
       "      <td>rnclfvkf@gmail.com</td>\n",
       "      <td>https://mail.naver.com/read/popup/?nMailId=12590</td>\n",
       "    </tr>\n",
       "  </tbody>\n",
       "</table>\n",
       "</div>"
      ],
      "text/plain": [
       "                                                   제목                보낸사람  \\\n",
       "10           (광고) 내 병원비 보장내용/보장금액 확인하기 : 메리츠화재 의료실비보험                my포텐   \n",
       "11  [my포텐 마케팅 및 제휴 (보험·상조) 경품 이벤트] 참여 경품을 드립니다. (경...                my포텐   \n",
       "12  [my포텐 마케팅 및 제휴 (보험·상조) 경품 이벤트] 참여해주셔서 감사합니다. (...                my포텐   \n",
       "13                                Google SMTP로 메일 보내기  rnclfvkf@gmail.com   \n",
       "14                                      Send File 테스트  rnclfvkf@gmail.com   \n",
       "\n",
       "                                                메일링크  \n",
       "10  https://mail.naver.com/read/popup/?nMailId=12595  \n",
       "11  https://mail.naver.com/read/popup/?nMailId=12594  \n",
       "12  https://mail.naver.com/read/popup/?nMailId=12593  \n",
       "13  https://mail.naver.com/read/popup/?nMailId=12591  \n",
       "14  https://mail.naver.com/read/popup/?nMailId=12590  "
      ]
     },
     "execution_count": 40,
     "metadata": {},
     "output_type": "execute_result"
    }
   ],
   "source": [
    "# 메일 제목, 보낸사람 이름 가져오기\n",
    "mails = driver.find_elements_by_css_selector(\".mailList.sender_context > li\")\n",
    "print(\"전체 메일수 : \", len(mails))\n",
    "df = pd.DataFrame(columns=[\"제목\",\"보낸사람\",\"메일링크\"])\n",
    "for idx, mail in enumerate(mails):\n",
    "    title = mail.find_element_by_css_selector(\".mail_title\").text\n",
    "    name = mail.find_element_by_css_selector(\".name\").text\n",
    "    link = mail.find_element_by_css_selector(\".subject > a\").get_attribute(\"href\")\n",
    "    df.loc[len(df)] = { \"제목\":title, \"보낸사람\":name, \"메일링크\":link }    \n",
    "df.tail()"
   ]
  },
  {
   "cell_type": "code",
   "execution_count": 41,
   "metadata": {},
   "outputs": [
    {
     "name": "stdout",
     "output_type": "stream",
     "text": [
      "전체 메일수 :  0\n"
     ]
    },
    {
     "data": {
      "text/html": [
       "<div>\n",
       "<style>\n",
       "    .dataframe thead tr:only-child th {\n",
       "        text-align: right;\n",
       "    }\n",
       "\n",
       "    .dataframe thead th {\n",
       "        text-align: left;\n",
       "    }\n",
       "\n",
       "    .dataframe tbody tr th {\n",
       "        vertical-align: top;\n",
       "    }\n",
       "</style>\n",
       "<table border=\"1\" class=\"dataframe\">\n",
       "  <thead>\n",
       "    <tr style=\"text-align: right;\">\n",
       "      <th></th>\n",
       "      <th>제목</th>\n",
       "      <th>보낸사람</th>\n",
       "      <th>메일링크</th>\n",
       "    </tr>\n",
       "  </thead>\n",
       "  <tbody>\n",
       "  </tbody>\n",
       "</table>\n",
       "</div>"
      ],
      "text/plain": [
       "Empty DataFrame\n",
       "Columns: [제목, 보낸사람, 메일링크]\n",
       "Index: []"
      ]
     },
     "execution_count": 41,
     "metadata": {},
     "output_type": "execute_result"
    }
   ],
   "source": [
    "# marked 메일\n",
    "mails = driver.find_elements_by_css_selector(\".mailList.sender_context > li.mark\")\n",
    "print(\"전체 메일수 : \", len(mails))\n",
    "df = pd.DataFrame(columns=[\"제목\",\"보낸사람\",\"메일링크\"])\n",
    "for idx, mail in enumerate(mails):\n",
    "    title = mail.find_element_by_css_selector(\".mail_title\").text\n",
    "    name = mail.find_element_by_css_selector(\".name\").text\n",
    "    link = mail.find_element_by_css_selector(\".subject > a\").get_attribute(\"href\")\n",
    "    df.loc[len(df)] = { \"제목\":title, \"보낸사람\":name, \"메일링크\":link }    \n",
    "df.tail()"
   ]
  },
  {
   "cell_type": "code",
   "execution_count": 45,
   "metadata": {},
   "outputs": [
    {
     "name": "stdout",
     "output_type": "stream",
     "text": [
      "total mails:  15\n"
     ]
    },
    {
     "data": {
      "text/html": [
       "<div>\n",
       "<style>\n",
       "    .dataframe thead tr:only-child th {\n",
       "        text-align: right;\n",
       "    }\n",
       "\n",
       "    .dataframe thead th {\n",
       "        text-align: left;\n",
       "    }\n",
       "\n",
       "    .dataframe tbody tr th {\n",
       "        vertical-align: top;\n",
       "    }\n",
       "</style>\n",
       "<table border=\"1\" class=\"dataframe\">\n",
       "  <thead>\n",
       "    <tr style=\"text-align: right;\">\n",
       "      <th></th>\n",
       "      <th>제목</th>\n",
       "      <th>보낸사람</th>\n",
       "      <th>메일링크</th>\n",
       "    </tr>\n",
       "  </thead>\n",
       "  <tbody>\n",
       "    <tr>\n",
       "      <th>0</th>\n",
       "      <td>상명대학교 LINC+사업단 설문조사</td>\n",
       "      <td>김희재</td>\n",
       "      <td>https://mail.naver.com/read/popup/?nMailId=12659</td>\n",
       "    </tr>\n",
       "    <tr>\n",
       "      <th>1</th>\n",
       "      <td>[한국장학재단]소득산정완료안내문</td>\n",
       "      <td>한국장학재단</td>\n",
       "      <td>https://mail.naver.com/read/popup/?nMailId=12631</td>\n",
       "    </tr>\n",
       "    <tr>\n",
       "      <th>2</th>\n",
       "      <td>기업공동연구과제 일정</td>\n",
       "      <td>이광환</td>\n",
       "      <td>https://mail.naver.com/read/popup/?nMailId=12627</td>\n",
       "    </tr>\n",
       "    <tr>\n",
       "      <th>3</th>\n",
       "      <td>회원님을 위한 새로운 포지션들이 기다리고 있습니다 😀</td>\n",
       "      <td>원티드 채용소식</td>\n",
       "      <td>https://mail.naver.com/read/popup/?nMailId=12624</td>\n",
       "    </tr>\n",
       "    <tr>\n",
       "      <th>4</th>\n",
       "      <td>기업공동연구과제 모임 일정</td>\n",
       "      <td>이광환</td>\n",
       "      <td>https://mail.naver.com/read/popup/?nMailId=12620</td>\n",
       "    </tr>\n",
       "  </tbody>\n",
       "</table>\n",
       "</div>"
      ],
      "text/plain": [
       "                              제목      보낸사람  \\\n",
       "0            상명대학교 LINC+사업단 설문조사       김희재   \n",
       "1              [한국장학재단]소득산정완료안내문    한국장학재단   \n",
       "2                    기업공동연구과제 일정       이광환   \n",
       "3  회원님을 위한 새로운 포지션들이 기다리고 있습니다 😀  원티드 채용소식   \n",
       "4                 기업공동연구과제 모임 일정       이광환   \n",
       "\n",
       "                                               메일링크  \n",
       "0  https://mail.naver.com/read/popup/?nMailId=12659  \n",
       "1  https://mail.naver.com/read/popup/?nMailId=12631  \n",
       "2  https://mail.naver.com/read/popup/?nMailId=12627  \n",
       "3  https://mail.naver.com/read/popup/?nMailId=12624  \n",
       "4  https://mail.naver.com/read/popup/?nMailId=12620  "
      ]
     },
     "execution_count": 45,
     "metadata": {},
     "output_type": "execute_result"
    }
   ],
   "source": [
    "# 읽은 메일\n",
    "mails = driver.find_elements_by_css_selector(\".mailList.sender_context > li:not(.notRead)\")\n",
    "print(\"total mails: \", len(mails))\n",
    "df = pd.DataFrame(columns=[\"제목\",\"보낸사람\",\"메일링크\"])\n",
    "for idx, mail in enumerate(mails):\n",
    "    title = mail.find_element_by_css_selector(\".mail_title\").text\n",
    "    name = mail.find_element_by_css_selector(\".name\").text\n",
    "    link = mail.find_element_by_css_selector(\".subject > a\").get_attribute(\"href\")\n",
    "    df.loc[len(df)] = { \"제목\":title, \"보낸사람\":name, \"메일링크\":link }    \n",
    "df.head()"
   ]
  },
  {
   "cell_type": "code",
   "execution_count": 46,
   "metadata": {
    "collapsed": true
   },
   "outputs": [],
   "source": [
    "# 로그아웃\n",
    "logout_url = driver.find_element_by_css_selector(\".gnb_btn_login\").get_attribute(\"href\")\n",
    "driver.get(logout_url)"
   ]
  },
  {
   "cell_type": "code",
   "execution_count": 47,
   "metadata": {
    "collapsed": true
   },
   "outputs": [],
   "source": [
    "# 브라우져 닫기\n",
    "driver.close()"
   ]
  }
 ],
 "metadata": {
  "kernelspec": {
   "display_name": "Python 3",
   "language": "python",
   "name": "python3"
  },
  "language_info": {
   "codemirror_mode": {
    "name": "ipython",
    "version": 3
   },
   "file_extension": ".py",
   "mimetype": "text/x-python",
   "name": "python",
   "nbconvert_exporter": "python",
   "pygments_lexer": "ipython3",
   "version": "3.6.1"
  }
 },
 "nbformat": 4,
 "nbformat_minor": 2
}
