{
 "cells": [
  {
   "cell_type": "code",
   "execution_count": 1,
   "metadata": {},
   "outputs": [],
   "source": [
    "import nltk"
   ]
  },
  {
   "cell_type": "code",
   "execution_count": 2,
   "metadata": {},
   "outputs": [
    {
     "data": {
      "text/plain": [
       "['austen-emma.txt',\n",
       " 'austen-persuasion.txt',\n",
       " 'austen-sense.txt',\n",
       " 'bible-kjv.txt',\n",
       " 'blake-poems.txt',\n",
       " 'bryant-stories.txt',\n",
       " 'burgess-busterbrown.txt',\n",
       " 'carroll-alice.txt',\n",
       " 'chesterton-ball.txt',\n",
       " 'chesterton-brown.txt',\n",
       " 'chesterton-thursday.txt',\n",
       " 'edgeworth-parents.txt',\n",
       " 'melville-moby_dick.txt',\n",
       " 'milton-paradise.txt',\n",
       " 'shakespeare-caesar.txt',\n",
       " 'shakespeare-hamlet.txt',\n",
       " 'shakespeare-macbeth.txt',\n",
       " 'whitman-leaves.txt']"
      ]
     },
     "execution_count": 2,
     "metadata": {},
     "output_type": "execute_result"
    }
   ],
   "source": [
    "nltk.corpus.gutenberg.fileids()"
   ]
  },
  {
   "cell_type": "code",
   "execution_count": 4,
   "metadata": {},
   "outputs": [],
   "source": [
    "emma_raw = nltk.corpus.gutenberg.raw(\"austen-emma.txt\")"
   ]
  },
  {
   "cell_type": "code",
   "execution_count": 5,
   "metadata": {},
   "outputs": [
    {
     "name": "stdout",
     "output_type": "stream",
     "text": [
      "Sixteen years had Miss Taylor been in Mr. Woodhouse's family,\n",
      "less as a governess than a friend, very fond of both daughters,\n",
      "but particularly of Emma.\n"
     ]
    }
   ],
   "source": [
    "from nltk.tokenize import sent_tokenize\n",
    "print(sent_tokenize(emma_raw[:1000])[3])"
   ]
  },
  {
   "cell_type": "code",
   "execution_count": 6,
   "metadata": {},
   "outputs": [
    {
     "data": {
      "text/plain": [
       "['Emma',\n",
       " 'Woodhouse',\n",
       " ',',\n",
       " 'handsome',\n",
       " ',',\n",
       " 'clever',\n",
       " ',',\n",
       " 'and',\n",
       " 'rich',\n",
       " ',',\n",
       " 'with',\n",
       " 'a']"
      ]
     },
     "execution_count": 6,
     "metadata": {},
     "output_type": "execute_result"
    }
   ],
   "source": [
    "from nltk.tokenize import word_tokenize\n",
    "word_tokenize(emma_raw[50:100])"
   ]
  },
  {
   "cell_type": "code",
   "execution_count": 16,
   "metadata": {},
   "outputs": [],
   "source": [
    "words = ['lives', 'dies', 'flies', 'died', 'trying', 'had']"
   ]
  },
  {
   "cell_type": "code",
   "execution_count": 17,
   "metadata": {},
   "outputs": [
    {
     "data": {
      "text/plain": [
       "['live', 'die', 'fli', 'die', 'tri', 'had']"
      ]
     },
     "execution_count": 17,
     "metadata": {},
     "output_type": "execute_result"
    }
   ],
   "source": [
    "from nltk.stem import PorterStemmer\n",
    "st = PorterStemmer()\n",
    "[st.stem(w) for w in words]"
   ]
  },
  {
   "cell_type": "code",
   "execution_count": 18,
   "metadata": {},
   "outputs": [
    {
     "data": {
      "text/plain": [
       "['constitution.txt']"
      ]
     },
     "execution_count": 18,
     "metadata": {},
     "output_type": "execute_result"
    }
   ],
   "source": [
    "from konlpy.corpus import kolaw\n",
    "kolaw.fileids()"
   ]
  },
  {
   "cell_type": "code",
   "execution_count": 20,
   "metadata": {},
   "outputs": [
    {
     "name": "stdout",
     "output_type": "stream",
     "text": [
      "대한민국헌법\n",
      "\n",
      "유구한 역사와 전통에 빛나는 우리 대한국민은 3·1운동으로 건립된 대한민국임시정부의 법통과 불의에 항거한 4·19민주이념을 계승하고, 조국의 민주개혁과 평화적 통일의 사명에 입각하여 정의·인도와 동포애로써 민족의 단결을 공고히 하고, 모든 사회적 폐습과 불의를 타파하며, 자율과 조화를 바탕\n"
     ]
    }
   ],
   "source": [
    "c = kolaw.open('constitution.txt').read()\n",
    "print(c[:170])"
   ]
  },
  {
   "cell_type": "code",
   "execution_count": 21,
   "metadata": {},
   "outputs": [
    {
     "data": {
      "text/plain": [
       "['1809890.txt',\n",
       " '1809891.txt',\n",
       " '1809892.txt',\n",
       " '1809893.txt',\n",
       " '1809894.txt',\n",
       " '1809895.txt',\n",
       " '1809896.txt',\n",
       " '1809897.txt',\n",
       " '1809898.txt',\n",
       " '1809899.txt']"
      ]
     },
     "execution_count": 21,
     "metadata": {},
     "output_type": "execute_result"
    }
   ],
   "source": [
    "from konlpy.corpus import kobill\n",
    "kobill.fileids()"
   ]
  },
  {
   "cell_type": "code",
   "execution_count": 23,
   "metadata": {},
   "outputs": [],
   "source": [
    "from konlpy.tag import *\n",
    "hannanum = Hannanum()\n",
    "kkma = Kkma()\n",
    "twitter = Twitter()"
   ]
  },
  {
   "cell_type": "code",
   "execution_count": 24,
   "metadata": {},
   "outputs": [
    {
     "data": {
      "text/plain": [
       "['대한',\n",
       " '대한민국',\n",
       " '대한민국헌법',\n",
       " '민국',\n",
       " '헌법',\n",
       " '유구',\n",
       " '역사',\n",
       " '전통',\n",
       " '우리',\n",
       " '국민',\n",
       " '3',\n",
       " '1',\n",
       " '1운동',\n",
       " '운동',\n",
       " '건립',\n",
       " '대한민국임시정부',\n",
       " '임시',\n",
       " '정부',\n",
       " '법통',\n",
       " '불의',\n",
       " '항거',\n",
       " '4']"
      ]
     },
     "execution_count": 24,
     "metadata": {},
     "output_type": "execute_result"
    }
   ],
   "source": [
    "kkma.nouns(c[:70])"
   ]
  },
  {
   "cell_type": "code",
   "execution_count": 25,
   "metadata": {},
   "outputs": [
    {
     "data": {
      "text/plain": [
       "['대한민국헌법',\n",
       " '유구',\n",
       " '역사',\n",
       " '전통',\n",
       " '빛',\n",
       " '우리',\n",
       " '대한국민',\n",
       " '3·1운동',\n",
       " '건립',\n",
       " '대한민국임시정부',\n",
       " '법통',\n",
       " '불의',\n",
       " '항거',\n",
       " '4',\n",
       " '1']"
      ]
     },
     "execution_count": 25,
     "metadata": {},
     "output_type": "execute_result"
    }
   ],
   "source": [
    "hannanum.nouns(c[:70])"
   ]
  },
  {
   "cell_type": "code",
   "execution_count": 26,
   "metadata": {},
   "outputs": [
    {
     "data": {
      "text/plain": [
       "['대한민국',\n",
       " '헌법',\n",
       " '유구',\n",
       " '역사',\n",
       " '전통',\n",
       " '우리',\n",
       " '대한',\n",
       " '국민',\n",
       " '운동',\n",
       " '건립',\n",
       " '대한민국',\n",
       " '임시정부',\n",
       " '법',\n",
       " '통과',\n",
       " '불의',\n",
       " '항거']"
      ]
     },
     "execution_count": 26,
     "metadata": {},
     "output_type": "execute_result"
    }
   ],
   "source": [
    "twitter.nouns(c[:70])"
   ]
  },
  {
   "cell_type": "code",
   "execution_count": 27,
   "metadata": {},
   "outputs": [],
   "source": [
    "from nltk.corpus import movie_reviews\n",
    "\n",
    "sentences = []\n",
    "for s in movie_reviews.sents():\n",
    "    s.insert(0, 'SS')\n",
    "    s.append('SE')\n",
    "    if len(s) > 4:\n",
    "        sentences.append(s)"
   ]
  },
  {
   "cell_type": "code",
   "execution_count": 38,
   "metadata": {},
   "outputs": [
    {
     "data": {
      "text/plain": [
       "['SS', 'they', 'get', 'into', 'an', 'accident', '.', 'SE']"
      ]
     },
     "execution_count": 38,
     "metadata": {},
     "output_type": "execute_result"
    }
   ],
   "source": [
    "sentences[1]"
   ]
  },
  {
   "cell_type": "code",
   "execution_count": 39,
   "metadata": {},
   "outputs": [],
   "source": [
    "from collections import Counter\n",
    "\n",
    "def calculate_bigram(sentences):\n",
    "    bigram = {}\n",
    "    for s in sentences:\n",
    "        context = \"SS\"\n",
    "        for i, w in enumerate(s[1:]):\n",
    "            if context not in bigram:\n",
    "                bigram[context] = Counter()\n",
    "            if bigram[context][w] == 0:\n",
    "                bigram[context][w] = 1\n",
    "            bigram[context][w] += 1\n",
    "            context = w\n",
    "    for context in bigram.keys():\n",
    "        total = sum(bigram[context].values())\n",
    "        for w in bigram[context]:\n",
    "            bigram[context][w] /= total\n",
    "    return bigram"
   ]
  },
  {
   "cell_type": "code",
   "execution_count": 40,
   "metadata": {},
   "outputs": [],
   "source": [
    "bigram = calculate_bigram(sentences)"
   ]
  },
  {
   "cell_type": "code",
   "execution_count": 42,
   "metadata": {},
   "outputs": [
    {
     "data": {
      "text/plain": [
       "[('the', 0.11231263830320237),\n",
       " ('it', 0.043575076893101194),\n",
       " ('i', 0.03379121261464379),\n",
       " ('but', 0.02523207103391647),\n",
       " ('and', 0.024160438673402642),\n",
       " ('he', 0.023269731256871668),\n",
       " ('in', 0.023102723616272112),\n",
       " ('this', 0.022963550582439148),\n",
       " ('there', 0.0180507424881355),\n",
       " ('as', 0.013249272820898222)]"
      ]
     },
     "execution_count": 42,
     "metadata": {},
     "output_type": "execute_result"
    }
   ],
   "source": [
    "bigram[\"SS\"].most_common(10)"
   ]
  },
  {
   "cell_type": "code",
   "execution_count": 44,
   "metadata": {},
   "outputs": [
    {
     "data": {
      "text/plain": [
       "[(\"'\", 0.12985751295336787),\n",
       " ('are', 0.07674870466321243),\n",
       " ('see', 0.059261658031088085),\n",
       " ('get', 0.052461139896373056),\n",
       " ('have', 0.05116580310880829),\n",
       " ('can', 0.0391839378238342),\n",
       " ('don', 0.03756476683937824),\n",
       " ('know', 0.03432642487046632),\n",
       " ('never', 0.01878238341968912),\n",
       " ('learn', 0.018458549222797927)]"
      ]
     },
     "execution_count": 44,
     "metadata": {},
     "output_type": "execute_result"
    }
   ],
   "source": [
    "bigram[\"we\"].most_common(10)"
   ]
  },
  {
   "cell_type": "code",
   "execution_count": 45,
   "metadata": {},
   "outputs": [
    {
     "data": {
      "text/plain": [
       "0.053622421998942356"
      ]
     },
     "execution_count": 45,
     "metadata": {},
     "output_type": "execute_result"
    }
   ],
   "source": [
    "bigram[\"i\"][\"was\"]"
   ]
  },
  {
   "cell_type": "code",
   "execution_count": 46,
   "metadata": {},
   "outputs": [],
   "source": [
    "def sentence_score(s):\n",
    "    p = 0.0\n",
    "    for i in range(len(s) - 1):\n",
    "        c = s[i]\n",
    "        w = s[i + 1]\n",
    "        p += np.log(bigram[c][w] + np.finfo(float).eps)\n",
    "    return np.exp(p)"
   ]
  },
  {
   "cell_type": "code",
   "execution_count": 54,
   "metadata": {},
   "outputs": [
    {
     "data": {
      "text/plain": [
       "0.053622421998942578"
      ]
     },
     "execution_count": 54,
     "metadata": {},
     "output_type": "execute_result"
    }
   ],
   "source": [
    "test_sentence = [\"i\", \"was\"]\n",
    "sentence_score(test_sentence)"
   ]
  },
  {
   "cell_type": "code",
   "execution_count": 56,
   "metadata": {},
   "outputs": [],
   "source": [
    "sentences = [list(s) for s in movie_reviews.sents()]"
   ]
  },
  {
   "cell_type": "code",
   "execution_count": 57,
   "metadata": {},
   "outputs": [
    {
     "data": {
      "text/plain": [
       "['plot',\n",
       " ':',\n",
       " 'two',\n",
       " 'teen',\n",
       " 'couples',\n",
       " 'go',\n",
       " 'to',\n",
       " 'a',\n",
       " 'church',\n",
       " 'party',\n",
       " ',',\n",
       " 'drink',\n",
       " 'and',\n",
       " 'then',\n",
       " 'drive',\n",
       " '.']"
      ]
     },
     "execution_count": 57,
     "metadata": {},
     "output_type": "execute_result"
    }
   ],
   "source": [
    "sentences[0]"
   ]
  },
  {
   "cell_type": "code",
   "execution_count": 58,
   "metadata": {},
   "outputs": [],
   "source": [
    "from gensim.models.word2vec import Word2Vec"
   ]
  },
  {
   "cell_type": "code",
   "execution_count": 59,
   "metadata": {},
   "outputs": [
    {
     "name": "stdout",
     "output_type": "stream",
     "text": [
      "Wall time: 4.43 s\n"
     ]
    }
   ],
   "source": [
    "%%time\n",
    "model = Word2Vec(sentences)"
   ]
  },
  {
   "cell_type": "code",
   "execution_count": 60,
   "metadata": {},
   "outputs": [],
   "source": [
    "model.init_sims(replace=True)"
   ]
  },
  {
   "cell_type": "code",
   "execution_count": 61,
   "metadata": {},
   "outputs": [
    {
     "name": "stderr",
     "output_type": "stream",
     "text": [
      "C:\\Users\\user\\Anaconda3\\lib\\site-packages\\ipykernel_launcher.py:1: DeprecationWarning: Call to deprecated `similarity` (Method will be removed in 4.0.0, use self.wv.similarity() instead).\n",
      "  \"\"\"Entry point for launching an IPython kernel.\n"
     ]
    },
    {
     "data": {
      "text/plain": [
       "0.86569634959155017"
      ]
     },
     "execution_count": 61,
     "metadata": {},
     "output_type": "execute_result"
    }
   ],
   "source": [
    "model.similarity('actor', 'actress')"
   ]
  },
  {
   "cell_type": "code",
   "execution_count": 62,
   "metadata": {},
   "outputs": [
    {
     "name": "stderr",
     "output_type": "stream",
     "text": [
      "C:\\Users\\user\\Anaconda3\\lib\\site-packages\\ipykernel_launcher.py:1: DeprecationWarning: Call to deprecated `similarity` (Method will be removed in 4.0.0, use self.wv.similarity() instead).\n",
      "  \"\"\"Entry point for launching an IPython kernel.\n"
     ]
    },
    {
     "data": {
      "text/plain": [
       "0.84779887558149347"
      ]
     },
     "execution_count": 62,
     "metadata": {},
     "output_type": "execute_result"
    }
   ],
   "source": [
    "model.similarity('he', 'she')"
   ]
  },
  {
   "cell_type": "code",
   "execution_count": 69,
   "metadata": {},
   "outputs": [
    {
     "name": "stderr",
     "output_type": "stream",
     "text": [
      "C:\\Users\\user\\Anaconda3\\lib\\site-packages\\ipykernel_launcher.py:1: DeprecationWarning: Call to deprecated `most_similar` (Method will be removed in 4.0.0, use self.wv.most_similar() instead).\n",
      "  \"\"\"Entry point for launching an IPython kernel.\n"
     ]
    },
    {
     "data": {
      "text/plain": [
       "[('wars', 0.8135145902633667),\n",
       " ('x', 0.7909509539604187),\n",
       " ('witch', 0.7873407602310181),\n",
       " ('phantom', 0.7851329445838928),\n",
       " ('classic', 0.78013014793396),\n",
       " ('trek', 0.7716161012649536),\n",
       " ('episode', 0.770438551902771),\n",
       " ('trilogy', 0.7698963284492493),\n",
       " ('blair', 0.7603772878646851),\n",
       " ('scream', 0.7518244981765747)]"
      ]
     },
     "execution_count": 69,
     "metadata": {},
     "output_type": "execute_result"
    }
   ],
   "source": [
    "model.most_similar('star')"
   ]
  },
  {
   "cell_type": "code",
   "execution_count": 73,
   "metadata": {},
   "outputs": [
    {
     "name": "stderr",
     "output_type": "stream",
     "text": [
      "C:\\Users\\user\\Anaconda3\\lib\\site-packages\\ipykernel_launcher.py:1: DeprecationWarning: Call to deprecated `most_similar` (Method will be removed in 4.0.0, use self.wv.most_similar() instead).\n",
      "  \"\"\"Entry point for launching an IPython kernel.\n"
     ]
    },
    {
     "data": {
      "text/plain": [
       "[('he', 0.2866617441177368)]"
      ]
     },
     "execution_count": 73,
     "metadata": {},
     "output_type": "execute_result"
    }
   ],
   "source": [
    "model.most_similar(positive=['she', 'actor'], negative='actress', topn=1)"
   ]
  },
  {
   "cell_type": "code",
   "execution_count": 1,
   "metadata": {},
   "outputs": [
    {
     "name": "stderr",
     "output_type": "stream",
     "text": [
      "C:\\Users\\user\\Anaconda3\\lib\\site-packages\\h5py\\__init__.py:36: FutureWarning: Conversion of the second argument of issubdtype from `float` to `np.floating` is deprecated. In future, it will be treated as `np.float64 == np.dtype(float).type`.\n",
      "  from ._conv import register_converters as _register_converters\n",
      "Using TensorFlow backend.\n"
     ]
    }
   ],
   "source": [
    "from keras.datasets import mnist\n",
    "from keras.utils import np_utils"
   ]
  },
  {
   "cell_type": "code",
   "execution_count": 5,
   "metadata": {},
   "outputs": [],
   "source": [
    "(X_train0, y_train0), (X_test0, y_test0) = mnist.load_data()\n",
    "X_train = X_train0[:, :, :, np.newaxis].astype('float32') / 255.0\n",
    "X_test = X_test0[:, :, :, np.newaxis].astype('float32') / 255.0\n",
    "Y_train = np_utils.to_categorical(y_train0, 10)\n",
    "Y_test = np_utils.to_categorical(y_test0, 10)"
   ]
  },
  {
   "cell_type": "code",
   "execution_count": 17,
   "metadata": {},
   "outputs": [],
   "source": [
    "from keras.models import Sequential\n",
    "from keras.layers import Conv2D, MaxPool2D, Flatten, Dense, Dropout\n",
    "from keras.optimizers import Adadelta\n",
    "from keras.regularizers import l2"
   ]
  },
  {
   "cell_type": "code",
   "execution_count": 22,
   "metadata": {},
   "outputs": [],
   "source": [
    "model1 = Sequential()\n",
    "model1.add(Conv2D(4, (5,5), activation='relu', input_shape=(28,28,1), kernel_initializer=\"glorot_uniform\"))\n",
    "model1.add(MaxPool2D())\n",
    "model1.add(Flatten())\n",
    "model1.add(Dense(10, activation='softmax', kernel_initializer=\"glorot_uniform\"))\n",
    "\n",
    "np.random.seed(0)\n",
    "model1.compile(loss='categorical_crossentropy', metrics=['accuracy'], optimizer=Adadelta())"
   ]
  },
  {
   "cell_type": "code",
   "execution_count": 23,
   "metadata": {},
   "outputs": [
    {
     "name": "stdout",
     "output_type": "stream",
     "text": [
      "_________________________________________________________________\n",
      "Layer (type)                 Output Shape              Param #   \n",
      "=================================================================\n",
      "conv2d_5 (Conv2D)            (None, 24, 24, 4)         104       \n",
      "_________________________________________________________________\n",
      "max_pooling2d_5 (MaxPooling2 (None, 12, 12, 4)         0         \n",
      "_________________________________________________________________\n",
      "flatten_5 (Flatten)          (None, 576)               0         \n",
      "_________________________________________________________________\n",
      "dense_5 (Dense)              (None, 10)                5770      \n",
      "=================================================================\n",
      "Total params: 5,874\n",
      "Trainable params: 5,874\n",
      "Non-trainable params: 0\n",
      "_________________________________________________________________\n"
     ]
    }
   ],
   "source": [
    "model1.summary()"
   ]
  },
  {
   "cell_type": "code",
   "execution_count": 24,
   "metadata": {},
   "outputs": [
    {
     "name": "stdout",
     "output_type": "stream",
     "text": [
      "Train on 60000 samples, validate on 10000 samples\n",
      "Epoch 1/10\n",
      " - 10s - loss: 0.3934 - acc: 0.8873 - val_loss: 0.2054 - val_acc: 0.9431\n",
      "Epoch 2/10\n",
      " - 9s - loss: 0.1815 - acc: 0.9484 - val_loss: 0.1406 - val_acc: 0.9588\n",
      "Epoch 3/10\n",
      " - 9s - loss: 0.1363 - acc: 0.9605 - val_loss: 0.1144 - val_acc: 0.9663\n",
      "Epoch 4/10\n",
      " - 9s - loss: 0.1139 - acc: 0.9674 - val_loss: 0.0962 - val_acc: 0.9721\n",
      "Epoch 5/10\n",
      " - 9s - loss: 0.1002 - acc: 0.9716 - val_loss: 0.0875 - val_acc: 0.9729\n",
      "Epoch 6/10\n",
      " - 9s - loss: 0.0909 - acc: 0.9737 - val_loss: 0.0805 - val_acc: 0.9754\n",
      "Epoch 7/10\n",
      " - 9s - loss: 0.0843 - acc: 0.9752 - val_loss: 0.0751 - val_acc: 0.9761\n",
      "Epoch 8/10\n",
      " - 9s - loss: 0.0786 - acc: 0.9768 - val_loss: 0.0735 - val_acc: 0.9770\n",
      "Epoch 9/10\n",
      " - 9s - loss: 0.0746 - acc: 0.9782 - val_loss: 0.0712 - val_acc: 0.9775\n",
      "Epoch 10/10\n",
      " - 9s - loss: 0.0713 - acc: 0.9793 - val_loss: 0.0709 - val_acc: 0.9775\n",
      "Wall time: 1min 30s\n"
     ]
    }
   ],
   "source": [
    "%%time\n",
    "hist1 = model1.fit(X_train, Y_train, epochs=10, batch_size=100, validation_data=(X_test, Y_test), verbose=2 )"
   ]
  },
  {
   "cell_type": "code",
   "execution_count": 36,
   "metadata": {},
   "outputs": [
    {
     "data": {
      "image/png": "[encoded data removed]",
      "text/plain": [
       "<matplotlib.figure.Figure at 0x23a0a9095c0>"
      ]
     },
     "metadata": {
      "image/png": {
       "height": 248,
       "width": 375
      }
     },
     "output_type": "display_data"
    }
   ],
   "source": [
    "%matplotlib inline\n",
    "plt.plot(hist1.history['acc'], 'b-', label='training')\n",
    "plt.plot(hist1.history['val_acc'], 'r:', label='test')\n",
    "plt.legend()\n",
    "plt.show()"
   ]
  },
  {
   "cell_type": "code",
   "execution_count": 41,
   "metadata": {},
   "outputs": [],
   "source": [
    "l1 = model1.layers[0]\n",
    "w1, b1 = l1.get_weights()"
   ]
  },
  {
   "cell_type": "code",
   "execution_count": 2,
   "metadata": {},
   "outputs": [
    {
     "name": "stderr",
     "output_type": "stream",
     "text": [
      "Using TensorFlow backend.\n"
     ]
    }
   ],
   "source": [
    "from keras.applications.vgg16 import VGG16, decode_predictions"
   ]
  },
  {
   "cell_type": "code",
   "execution_count": 3,
   "metadata": {},
   "outputs": [],
   "source": [
    "model = VGG16()"
   ]
  },
  {
   "cell_type": "code",
   "execution_count": 4,
   "metadata": {},
   "outputs": [
    {
     "name": "stdout",
     "output_type": "stream",
     "text": [
      "_________________________________________________________________\n",
      "Layer (type)                 Output Shape              Param #   \n",
      "=================================================================\n",
      "input_1 (InputLayer)         (None, 224, 224, 3)       0         \n",
      "_________________________________________________________________\n",
      "block1_conv1 (Conv2D)        (None, 224, 224, 64)      1792      \n",
      "_________________________________________________________________\n",
      "block1_conv2 (Conv2D)        (None, 224, 224, 64)      36928     \n",
      "_________________________________________________________________\n",
      "block1_pool (MaxPooling2D)   (None, 112, 112, 64)      0         \n",
      "_________________________________________________________________\n",
      "block2_conv1 (Conv2D)        (None, 112, 112, 128)     73856     \n",
      "_________________________________________________________________\n",
      "block2_conv2 (Conv2D)        (None, 112, 112, 128)     147584    \n",
      "_________________________________________________________________\n",
      "block2_pool (MaxPooling2D)   (None, 56, 56, 128)       0         \n",
      "_________________________________________________________________\n",
      "block3_conv1 (Conv2D)        (None, 56, 56, 256)       295168    \n",
      "_________________________________________________________________\n",
      "block3_conv2 (Conv2D)        (None, 56, 56, 256)       590080    \n",
      "_________________________________________________________________\n",
      "block3_conv3 (Conv2D)        (None, 56, 56, 256)       590080    \n",
      "_________________________________________________________________\n",
      "block3_pool (MaxPooling2D)   (None, 28, 28, 256)       0         \n",
      "_________________________________________________________________\n",
      "block4_conv1 (Conv2D)        (None, 28, 28, 512)       1180160   \n",
      "_________________________________________________________________\n",
      "block4_conv2 (Conv2D)        (None, 28, 28, 512)       2359808   \n",
      "_________________________________________________________________\n",
      "block4_conv3 (Conv2D)        (None, 28, 28, 512)       2359808   \n",
      "_________________________________________________________________\n",
      "block4_pool (MaxPooling2D)   (None, 14, 14, 512)       0         \n",
      "_________________________________________________________________\n",
      "block5_conv1 (Conv2D)        (None, 14, 14, 512)       2359808   \n",
      "_________________________________________________________________\n",
      "block5_conv2 (Conv2D)        (None, 14, 14, 512)       2359808   \n",
      "_________________________________________________________________\n",
      "block5_conv3 (Conv2D)        (None, 14, 14, 512)       2359808   \n",
      "_________________________________________________________________\n",
      "block5_pool (MaxPooling2D)   (None, 7, 7, 512)         0         \n",
      "_________________________________________________________________\n",
      "flatten (Flatten)            (None, 25088)             0         \n",
      "_________________________________________________________________\n",
      "fc1 (Dense)                  (None, 4096)              102764544 \n",
      "_________________________________________________________________\n",
      "fc2 (Dense)                  (None, 4096)              16781312  \n",
      "_________________________________________________________________\n",
      "predictions (Dense)          (None, 1000)              4097000   \n",
      "=================================================================\n",
      "Total params: 138,357,544\n",
      "Trainable params: 138,357,544\n",
      "Non-trainable params: 0\n",
      "_________________________________________________________________\n"
     ]
    }
   ],
   "source": [
    "model.summary()"
   ]
  },
  {
   "cell_type": "code",
   "execution_count": 5,
   "metadata": {},
   "outputs": [],
   "source": [
    "model.compile(loss='categorical_crossentropy', optimizer='adadelta', metrics=['accuracy'])"
   ]
  },
  {
   "cell_type": "code",
   "execution_count": 6,
   "metadata": {},
   "outputs": [],
   "source": [
    "from PIL import Image"
   ]
  },
  {
   "cell_type": "code",
   "execution_count": 8,
   "metadata": {},
   "outputs": [],
   "source": [
    "%matplotlib inline"
   ]
  },
  {
   "cell_type": "code",
   "execution_count": 7,
   "metadata": {},
   "outputs": [
    {
     "data": {
      "application/javascript": [
       "/* Put everything inside the global mpl namespace */\n",
       "window.mpl = {};\n",
       "\n",
       "\n",
       "mpl.get_websocket_type = function() {\n",
       "    if (typeof(WebSocket) !== 'undefined') {\n",
       "        return WebSocket;\n",
       "    } else if (typeof(MozWebSocket) !== 'undefined') {\n",
       "        return MozWebSocket;\n",
       "    } else {\n",
       "        alert('Your browser does not have WebSocket support.' +\n",
       "              'Please try Chrome, Safari or Firefox ≥ 6. ' +\n",
       "              'Firefox 4 and 5 are also supported but you ' +\n",
       "              'have to enable WebSockets in about:config.');\n",
       "    };\n",
       "}\n",
       "\n",
       "mpl.figure = function(figure_id, websocket, ondownload, parent_element) {\n",
       "    this.id = figure_id;\n",
       "\n",
       "    this.ws = websocket;\n",
       "\n",
       "    this.supports_binary = (this.ws.binaryType != undefined);\n",
       "\n",
       "    if (!this.supports_binary) {\n",
       "        var warnings = document.getElementById(\"mpl-warnings\");\n",
       "        if (warnings) {\n",
       "            warnings.style.display = 'block';\n",
       "            warnings.textContent = (\n",
       "                \"This browser does not support binary websocket messages. \" +\n",
       "                    \"Performance may be slow.\");\n",
       "        }\n",
       "    }\n",
       "\n",
       "    this.imageObj = new Image();\n",
       "\n",
       "    this.context = undefined;\n",
       "    this.message = undefined;\n",
       "    this.canvas = undefined;\n",
       "    this.rubberband_canvas = undefined;\n",
       "    this.rubberband_context = undefined;\n",
       "    this.format_dropdown = undefined;\n",
       "\n",
       "    this.image_mode = 'full';\n",
       "\n",
       "    this.root = $('<div/>');\n",
       "    this._root_extra_style(this.root)\n",
       "    this.root.attr('style', 'display: inline-block');\n",
       "\n",
       "    $(parent_element).append(this.root);\n",
       "\n",
       "    this._init_header(this);\n",
       "    this._init_canvas(this);\n",
       "    this._init_toolbar(this);\n",
       "\n",
       "    var fig = this;\n",
       "\n",
       "    this.waiting = false;\n",
       "\n",
       "    this.ws.onopen =  function () {\n",
       "            fig.send_message(\"supports_binary\", {value: fig.supports_binary});\n",
       "            fig.send_message(\"send_image_mode\", {});\n",
       "            if (mpl.ratio != 1) {\n",
       "                fig.send_message(\"set_dpi_ratio\", {'dpi_ratio': mpl.ratio});\n",
       "            }\n",
       "            fig.send_message(\"refresh\", {});\n",
       "        }\n",
       "\n",
       "    this.imageObj.onload = function() {\n",
       "            if (fig.image_mode == 'full') {\n",
       "                // Full images could contain transparency (where diff images\n",
       "                // almost always do), so we need to clear the canvas so that\n",
       "                // there is no ghosting.\n",
       "                fig.context.clearRect(0, 0, fig.canvas.width, fig.canvas.height);\n",
       "            }\n",
       "            fig.context.drawImage(fig.imageObj, 0, 0);\n",
       "        };\n",
       "\n",
       "    this.imageObj.onunload = function() {\n",
       "        this.ws.close();\n",
       "    }\n",
       "\n",
       "    this.ws.onmessage = this._make_on_message_function(this);\n",
       "\n",
       "    this.ondownload = ondownload;\n",
       "}\n",
       "\n",
       "mpl.figure.prototype._init_header = function() {\n",
       "    var titlebar = $(\n",
       "        '<div class=\"ui-dialog-titlebar ui-widget-header ui-corner-all ' +\n",
       "        'ui-helper-clearfix\"/>');\n",
       "    var titletext = $(\n",
       "        '<div class=\"ui-dialog-title\" style=\"width: 100%; ' +\n",
       "        'text-align: center; padding: 3px;\"/>');\n",
       "    titlebar.append(titletext)\n",
       "    this.root.append(titlebar);\n",
       "    this.header = titletext[0];\n",
       "}\n",
       "\n",
       "\n",
       "\n",
       "mpl.figure.prototype._canvas_extra_style = function(canvas_div) {\n",
       "\n",
       "}\n",
       "\n",
       "\n",
       "mpl.figure.prototype._root_extra_style = function(canvas_div) {\n",
       "\n",
       "}\n",
       "\n",
       "mpl.figure.prototype._init_canvas = function() {\n",
       "    var fig = this;\n",
       "\n",
       "    var canvas_div = $('<div/>');\n",
       "\n",
       "    canvas_div.attr('style', 'position: relative; clear: both; outline: 0');\n",
       "\n",
       "    function canvas_keyboard_event(event) {\n",
       "        return fig.key_event(event, event['data']);\n",
       "    }\n",
       "\n",
       "    canvas_div.keydown('key_press', canvas_keyboard_event);\n",
       "    canvas_div.keyup('key_release', canvas_keyboard_event);\n",
       "    this.canvas_div = canvas_div\n",
       "    this._canvas_extra_style(canvas_div)\n",
       "    this.root.append(canvas_div);\n",
       "\n",
       "    var canvas = $('<canvas/>');\n",
       "    canvas.addClass('mpl-canvas');\n",
       "    canvas.attr('style', \"left: 0; top: 0; z-index: 0; outline: 0\")\n",
       "\n",
       "    this.canvas = canvas[0];\n",
       "    this.context = canvas[0].getContext(\"2d\");\n",
       "\n",
       "    var backingStore = this.context.backingStorePixelRatio ||\n",
       "\tthis.context.webkitBackingStorePixelRatio ||\n",
       "\tthis.context.mozBackingStorePixelRatio ||\n",
       "\tthis.context.msBackingStorePixelRatio ||\n",
       "\tthis.context.oBackingStorePixelRatio ||\n",
       "\tthis.context.backingStorePixelRatio || 1;\n",
       "\n",
       "    mpl.ratio = (window.devicePixelRatio || 1) / backingStore;\n",
       "\n",
       "    var rubberband = $('<canvas/>');\n",
       "    rubberband.attr('style', \"position: absolute; left: 0; top: 0; z-index: 1;\")\n",
       "\n",
       "    var pass_mouse_events = true;\n",
       "\n",
       "    canvas_div.resizable({\n",
       "        start: function(event, ui) {\n",
       "            pass_mouse_events = false;\n",
       "        },\n",
       "        resize: function(event, ui) {\n",
       "            fig.request_resize(ui.size.width, ui.size.height);\n",
       "        },\n",
       "        stop: function(event, ui) {\n",
       "            pass_mouse_events = true;\n",
       "            fig.request_resize(ui.size.width, ui.size.height);\n",
       "        },\n",
       "    });\n",
       "\n",
       "    function mouse_event_fn(event) {\n",
       "        if (pass_mouse_events)\n",
       "            return fig.mouse_event(event, event['data']);\n",
       "    }\n",
       "\n",
       "    rubberband.mousedown('button_press', mouse_event_fn);\n",
       "    rubberband.mouseup('button_release', mouse_event_fn);\n",
       "    // Throttle sequential mouse events to 1 every 20ms.\n",
       "    rubberband.mousemove('motion_notify', mouse_event_fn);\n",
       "\n",
       "    rubberband.mouseenter('figure_enter', mouse_event_fn);\n",
       "    rubberband.mouseleave('figure_leave', mouse_event_fn);\n",
       "\n",
       "    canvas_div.on(\"wheel\", function (event) {\n",
       "        event = event.originalEvent;\n",
       "        event['data'] = 'scroll'\n",
       "        if (event.deltaY < 0) {\n",
       "            event.step = 1;\n",
       "        } else {\n",
       "            event.step = -1;\n",
       "        }\n",
       "        mouse_event_fn(event);\n",
       "    });\n",
       "\n",
       "    canvas_div.append(canvas);\n",
       "    canvas_div.append(rubberband);\n",
       "\n",
       "    this.rubberband = rubberband;\n",
       "    this.rubberband_canvas = rubberband[0];\n",
       "    this.rubberband_context = rubberband[0].getContext(\"2d\");\n",
       "    this.rubberband_context.strokeStyle = \"#000000\";\n",
       "\n",
       "    this._resize_canvas = function(width, height) {\n",
       "        // Keep the size of the canvas, canvas container, and rubber band\n",
       "        // canvas in synch.\n",
       "        canvas_div.css('width', width)\n",
       "        canvas_div.css('height', height)\n",
       "\n",
       "        canvas.attr('width', width * mpl.ratio);\n",
       "        canvas.attr('height', height * mpl.ratio);\n",
       "        canvas.attr('style', 'width: ' + width + 'px; height: ' + height + 'px;');\n",
       "\n",
       "        rubberband.attr('width', width);\n",
       "        rubberband.attr('height', height);\n",
       "    }\n",
       "\n",
       "    // Set the figure to an initial 600x600px, this will subsequently be updated\n",
       "    // upon first draw.\n",
       "    this._resize_canvas(600, 600);\n",
       "\n",
       "    // Disable right mouse context menu.\n",
       "    $(this.rubberband_canvas).bind(\"contextmenu\",function(e){\n",
       "        return false;\n",
       "    });\n",
       "\n",
       "    function set_focus () {\n",
       "        canvas.focus();\n",
       "        canvas_div.focus();\n",
       "    }\n",
       "\n",
       "    window.setTimeout(set_focus, 100);\n",
       "}\n",
       "\n",
       "mpl.figure.prototype._init_toolbar = function() {\n",
       "    var fig = this;\n",
       "\n",
       "    var nav_element = $('<div/>')\n",
       "    nav_element.attr('style', 'width: 100%');\n",
       "    this.root.append(nav_element);\n",
       "\n",
       "    // Define a callback function for later on.\n",
       "    function toolbar_event(event) {\n",
       "        return fig.toolbar_button_onclick(event['data']);\n",
       "    }\n",
       "    function toolbar_mouse_event(event) {\n",
       "        return fig.toolbar_button_onmouseover(event['data']);\n",
       "    }\n",
       "\n",
       "    for(var toolbar_ind in mpl.toolbar_items) {\n",
       "        var name = mpl.toolbar_items[toolbar_ind][0];\n",
       "        var tooltip = mpl.toolbar_items[toolbar_ind][1];\n",
       "        var image = mpl.toolbar_items[toolbar_ind][2];\n",
       "        var method_name = mpl.toolbar_items[toolbar_ind][3];\n",
       "\n",
       "        if (!name) {\n",
       "            // put a spacer in here.\n",
       "            continue;\n",
       "        }\n",
       "        var button = $('<button/>');\n",
       "        button.addClass('ui-button ui-widget ui-state-default ui-corner-all ' +\n",
       "                        'ui-button-icon-only');\n",
       "        button.attr('role', 'button');\n",
       "        button.attr('aria-disabled', 'false');\n",
       "        button.click(method_name, toolbar_event);\n",
       "        button.mouseover(tooltip, toolbar_mouse_event);\n",
       "\n",
       "        var icon_img = $('<span/>');\n",
       "        icon_img.addClass('ui-button-icon-primary ui-icon');\n",
       "        icon_img.addClass(image);\n",
       "        icon_img.addClass('ui-corner-all');\n",
       "\n",
       "        var tooltip_span = $('<span/>');\n",
       "        tooltip_span.addClass('ui-button-text');\n",
       "        tooltip_span.html(tooltip);\n",
       "\n",
       "        button.append(icon_img);\n",
       "        button.append(tooltip_span);\n",
       "\n",
       "        nav_element.append(button);\n",
       "    }\n",
       "\n",
       "    var fmt_picker_span = $('<span/>');\n",
       "\n",
       "    var fmt_picker = $('<select/>');\n",
       "    fmt_picker.addClass('mpl-toolbar-option ui-widget ui-widget-content');\n",
       "    fmt_picker_span.append(fmt_picker);\n",
       "    nav_element.append(fmt_picker_span);\n",
       "    this.format_dropdown = fmt_picker[0];\n",
       "\n",
       "    for (var ind in mpl.extensions) {\n",
       "        var fmt = mpl.extensions[ind];\n",
       "        var option = $(\n",
       "            '<option/>', {selected: fmt === mpl.default_extension}).html(fmt);\n",
       "        fmt_picker.append(option)\n",
       "    }\n",
       "\n",
       "    // Add hover states to the ui-buttons\n",
       "    $( \".ui-button\" ).hover(\n",
       "        function() { $(this).addClass(\"ui-state-hover\");},\n",
       "        function() { $(this).removeClass(\"ui-state-hover\");}\n",
       "    );\n",
       "\n",
       "    var status_bar = $('<span class=\"mpl-message\"/>');\n",
       "    nav_element.append(status_bar);\n",
       "    this.message = status_bar[0];\n",
       "}\n",
       "\n",
       "mpl.figure.prototype.request_resize = function(x_pixels, y_pixels) {\n",
       "    // Request matplotlib to resize the figure. Matplotlib will then trigger a resize in the client,\n",
       "    // which will in turn request a refresh of the image.\n",
       "    this.send_message('resize', {'width': x_pixels, 'height': y_pixels});\n",
       "}\n",
       "\n",
       "mpl.figure.prototype.send_message = function(type, properties) {\n",
       "    properties['type'] = type;\n",
       "    properties['figure_id'] = this.id;\n",
       "    this.ws.send(JSON.stringify(properties));\n",
       "}\n",
       "\n",
       "mpl.figure.prototype.send_draw_message = function() {\n",
       "    if (!this.waiting) {\n",
       "        this.waiting = true;\n",
       "        this.ws.send(JSON.stringify({type: \"draw\", figure_id: this.id}));\n",
       "    }\n",
       "}\n",
       "\n",
       "\n",
       "mpl.figure.prototype.handle_save = function(fig, msg) {\n",
       "    var format_dropdown = fig.format_dropdown;\n",
       "    var format = format_dropdown.options[format_dropdown.selectedIndex].value;\n",
       "    fig.ondownload(fig, format);\n",
       "}\n",
       "\n",
       "\n",
       "mpl.figure.prototype.handle_resize = function(fig, msg) {\n",
       "    var size = msg['size'];\n",
       "    if (size[0] != fig.canvas.width || size[1] != fig.canvas.height) {\n",
       "        fig._resize_canvas(size[0], size[1]);\n",
       "        fig.send_message(\"refresh\", {});\n",
       "    };\n",
       "}\n",
       "\n",
       "mpl.figure.prototype.handle_rubberband = function(fig, msg) {\n",
       "    var x0 = msg['x0'] / mpl.ratio;\n",
       "    var y0 = (fig.canvas.height - msg['y0']) / mpl.ratio;\n",
       "    var x1 = msg['x1'] / mpl.ratio;\n",
       "    var y1 = (fig.canvas.height - msg['y1']) / mpl.ratio;\n",
       "    x0 = Math.floor(x0) + 0.5;\n",
       "    y0 = Math.floor(y0) + 0.5;\n",
       "    x1 = Math.floor(x1) + 0.5;\n",
       "    y1 = Math.floor(y1) + 0.5;\n",
       "    var min_x = Math.min(x0, x1);\n",
       "    var min_y = Math.min(y0, y1);\n",
       "    var width = Math.abs(x1 - x0);\n",
       "    var height = Math.abs(y1 - y0);\n",
       "\n",
       "    fig.rubberband_context.clearRect(\n",
       "        0, 0, fig.canvas.width, fig.canvas.height);\n",
       "\n",
       "    fig.rubberband_context.strokeRect(min_x, min_y, width, height);\n",
       "}\n",
       "\n",
       "mpl.figure.prototype.handle_figure_label = function(fig, msg) {\n",
       "    // Updates the figure title.\n",
       "    fig.header.textContent = msg['label'];\n",
       "}\n",
       "\n",
       "mpl.figure.prototype.handle_cursor = function(fig, msg) {\n",
       "    var cursor = msg['cursor'];\n",
       "    switch(cursor)\n",
       "    {\n",
       "    case 0:\n",
       "        cursor = 'pointer';\n",
       "        break;\n",
       "    case 1:\n",
       "        cursor = 'default';\n",
       "        break;\n",
       "    case 2:\n",
       "        cursor = 'crosshair';\n",
       "        break;\n",
       "    case 3:\n",
       "        cursor = 'move';\n",
       "        break;\n",
       "    }\n",
       "    fig.rubberband_canvas.style.cursor = cursor;\n",
       "}\n",
       "\n",
       "mpl.figure.prototype.handle_message = function(fig, msg) {\n",
       "    fig.message.textContent = msg['message'];\n",
       "}\n",
       "\n",
       "mpl.figure.prototype.handle_draw = function(fig, msg) {\n",
       "    // Request the server to send over a new figure.\n",
       "    fig.send_draw_message();\n",
       "}\n",
       "\n",
       "mpl.figure.prototype.handle_image_mode = function(fig, msg) {\n",
       "    fig.image_mode = msg['mode'];\n",
       "}\n",
       "\n",
       "mpl.figure.prototype.updated_canvas_event = function() {\n",
       "    // Called whenever the canvas gets updated.\n",
       "    this.send_message(\"ack\", {});\n",
       "}\n",
       "\n",
       "// A function to construct a web socket function for onmessage handling.\n",
       "// Called in the figure constructor.\n",
       "mpl.figure.prototype._make_on_message_function = function(fig) {\n",
       "    return function socket_on_message(evt) {\n",
       "        if (evt.data instanceof Blob) {\n",
       "            /* FIXME: We get \"Resource interpreted as Image but\n",
       "             * transferred with MIME type text/plain:\" errors on\n",
       "             * Chrome.  But how to set the MIME type?  It doesn't seem\n",
       "             * to be part of the websocket stream */\n",
       "            evt.data.type = \"image/png\";\n",
       "\n",
       "            /* Free the memory for the previous frames */\n",
       "            if (fig.imageObj.src) {\n",
       "                (window.URL || window.webkitURL).revokeObjectURL(\n",
       "                    fig.imageObj.src);\n",
       "            }\n",
       "\n",
       "            fig.imageObj.src = (window.URL || window.webkitURL).createObjectURL(\n",
       "                evt.data);\n",
       "            fig.updated_canvas_event();\n",
       "            fig.waiting = false;\n",
       "            return;\n",
       "        }\n",
       "        else if (typeof evt.data === 'string' && evt.data.slice(0, 21) == \"data:image/png;base64\") {\n",
       "            fig.imageObj.src = evt.data;\n",
       "            fig.updated_canvas_event();\n",
       "            fig.waiting = false;\n",
       "            return;\n",
       "        }\n",
       "\n",
       "        var msg = JSON.parse(evt.data);\n",
       "        var msg_type = msg['type'];\n",
       "\n",
       "        // Call the  \"handle_{type}\" callback, which takes\n",
       "        // the figure and JSON message as its only arguments.\n",
       "        try {\n",
       "            var callback = fig[\"handle_\" + msg_type];\n",
       "        } catch (e) {\n",
       "            console.log(\"No handler for the '\" + msg_type + \"' message type: \", msg);\n",
       "            return;\n",
       "        }\n",
       "\n",
       "        if (callback) {\n",
       "            try {\n",
       "                // console.log(\"Handling '\" + msg_type + \"' message: \", msg);\n",
       "                callback(fig, msg);\n",
       "            } catch (e) {\n",
       "                console.log(\"Exception inside the 'handler_\" + msg_type + \"' callback:\", e, e.stack, msg);\n",
       "            }\n",
       "        }\n",
       "    };\n",
       "}\n",
       "\n",
       "// from http://stackoverflow.com/questions/1114465/getting-mouse-location-in-canvas\n",
       "mpl.findpos = function(e) {\n",
       "    //this section is from http://www.quirksmode.org/js/events_properties.html\n",
       "    var targ;\n",
       "    if (!e)\n",
       "        e = window.event;\n",
       "    if (e.target)\n",
       "        targ = e.target;\n",
       "    else if (e.srcElement)\n",
       "        targ = e.srcElement;\n",
       "    if (targ.nodeType == 3) // defeat Safari bug\n",
       "        targ = targ.parentNode;\n",
       "\n",
       "    // jQuery normalizes the pageX and pageY\n",
       "    // pageX,Y are the mouse positions relative to the document\n",
       "    // offset() returns the position of the element relative to the document\n",
       "    var x = e.pageX - $(targ).offset().left;\n",
       "    var y = e.pageY - $(targ).offset().top;\n",
       "\n",
       "    return {\"x\": x, \"y\": y};\n",
       "};\n",
       "\n",
       "/*\n",
       " * return a copy of an object with only non-object keys\n",
       " * we need this to avoid circular references\n",
       " * http://stackoverflow.com/a/24161582/3208463\n",
       " */\n",
       "function simpleKeys (original) {\n",
       "  return Object.keys(original).reduce(function (obj, key) {\n",
       "    if (typeof original[key] !== 'object')\n",
       "        obj[key] = original[key]\n",
       "    return obj;\n",
       "  }, {});\n",
       "}\n",
       "\n",
       "mpl.figure.prototype.mouse_event = function(event, name) {\n",
       "    var canvas_pos = mpl.findpos(event)\n",
       "\n",
       "    if (name === 'button_press')\n",
       "    {\n",
       "        this.canvas.focus();\n",
       "        this.canvas_div.focus();\n",
       "    }\n",
       "\n",
       "    var x = canvas_pos.x * mpl.ratio;\n",
       "    var y = canvas_pos.y * mpl.ratio;\n",
       "\n",
       "    this.send_message(name, {x: x, y: y, button: event.button,\n",
       "                             step: event.step,\n",
       "                             guiEvent: simpleKeys(event)});\n",
       "\n",
       "    /* This prevents the web browser from automatically changing to\n",
       "     * the text insertion cursor when the button is pressed.  We want\n",
       "     * to control all of the cursor setting manually through the\n",
       "     * 'cursor' event from matplotlib */\n",
       "    event.preventDefault();\n",
       "    return false;\n",
       "}\n",
       "\n",
       "mpl.figure.prototype._key_event_extra = function(event, name) {\n",
       "    // Handle any extra behaviour associated with a key event\n",
       "}\n",
       "\n",
       "mpl.figure.prototype.key_event = function(event, name) {\n",
       "\n",
       "    // Prevent repeat events\n",
       "    if (name == 'key_press')\n",
       "    {\n",
       "        if (event.which === this._key)\n",
       "            return;\n",
       "        else\n",
       "            this._key = event.which;\n",
       "    }\n",
       "    if (name == 'key_release')\n",
       "        this._key = null;\n",
       "\n",
       "    var value = '';\n",
       "    if (event.ctrlKey && event.which != 17)\n",
       "        value += \"ctrl+\";\n",
       "    if (event.altKey && event.which != 18)\n",
       "        value += \"alt+\";\n",
       "    if (event.shiftKey && event.which != 16)\n",
       "        value += \"shift+\";\n",
       "\n",
       "    value += 'k';\n",
       "    value += event.which.toString();\n",
       "\n",
       "    this._key_event_extra(event, name);\n",
       "\n",
       "    this.send_message(name, {key: value,\n",
       "                             guiEvent: simpleKeys(event)});\n",
       "    return false;\n",
       "}\n",
       "\n",
       "mpl.figure.prototype.toolbar_button_onclick = function(name) {\n",
       "    if (name == 'download') {\n",
       "        this.handle_save(this, null);\n",
       "    } else {\n",
       "        this.send_message(\"toolbar_button\", {name: name});\n",
       "    }\n",
       "};\n",
       "\n",
       "mpl.figure.prototype.toolbar_button_onmouseover = function(tooltip) {\n",
       "    this.message.textContent = tooltip;\n",
       "};\n",
       "mpl.toolbar_items = [[\"Home\", \"Reset original view\", \"fa fa-home icon-home\", \"home\"], [\"Back\", \"Back to  previous view\", \"fa fa-arrow-left icon-arrow-left\", \"back\"], [\"Forward\", \"Forward to next view\", \"fa fa-arrow-right icon-arrow-right\", \"forward\"], [\"\", \"\", \"\", \"\"], [\"Pan\", \"Pan axes with left mouse, zoom with right\", \"fa fa-arrows icon-move\", \"pan\"], [\"Zoom\", \"Zoom to rectangle\", \"fa fa-square-o icon-check-empty\", \"zoom\"], [\"\", \"\", \"\", \"\"], [\"Download\", \"Download plot\", \"fa fa-floppy-o icon-save\", \"download\"]];\n",
       "\n",
       "mpl.extensions = [\"eps\", \"jpeg\", \"pdf\", \"png\", \"ps\", \"raw\", \"svg\", \"tif\"];\n",
       "\n",
       "mpl.default_extension = \"png\";var comm_websocket_adapter = function(comm) {\n",
       "    // Create a \"websocket\"-like object which calls the given IPython comm\n",
       "    // object with the appropriate methods. Currently this is a non binary\n",
       "    // socket, so there is still some room for performance tuning.\n",
       "    var ws = {};\n",
       "\n",
       "    ws.close = function() {\n",
       "        comm.close()\n",
       "    };\n",
       "    ws.send = function(m) {\n",
       "        //console.log('sending', m);\n",
       "        comm.send(m);\n",
       "    };\n",
       "    // Register the callback with on_msg.\n",
       "    comm.on_msg(function(msg) {\n",
       "        //console.log('receiving', msg['content']['data'], msg);\n",
       "        // Pass the mpl event to the overriden (by mpl) onmessage function.\n",
       "        ws.onmessage(msg['content']['data'])\n",
       "    });\n",
       "    return ws;\n",
       "}\n",
       "\n",
       "mpl.mpl_figure_comm = function(comm, msg) {\n",
       "    // This is the function which gets called when the mpl process\n",
       "    // starts-up an IPython Comm through the \"matplotlib\" channel.\n",
       "\n",
       "    var id = msg.content.data.id;\n",
       "    // Get hold of the div created by the display call when the Comm\n",
       "    // socket was opened in Python.\n",
       "    var element = $(\"#\" + id);\n",
       "    var ws_proxy = comm_websocket_adapter(comm)\n",
       "\n",
       "    function ondownload(figure, format) {\n",
       "        window.open(figure.imageObj.src);\n",
       "    }\n",
       "\n",
       "    var fig = new mpl.figure(id, ws_proxy,\n",
       "                           ondownload,\n",
       "                           element.get(0));\n",
       "\n",
       "    // Call onopen now - mpl needs it, as it is assuming we've passed it a real\n",
       "    // web socket which is closed, not our websocket->open comm proxy.\n",
       "    ws_proxy.onopen();\n",
       "\n",
       "    fig.parent_element = element.get(0);\n",
       "    fig.cell_info = mpl.find_output_cell(\"<div id='\" + id + \"'></div>\");\n",
       "    if (!fig.cell_info) {\n",
       "        console.error(\"Failed to find cell for figure\", id, fig);\n",
       "        return;\n",
       "    }\n",
       "\n",
       "    var output_index = fig.cell_info[2]\n",
       "    var cell = fig.cell_info[0];\n",
       "\n",
       "};\n",
       "\n",
       "mpl.figure.prototype.handle_close = function(fig, msg) {\n",
       "    var width = fig.canvas.width/mpl.ratio\n",
       "    fig.root.unbind('remove')\n",
       "\n",
       "    // Update the output cell to use the data from the current canvas.\n",
       "    fig.push_to_output();\n",
       "    var dataURL = fig.canvas.toDataURL();\n",
       "    // Re-enable the keyboard manager in IPython - without this line, in FF,\n",
       "    // the notebook keyboard shortcuts fail.\n",
       "    IPython.keyboard_manager.enable()\n",
       "    $(fig.parent_element).html('<img src=\"' + dataURL + '\" width=\"' + width + '\">');\n",
       "    fig.close_ws(fig, msg);\n",
       "}\n",
       "\n",
       "mpl.figure.prototype.close_ws = function(fig, msg){\n",
       "    fig.send_message('closing', msg);\n",
       "    // fig.ws.close()\n",
       "}\n",
       "\n",
       "mpl.figure.prototype.push_to_output = function(remove_interactive) {\n",
       "    // Turn the data on the canvas into data in the output cell.\n",
       "    var width = this.canvas.width/mpl.ratio\n",
       "    var dataURL = this.canvas.toDataURL();\n",
       "    this.cell_info[1]['text/html'] = '<img src=\"' + dataURL + '\" width=\"' + width + '\">';\n",
       "}\n",
       "\n",
       "mpl.figure.prototype.updated_canvas_event = function() {\n",
       "    // Tell IPython that the notebook contents must change.\n",
       "    IPython.notebook.set_dirty(true);\n",
       "    this.send_message(\"ack\", {});\n",
       "    var fig = this;\n",
       "    // Wait a second, then push the new image to the DOM so\n",
       "    // that it is saved nicely (might be nice to debounce this).\n",
       "    setTimeout(function () { fig.push_to_output() }, 1000);\n",
       "}\n",
       "\n",
       "mpl.figure.prototype._init_toolbar = function() {\n",
       "    var fig = this;\n",
       "\n",
       "    var nav_element = $('<div/>')\n",
       "    nav_element.attr('style', 'width: 100%');\n",
       "    this.root.append(nav_element);\n",
       "\n",
       "    // Define a callback function for later on.\n",
       "    function toolbar_event(event) {\n",
       "        return fig.toolbar_button_onclick(event['data']);\n",
       "    }\n",
       "    function toolbar_mouse_event(event) {\n",
       "        return fig.toolbar_button_onmouseover(event['data']);\n",
       "    }\n",
       "\n",
       "    for(var toolbar_ind in mpl.toolbar_items){\n",
       "        var name = mpl.toolbar_items[toolbar_ind][0];\n",
       "        var tooltip = mpl.toolbar_items[toolbar_ind][1];\n",
       "        var image = mpl.toolbar_items[toolbar_ind][2];\n",
       "        var method_name = mpl.toolbar_items[toolbar_ind][3];\n",
       "\n",
       "        if (!name) { continue; };\n",
       "\n",
       "        var button = $('<button class=\"btn btn-default\" href=\"#\" title=\"' + name + '\"><i class=\"fa ' + image + ' fa-lg\"></i></button>');\n",
       "        button.click(method_name, toolbar_event);\n",
       "        button.mouseover(tooltip, toolbar_mouse_event);\n",
       "        nav_element.append(button);\n",
       "    }\n",
       "\n",
       "    // Add the status bar.\n",
       "    var status_bar = $('<span class=\"mpl-message\" style=\"text-align:right; float: right;\"/>');\n",
       "    nav_element.append(status_bar);\n",
       "    this.message = status_bar[0];\n",
       "\n",
       "    // Add the close button to the window.\n",
       "    var buttongrp = $('<div class=\"btn-group inline pull-right\"></div>');\n",
       "    var button = $('<button class=\"btn btn-mini btn-primary\" href=\"#\" title=\"Stop Interaction\"><i class=\"fa fa-power-off icon-remove icon-large\"></i></button>');\n",
       "    button.click(function (evt) { fig.handle_close(fig, {}); } );\n",
       "    button.mouseover('Stop Interaction', toolbar_mouse_event);\n",
       "    buttongrp.append(button);\n",
       "    var titlebar = this.root.find($('.ui-dialog-titlebar'));\n",
       "    titlebar.prepend(buttongrp);\n",
       "}\n",
       "\n",
       "mpl.figure.prototype._root_extra_style = function(el){\n",
       "    var fig = this\n",
       "    el.on(\"remove\", function(){\n",
       "\tfig.close_ws(fig, {});\n",
       "    });\n",
       "}\n",
       "\n",
       "mpl.figure.prototype._canvas_extra_style = function(el){\n",
       "    // this is important to make the div 'focusable\n",
       "    el.attr('tabindex', 0)\n",
       "    // reach out to IPython and tell the keyboard manager to turn it's self\n",
       "    // off when our div gets focus\n",
       "\n",
       "    // location in version 3\n",
       "    if (IPython.notebook.keyboard_manager) {\n",
       "        IPython.notebook.keyboard_manager.register_events(el);\n",
       "    }\n",
       "    else {\n",
       "        // location in version 2\n",
       "        IPython.keyboard_manager.register_events(el);\n",
       "    }\n",
       "\n",
       "}\n",
       "\n",
       "mpl.figure.prototype._key_event_extra = function(event, name) {\n",
       "    var manager = IPython.notebook.keyboard_manager;\n",
       "    if (!manager)\n",
       "        manager = IPython.keyboard_manager;\n",
       "\n",
       "    // Check for shift+enter\n",
       "    if (event.shiftKey && event.which == 13) {\n",
       "        this.canvas_div.blur();\n",
       "        // select the cell after this one\n",
       "        var index = IPython.notebook.find_cell_index(this.cell_info[0]);\n",
       "        IPython.notebook.select(index + 1);\n",
       "    }\n",
       "}\n",
       "\n",
       "mpl.figure.prototype.handle_save = function(fig, msg) {\n",
       "    fig.ondownload(fig, null);\n",
       "}\n",
       "\n",
       "\n",
       "mpl.find_output_cell = function(html_output) {\n",
       "    // Return the cell and output element which can be found *uniquely* in the notebook.\n",
       "    // Note - this is a bit hacky, but it is done because the \"notebook_saving.Notebook\"\n",
       "    // IPython event is triggered only after the cells have been serialised, which for\n",
       "    // our purposes (turning an active figure into a static one), is too late.\n",
       "    var cells = IPython.notebook.get_cells();\n",
       "    var ncells = cells.length;\n",
       "    for (var i=0; i<ncells; i++) {\n",
       "        var cell = cells[i];\n",
       "        if (cell.cell_type === 'code'){\n",
       "            for (var j=0; j<cell.output_area.outputs.length; j++) {\n",
       "                var data = cell.output_area.outputs[j];\n",
       "                if (data.data) {\n",
       "                    // IPython >= 3 moved mimebundle to data attribute of output\n",
       "                    data = data.data;\n",
       "                }\n",
       "                if (data['text/html'] == html_output) {\n",
       "                    return [cell, data, j];\n",
       "                }\n",
       "            }\n",
       "        }\n",
       "    }\n",
       "}\n",
       "\n",
       "// Register the function which deals with the matplotlib target/channel.\n",
       "// The kernel may be null if the page has been refreshed.\n",
       "if (IPython.notebook.kernel != null) {\n",
       "    IPython.notebook.kernel.comm_manager.register_target('matplotlib', mpl.mpl_figure_comm);\n",
       "}\n"
      ],
      "text/plain": [
       "<IPython.core.display.Javascript object>"
      ]
     },
     "metadata": {},
     "output_type": "display_data"
    },
    {
     "data": {
      "text/html": [
       "<img src=\"data:image/png;base64,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\" width=\"640\">"
      ],
      "text/plain": [
       "<IPython.core.display.HTML object>"
      ]
     },
     "metadata": {},
     "output_type": "display_data"
    }
   ],
   "source": [
    "im = np.array(Image.open('C:/Users/user/Desktop/dog.jpg').resize((224,224)))\n",
    "plt.imshow(im)\n",
    "plt.grid(False)"
   ]
  },
  {
   "cell_type": "code",
   "execution_count": 9,
   "metadata": {},
   "outputs": [],
   "source": [
    "x = im[np.newaxis, :, :, :]\n",
    "yhat = model.predict(x)"
   ]
  },
  {
   "cell_type": "code",
   "execution_count": 11,
   "metadata": {},
   "outputs": [
    {
     "name": "stdout",
     "output_type": "stream",
     "text": [
      "Eskimo_dog (67.65%)\n"
     ]
    }
   ],
   "source": [
    "label = decode_predictions(yhat)\n",
    "label = label[0][0]\n",
    "print('%s (%.2f%%)' % (label[1], label[2]*100))"
   ]
  },
  {
   "cell_type": "code",
   "execution_count": 41,
   "metadata": {},
   "outputs": [],
   "source": [
    "from nltk.corpus import movie_reviews\n",
    "\n",
    "sentences = []\n",
    "for s in movie_reviews.sents():\n",
    "    s.insert(0, \"SS\")\n",
    "    s.append(\"SE\")\n",
    "    if len(s) > 4:\n",
    "        sentences.append(s)"
   ]
  },
  {
   "cell_type": "code",
   "execution_count": 42,
   "metadata": {},
   "outputs": [
    {
     "data": {
      "text/plain": [
       "['SS', 'they', 'get', 'into', 'an', 'accident', '.', 'SE']"
      ]
     },
     "execution_count": 42,
     "metadata": {},
     "output_type": "execute_result"
    }
   ],
   "source": [
    "sentences[1]"
   ]
  },
  {
   "cell_type": "code",
   "execution_count": 49,
   "metadata": {},
   "outputs": [],
   "source": [
    "from collections import Counter\n",
    "\n",
    "def calculate_bigram(sentences):\n",
    "    bigram = {}\n",
    "    for s in sentences:\n",
    "        context = \"SS\"\n",
    "        for i, w in enumerate(s[1:]):\n",
    "            if context not in bigram:\n",
    "                bigram[context] = Counter()\n",
    "            if bigram[context][w] == 0:\n",
    "                bigram[context][w] = 1\n",
    "            bigram[context][w] += 1\n",
    "            context = w\n",
    "    for context in bigram.keys():\n",
    "        total = sum(bigram[context].values())\n",
    "        for w in bigram[context]:\n",
    "            bigram[context][w] /= total\n",
    "    return bigram"
   ]
  },
  {
   "cell_type": "code",
   "execution_count": 50,
   "metadata": {},
   "outputs": [],
   "source": [
    "bigram = calculate_bigram(sentences)"
   ]
  },
  {
   "cell_type": "code",
   "execution_count": 52,
   "metadata": {
    "scrolled": false
   },
   "outputs": [
    {
     "data": {
      "text/plain": [
       "[('the', 0.11231263830320237),\n",
       " ('it', 0.043575076893101194),\n",
       " ('i', 0.03379121261464379),\n",
       " ('but', 0.02523207103391647),\n",
       " ('and', 0.024160438673402642),\n",
       " ('he', 0.023269731256871668),\n",
       " ('in', 0.023102723616272112),\n",
       " ('this', 0.022963550582439148),\n",
       " ('there', 0.0180507424881355),\n",
       " ('as', 0.013249272820898222)]"
      ]
     },
     "execution_count": 52,
     "metadata": {},
     "output_type": "execute_result"
    }
   ],
   "source": [
    "bigram[\"SS\"].most_common(10)"
   ]
  },
  {
   "cell_type": "code",
   "execution_count": 67,
   "metadata": {
    "scrolled": true
   },
   "outputs": [
    {
     "data": {
      "text/plain": [
       "Counter({'\\x12': 0.00031729243786356425,\n",
       "         '\"': 0.0006345848757271285,\n",
       "         \"'\": 0.14362771020624007,\n",
       "         '(': 0.0005288207297726071,\n",
       "         ')': 0.00031729243786356425,\n",
       "         '*': 0.0010576414595452142,\n",
       "         '+': 0.00021152829190904283,\n",
       "         ',': 0.0044420941300898995,\n",
       "         '-': 0.0019037546271813855,\n",
       "         '--': 0.00031729243786356425,\n",
       "         '.': 0.005922792173453199,\n",
       "         ':': 0.0005288207297726071,\n",
       "         '=': 0.00042305658381808567,\n",
       "         '?': 0.0015864621893178213,\n",
       "         '_loathe_': 0.00021152829190904283,\n",
       "         '_really_': 0.00031729243786356425,\n",
       "         'about': 0.00021152829190904283,\n",
       "         'absolutely': 0.00021152829190904283,\n",
       "         'accompanied': 0.00021152829190904283,\n",
       "         'accumulated': 0.00021152829190904283,\n",
       "         'acknowledge': 0.00021152829190904283,\n",
       "         'actively': 0.00021152829190904283,\n",
       "         'actually': 0.0034902168164992068,\n",
       "         'admire': 0.0008461131676361713,\n",
       "         'admired': 0.00042305658381808567,\n",
       "         'admit': 0.0014806980433632998,\n",
       "         'admitted': 0.00021152829190904283,\n",
       "         'adore': 0.00042305658381808567,\n",
       "         'adored': 0.00021152829190904283,\n",
       "         'after': 0.00021152829190904283,\n",
       "         'agree': 0.0007403490216816499,\n",
       "         'agreed': 0.00021152829190904283,\n",
       "         'ain': 0.00021152829190904283,\n",
       "         'allowed': 0.00021152829190904283,\n",
       "         'almost': 0.0028556319407720783,\n",
       "         'along': 0.00021152829190904283,\n",
       "         'already': 0.0008461131676361713,\n",
       "         'also': 0.0051824431517715494,\n",
       "         'alternated': 0.00021152829190904283,\n",
       "         'always': 0.001797990481226864,\n",
       "         'am': 0.017556848228450557,\n",
       "         'and': 0.0005288207297726071,\n",
       "         'answered': 0.00021152829190904283,\n",
       "         'anticipate': 0.00021152829190904283,\n",
       "         'anticipated': 0.00021152829190904283,\n",
       "         'anxiously': 0.00021152829190904283,\n",
       "         'apologize': 0.00042305658381808567,\n",
       "         'applaud': 0.0006345848757271285,\n",
       "         'appreciate': 0.0005288207297726071,\n",
       "         'appreciated': 0.00042305658381808567,\n",
       "         'approached': 0.00021152829190904283,\n",
       "         'are': 0.00021152829190904283,\n",
       "         'arrived': 0.00021152829190904283,\n",
       "         'ask': 0.00042305658381808567,\n",
       "         'asked': 0.0013749338974087784,\n",
       "         'assume': 0.0014806980433632998,\n",
       "         'assure': 0.00042305658381808567,\n",
       "         'at': 0.00031729243786356425,\n",
       "         'attended': 0.001269169751454257,\n",
       "         'avoided': 0.00021152829190904283,\n",
       "         'awarded': 0.00021152829190904283,\n",
       "         'awoke': 0.00021152829190904283,\n",
       "         'barely': 0.00042305658381808567,\n",
       "         'basically': 0.00021152829190904283,\n",
       "         'became': 0.0006345848757271285,\n",
       "         'become': 0.00021152829190904283,\n",
       "         'been': 0.00042305658381808567,\n",
       "         'began': 0.001269169751454257,\n",
       "         'begin': 0.00031729243786356425,\n",
       "         'begrudgingly': 0.00021152829190904283,\n",
       "         'being': 0.00031729243786356425,\n",
       "         'believe': 0.005393971443680592,\n",
       "         'believed': 0.00042305658381808567,\n",
       "         'bet': 0.0010576414595452142,\n",
       "         'bitching': 0.00021152829190904283,\n",
       "         'blame': 0.0006345848757271285,\n",
       "         'both': 0.00021152829190904283,\n",
       "         'bother': 0.00021152829190904283,\n",
       "         'bought': 0.0005288207297726071,\n",
       "         'bring': 0.00021152829190904283,\n",
       "         'bust': 0.00021152829190904283,\n",
       "         'call': 0.0008461131676361713,\n",
       "         'called': 0.00021152829190904283,\n",
       "         'calling': 0.00021152829190904283,\n",
       "         'came': 0.0010576414595452142,\n",
       "         'can': 0.03722897937599154,\n",
       "         'canna': 0.00021152829190904283,\n",
       "         'cannot': 0.0024325753569539926,\n",
       "         'care': 0.0006345848757271285,\n",
       "         'cared': 0.00042305658381808567,\n",
       "         'caught': 0.00042305658381808567,\n",
       "         'certainly': 0.0019037546271813855,\n",
       "         'challenge': 0.00021152829190904283,\n",
       "         'changed': 0.00031729243786356425,\n",
       "         'check': 0.00021152829190904283,\n",
       "         'checked': 0.00031729243786356425,\n",
       "         'chuckled': 0.00031729243786356425,\n",
       "         'cleaned': 0.00021152829190904283,\n",
       "         'collected': 0.00021152829190904283,\n",
       "         'come': 0.0005288207297726071,\n",
       "         'commend': 0.00021152829190904283,\n",
       "         'compare': 0.00031729243786356425,\n",
       "         'complained': 0.00021152829190904283,\n",
       "         'completely': 0.00031729243786356425,\n",
       "         'concede': 0.00021152829190904283,\n",
       "         'conclude': 0.00021152829190904283,\n",
       "         'condemn': 0.00021152829190904283,\n",
       "         'condone': 0.00031729243786356425,\n",
       "         'confess': 0.00021152829190904283,\n",
       "         'confused': 0.00021152829190904283,\n",
       "         'confusing': 0.00021152829190904283,\n",
       "         'consider': 0.0008461131676361713,\n",
       "         'considered': 0.00021152829190904283,\n",
       "         'continue': 0.00031729243786356425,\n",
       "         'converted': 0.00021152829190904283,\n",
       "         'convinced': 0.00021152829190904283,\n",
       "         'could': 0.01417239555790587,\n",
       "         'coulda': 0.00031729243786356425,\n",
       "         'couldn': 0.005393971443680592,\n",
       "         'counted': 0.00031729243786356425,\n",
       "         'covered': 0.00021152829190904283,\n",
       "         'credit': 0.00021152829190904283,\n",
       "         'cried': 0.00021152829190904283,\n",
       "         'cringed': 0.00031729243786356425,\n",
       "         'cut': 0.00021152829190904283,\n",
       "         'da': 0.00021152829190904283,\n",
       "         'dare': 0.0007403490216816499,\n",
       "         'daresay': 0.00021152829190904283,\n",
       "         'deal': 0.00021152829190904283,\n",
       "         'decide': 0.00021152829190904283,\n",
       "         'decided': 0.0011634056054997356,\n",
       "         'definately': 0.00021152829190904283,\n",
       "         'definitely': 0.00042305658381808567,\n",
       "         'defy': 0.00021152829190904283,\n",
       "         'delighted': 0.00021152829190904283,\n",
       "         'delve': 0.00021152829190904283,\n",
       "         'derive': 0.00021152829190904283,\n",
       "         'despair': 0.00021152829190904283,\n",
       "         'desperately': 0.00021152829190904283,\n",
       "         'despise': 0.00021152829190904283,\n",
       "         'detest': 0.00021152829190904283,\n",
       "         'did': 0.009941829719725013,\n",
       "         'didn': 0.01850872554204125,\n",
       "         'died': 0.0007403490216816499,\n",
       "         'dig': 0.00021152829190904283,\n",
       "         'digress': 0.0009518773135906928,\n",
       "         'dinosaurs': 0.00021152829190904283,\n",
       "         'disagree': 0.00042305658381808567,\n",
       "         'discover': 0.00021152829190904283,\n",
       "         'discovered': 0.00021152829190904283,\n",
       "         'disliked': 0.00042305658381808567,\n",
       "         'dismissed': 0.00021152829190904283,\n",
       "         'distinguish': 0.00031729243786356425,\n",
       "         'do': 0.007403490216816499,\n",
       "         'docked': 0.00031729243786356425,\n",
       "         'don': 0.02929666842940243,\n",
       "         'don92t': 0.00021152829190904283,\n",
       "         'done': 0.00021152829190904283,\n",
       "         'dont': 0.00021152829190904283,\n",
       "         'doubt': 0.004547858276044421,\n",
       "         'doubted': 0.00031729243786356425,\n",
       "         'dreaded': 0.00021152829190904283,\n",
       "         'drive': 0.00021152829190904283,\n",
       "         'drove': 0.00021152829190904283,\n",
       "         'duck': 0.00021152829190904283,\n",
       "         'dug': 0.00031729243786356425,\n",
       "         'dunno': 0.0007403490216816499,\n",
       "         'eagerly': 0.00031729243786356425,\n",
       "         'eat': 0.00021152829190904283,\n",
       "         'embarass': 0.00021152829190904283,\n",
       "         'embarked': 0.00021152829190904283,\n",
       "         'emphatically': 0.00021152829190904283,\n",
       "         'encounter': 0.00021152829190904283,\n",
       "         'encourage': 0.00021152829190904283,\n",
       "         'endeavored': 0.00021152829190904283,\n",
       "         'ended': 0.00031729243786356425,\n",
       "         'endured': 0.00021152829190904283,\n",
       "         'enjoy': 0.0015864621893178213,\n",
       "         'enjoyed': 0.003595980962453728,\n",
       "         'enjoying': 0.00021152829190904283,\n",
       "         'entered': 0.0007403490216816499,\n",
       "         'entertained': 0.00031729243786356425,\n",
       "         'enthusiastically': 0.00021152829190904283,\n",
       "         'envisioned': 0.00021152829190904283,\n",
       "         'especially': 0.001269169751454257,\n",
       "         'even': 0.0033844526705446853,\n",
       "         'ever': 0.0011634056054997356,\n",
       "         'exited': 0.00031729243786356425,\n",
       "         'expect': 0.0007403490216816499,\n",
       "         'expected': 0.0022210470650449498,\n",
       "         'experienced': 0.00021152829190904283,\n",
       "         'failed': 0.00021152829190904283,\n",
       "         'fall': 0.00031729243786356425,\n",
       "         'fear': 0.0006345848757271285,\n",
       "         'feel': 0.004124801692226335,\n",
       "         'fell': 0.00031729243786356425,\n",
       "         'felt': 0.006663141195134849,\n",
       "         'fidget': 0.00021152829190904283,\n",
       "         'figure': 0.0006345848757271285,\n",
       "         'figured': 0.0010576414595452142,\n",
       "         'finally': 0.0006345848757271285,\n",
       "         'find': 0.004019037546271814,\n",
       "         'finished': 0.00021152829190904283,\n",
       "         'first': 0.0029613960867265997,\n",
       "         'for': 0.0007403490216816499,\n",
       "         'foresee': 0.00021152829190904283,\n",
       "         'forget': 0.00021152829190904283,\n",
       "         'forgetting': 0.00021152829190904283,\n",
       "         'forgot': 0.0006345848757271285,\n",
       "         'found': 0.01258593336858805,\n",
       "         'freely': 0.00031729243786356425,\n",
       "         'frequently': 0.00021152829190904283,\n",
       "         'fully': 0.00031729243786356425,\n",
       "         'furrow': 0.00021152829190904283,\n",
       "         'gather': 0.00021152829190904283,\n",
       "         'gave': 0.001269169751454257,\n",
       "         'generally': 0.00031729243786356425,\n",
       "         'get': 0.0021152829190904283,\n",
       "         'give': 0.004124801692226335,\n",
       "         'giving': 0.00021152829190904283,\n",
       "         'go': 0.001269169751454257,\n",
       "         'got': 0.004865150713907985,\n",
       "         'gotta': 0.00021152829190904283,\n",
       "         'graded': 0.00021152829190904283,\n",
       "         'greeted': 0.00021152829190904283,\n",
       "         'grew': 0.0005288207297726071,\n",
       "         'groaned': 0.00021152829190904283,\n",
       "         'grossed': 0.00021152829190904283,\n",
       "         'guarantee': 0.0009518773135906928,\n",
       "         'guess': 0.01343204653622422,\n",
       "         'guessed': 0.00021152829190904283,\n",
       "         'gulped': 0.00021152829190904283,\n",
       "         'had': 0.02147012162876785,\n",
       "         'hadn': 0.0013749338974087784,\n",
       "         'half': 0.00042305658381808567,\n",
       "         'hand': 0.00021152829190904283,\n",
       "         'happen': 0.00042305658381808567,\n",
       "         'hardly': 0.0006345848757271285,\n",
       "         'harped': 0.00021152829190904283,\n",
       "         'hasten': 0.00021152829190904283,\n",
       "         'hate': 0.005288207297726071,\n",
       "         'hated': 0.0006345848757271285,\n",
       "         'have': 0.035007932310946586,\n",
       "         'haven': 0.005288207297726071,\n",
       "         'headed': 0.00021152829190904283,\n",
       "         'hear': 0.0014806980433632998,\n",
       "         'heard': 0.002326811210999471,\n",
       "         'held': 0.00031729243786356425,\n",
       "         'help': 0.00031729243786356425,\n",
       "         'hesitate': 0.00021152829190904283,\n",
       "         'highly': 0.0008461131676361713,\n",
       "         'hit': 0.00021152829190904283,\n",
       "         'hold': 0.00042305658381808567,\n",
       "         'honestly': 0.0006345848757271285,\n",
       "         'hope': 0.003595980962453728,\n",
       "         'hoped': 0.0007403490216816499,\n",
       "         'hopefully': 0.00021152829190904283,\n",
       "         'humbly': 0.00021152829190904283,\n",
       "         'hurt': 0.00021152829190904283,\n",
       "         'ignored': 0.00021152829190904283,\n",
       "         'imagine': 0.001269169751454257,\n",
       "         'immediately': 0.00031729243786356425,\n",
       "         'impulsively': 0.00021152829190904283,\n",
       "         'in': 0.00031729243786356425,\n",
       "         'include': 0.00042305658381808567,\n",
       "         'inform': 0.00021152829190904283,\n",
       "         'initially': 0.00031729243786356425,\n",
       "         'inquired': 0.00021152829190904283,\n",
       "         'intend': 0.00021152829190904283,\n",
       "         'intensely': 0.00021152829190904283,\n",
       "         'invented': 0.00021152829190904283,\n",
       "         'is': 0.00031729243786356425,\n",
       "         'jumped': 0.00021152829190904283,\n",
       "         'just': 0.0077207826546800635,\n",
       "         'kept': 0.002749867794817557,\n",
       "         'kid': 0.00042305658381808567,\n",
       "         'killed': 0.00021152829190904283,\n",
       "         'kind': 0.00042305658381808567,\n",
       "         'kinda': 0.0005288207297726071,\n",
       "         'kiss': 0.00021152829190904283,\n",
       "         'knew': 0.004019037546271814,\n",
       "         'know': 0.018826017979904814,\n",
       "         'later': 0.00031729243786356425,\n",
       "         'laugh': 0.0006345848757271285,\n",
       "         'laughed': 0.002538339502908514,\n",
       "         'learned': 0.0014806980433632998,\n",
       "         'least': 0.00021152829190904283,\n",
       "         'leave': 0.00042305658381808567,\n",
       "         'left': 0.0019037546271813855,\n",
       "         'less': 0.00021152829190904283,\n",
       "         'let': 0.00021152829190904283,\n",
       "         'like': 0.006768905341089371,\n",
       "         'liked': 0.006874669487043892,\n",
       "         'live': 0.00031729243786356425,\n",
       "         'lived': 0.00021152829190904283,\n",
       "         'loath': 0.00021152829190904283,\n",
       "         'loathed': 0.00031729243786356425,\n",
       "         'loitered': 0.00021152829190904283,\n",
       "         'longed': 0.00021152829190904283,\n",
       "         'look': 0.0010576414595452142,\n",
       "         'looked': 0.0007403490216816499,\n",
       "         'looking': 0.00031729243786356425,\n",
       "         'loosened': 0.00021152829190904283,\n",
       "         'lose': 0.00021152829190904283,\n",
       "         'lost': 0.0005288207297726071,\n",
       "         'love': 0.007826546800634585,\n",
       "         'loved': 0.003595980962453728,\n",
       "         'made': 0.00031729243786356425,\n",
       "         'mainly': 0.00021152829190904283,\n",
       "         'maintain': 0.00021152829190904283,\n",
       "         'make': 0.00021152829190904283,\n",
       "         'managed': 0.00031729243786356425,\n",
       "         'manufactured': 0.00021152829190904283,\n",
       "         'married': 0.00021152829190904283,\n",
       "         'may': 0.0013749338974087784,\n",
       "         'mean': 0.010893707033315707,\n",
       "         'meant': 0.00031729243786356425,\n",
       "         'measure': 0.00021152829190904283,\n",
       "         'mention': 0.0015864621893178213,\n",
       "         'mentioned': 0.0021152829190904283,\n",
       "         'met': 0.00031729243786356425,\n",
       "         'might': 0.003067160232681121,\n",
       "         'miss': 0.0006345848757271285,\n",
       "         'missed': 0.0007403490216816499,\n",
       "         'mist': 0.00021152829190904283,\n",
       "         'most': 0.00042305658381808567,\n",
       "         'much': 0.00031729243786356425,\n",
       "         'must': 0.007932310946589107,\n",
       "         'muttered': 0.00021152829190904283,\n",
       "         'myself': 0.0005288207297726071,\n",
       "         'nearly': 0.00042305658381808567,\n",
       "         'need': 0.0010576414595452142,\n",
       "         'needed': 0.00042305658381808567,\n",
       "         'needn': 0.00021152829190904283,\n",
       "         'nestled': 0.00021152829190904283,\n",
       "         'never': 0.004865150713907985,\n",
       "         'nick': 0.00021152829190904283,\n",
       "         'no': 0.00021152829190904283,\n",
       "         'nodded': 0.00021152829190904283,\n",
       "         'nor': 0.00021152829190904283,\n",
       "         'normally': 0.00031729243786356425,\n",
       "         'noted': 0.00031729243786356425,\n",
       "         'notice': 0.00021152829190904283,\n",
       "         'noticed': 0.0014806980433632998,\n",
       "         'now': 0.0010576414595452142,\n",
       "         'occasionally': 0.00021152829190904283,\n",
       "         'offended': 0.00021152829190904283,\n",
       "         'officially': 0.00021152829190904283,\n",
       "         'often': 0.0006345848757271285,\n",
       "         'on': 0.00031729243786356425,\n",
       "         'once': 0.0006345848757271285,\n",
       "         'only': 0.0015864621893178213,\n",
       "         'opened': 0.00031729243786356425,\n",
       "         'opted': 0.00021152829190904283,\n",
       "         'or': 0.00042305658381808567,\n",
       "         'ordinarily': 0.00031729243786356425,\n",
       "         'originally': 0.00031729243786356425,\n",
       "         'overestimated': 0.00021152829190904283,\n",
       "         'overheard': 0.00031729243786356425,\n",
       "         'overpaid': 0.00021152829190904283,\n",
       "         'owed': 0.00021152829190904283,\n",
       "         'own': 0.00031729243786356425,\n",
       "         'packed': 0.00021152829190904283,\n",
       "         'paid': 0.0006345848757271285,\n",
       "         'partially': 0.00021152829190904283,\n",
       "         'particularly': 0.0011634056054997356,\n",
       "         'partly': 0.00021152829190904283,\n",
       "         'passed': 0.00021152829190904283,\n",
       "         'perceive': 0.00021152829190904283,\n",
       "         'personally': 0.0013749338974087784,\n",
       "         'persuaded': 0.00021152829190904283,\n",
       "         'picked': 0.00031729243786356425,\n",
       "         'picture': 0.00031729243786356425,\n",
       "         'pieced': 0.00021152829190904283,\n",
       "         'pile': 0.00021152829190904283,\n",
       "         'pity': 0.00021152829190904283,\n",
       "         'place': 0.00021152829190904283,\n",
       "         'plan': 0.00031729243786356425,\n",
       "         'play': 0.00021152829190904283,\n",
       "         'ponder': 0.00021152829190904283,\n",
       "         'popped': 0.00021152829190904283,\n",
       "         'posit': 0.00021152829190904283,\n",
       "         'possessed': 0.00021152829190904283,\n",
       "         'possibly': 0.00031729243786356425,\n",
       "         'post': 0.00021152829190904283,\n",
       "         'postulated': 0.00021152829190904283,\n",
       "         'praised': 0.00021152829190904283,\n",
       "         'pray': 0.00031729243786356425,\n",
       "         'predict': 0.00042305658381808567,\n",
       "         'predicted': 0.00042305658381808567,\n",
       "         'prefer': 0.0007403490216816499,\n",
       "         'prepared': 0.00021152829190904283,\n",
       "         'presume': 0.00042305658381808567,\n",
       "         'pretty': 0.00021152829190904283,\n",
       "         'previously': 0.00021152829190904283,\n",
       "         'probably': 0.0010576414595452142,\n",
       "         'promise': 0.00042305658381808567,\n",
       "         'promised': 0.00031729243786356425,\n",
       "         'promiss': 0.00021152829190904283,\n",
       "         'pronounce': 0.00021152829190904283,\n",
       "         'pursued': 0.00021152829190904283,\n",
       "         'put': 0.00031729243786356425,\n",
       "         'quickly': 0.00021152829190904283,\n",
       "         'quit': 0.00031729243786356425,\n",
       "         'quite': 0.00042305658381808567,\n",
       "         'raise': 0.00021152829190904283,\n",
       "         'rant': 0.00021152829190904283,\n",
       "         'rarely': 0.00042305658381808567,\n",
       "         'rate': 0.002009518773135907,\n",
       "         'rather': 0.00042305658381808567,\n",
       "         'reached': 0.00021152829190904283,\n",
       "         'read': 0.0010576414595452142,\n",
       "         'realize': 0.0013749338974087784,\n",
       "         'realized': 0.002326811210999471,\n",
       "         'really': 0.008355367530407193,\n",
       "         'recall': 0.00042305658381808567,\n",
       "         'reccemond': 0.00021152829190904283,\n",
       "         'recently': 0.00021152829190904283,\n",
       "         'recieved': 0.00021152829190904283,\n",
       "         'recognize': 0.00021152829190904283,\n",
       "         'recognized': 0.00031729243786356425,\n",
       "         'recommend': 0.0022210470650449498,\n",
       "         'recommened': 0.00021152829190904283,\n",
       "         'refer': 0.00031729243786356425,\n",
       "         'reflected': 0.00021152829190904283,\n",
       "         'refrain': 0.00021152829190904283,\n",
       "         'refuse': 0.00031729243786356425,\n",
       "         'regard': 0.00021152829190904283,\n",
       "         'relish': 0.00021152829190904283,\n",
       "         'remain': 0.00021152829190904283,\n",
       "         'remained': 0.0005288207297726071,\n",
       "         'remarked': 0.00021152829190904283,\n",
       "         'remeber': 0.00021152829190904283,\n",
       "         'remember': 0.003067160232681121,\n",
       "         'remembered': 0.00021152829190904283,\n",
       "         'rented': 0.0006345848757271285,\n",
       "         'require': 0.00021152829190904283,\n",
       "         'resent': 0.00021152829190904283,\n",
       "         'reside': 0.00021152829190904283,\n",
       "         'resolved': 0.00021152829190904283,\n",
       "         'respect': 0.0005288207297726071,\n",
       "         'responded': 0.00021152829190904283,\n",
       "         'rest': 0.00021152829190904283,\n",
       "         'returned': 0.00021152829190904283,\n",
       "         'reveal': 0.00031729243786356425,\n",
       "         'review': 0.00031729243786356425,\n",
       "         'rewatched': 0.00042305658381808567,\n",
       "         'said': 0.006557377049180328,\n",
       "         'sat': 0.002326811210999471,\n",
       "         'save': 0.00021152829190904283,\n",
       "         'saved': 0.00021152829190904283,\n",
       "         'saw': 0.01343204653622422,\n",
       "         'say': 0.005499735589635114,\n",
       "         'saying': 0.00021152829190904283,\n",
       "         'scrambled': 0.00021152829190904283,\n",
       "         'screamed': 0.00021152829190904283,\n",
       "         'screened': 0.00042305658381808567,\n",
       "         'searched': 0.00021152829190904283,\n",
       "         'secretly': 0.00031729243786356425,\n",
       "         'see': 0.002749867794817557,\n",
       "         'seem': 0.0006345848757271285,\n",
       "         'seemed': 0.00021152829190904283,\n",
       "         'seen': 0.0011634056054997356,\n",
       "         'send': 0.00021152829190904283,\n",
       "         'sense': 0.00021152829190904283,\n",
       "         'seriously': 0.00042305658381808567,\n",
       "         'settled': 0.00021152829190904283,\n",
       "         'shall': 0.0005288207297726071,\n",
       "         'share': 0.00021152829190904283,\n",
       "         'shielded': 0.00021152829190904283,\n",
       "         'shift': 0.00021152829190904283,\n",
       "         'should': 0.0031729243786356425,\n",
       "         'shouldn': 0.0007403490216816499,\n",
       "         'showed': 0.00031729243786356425,\n",
       "         'shrugged': 0.00021152829190904283,\n",
       "         'shudder': 0.00031729243786356425,\n",
       "         'shuddered': 0.00021152829190904283,\n",
       "         'signed': 0.00021152829190904283,\n",
       "         'simply': 0.0007403490216816499,\n",
       "         'sincerely': 0.00031729243786356425,\n",
       "         'sit': 0.00021152829190904283,\n",
       "         'slept': 0.00021152829190904283,\n",
       "         'slipped': 0.00021152829190904283,\n",
       "         'slowly': 0.00021152829190904283,\n",
       "         'slunk': 0.00021152829190904283,\n",
       "         'smiled': 0.00031729243786356425,\n",
       "         'smoked': 0.00021152829190904283,\n",
       "         'so': 0.0005288207297726071,\n",
       "         'somehow': 0.00031729243786356425,\n",
       "         'sometimes': 0.00021152829190904283,\n",
       "         'soon': 0.0007403490216816499,\n",
       "         'sort': 0.00021152829190904283,\n",
       "         'sound': 0.00042305658381808567,\n",
       "         'sounded': 0.00021152829190904283,\n",
       "         'speak': 0.00021152829190904283,\n",
       "         'speculated': 0.00021152829190904283,\n",
       "         'spent': 0.0008461131676361713,\n",
       "         'spoiled': 0.00021152829190904283,\n",
       "         'stand': 0.00021152829190904283,\n",
       "         'start': 0.0007403490216816499,\n",
       "         'started': 0.0011634056054997356,\n",
       "         'state': 0.00021152829190904283,\n",
       "         'stated': 0.00031729243786356425,\n",
       "         'stayed': 0.0005288207297726071,\n",
       "         'still': 0.008989952406134321,\n",
       "         'stood': 0.00031729243786356425,\n",
       "         'stopped': 0.0006345848757271285,\n",
       "         'strain': 0.00021152829190904283,\n",
       "         'stress': 0.00021152829190904283,\n",
       "         'strongly': 0.00031729243786356425,\n",
       "         'stumbled': 0.00042305658381808567,\n",
       "         'subsequently': 0.00021152829190904283,\n",
       "         'sue': 0.00021152829190904283,\n",
       "         'suffered': 0.00021152829190904283,\n",
       "         'suggest': 0.0014806980433632998,\n",
       "         'supply': 0.00021152829190904283,\n",
       "         'suppose': 0.00962453728186145,\n",
       "         'supposed': 0.00031729243786356425,\n",
       "         'sure': 0.0009518773135906928,\n",
       "         'surely': 0.00021152829190904283,\n",
       "         'suspect': 0.0031729243786356425,\n",
       "         'suspected': 0.00021152829190904283,\n",
       "         'swear': 0.0008461131676361713,\n",
       "         'swore': 0.00031729243786356425,\n",
       "         'take': 0.0005288207297726071,\n",
       "         'talk': 0.00021152829190904283,\n",
       "         'talked': 0.00031729243786356425,\n",
       "         'talking': 0.00021152829190904283,\n",
       "         'taped': 0.00031729243786356425,\n",
       "         'tell': 0.00042305658381808567,\n",
       "         'tempered': 0.00021152829190904283,\n",
       "         'tend': 0.0008461131676361713,\n",
       "         'thank': 0.00021152829190904283,\n",
       "         'that': 0.00021152829190904283,\n",
       "         'therefore': 0.00031729243786356425,\n",
       "         'think': 0.028027498677948175,\n",
       "         'thinking': 0.00021152829190904283,\n",
       "         'thinks': 0.00021152829190904283,\n",
       "         'thoroughly': 0.00021152829190904283,\n",
       "         'though': 0.00021152829190904283,\n",
       "         'thought': 0.011528291909042835,\n",
       "         'to': 0.00021152829190904283,\n",
       "         'told': 0.0007403490216816499,\n",
       "         'tolerate': 0.00021152829190904283,\n",
       "         'too': 0.00031729243786356425,\n",
       "         'took': 0.0009518773135906928,\n",
       "         'totally': 0.00031729243786356425,\n",
       "         'tracked': 0.00021152829190904283,\n",
       "         'treasured': 0.00021152829190904283,\n",
       "         'tried': 0.0013749338974087784,\n",
       "         'trotted': 0.00021152829190904283,\n",
       "         'truly': 0.00031729243786356425,\n",
       "         'try': 0.0006345848757271285,\n",
       "         'turned': 0.0006345848757271285,\n",
       "         'type': 0.00021152829190904283,\n",
       "         'typed': 0.00021152829190904283,\n",
       "         'typically': 0.00031729243786356425,\n",
       "         'ultimately': 0.00021152829190904283,\n",
       "         'underestimated': 0.00021152829190904283,\n",
       "         'understand': 0.0009518773135906928,\n",
       "         'understood': 0.0006345848757271285,\n",
       "         'unknowingly': 0.00021152829190904283,\n",
       "         'urge': 0.0005288207297726071,\n",
       "         'use': 0.0014806980433632998,\n",
       "         'used': 0.0007403490216816499,\n",
       "         'usually': 0.002009518773135907,\n",
       "         'vaguely': 0.00021152829190904283,\n",
       "         'view': 0.00021152829190904283,\n",
       "         'viewed': 0.00042305658381808567,\n",
       "         'visit': 0.00031729243786356425,\n",
       "         'visited': 0.00021152829190904283,\n",
       "         'vowed': 0.00042305658381808567,\n",
       "         'wait': 0.00021152829190904283,\n",
       "         'waited': 0.0007403490216816499,\n",
       "         'walked': 0.0011634056054997356,\n",
       "         'wanna': 0.00021152829190904283,\n",
       "         'want': 0.0037017451084082496,\n",
       "         'wanted': 0.003807509254362771,\n",
       "         'warn': 0.00021152829190904283,\n",
       "         'warned': 0.00021152829190904283,\n",
       "         'was': 0.053622421998942356,\n",
       "         'wasn': 0.003595980962453728,\n",
       "         'waste': 0.00021152829190904283,\n",
       "         'wasted': 0.00021152829190904283,\n",
       "         'watch': 0.0010576414595452142,\n",
       "         'watched': 0.0026441036488630354,\n",
       "         'weep': 0.00021152829190904283,\n",
       "         'welcome': 0.00031729243786356425,\n",
       "         'went': 0.004336329984135378,\n",
       "         'were': 0.002326811210999471,\n",
       "         'wet': 0.00021152829190904283,\n",
       "         'who': 0.00021152829190904283,\n",
       "         'will': 0.010682178741406664,\n",
       "         'willingly': 0.00021152829190904283,\n",
       "         'wish': 0.004547858276044421,\n",
       "         'wished': 0.0007403490216816499,\n",
       "         'witnessed': 0.00042305658381808567,\n",
       "         'woke': 0.0007403490216816499,\n",
       "         'won': 0.006028556319407721,\n",
       "         'won92t': 0.00021152829190904283,\n",
       "         'wonder': 0.003278688524590164,\n",
       "         'wondered': 0.0011634056054997356,\n",
       "         'wont': 0.00031729243786356425,\n",
       "         'worry': 0.00021152829190904283,\n",
       "         'would': 0.021152829190904283,\n",
       "         'wouldn': 0.004547858276044421,\n",
       "         'write': 0.0007403490216816499,\n",
       "         'wrong': 0.0005288207297726071,\n",
       "         'wrote': 0.0011634056054997356,\n",
       "         'yelled': 0.00021152829190904283})"
      ]
     },
     "execution_count": 67,
     "metadata": {},
     "output_type": "execute_result"
    }
   ],
   "source": [
    "bigram[\"i\"]"
   ]
  },
  {
   "cell_type": "code",
   "execution_count": 62,
   "metadata": {},
   "outputs": [
    {
     "data": {
      "text/plain": [
       "0.053622421998942356"
      ]
     },
     "execution_count": 62,
     "metadata": {},
     "output_type": "execute_result"
    }
   ],
   "source": [
    "bigram[\"i\"][\"was\"]"
   ]
  },
  {
   "cell_type": "code",
   "execution_count": 63,
   "metadata": {},
   "outputs": [],
   "source": [
    "def sentence_score(s):\n",
    "    p = 0.0\n",
    "    for i in range(len(s) - 1):\n",
    "        c = s[i]\n",
    "        w = s[i + 1]\n",
    "        p += np.log(bigram[c][w] + np.finfo(float).eps)\n",
    "    return np.exp(p)"
   ]
  },
  {
   "cell_type": "code",
   "execution_count": 64,
   "metadata": {},
   "outputs": [
    {
     "data": {
      "text/plain": [
       "3.2880364380666861e-08"
      ]
     },
     "execution_count": 64,
     "metadata": {},
     "output_type": "execute_result"
    }
   ],
   "source": [
    "test_sentence = [\"i\", \"am\", \"a\", \"boy\", \".\"]\n",
    "sentence_score(test_sentence)"
   ]
  },
  {
   "cell_type": "code",
   "execution_count": 66,
   "metadata": {},
   "outputs": [],
   "source": [
    "def generate_sentence(seed=None):\n",
    "    if seed is not None:\n",
    "        np.random.seed(seed)\n",
    "    c = \"SS\"\n",
    "    sentence = []\n",
    "    while True:\n",
    "        if c not in bigram:\n",
    "            break\n",
    "        words, probs = zip(*[(k, v) for k, v in bigram[c].items()])\n",
    "        idx = np.argmax(np.random.multinomial(1, probs, (1,)))\n",
    "        w = words[idx]\n",
    "        \n",
    "        if w == \"SE\":\n",
    "            break\n",
    "        elif w in [\"i\", \"ii\", \"iii\"]:\n",
    "            w2 = w.upper()\n",
    "        elif w in [\"mr\", \"luc\", \"i\", \"robin\", \"williams\", \"cindy\", \"crawford\"]:\n",
    "            w2 = w.title()\n",
    "        else:\n",
    "            w2 = w\n",
    "        \n",
    "        if c == \"SS\":\n",
    "            sentence.append(w2.title())\n",
    "        elif c in [\"`\", \"\\\"\", \"'\", \"(\"]:\n",
    "            sentence.append(w2)\n",
    "        elif w in [\"'\", \".\", \",\", \")\", \":\", \";\", \"?\"]:\n",
    "            sentence.append(w2)\n",
    "        else:\n",
    "            sentence.append(\" \" + w2)\n",
    "            \n",
    "        c = w\n",
    "    return \"\".join(sentence)"
   ]
  },
  {
   "cell_type": "code",
   "execution_count": 71,
   "metadata": {},
   "outputs": [
    {
     "data": {
      "text/plain": [
       "'Alexandre dumas may suspect he at being can be honest here goes awol, but he trusts affleck - see this documentary.'"
      ]
     },
     "execution_count": 71,
     "metadata": {},
     "output_type": "execute_result"
    }
   ],
   "source": [
    "generate_sentence(82)"
   ]
  },
  {
   "cell_type": "code",
   "execution_count": null,
   "metadata": {},
   "outputs": [],
   "source": []
  },
  {
   "cell_type": "code",
   "execution_count": null,
   "metadata": {},
   "outputs": [],
   "source": []
  },
  {
   "cell_type": "code",
   "execution_count": null,
   "metadata": {},
   "outputs": [],
   "source": []
  },
  {
   "cell_type": "code",
   "execution_count": null,
   "metadata": {},
   "outputs": [],
   "source": []
  },
  {
   "cell_type": "code",
   "execution_count": null,
   "metadata": {},
   "outputs": [],
   "source": []
  },
  {
   "cell_type": "code",
   "execution_count": null,
   "metadata": {},
   "outputs": [],
   "source": []
  },
  {
   "cell_type": "code",
   "execution_count": null,
   "metadata": {},
   "outputs": [],
   "source": []
  },
  {
   "cell_type": "code",
   "execution_count": null,
   "metadata": {},
   "outputs": [],
   "source": []
  },
  {
   "cell_type": "code",
   "execution_count": null,
   "metadata": {},
   "outputs": [],
   "source": []
  }
 ],
 "metadata": {
  "kernelspec": {
   "display_name": "Python 3",
   "language": "python",
   "name": "python3"
  },
  "language_info": {
   "codemirror_mode": {
    "name": "ipython",
    "version": 3
   },
   "file_extension": ".py",
   "mimetype": "text/x-python",
   "name": "python",
   "nbconvert_exporter": "python",
   "pygments_lexer": "ipython3",
   "version": "3.6.4"
  }
 },
 "nbformat": 4,
 "nbformat_minor": 2
}
