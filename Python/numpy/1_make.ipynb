{
 "cells": [
  {
   "cell_type": "markdown",
   "metadata": {},
   "source": [
    "### Reference\n",
    "- http://www.numpy.org/\n",
    "- http://aikorea.org/cs231n/python-numpy-tutorial/"
   ]
  },
  {
   "cell_type": "markdown",
   "metadata": {},
   "source": [
    "### Install\n",
    "- pip3 install numpy"
   ]
  },
  {
   "cell_type": "markdown",
   "metadata": {},
   "source": [
    "### Make\n",
    "- array\n",
    "- reshape\n",
    "- index\n",
    "- zeros\n",
    "- ones\n",
    "- eye\n",
    "- like\n",
    "- empty\n",
    "- arange\n",
    "- linespace, logspace\n",
    "- rand, randn\n",
    "- stack\n",
    "- concatenate\n",
    "- split\n",
    "- sort"
   ]
  },
  {
   "cell_type": "code",
   "execution_count": 1,
   "metadata": {
    "collapsed": true
   },
   "outputs": [],
   "source": [
    "import numpy as np"
   ]
  },
  {
   "cell_type": "markdown",
   "metadata": {},
   "source": [
    "##### array\n",
    "- ndim : 행렬의 차원\n",
    "- shape : 행렬의 모양"
   ]
  },
  {
   "cell_type": "code",
   "execution_count": 2,
   "metadata": {},
   "outputs": [
    {
     "name": "stdout",
     "output_type": "stream",
     "text": [
      "<class 'numpy.ndarray'>\n",
      "[0 1 2 3 4 5]\n"
     ]
    }
   ],
   "source": [
    "# 1차원 배열 (vector)\n",
    "array = np.array([0,1,2,3,4,5])\n",
    "print(type(array))\n",
    "print(array)"
   ]
  },
  {
   "cell_type": "code",
   "execution_count": 3,
   "metadata": {},
   "outputs": [
    {
     "name": "stdout",
     "output_type": "stream",
     "text": [
      "[[0]\n",
      " [1]\n",
      " [2]]\n"
     ]
    }
   ],
   "source": [
    "# 2차원 배열 (1*3 matrix)\n",
    "array = np.array([[0],[1],[2]]) \n",
    "print(array)"
   ]
  },
  {
   "cell_type": "code",
   "execution_count": 6,
   "metadata": {},
   "outputs": [
    {
     "name": "stdout",
     "output_type": "stream",
     "text": [
      "[[0 1 2]\n",
      " [3 4 5]]\n",
      "2 [[0 1 2]\n",
      " [3 4 5]]\n"
     ]
    }
   ],
   "source": [
    "# 2차원 배열 (2*3 matrix)\n",
    "array = np.array([\n",
    "    [0,1,2],\n",
    "    [3,4,5]\n",
    "]) \n",
    "print(array)\n",
    "print(array.ndim, array)"
   ]
  },
  {
   "cell_type": "code",
   "execution_count": 13,
   "metadata": {},
   "outputs": [
    {
     "name": "stdout",
     "output_type": "stream",
     "text": [
      "[[[  0   1   2   3]\n",
      "  [  4   5   6   7]\n",
      "  [  8   9  10  11]]\n",
      "\n",
      " [[  0   1   2   3]\n",
      "  [  4   5 100   7]\n",
      "  [  8   9  10  11]]]\n",
      "3 (2, 3, 4)\n"
     ]
    }
   ],
   "source": [
    "# 3차원 배열 (2*3*4 matrix)\n",
    "array = np.array([\n",
    "    [[0,1,2,3],\n",
    "     [4,5,6,7],\n",
    "     [8,9,10,11]],\n",
    "    [[0,1,2,3],\n",
    "     [4,5,100,7],\n",
    "     [8,9,10,11]]\n",
    "]) \n",
    "print(array)\n",
    "print(array.ndim, array.shape) # 바깥에서 안으로 모양을 나타낸다고 생각하면 편함"
   ]
  },
  {
   "cell_type": "markdown",
   "metadata": {},
   "source": [
    "##### reshape\n",
    "- 행렬의 모양을 바꿀수 있다."
   ]
  },
  {
   "cell_type": "code",
   "execution_count": 8,
   "metadata": {},
   "outputs": [
    {
     "data": {
      "text/plain": [
       "array([[1, 2, 3, 4],\n",
       "       [5, 6, 7, 8]])"
      ]
     },
     "execution_count": 8,
     "metadata": {},
     "output_type": "execute_result"
    }
   ],
   "source": [
    "na = np.array([1,2,3,4,5,6,7,8])\n",
    "na.reshape(2,4)"
   ]
  },
  {
   "cell_type": "code",
   "execution_count": 9,
   "metadata": {},
   "outputs": [
    {
     "data": {
      "text/plain": [
       "array([[1, 2],\n",
       "       [3, 4],\n",
       "       [5, 6],\n",
       "       [7, 8]])"
      ]
     },
     "execution_count": 9,
     "metadata": {},
     "output_type": "execute_result"
    }
   ],
   "source": [
    "rna = np.reshape(na,(4,2))\n",
    "rna"
   ]
  },
  {
   "cell_type": "code",
   "execution_count": 10,
   "metadata": {},
   "outputs": [
    {
     "data": {
      "text/plain": [
       "array([[1, 3, 5, 7],\n",
       "       [2, 4, 6, 8]])"
      ]
     },
     "execution_count": 10,
     "metadata": {},
     "output_type": "execute_result"
    }
   ],
   "source": [
    "# 전치행렬\n",
    "rna.T"
   ]
  },
  {
   "cell_type": "markdown",
   "metadata": {},
   "source": [
    "##### index\n",
    "- 행렬의 특정 위치 데이터 값 가져오기\n",
    "- 행렬 자르기"
   ]
  },
  {
   "cell_type": "code",
   "execution_count": 228,
   "metadata": {
    "scrolled": true
   },
   "outputs": [
    {
     "data": {
      "text/plain": [
       "array([[[  0,   1,   2,   3],\n",
       "        [  4,   5,   6,   7],\n",
       "        [  8,   9,  10,  11]],\n",
       "\n",
       "       [[  0,   1,   2,   3],\n",
       "        [  4,   5, 100,   7],\n",
       "        [  8,   9,  10,  11]]])"
      ]
     },
     "execution_count": 228,
     "metadata": {},
     "output_type": "execute_result"
    }
   ],
   "source": [
    "array"
   ]
  },
  {
   "cell_type": "code",
   "execution_count": 229,
   "metadata": {},
   "outputs": [
    {
     "name": "stdout",
     "output_type": "stream",
     "text": [
      "100\n",
      "100\n"
     ]
    }
   ],
   "source": [
    "print(array[1][1][2])\n",
    "print(array[1,1,2])"
   ]
  },
  {
   "cell_type": "code",
   "execution_count": 230,
   "metadata": {
    "scrolled": true
   },
   "outputs": [
    {
     "name": "stdout",
     "output_type": "stream",
     "text": [
      "[[[100   7]\n",
      "  [ 10  11]]]\n",
      "3 (1, 2, 2)\n"
     ]
    }
   ],
   "source": [
    "result = array[1:,1:,2:]\n",
    "print(result)\n",
    "print(result.ndim, result.shape)"
   ]
  },
  {
   "cell_type": "code",
   "execution_count": 237,
   "metadata": {},
   "outputs": [
    {
     "data": {
      "text/plain": [
       "array([100,   7])"
      ]
     },
     "execution_count": 237,
     "metadata": {},
     "output_type": "execute_result"
    }
   ],
   "source": [
    "result[0][0]"
   ]
  },
  {
   "cell_type": "code",
   "execution_count": 238,
   "metadata": {},
   "outputs": [
    {
     "data": {
      "text/plain": [
       "2"
      ]
     },
     "execution_count": 238,
     "metadata": {},
     "output_type": "execute_result"
    }
   ],
   "source": [
    "result[0].ndim"
   ]
  },
  {
   "cell_type": "markdown",
   "metadata": {},
   "source": [
    "##### zeros\n",
    "- 행렬을 만들고 안에 0으로 채워 넣는다."
   ]
  },
  {
   "cell_type": "code",
   "execution_count": 25,
   "metadata": {},
   "outputs": [
    {
     "name": "stdout",
     "output_type": "stream",
     "text": [
      "[ 0.  0.  0.  0.  0.]\n",
      "1 (5,)\n"
     ]
    }
   ],
   "source": [
    "# 1차원\n",
    "z = np.zeros(5)\n",
    "print(z)\n",
    "print(z.ndim, z.shape)"
   ]
  },
  {
   "cell_type": "code",
   "execution_count": 26,
   "metadata": {},
   "outputs": [
    {
     "name": "stdout",
     "output_type": "stream",
     "text": [
      "[[ 0.  0.  0.]\n",
      " [ 0.  0.  0.]]\n",
      "2 (2, 3)\n"
     ]
    }
   ],
   "source": [
    "# 2차원 (2*3)\n",
    "z = np.zeros((2,3))\n",
    "print(z)\n",
    "print(z.ndim, z.shape)"
   ]
  },
  {
   "cell_type": "code",
   "execution_count": 27,
   "metadata": {},
   "outputs": [
    {
     "name": "stdout",
     "output_type": "stream",
     "text": [
      "[[[ 0.  0.  0.  0.]\n",
      "  [ 0.  0.  0.  0.]\n",
      "  [ 0.  0.  0.  0.]]\n",
      "\n",
      " [[ 0.  0.  0.  0.]\n",
      "  [ 0.  0.  0.  0.]\n",
      "  [ 0.  0.  0.  0.]]]\n",
      "3 (2, 3, 4)\n"
     ]
    }
   ],
   "source": [
    "# 3차원 (2*3*4)\n",
    "z = np.zeros([2,3,4])\n",
    "print(z)\n",
    "print(z.ndim, z.shape)"
   ]
  },
  {
   "cell_type": "markdown",
   "metadata": {},
   "source": [
    "##### ones\n",
    "- 행렬을 만들고 안에 1을 채워 넣는다."
   ]
  },
  {
   "cell_type": "code",
   "execution_count": 28,
   "metadata": {},
   "outputs": [
    {
     "name": "stdout",
     "output_type": "stream",
     "text": [
      "[[[ 1.  1.  1.  1.]\n",
      "  [ 1.  1.  1.  1.]\n",
      "  [ 1.  1.  1.  1.]]\n",
      "\n",
      " [[ 1.  1.  1.  1.]\n",
      "  [ 1.  1.  1.  1.]\n",
      "  [ 1.  1.  1.  1.]]]\n",
      "3 (2, 3, 4)\n"
     ]
    }
   ],
   "source": [
    "# 3차원 (2*3*4)\n",
    "o = np.ones([2,3,4])\n",
    "print(o)\n",
    "print(o.ndim, o.shape)"
   ]
  },
  {
   "cell_type": "markdown",
   "metadata": {},
   "source": [
    "##### eye\n",
    "- 단위 행렬 데이터를 만든다."
   ]
  },
  {
   "cell_type": "code",
   "execution_count": 241,
   "metadata": {},
   "outputs": [
    {
     "data": {
      "text/plain": [
       "array([[ 1.,  0.,  0.],\n",
       "       [ 0.,  1.,  0.],\n",
       "       [ 0.,  0.,  1.]])"
      ]
     },
     "execution_count": 241,
     "metadata": {},
     "output_type": "execute_result"
    }
   ],
   "source": [
    "# 단위행렬\n",
    "np.eye(3)"
   ]
  },
  {
   "cell_type": "markdown",
   "metadata": {},
   "source": [
    "##### like\n",
    "- 행렬 안에 있는 모든 데이터를 0이나 1로 바꿀수 있다."
   ]
  },
  {
   "cell_type": "code",
   "execution_count": 32,
   "metadata": {},
   "outputs": [
    {
     "data": {
      "text/plain": [
       "array([[[ 0.,  0.,  0.,  0.],\n",
       "        [ 0.,  0.,  0.,  0.],\n",
       "        [ 0.,  0.,  0.,  0.]],\n",
       "\n",
       "       [[ 0.,  0.,  0.,  0.],\n",
       "        [ 0.,  0.,  0.,  0.],\n",
       "        [ 0.,  0.,  0.,  0.]]])"
      ]
     },
     "execution_count": 32,
     "metadata": {},
     "output_type": "execute_result"
    }
   ],
   "source": [
    "z"
   ]
  },
  {
   "cell_type": "code",
   "execution_count": 33,
   "metadata": {},
   "outputs": [
    {
     "name": "stdout",
     "output_type": "stream",
     "text": [
      "[[[ 1.  1.  1.  1.]\n",
      "  [ 1.  1.  1.  1.]\n",
      "  [ 1.  1.  1.  1.]]\n",
      "\n",
      " [[ 1.  1.  1.  1.]\n",
      "  [ 1.  1.  1.  1.]\n",
      "  [ 1.  1.  1.  1.]]]\n",
      "3 (2, 3, 4)\n"
     ]
    }
   ],
   "source": [
    "ls = np.ones_like(z)\n",
    "print(ls)\n",
    "print(ls.ndim, ls.shape)"
   ]
  },
  {
   "cell_type": "code",
   "execution_count": 34,
   "metadata": {},
   "outputs": [
    {
     "data": {
      "text/plain": [
       "array([[[ 1.,  1.,  1.,  1.],\n",
       "        [ 1.,  1.,  1.,  1.],\n",
       "        [ 1.,  1.,  1.,  1.]],\n",
       "\n",
       "       [[ 1.,  1.,  1.,  1.],\n",
       "        [ 1.,  1.,  1.,  1.],\n",
       "        [ 1.,  1.,  1.,  1.]]])"
      ]
     },
     "execution_count": 34,
     "metadata": {},
     "output_type": "execute_result"
    }
   ],
   "source": [
    "o"
   ]
  },
  {
   "cell_type": "code",
   "execution_count": 35,
   "metadata": {},
   "outputs": [
    {
     "name": "stdout",
     "output_type": "stream",
     "text": [
      "[[[ 0.  0.  0.  0.]\n",
      "  [ 0.  0.  0.  0.]\n",
      "  [ 0.  0.  0.  0.]]\n",
      "\n",
      " [[ 0.  0.  0.  0.]\n",
      "  [ 0.  0.  0.  0.]\n",
      "  [ 0.  0.  0.  0.]]]\n",
      "3 (2, 3, 4)\n"
     ]
    }
   ],
   "source": [
    "ls = np.zeros_like(o)\n",
    "print(ls)\n",
    "print(ls.ndim, ls.shape)"
   ]
  },
  {
   "cell_type": "markdown",
   "metadata": {},
   "source": [
    "##### empty\n",
    "- 빈행렬을 만든다.\n",
    "- 실제로는 빈데이터가 아니라 더미 데이터가 들어간다"
   ]
  },
  {
   "cell_type": "code",
   "execution_count": 242,
   "metadata": {},
   "outputs": [
    {
     "name": "stdout",
     "output_type": "stream",
     "text": [
      "[[ 0.  0.  0.  0.  0.]\n",
      " [ 0.  0.  0.  0.  0.]\n",
      " [ 0.  0.  0.  0.  0.]\n",
      " [ 0.  0.  0.  0.  0.]\n",
      " [ 0.  0.  0.  0.  0.]]\n"
     ]
    }
   ],
   "source": [
    "# 1.72e-5 -> 1.72 * 10 ** -5\n",
    "\n",
    "a = np.empty((5,5))\n",
    "print(a)"
   ]
  },
  {
   "cell_type": "markdown",
   "metadata": {},
   "source": [
    "##### arange\n",
    "- range와 같다.\n",
    "- 하지만 큰데이터에서 range 보다 속도가 빠르다"
   ]
  },
  {
   "cell_type": "code",
   "execution_count": 39,
   "metadata": {},
   "outputs": [
    {
     "name": "stdout",
     "output_type": "stream",
     "text": [
      "1 loop, best of 3: 532 ms per loop\n",
      "1 loop, best of 3: 258 ms per loop\n"
     ]
    },
    {
     "data": {
      "text/plain": [
       "1000000"
      ]
     },
     "execution_count": 39,
     "metadata": {},
     "output_type": "execute_result"
    }
   ],
   "source": [
    "# range와 arange의 속도 비교\n",
    "size = int(1E6) # E : exponential\n",
    "%timeit for x in range(size): x ** 2\n",
    "%timeit for x in np.arange(size): x ** 2\n",
    "size"
   ]
  },
  {
   "cell_type": "code",
   "execution_count": 40,
   "metadata": {},
   "outputs": [
    {
     "data": {
      "text/plain": [
       "array([0, 1, 2, 3, 4, 5, 6, 7, 8, 9])"
      ]
     },
     "execution_count": 40,
     "metadata": {},
     "output_type": "execute_result"
    }
   ],
   "source": [
    "np.arange(10)"
   ]
  },
  {
   "cell_type": "code",
   "execution_count": 41,
   "metadata": {},
   "outputs": [
    {
     "data": {
      "text/plain": [
       "array([5, 6, 7, 8, 9])"
      ]
     },
     "execution_count": 41,
     "metadata": {},
     "output_type": "execute_result"
    }
   ],
   "source": [
    "np.arange(5,10)"
   ]
  },
  {
   "cell_type": "code",
   "execution_count": 42,
   "metadata": {},
   "outputs": [
    {
     "data": {
      "text/plain": [
       "array([2, 5, 8])"
      ]
     },
     "execution_count": 42,
     "metadata": {},
     "output_type": "execute_result"
    }
   ],
   "source": [
    "np.arange(2,10,3)"
   ]
  },
  {
   "cell_type": "code",
   "execution_count": 43,
   "metadata": {},
   "outputs": [
    {
     "data": {
      "text/plain": [
       "array([10,  8,  6,  4,  2])"
      ]
     },
     "execution_count": 43,
     "metadata": {},
     "output_type": "execute_result"
    }
   ],
   "source": [
    "np.arange(10,1,-2)"
   ]
  },
  {
   "cell_type": "markdown",
   "metadata": {},
   "source": [
    "##### linspace, logspace"
   ]
  },
  {
   "cell_type": "code",
   "execution_count": 45,
   "metadata": {},
   "outputs": [
    {
     "data": {
      "text/plain": [
       "array([   0.        ,   33.33333333,   66.66666667,  100.        ])"
      ]
     },
     "execution_count": 45,
     "metadata": {},
     "output_type": "execute_result"
    }
   ],
   "source": [
    "np.linspace(0, 100, 4)"
   ]
  },
  {
   "cell_type": "code",
   "execution_count": 46,
   "metadata": {},
   "outputs": [
    {
     "name": "stdout",
     "output_type": "stream",
     "text": [
      "[   100.   1000.  10000.]\n",
      "[  100.           316.22776602  1000.        ]\n"
     ]
    }
   ],
   "source": [
    "# log10(x)=2, log10(x)=2.5, log10(x)=3\n",
    "# 10**2, 10**2.5, 10**3\n",
    "print(np.logspace(2, 4, 3))\n",
    "print(np.logspace(2, 3, 3))"
   ]
  },
  {
   "cell_type": "code",
   "execution_count": 47,
   "metadata": {},
   "outputs": [
    {
     "data": {
      "text/plain": [
       "(100, 316.22776601683796, 1000)"
      ]
     },
     "execution_count": 47,
     "metadata": {},
     "output_type": "execute_result"
    }
   ],
   "source": [
    "10**2, 10**2.5, 10**3"
   ]
  },
  {
   "cell_type": "markdown",
   "metadata": {},
   "source": [
    "##### random\n",
    "- seed\n",
    "- rand (uniform)\n",
    "- randn (gaussian)\n",
    "- randint\n",
    "- shuffle\n",
    "- choice"
   ]
  },
  {
   "cell_type": "code",
   "execution_count": 162,
   "metadata": {},
   "outputs": [
    {
     "name": "stdout",
     "output_type": "stream",
     "text": [
      "[ 0.5488135   0.71518937  0.60276338  0.54488318  0.4236548   0.64589411\n",
      "  0.43758721  0.891773    0.96366276  0.38344152]\n",
      "[ 0.14404357  1.45427351  0.76103773  0.12167502  0.44386323  0.33367433\n",
      "  1.49407907 -0.20515826  0.3130677  -0.85409574]\n"
     ]
    }
   ],
   "source": [
    "np.random.seed(0)\n",
    "rd = np.random.rand(10)   # uniform 으로 난수 발생  (균등분포)\n",
    "rdn = np.random.randn(10) # gaussian 으로 난수 발생 (정규분포 - 0에 가까운수가 많이 나옴)\n",
    "print(rd)\n",
    "print(rdn)"
   ]
  },
  {
   "cell_type": "code",
   "execution_count": 62,
   "metadata": {},
   "outputs": [
    {
     "name": "stdout",
     "output_type": "stream",
     "text": [
      "[  4.17022005e-01   7.20324493e-01   1.14374817e-04   3.02332573e-01]\n",
      "[-0.52817175 -1.07296862  0.86540763 -2.3015387 ]\n"
     ]
    }
   ],
   "source": [
    "# e-01 -> (10**-1)\n",
    "np.random.seed(1)\n",
    "rd = np.random.rand(4)\n",
    "rdn = np.random.randn(4)\n",
    "print(rd)\n",
    "print(rdn)"
   ]
  },
  {
   "cell_type": "code",
   "execution_count": 63,
   "metadata": {},
   "outputs": [
    {
     "name": "stdout",
     "output_type": "stream",
     "text": [
      "[[[ 0.41919451  0.6852195   0.20445225  0.87811744]\n",
      "  [ 0.02738759  0.67046751  0.4173048   0.55868983]\n",
      "  [ 0.14038694  0.19810149  0.80074457  0.96826158]]\n",
      "\n",
      " [[ 0.31342418  0.69232262  0.87638915  0.89460666]\n",
      "  [ 0.08504421  0.03905478  0.16983042  0.8781425 ]\n",
      "  [ 0.09834683  0.42110763  0.95788953  0.53316528]]]\n"
     ]
    }
   ],
   "source": [
    "r = np.random.rand(2,3,4)\n",
    "print(r)"
   ]
  },
  {
   "cell_type": "code",
   "execution_count": 72,
   "metadata": {},
   "outputs": [
    {
     "data": {
      "text/plain": [
       "array([[1, 2, 7],\n",
       "       [2, 6, 0],\n",
       "       [9, 2, 6]])"
      ]
     },
     "execution_count": 72,
     "metadata": {},
     "output_type": "execute_result"
    }
   ],
   "source": [
    "r = np.random.randint(0,10,(3,3)) # randint는 마지막 숫자를 포함하지 않는다. 10이 아닌 9까지포함\n",
    "r"
   ]
  },
  {
   "cell_type": "code",
   "execution_count": 95,
   "metadata": {},
   "outputs": [
    {
     "data": {
      "text/plain": [
       "array([[4, 3, 3, 6],\n",
       "       [7, 3, 5, 3],\n",
       "       [2, 4, 4, 0]])"
      ]
     },
     "execution_count": 95,
     "metadata": {},
     "output_type": "execute_result"
    }
   ],
   "source": [
    "r = np.random.randint(10, size=(3,4)) # start value를 적어주지 않을때는 자동으로 0이다. (0 ~ 9까지)\n",
    "r"
   ]
  },
  {
   "cell_type": "code",
   "execution_count": 107,
   "metadata": {},
   "outputs": [
    {
     "data": {
      "text/plain": [
       "array([[2, 4, 4, 0],\n",
       "       [7, 3, 5, 3],\n",
       "       [4, 3, 3, 6]])"
      ]
     },
     "execution_count": 107,
     "metadata": {},
     "output_type": "execute_result"
    }
   ],
   "source": [
    "# shuffle로 데이터의 순서를 바꿀수 있다.\n",
    "np.random.shuffle(r)\n",
    "r"
   ]
  },
  {
   "cell_type": "code",
   "execution_count": 147,
   "metadata": {
    "scrolled": true
   },
   "outputs": [
    {
     "name": "stdout",
     "output_type": "stream",
     "text": [
      "[0, 1, 2, 3, 4]\n",
      "[0.1, 0, 0.3, 0.6, 0]\n"
     ]
    },
    {
     "data": {
      "text/plain": [
       "array([3, 2, 2, 3, 2, 3, 2, 3, 2, 3], dtype=int64)"
      ]
     },
     "execution_count": 147,
     "metadata": {},
     "output_type": "execute_result"
    }
   ],
   "source": [
    "# p의 확률로 range(5)를 10개 추출\n",
    "print(list(range(5)))\n",
    "print([0.1,0,0.3,0.6,0])\n",
    "np.random.choice(5, 10, p=[0.1, 0, 0.3, 0.599, 0.001])"
   ]
  },
  {
   "cell_type": "code",
   "execution_count": 148,
   "metadata": {},
   "outputs": [
    {
     "data": {
      "text/plain": [
       "array([[2, 4, 4, 0],\n",
       "       [7, 3, 5, 3],\n",
       "       [4, 3, 3, 6]])"
      ]
     },
     "execution_count": 148,
     "metadata": {},
     "output_type": "execute_result"
    }
   ],
   "source": [
    "r"
   ]
  },
  {
   "cell_type": "code",
   "execution_count": 158,
   "metadata": {},
   "outputs": [
    {
     "name": "stdout",
     "output_type": "stream",
     "text": [
      "[0 2 3 4 5 6 7]\n",
      "[1 1 4 3 1 1 1]\n"
     ]
    }
   ],
   "source": [
    "# unique로 데이터의 유일한 값에 대한 리스트와 값의 갯수를 구할수 있다\n",
    "# np.unique(r)\n",
    "index, count = np.unique(r, return_counts=True)\n",
    "print(index) \n",
    "print(count)"
   ]
  },
  {
   "cell_type": "markdown",
   "metadata": {},
   "source": [
    "##### stack\n",
    "- 행렬을 쌓는것과 같이 합치는 방법"
   ]
  },
  {
   "cell_type": "code",
   "execution_count": 166,
   "metadata": {},
   "outputs": [
    {
     "name": "stdout",
     "output_type": "stream",
     "text": [
      "[0 1 2 3 4 5] (6,)\n",
      "[ 6  7  8  9 10 11] (6,)\n"
     ]
    }
   ],
   "source": [
    "na1 = np.arange(6)\n",
    "na2 = np.arange(6,12)\n",
    "print(na1, na1.shape)\n",
    "print(na2, na2.shape)"
   ]
  },
  {
   "cell_type": "code",
   "execution_count": 167,
   "metadata": {},
   "outputs": [
    {
     "name": "stdout",
     "output_type": "stream",
     "text": [
      "[[ 0  1  2  3  4  5]\n",
      " [ 6  7  8  9 10 11]] (2, 6)\n"
     ]
    }
   ],
   "source": [
    "na3 = np.stack((na1, na2)) # axis = 0 가로축, axis = 1 세로축\n",
    "print(na3, na3.shape)"
   ]
  },
  {
   "cell_type": "code",
   "execution_count": 168,
   "metadata": {},
   "outputs": [
    {
     "name": "stdout",
     "output_type": "stream",
     "text": [
      "[[ 0  6]\n",
      " [ 1  7]\n",
      " [ 2  8]\n",
      " [ 3  9]\n",
      " [ 4 10]\n",
      " [ 5 11]] (6, 2)\n"
     ]
    }
   ],
   "source": [
    "na3 = np.stack((na1, na2), axis=1)\n",
    "print(na3, na3.shape)"
   ]
  },
  {
   "cell_type": "code",
   "execution_count": 169,
   "metadata": {},
   "outputs": [
    {
     "name": "stdout",
     "output_type": "stream",
     "text": [
      "range(0, 7) 0 3\n",
      "range(0, 3)\n",
      "[0, 1, 2]\n",
      "\n",
      "range(0, 7) 1 4\n",
      "range(1, 4)\n",
      "[1, 2, 3]\n",
      "\n",
      "range(0, 7) 2 5\n",
      "range(2, 5)\n",
      "[2, 3, 4]\n",
      "\n",
      "range(0, 7) 3 6\n",
      "range(3, 6)\n",
      "[3, 4, 5]\n",
      "\n",
      "range(0, 7) 4 7\n",
      "range(4, 7)\n",
      "[4, 5, 6]\n",
      "\n"
     ]
    },
    {
     "data": {
      "text/plain": [
       "[range(0, 3), range(1, 4), range(2, 5), range(3, 6), range(4, 7)]"
      ]
     },
     "execution_count": 169,
     "metadata": {},
     "output_type": "execute_result"
    }
   ],
   "source": [
    "# practice 1\n",
    "ls = []\n",
    "for i in range(5):\n",
    "    print(range(7), i, i+3)\n",
    "    print(range(7)[i:i+3])\n",
    "    print(list(range(7)[i:i+3]), end=\"\\n\\n\")\n",
    "    ls.append(range(7)[i:i+3])    \n",
    "ls"
   ]
  },
  {
   "cell_type": "code",
   "execution_count": 170,
   "metadata": {},
   "outputs": [
    {
     "data": {
      "text/plain": [
       "array([[0, 1, 2],\n",
       "       [1, 2, 3],\n",
       "       [2, 3, 4],\n",
       "       [3, 4, 5],\n",
       "       [4, 5, 6]])"
      ]
     },
     "execution_count": 170,
     "metadata": {},
     "output_type": "execute_result"
    }
   ],
   "source": [
    "# 수직으로 합치기\n",
    "np.vstack(ls)"
   ]
  },
  {
   "cell_type": "code",
   "execution_count": 171,
   "metadata": {},
   "outputs": [
    {
     "data": {
      "text/plain": [
       "array([0, 1, 2, 1, 2, 3, 2, 3, 4, 3, 4, 5, 4, 5, 6])"
      ]
     },
     "execution_count": 171,
     "metadata": {},
     "output_type": "execute_result"
    }
   ],
   "source": [
    "# 수평으로 합치기. 하지만 리스트가 된다\n",
    "np.hstack(ls)"
   ]
  },
  {
   "cell_type": "code",
   "execution_count": 178,
   "metadata": {},
   "outputs": [
    {
     "name": "stdout",
     "output_type": "stream",
     "text": [
      "[[0, 1, 2], [1, 2, 3], [2, 3, 4], [3, 4, 5], [4, 5, 6]]\n"
     ]
    },
    {
     "data": {
      "text/plain": [
       "array([[0, 1, 2, 3, 4],\n",
       "       [1, 2, 3, 4, 5],\n",
       "       [2, 3, 4, 5, 6]])"
      ]
     },
     "execution_count": 178,
     "metadata": {},
     "output_type": "execute_result"
    }
   ],
   "source": [
    "# 수평으로 합치기\n",
    "data = [list(range(7)[i:i+3]) for i in range(5) ] \n",
    "print(data)\n",
    "np.stack(data, axis=-1) # axis = -1과 1이 같다."
   ]
  },
  {
   "cell_type": "code",
   "execution_count": 179,
   "metadata": {
    "scrolled": true
   },
   "outputs": [
    {
     "data": {
      "text/plain": [
       "array([[0],\n",
       "       [1],\n",
       "       [2],\n",
       "       [3],\n",
       "       [4]])"
      ]
     },
     "execution_count": 179,
     "metadata": {},
     "output_type": "execute_result"
    }
   ],
   "source": [
    "# practice 2\n",
    "np.arange(5)[:, np.newaxis]"
   ]
  },
  {
   "cell_type": "markdown",
   "metadata": {},
   "source": [
    "##### concatenate (결합)\n",
    "- 가로 결합은 열의 갯수가 같아야 한다.\n",
    "- 세로 결합은 행의 갯수가 같아야 한다."
   ]
  },
  {
   "cell_type": "code",
   "execution_count": 243,
   "metadata": {},
   "outputs": [
    {
     "name": "stdout",
     "output_type": "stream",
     "text": [
      "[[5 9 0]\n",
      " [2 7 2]]\n"
     ]
    }
   ],
   "source": [
    "r1 = np.random.randint(10, size=(2,3))\n",
    "print(r1)"
   ]
  },
  {
   "cell_type": "code",
   "execution_count": 244,
   "metadata": {},
   "outputs": [
    {
     "name": "stdout",
     "output_type": "stream",
     "text": [
      "[[9 2]\n",
      " [3 3]\n",
      " [2 3]]\n"
     ]
    }
   ],
   "source": [
    "r2 = np.random.randint(10, size=(3,2))\n",
    "print(r2)"
   ]
  },
  {
   "cell_type": "code",
   "execution_count": 245,
   "metadata": {
    "scrolled": true
   },
   "outputs": [
    {
     "name": "stdout",
     "output_type": "stream",
     "text": [
      "[[4 1 2]\n",
      " [9 1 4]\n",
      " [6 8 2]]\n"
     ]
    }
   ],
   "source": [
    "r3 = np.random.randint(10, size=(3,3))\n",
    "print(r3)"
   ]
  },
  {
   "cell_type": "code",
   "execution_count": 246,
   "metadata": {},
   "outputs": [
    {
     "data": {
      "text/plain": [
       "array([[5, 9, 0],\n",
       "       [2, 7, 2],\n",
       "       [4, 1, 2],\n",
       "       [9, 1, 4],\n",
       "       [6, 8, 2]])"
      ]
     },
     "execution_count": 246,
     "metadata": {},
     "output_type": "execute_result"
    }
   ],
   "source": [
    "# 가로 결합\n",
    "np.concatenate([r1, r3], axis=0) # column의 갯수가 같아야 한다. (r1과 r2는 가로결합 불가능)"
   ]
  },
  {
   "cell_type": "code",
   "execution_count": 247,
   "metadata": {},
   "outputs": [
    {
     "data": {
      "text/plain": [
       "array([[9, 2, 4, 1, 2],\n",
       "       [3, 3, 9, 1, 4],\n",
       "       [2, 3, 6, 8, 2]])"
      ]
     },
     "execution_count": 247,
     "metadata": {},
     "output_type": "execute_result"
    }
   ],
   "source": [
    "# 세로 결합\n",
    "np.concatenate([r2, r3], axis=1)"
   ]
  },
  {
   "cell_type": "markdown",
   "metadata": {},
   "source": [
    "##### split"
   ]
  },
  {
   "cell_type": "code",
   "execution_count": 202,
   "metadata": {},
   "outputs": [
    {
     "data": {
      "text/plain": [
       "array([0, 1, 2, 3, 4, 5, 6, 7, 8, 9])"
      ]
     },
     "execution_count": 202,
     "metadata": {},
     "output_type": "execute_result"
    }
   ],
   "source": [
    "r = np.arange(0,10)\n",
    "r"
   ]
  },
  {
   "cell_type": "code",
   "execution_count": 207,
   "metadata": {},
   "outputs": [
    {
     "data": {
      "text/plain": [
       "[array([0, 1, 2, 3, 4]), array([5, 6, 7, 8, 9])]"
      ]
     },
     "execution_count": 207,
     "metadata": {},
     "output_type": "execute_result"
    }
   ],
   "source": [
    "r1 = np.split(r, [5]) # 앞에서 5번째를 기준으로 나눈다\n",
    "r1"
   ]
  },
  {
   "cell_type": "code",
   "execution_count": 210,
   "metadata": {},
   "outputs": [
    {
     "data": {
      "text/plain": [
       "(array([0, 1, 2, 3, 4]), array([5, 6, 7, 8, 9]))"
      ]
     },
     "execution_count": 210,
     "metadata": {},
     "output_type": "execute_result"
    }
   ],
   "source": [
    "# r1에는 나눈 데이터의 첫번째 데이터가 r2에는 나눈 데이터의 두번째 데이터가 들어간다\n",
    "r1, r2 = np.split(r, [5]) \n",
    "r1, r2"
   ]
  },
  {
   "cell_type": "code",
   "execution_count": 211,
   "metadata": {},
   "outputs": [
    {
     "data": {
      "text/plain": [
       "(array([0, 1]), array([2, 3]), array([4, 5]), array([6, 7]), array([8, 9]))"
      ]
     },
     "execution_count": 211,
     "metadata": {},
     "output_type": "execute_result"
    }
   ],
   "source": [
    "r1, r2, r3, r4, r5 = np.split(r, [2,4,6,8]) # 2,4,6,8을 기준으로 나눠 5개의 array 데이터가 생성된다.\n",
    "r1, r2, r3, r4, r5"
   ]
  },
  {
   "cell_type": "markdown",
   "metadata": {},
   "source": [
    "##### vsplit/hsplit\n",
    "- 행렬을 수직, 수평으로 나눈다"
   ]
  },
  {
   "cell_type": "code",
   "execution_count": 212,
   "metadata": {},
   "outputs": [
    {
     "data": {
      "text/plain": [
       "array([[0, 3, 5, 9, 4, 4],\n",
       "       [6, 4, 4, 3, 4, 4],\n",
       "       [8, 4, 3, 7, 5, 5],\n",
       "       [0, 1, 5, 9, 3, 0]])"
      ]
     },
     "execution_count": 212,
     "metadata": {},
     "output_type": "execute_result"
    }
   ],
   "source": [
    "r = np.random.randint(10, size=(4,6))\n",
    "r"
   ]
  },
  {
   "cell_type": "code",
   "execution_count": 213,
   "metadata": {},
   "outputs": [
    {
     "name": "stdout",
     "output_type": "stream",
     "text": [
      "[[0 3 5 9 4 4]\n",
      " [6 4 4 3 4 4]]\n",
      "[[8 4 3 7 5 5]\n",
      " [0 1 5 9 3 0]]\n"
     ]
    }
   ],
   "source": [
    "# 수평으로 2개씩 자름\n",
    "r1, r2 = np.vsplit(r, [2])\n",
    "print(r1)\n",
    "print(r2)"
   ]
  },
  {
   "cell_type": "code",
   "execution_count": 214,
   "metadata": {},
   "outputs": [
    {
     "name": "stdout",
     "output_type": "stream",
     "text": [
      "[[0 3 5]\n",
      " [6 4 4]\n",
      " [8 4 3]\n",
      " [0 1 5]]\n",
      "[[9 4 4]\n",
      " [3 4 4]\n",
      " [7 5 5]\n",
      " [9 3 0]]\n"
     ]
    }
   ],
   "source": [
    "# 수직으로 3개씩 자름\n",
    "r1, r2 = np.hsplit(r, [3])\n",
    "print(r1)\n",
    "print(r2)"
   ]
  },
  {
   "cell_type": "code",
   "execution_count": 215,
   "metadata": {},
   "outputs": [
    {
     "name": "stdout",
     "output_type": "stream",
     "text": [
      "[[0 3]\n",
      " [6 4]\n",
      " [8 4]\n",
      " [0 1]]\n",
      "[[5 9]\n",
      " [4 3]\n",
      " [3 7]\n",
      " [5 9]]\n",
      "[[4 4]\n",
      " [4 4]\n",
      " [5 5]\n",
      " [3 0]]\n"
     ]
    }
   ],
   "source": [
    "# 수직으로 2개씩 자름\n",
    "r1, r2, r3 = np.hsplit(r, [2,4])\n",
    "print(r1)\n",
    "print(r2)\n",
    "print(r3)"
   ]
  },
  {
   "cell_type": "markdown",
   "metadata": {},
   "source": [
    "##### sort"
   ]
  },
  {
   "cell_type": "code",
   "execution_count": 216,
   "metadata": {},
   "outputs": [
    {
     "name": "stdout",
     "output_type": "stream",
     "text": [
      "[[5 0 1]\n",
      " [2 4 2]\n",
      " [0 3 2]]\n"
     ]
    }
   ],
   "source": [
    "r1 = np.random.randint(10, size=(3,3))\n",
    "print(r1)"
   ]
  },
  {
   "cell_type": "code",
   "execution_count": 218,
   "metadata": {},
   "outputs": [
    {
     "data": {
      "text/plain": [
       "array([[0, 1, 5],\n",
       "       [2, 2, 4],\n",
       "       [0, 2, 3]])"
      ]
     },
     "execution_count": 218,
     "metadata": {},
     "output_type": "execute_result"
    }
   ],
   "source": [
    "# 가로로 sorting\n",
    "r1.sort() # axis -1과 1은 같은 동작을 한다\n",
    "r1"
   ]
  },
  {
   "cell_type": "code",
   "execution_count": 219,
   "metadata": {},
   "outputs": [
    {
     "data": {
      "text/plain": [
       "array([[0, 1, 3],\n",
       "       [0, 2, 4],\n",
       "       [2, 2, 5]])"
      ]
     },
     "execution_count": 219,
     "metadata": {},
     "output_type": "execute_result"
    }
   ],
   "source": [
    "# 세로로 sorting\n",
    "r1.sort(axis=0) \n",
    "r1"
   ]
  },
  {
   "cell_type": "code",
   "execution_count": 220,
   "metadata": {
    "collapsed": true
   },
   "outputs": [],
   "source": [
    "# 문제\n",
    "# 1~9까지의 숫자가 들어가는 3*3 행렬을 만드세요\n",
    "# 만든 행렬을 무작위로 섞으세요"
   ]
  },
  {
   "cell_type": "code",
   "execution_count": 221,
   "metadata": {},
   "outputs": [
    {
     "data": {
      "text/plain": [
       "array([1, 2, 3, 4, 5, 6, 7, 8, 9])"
      ]
     },
     "execution_count": 221,
     "metadata": {},
     "output_type": "execute_result"
    }
   ],
   "source": [
    "result = np.arange(1,10)\n",
    "result"
   ]
  },
  {
   "cell_type": "code",
   "execution_count": 222,
   "metadata": {},
   "outputs": [
    {
     "data": {
      "text/plain": [
       "array([[1, 2, 3],\n",
       "       [4, 5, 6],\n",
       "       [7, 8, 9]])"
      ]
     },
     "execution_count": 222,
     "metadata": {},
     "output_type": "execute_result"
    }
   ],
   "source": [
    "result = np.reshape(result, (3,3))\n",
    "result"
   ]
  },
  {
   "cell_type": "code",
   "execution_count": 223,
   "metadata": {},
   "outputs": [
    {
     "data": {
      "text/plain": [
       "array([[1, 4, 7],\n",
       "       [2, 5, 8],\n",
       "       [3, 6, 9]])"
      ]
     },
     "execution_count": 223,
     "metadata": {},
     "output_type": "execute_result"
    }
   ],
   "source": [
    "result.T"
   ]
  },
  {
   "cell_type": "code",
   "execution_count": 225,
   "metadata": {},
   "outputs": [
    {
     "data": {
      "text/plain": [
       "array([[7, 8, 9],\n",
       "       [4, 5, 6],\n",
       "       [1, 2, 3]])"
      ]
     },
     "execution_count": 225,
     "metadata": {},
     "output_type": "execute_result"
    }
   ],
   "source": [
    "np.random.shuffle(result)\n",
    "result"
   ]
  },
  {
   "cell_type": "code",
   "execution_count": 226,
   "metadata": {},
   "outputs": [
    {
     "data": {
      "text/plain": [
       "array([[1, 4],\n",
       "       [2, 5],\n",
       "       [3, 6]])"
      ]
     },
     "execution_count": 226,
     "metadata": {},
     "output_type": "execute_result"
    }
   ],
   "source": [
    "np.c_[np.array([1,2,3]), np.array([4,5,6])]"
   ]
  },
  {
   "cell_type": "code",
   "execution_count": 227,
   "metadata": {},
   "outputs": [
    {
     "data": {
      "text/plain": [
       "array([1, 2, 3, 4, 5, 6])"
      ]
     },
     "execution_count": 227,
     "metadata": {},
     "output_type": "execute_result"
    }
   ],
   "source": [
    "np.r_[np.array([1,2,3]), np.array([4,5,6])]"
   ]
  }
 ],
 "metadata": {
  "kernelspec": {
   "display_name": "Python 3",
   "language": "python",
   "name": "python3"
  },
  "language_info": {
   "codemirror_mode": {
    "name": "ipython",
    "version": 3
   },
   "file_extension": ".py",
   "mimetype": "text/x-python",
   "name": "python",
   "nbconvert_exporter": "python",
   "pygments_lexer": "ipython3",
   "version": "3.6.4"
  }
 },
 "nbformat": 4,
 "nbformat_minor": 2
}
